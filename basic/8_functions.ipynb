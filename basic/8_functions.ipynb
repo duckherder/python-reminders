{
 "cells": [
  {
   "cell_type": "markdown",
   "metadata": {},
   "source": [
    "# Functions\n",
    "\n",
    "How to define and use functions in Python. Functions are objects and have attributes like every other Python object."
   ]
  },
  {
   "cell_type": "code",
   "execution_count": 11,
   "metadata": {},
   "outputs": [
    {
     "name": "stdout",
     "output_type": "stream",
     "text": [
      "This describes the action the function takes.\n",
      "['__bool__', '__class__', '__delattr__', '__dir__', '__doc__', '__eq__', '__format__', '__ge__', '__getattribute__', '__gt__', '__hash__', '__init__', '__init_subclass__', '__le__', '__lt__', '__ne__', '__new__', '__reduce__', '__reduce_ex__', '__repr__', '__setattr__', '__sizeof__', '__str__', '__subclasshook__']\n"
     ]
    }
   ],
   "source": [
    "def my_empty_function():\n",
    "    \"\"\"This describes the action the function takes.\"\"\"\n",
    "    pass    # doc string acts a statement so this not necessary\n",
    "\n",
    "print(my_empty_function.__doc__)\n",
    "my_empty_function()\n",
    "print(dir(my_empty_function()))"
   ]
  },
  {
   "cell_type": "markdown",
   "metadata": {},
   "source": [
    "You can return any object from a function"
   ]
  },
  {
   "cell_type": "code",
   "execution_count": 12,
   "metadata": {},
   "outputs": [
    {
     "name": "stdout",
     "output_type": "stream",
     "text": [
      "Hello\n"
     ]
    }
   ],
   "source": [
    "def my_simple_function():\n",
    "    \"\"\"This describes the action the function takes\"\"\"\n",
    "    return \"Hello\"\n",
    "\n",
    "print(my_simple_function())"
   ]
  },
  {
   "cell_type": "markdown",
   "metadata": {},
   "source": [
    "You can pass any old object to a function as a parameter..."
   ]
  },
  {
   "cell_type": "code",
   "execution_count": 13,
   "metadata": {},
   "outputs": [
    {
     "name": "stdout",
     "output_type": "stream",
     "text": [
      "My name is bob and I have value = 10 of type class 'int'\n",
      "My name is tim and I have value = [1, 2, 3] of type class 'list'\n",
      "My name is sam and I have value = (1, 2, 3) of type class 'tuple'\n"
     ]
    }
   ],
   "source": [
    "def my_parameterised_function(name, value):\n",
    "    print(\"My name is\", name, \"and I have value =\",\n",
    "          value, \"of type\", str(type(value))[1:-1])\n",
    "\n",
    "my_parameterised_function('bob', 10)\n",
    "# Python is dynamically typed\n",
    "my_parameterised_function('tim', [1, 2, 3])\n",
    "my_parameterised_function('sam', (1, 2, 3))\n"
   ]
  },
  {
   "cell_type": "markdown",
   "metadata": {},
   "source": [
    "You can even pass a function object as a parameter"
   ]
  },
  {
   "cell_type": "code",
   "execution_count": 14,
   "metadata": {},
   "outputs": [
    {
     "name": "stdout",
     "output_type": "stream",
     "text": [
      "Hello\n"
     ]
    }
   ],
   "source": [
    "def execute_my_function(func):\n",
    "    print(func())\n",
    "\n",
    "execute_my_function(my_simple_function)"
   ]
  },
  {
   "cell_type": "markdown",
   "metadata": {},
   "source": [
    "You can use keywords when calling a function and you can change order in which they are called. However, named values must come before unnamed positional ones."
   ]
  },
  {
   "cell_type": "code",
   "execution_count": 15,
   "metadata": {},
   "outputs": [
    {
     "name": "stdout",
     "output_type": "stream",
     "text": [
      "My name is tim and I have value = [1, 2, 3] of type class 'list'\n",
      "My name is tim and I have value = [1, 2, 3] of type class 'list'\n"
     ]
    }
   ],
   "source": [
    "my_parameterised_function(name='tim', value=[1, 2, 3])\n",
    "my_parameterised_function(value=[1, 2, 3], name='tim')"
   ]
  },
  {
   "cell_type": "markdown",
   "metadata": {},
   "source": [
    "You can set default values to parameters such that they do need to be specified..."
   ]
  },
  {
   "cell_type": "code",
   "execution_count": 16,
   "metadata": {},
   "outputs": [
    {
     "name": "stdout",
     "output_type": "stream",
     "text": [
      "value is None!\n"
     ]
    }
   ],
   "source": [
    "def my_default_function(name, value=None):\n",
    "    if value is None:\n",
    "        print(\"value is None!\")\n",
    "\n",
    "my_default_function('bob')\n",
    "my_default_function('bob', 'sally')"
   ]
  },
  {
   "cell_type": "markdown",
   "metadata": {},
   "source": [
    "As of Python 3.5 you can provide hints to how the function should be used but this is just a hint. Python is not a statically typed language."
   ]
  },
  {
   "cell_type": "code",
   "execution_count": 17,
   "metadata": {},
   "outputs": [
    {
     "name": "stdout",
     "output_type": "stream",
     "text": [
      "True\n",
      "No errors will be generated - it is a hint only\n",
      "bob\n"
     ]
    }
   ],
   "source": [
    "def my_type_hinted_function(name: str) -> bool:\n",
    "    return True\n",
    "\n",
    "print(my_type_hinted_function('bob'))\n",
    "\n",
    "def my_type_hinted_function2(name: str) -> bool:\n",
    "    return \"bob\"\n",
    "\n",
    "print(\"No errors will be generated - it is a hint only\")\n",
    "print(my_type_hinted_function2(1))"
   ]
  },
  {
   "cell_type": "markdown",
   "metadata": {},
   "source": [
    "You can not access locally scoped variables in function from outside..."
   ]
  },
  {
   "cell_type": "code",
   "execution_count": 18,
   "metadata": {},
   "outputs": [
    {
     "name": "stdout",
     "output_type": "stream",
     "text": [
      "11\n",
      "MY_GLOBAL_VARIABLE = 10\n",
      "Local variable _my_local_variable does not exist here - NameError exception raised!\n"
     ]
    }
   ],
   "source": [
    "def my_local_variable_function(x):\n",
    "    # local scope only -> only available in function\n",
    "    _my_local_variable = x\n",
    "    x += 1\n",
    "    return x\n",
    "\n",
    "MY_GLOBAL_VARIABLE = 10\n",
    "print(my_local_variable_function(MY_GLOBAL_VARIABLE))\n",
    "print(\"MY_GLOBAL_VARIABLE =\", MY_GLOBAL_VARIABLE)\n",
    "try:\n",
    "    print(\"_my_local_variable =\", _my_local_variable)\n",
    "except NameError:\n",
    "    print(\"Local variable _my_local_variable does not exist here - NameError exception raised!\")"
   ]
  },
  {
   "cell_type": "markdown",
   "metadata": {},
   "source": [
    "Checking to see if an object is callable..."
   ]
  },
  {
   "cell_type": "code",
   "execution_count": 19,
   "metadata": {},
   "outputs": [
    {
     "name": "stdout",
     "output_type": "stream",
     "text": [
      "callable(my_local_variable_function) = True\n",
      "callable([1, 2, 3]) = False\n"
     ]
    }
   ],
   "source": [
    "print(\"callable(my_local_variable_function) =\",\n",
    "      callable(my_local_variable_function))\n",
    "print(\"callable([1, 2, 3]) =\", callable([1, 2, 3]))"
   ]
  },
  {
   "cell_type": "markdown",
   "metadata": {},
   "source": [
    "Take care: Default values are evaluated when functions are created and not when the function is called"
   ]
  },
  {
   "cell_type": "code",
   "execution_count": 20,
   "metadata": {},
   "outputs": [
    {
     "name": "stdout",
     "output_type": "stream",
     "text": [
      "[1]\n",
      "[1, 2]\n"
     ]
    }
   ],
   "source": [
    "\n",
    "def my_function(number, a_list=[]):         # default values are evaluated when functions are created\n",
    "    a_list.append(number)                   # ..and not when function called, so care is required with\n",
    "    print(a_list)                           # mutable objects like lists\n",
    "\n",
    "my_function(1)\n",
    "my_function(2)                              # not what you might have expected"
   ]
  },
  {
   "cell_type": "markdown",
   "metadata": {},
   "source": [
    "Perhaps this is more what you wanted..."
   ]
  },
  {
   "cell_type": "code",
   "execution_count": 21,
   "metadata": {},
   "outputs": [
    {
     "name": "stdout",
     "output_type": "stream",
     "text": [
      "[1]\n",
      "[2]\n"
     ]
    }
   ],
   "source": [
    "def my_function(number, a_list=None):\n",
    "    if a_list is None:\n",
    "        a_list = [number, ]\n",
    "    else:\n",
    "        a_list.append(number)\n",
    "    print(a_list)\n",
    "\n",
    "my_function(1)\n",
    "my_function(2)"
   ]
  }
 ],
 "metadata": {
  "kernelspec": {
   "display_name": "Python 3.10.7 64-bit",
   "language": "python",
   "name": "python3"
  },
  "language_info": {
   "codemirror_mode": {
    "name": "ipython",
    "version": 3
   },
   "file_extension": ".py",
   "mimetype": "text/x-python",
   "name": "python",
   "nbconvert_exporter": "python",
   "pygments_lexer": "ipython3",
   "version": "3.10.7"
  },
  "orig_nbformat": 4,
  "vscode": {
   "interpreter": {
    "hash": "c19fa61d258bb2b35aae2ada233c33e2817c1ce895aa48acba720c6bf7cbe3cb"
   }
  }
 },
 "nbformat": 4,
 "nbformat_minor": 2
}
