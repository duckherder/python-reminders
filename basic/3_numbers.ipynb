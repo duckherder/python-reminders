{
 "cells": [
  {
   "cell_type": "markdown",
   "metadata": {},
   "source": [
    "# Numbers\n",
    "\n",
    "Use of different types of supported numbers in Python. This includes basic number types such as `int`, `float`, and `complex` numbers."
   ]
  },
  {
   "cell_type": "code",
   "execution_count": 1,
   "metadata": {},
   "outputs": [
    {
     "name": "stdout",
     "output_type": "stream",
     "text": [
      "(3+4j)\n"
     ]
    }
   ],
   "source": [
    "a = 8\n",
    "b = 10.0\n",
    "c = 3+4j\n",
    "d = complex(3, 4)\n",
    "print(d)"
   ]
  },
  {
   "cell_type": "markdown",
   "metadata": {},
   "source": [
    "Use `type()` to tell you what Python believes the type to be..."
   ]
  },
  {
   "cell_type": "code",
   "execution_count": 2,
   "metadata": {},
   "outputs": [
    {
     "name": "stdout",
     "output_type": "stream",
     "text": [
      "<class 'int'>\n",
      "<class 'float'>\n",
      "<class 'complex'>\n",
      "<class 'complex'>\n"
     ]
    }
   ],
   "source": [
    "print(type(a))\n",
    "print(type(b))\n",
    "print(type(c))\n",
    "print(type(d))"
   ]
  },
  {
   "cell_type": "markdown",
   "metadata": {},
   "source": [
    "Use `isinstance()` built in function to see if it is the type we believe it is or should be..."
   ]
  },
  {
   "cell_type": "code",
   "execution_count": 3,
   "metadata": {},
   "outputs": [
    {
     "name": "stdout",
     "output_type": "stream",
     "text": [
      "is 5 an integer:  True\n",
      "is 'hello' a float:  False\n"
     ]
    }
   ],
   "source": [
    "print(\"is 5 an integer: \", isinstance(5, int))\n",
    "print(\"is 'hello' a float: \", isinstance(\"hello\", float))"
   ]
  },
  {
   "cell_type": "markdown",
   "metadata": {},
   "source": [
    "Like anything in Python everything is an object and has attributes and an address, even an integer value such as `0` have attributes and address."
   ]
  },
  {
   "cell_type": "code",
   "execution_count": 4,
   "metadata": {},
   "outputs": [
    {
     "name": "stdout",
     "output_type": "stream",
     "text": [
      "Attributes of 0:  ['__abs__', '__add__', '__and__', '__bool__', '__ceil__', '__class__', '__delattr__', '__dir__', '__divmod__', '__doc__', '__eq__', '__float__', '__floor__', '__floordiv__', '__format__', '__ge__', '__getattribute__', '__getnewargs__', '__gt__', '__hash__', '__index__', '__init__', '__init_subclass__', '__int__', '__invert__', '__le__', '__lshift__', '__lt__', '__mod__', '__mul__', '__ne__', '__neg__', '__new__', '__or__', '__pos__', '__pow__', '__radd__', '__rand__', '__rdivmod__', '__reduce__', '__reduce_ex__', '__repr__', '__rfloordiv__', '__rlshift__', '__rmod__', '__rmul__', '__ror__', '__round__', '__rpow__', '__rrshift__', '__rshift__', '__rsub__', '__rtruediv__', '__rxor__', '__setattr__', '__sizeof__', '__str__', '__sub__', '__subclasshook__', '__truediv__', '__trunc__', '__xor__', 'as_integer_ratio', 'bit_count', 'bit_length', 'conjugate', 'denominator', 'from_bytes', 'imag', 'numerator', 'real', 'to_bytes']\n",
      "Address of 0:  1766229344464\n"
     ]
    }
   ],
   "source": [
    "print(\"Attributes of 0: \", dir(0))\n",
    "print(\"Address of 0: \", id(0))"
   ]
  },
  {
   "cell_type": "markdown",
   "metadata": {},
   "source": [
    "In Python 3 there is only the integer class and that does not have a size limit i.e. a maximum value that can be stored in the integer. There are is no 'long' type any more or L literal. See how the object size increases automatically dependent on value. Note that the size is the object size not the size of the representation."
   ]
  },
  {
   "cell_type": "code",
   "execution_count": 5,
   "metadata": {},
   "outputs": [
    {
     "name": "stdout",
     "output_type": "stream",
     "text": [
      "Values of n! factorial with increasing n...\n",
      "1! = 1 of type <class 'int'> (object size=28, bit length=1)\n",
      "2! = 2 of type <class 'int'> (object size=28, bit length=2)\n",
      "3! = 6 of type <class 'int'> (object size=28, bit length=3)\n",
      "4! = 24 of type <class 'int'> (object size=28, bit length=5)\n",
      "5! = 120 of type <class 'int'> (object size=28, bit length=7)\n",
      "6! = 720 of type <class 'int'> (object size=28, bit length=10)\n",
      "7! = 5040 of type <class 'int'> (object size=28, bit length=13)\n",
      "8! = 40320 of type <class 'int'> (object size=28, bit length=16)\n",
      "9! = 362880 of type <class 'int'> (object size=28, bit length=19)\n",
      "10! = 3628800 of type <class 'int'> (object size=28, bit length=22)\n",
      "11! = 39916800 of type <class 'int'> (object size=28, bit length=26)\n",
      "12! = 479001600 of type <class 'int'> (object size=28, bit length=29)\n",
      "13! = 6227020800 of type <class 'int'> (object size=32, bit length=33)\n",
      "14! = 87178291200 of type <class 'int'> (object size=32, bit length=37)\n"
     ]
    }
   ],
   "source": [
    "# user defined implementation of factorial\n",
    "def factorial(n):\n",
    "    \"\"\"Compute factorial of n, n!\"\"\"\n",
    "    if n <= 1:\n",
    "        return 1\n",
    "    return n * factorial(n-1)\n",
    "\n",
    "print(\"Values of n! factorial with increasing n...\")\n",
    "for i in range(1, 15):\n",
    "    result = factorial(i)\n",
    "    print(\"%d! = %d of type %s (object size=%d, bit length=%d)\" %\n",
    "          (i, result, type(result), result.__sizeof__(), result.bit_length()))"
   ]
  },
  {
   "cell_type": "markdown",
   "metadata": {},
   "source": [
    "So where does the object size of the integer change? Here use brackets so parser doesn't confuse integer..."
   ]
  },
  {
   "cell_type": "code",
   "execution_count": 6,
   "metadata": {},
   "outputs": [
    {
     "name": "stdout",
     "output_type": "stream",
     "text": [
      "value of 0 object size = 24\n",
      "value of 1 object size = 28\n",
      "value of 2^30-1 object size = 28\n",
      "value of 2^30 object size = 32\n",
      "value of 2^60-1 object size = 32\n",
      "value of 2^60 object size = 36\n"
     ]
    }
   ],
   "source": [
    "print(\"value of 0 object size = %d\" % (0).__sizeof__())\n",
    "# ...for float when reading left to right\n",
    "print(\"value of 1 object size = %d\" % (1).__sizeof__())\n",
    "print(\"value of 2^30-1 object size = %d\" % (pow(2, 30) - 1).__sizeof__())\n",
    "print(\"value of 2^30 object size = %d\" % (pow(2, 30)).__sizeof__())\n",
    "print(\"value of 2^60-1 object size = %d\" % (pow(2, 60) - 1).__sizeof__())\n",
    "print(\"value of 2^60 object size = %d\" % (pow(2, 60)).__sizeof__())"
   ]
  },
  {
   "cell_type": "markdown",
   "metadata": {},
   "source": [
    "Divisions in Python 3 result in a float even if numerator and denominator are both int objects. This is different behaviour to Python 2."
   ]
  },
  {
   "cell_type": "code",
   "execution_count": 7,
   "metadata": {},
   "outputs": [
    {
     "name": "stdout",
     "output_type": "stream",
     "text": [
      "1.5 is of type <class 'float'>\n"
     ]
    }
   ],
   "source": [
    "a = 3\n",
    "a = a / 2\n",
    "print(f\"{a} is of type {type(a)}\")"
   ]
  },
  {
   "cell_type": "markdown",
   "metadata": {},
   "source": [
    "You can cast a float back to an integer"
   ]
  },
  {
   "cell_type": "code",
   "execution_count": 8,
   "metadata": {},
   "outputs": [
    {
     "name": "stdout",
     "output_type": "stream",
     "text": [
      "1.5 is of type <class 'float'>\n",
      "1 is of type <class 'int'>\n"
     ]
    }
   ],
   "source": [
    "a = 1.5\n",
    "print(f\"{a} is of type {type(a)}\")\n",
    "a = int(a)\n",
    "print(f\"{a} is of type {type(a)}\")"
   ]
  },
  {
   "cell_type": "markdown",
   "metadata": {},
   "source": [
    "Casting a `float` to an integer is towards `0`"
   ]
  },
  {
   "cell_type": "code",
   "execution_count": 9,
   "metadata": {},
   "outputs": [
    {
     "name": "stdout",
     "output_type": "stream",
     "text": [
      "int(1.999999) = 1\n",
      "int(0.999999) = 0\n",
      "int(-0.999999) = 0\n",
      "int(-1.999999) = -1\n"
     ]
    }
   ],
   "source": [
    "a = int(1.999999)\n",
    "print(\"int(1.999999) = %d\" % a)\n",
    "a = int(0.999999)\n",
    "print(\"int(0.999999) = %d\" % a)\n",
    "a = int(-0.999999)\n",
    "print(\"int(-0.999999) = %d\" % a)\n",
    "a = int(-1.999999)\n",
    "print(\"int(-1.999999) = %d\" % a)"
   ]
  },
  {
   "cell_type": "markdown",
   "metadata": {},
   "source": [
    "Various mathematical functions are built into Python, or available from math package"
   ]
  },
  {
   "cell_type": "code",
   "execution_count": 10,
   "metadata": {},
   "outputs": [
    {
     "name": "stdout",
     "output_type": "stream",
     "text": [
      "abs(-1) = 1\n",
      "math.ceil(1.5) = 2\n",
      "math.floor(1.5)= 1\n",
      "round(1.6) = 2\n",
      "round(1.4) = 1\n",
      "math.pi = 3.141593\n",
      "divmod(17, 3) = (5, 2)\n",
      "bin(10) = 0b1010\n",
      "bin(31) = 0b11111\n",
      "oct(8) = 0o10\n",
      "sum([1, 2, 3]) = 6\n",
      "pow(2, 4) = 16\n",
      "2**4 = 16\n"
     ]
    }
   ],
   "source": [
    "import math\n",
    "\n",
    "print(\"abs(-1) = %d\" % abs(-1))\n",
    "print(\"math.ceil(1.5) = %d\" % math.ceil(1.5))       # round up\n",
    "print(\"math.floor(1.5)= %d\" % math.floor(1.5))      # round down\n",
    "print(\"round(1.6) = %d\" % round(1.6))               # rounding to nearest\n",
    "print(\"round(1.4) = %d\" % round(1.4))\n",
    "print(\"math.pi = %f\" % math.pi)\n",
    "print(\"divmod(17, 3) =\", divmod(17, 3))             # returns quotient and remainder\n",
    "# convert to a binary string\n",
    "print(\"bin(10) =\", bin(10))\n",
    "print(\"bin(31) =\", bin(31))\n",
    "print(\"oct(8) =\", oct(8))                          # convert to octal string\n",
    "print(\"sum([1, 2, 3]) =\", sum([1, 2, 3]))          # sum a list of numbers\n",
    "print(\"pow(2, 4) =\", pow(2, 4))                    # power function\n",
    "print(\"2**4 =\", 2**4)\n"
   ]
  }
 ],
 "metadata": {
  "kernelspec": {
   "display_name": "Python 3.10.7 64-bit",
   "language": "python",
   "name": "python3"
  },
  "language_info": {
   "codemirror_mode": {
    "name": "ipython",
    "version": 3
   },
   "file_extension": ".py",
   "mimetype": "text/x-python",
   "name": "python",
   "nbconvert_exporter": "python",
   "pygments_lexer": "ipython3",
   "version": "3.10.7"
  },
  "orig_nbformat": 4,
  "vscode": {
   "interpreter": {
    "hash": "c19fa61d258bb2b35aae2ada233c33e2817c1ce895aa48acba720c6bf7cbe3cb"
   }
  }
 },
 "nbformat": 4,
 "nbformat_minor": 2
}
