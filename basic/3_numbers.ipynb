{
 "cells": [
  {
   "cell_type": "markdown",
   "metadata": {},
   "source": [
    "# Numbers\n",
    "\n",
    "Use of different types of supported numbers in Python. This includes basic number types such as `int`, `float`, and `complex` numbers."
   ]
  },
  {
   "cell_type": "code",
   "execution_count": 22,
   "metadata": {},
   "outputs": [
    {
     "name": "stdout",
     "output_type": "stream",
     "text": [
      "(3+4j)\n"
     ]
    }
   ],
   "source": [
    "a = 8\n",
    "b = 10.0\n",
    "c = 3+4j\n",
    "d = complex(3, 4)\n",
    "print(d)"
   ]
  },
  {
   "cell_type": "markdown",
   "metadata": {},
   "source": [
    "Use `type()` to tell you what Python believes the type of a variable or literal. Note that the result is converted to a string and the first and last characters removed. This stripping is so as not to confuse some renderers, such as GitHub."
   ]
  },
  {
   "cell_type": "code",
   "execution_count": 23,
   "metadata": {},
   "outputs": [
    {
     "name": "stdout",
     "output_type": "stream",
     "text": [
      "class 'int'\n",
      "class 'float'\n",
      "class 'complex'\n",
      "class 'complex'\n"
     ]
    }
   ],
   "source": [
    "print(str(type(a))[1:-1])\n",
    "print(str(type(b))[1:-1])\n",
    "print(str(type(c))[1:-1])\n",
    "print(str(type(d))[1:-1])"
   ]
  },
  {
   "cell_type": "markdown",
   "metadata": {},
   "source": [
    "Use `isinstance()` built in function to see if it is the type we believe it is or should be..."
   ]
  },
  {
   "cell_type": "code",
   "execution_count": 24,
   "metadata": {},
   "outputs": [
    {
     "name": "stdout",
     "output_type": "stream",
     "text": [
      "Is 5 an integer:  True\n",
      "Is 'hello' a float:  False\n"
     ]
    }
   ],
   "source": [
    "print(\"Is 5 an integer: \", isinstance(5, int))\n",
    "print(\"Is 'hello' a float: \", isinstance(\"hello\", float))"
   ]
  },
  {
   "cell_type": "markdown",
   "metadata": {},
   "source": [
    "Nearly everything in Python is an object. Every object has attributes and an address, even an integer value such as `0` have attributes and address."
   ]
  },
  {
   "cell_type": "code",
   "execution_count": 25,
   "metadata": {},
   "outputs": [
    {
     "name": "stdout",
     "output_type": "stream",
     "text": [
      "Attributes of 0:  ['__abs__', '__add__', '__and__', '__bool__', '__ceil__', '__class__', '__delattr__', '__dir__', '__divmod__', '__doc__', '__eq__', '__float__', '__floor__', '__floordiv__', '__format__', '__ge__', '__getattribute__', '__getnewargs__', '__gt__', '__hash__', '__index__', '__init__', '__init_subclass__', '__int__', '__invert__', '__le__', '__lshift__', '__lt__', '__mod__', '__mul__', '__ne__', '__neg__', '__new__', '__or__', '__pos__', '__pow__', '__radd__', '__rand__', '__rdivmod__', '__reduce__', '__reduce_ex__', '__repr__', '__rfloordiv__', '__rlshift__', '__rmod__', '__rmul__', '__ror__', '__round__', '__rpow__', '__rrshift__', '__rshift__', '__rsub__', '__rtruediv__', '__rxor__', '__setattr__', '__sizeof__', '__str__', '__sub__', '__subclasshook__', '__truediv__', '__trunc__', '__xor__', 'as_integer_ratio', 'bit_count', 'bit_length', 'conjugate', 'denominator', 'from_bytes', 'imag', 'numerator', 'real', 'to_bytes']\n",
      "Address of 0:  2661010899152\n"
     ]
    }
   ],
   "source": [
    "print(\"Attributes of 0: \", dir(0))\n",
    "print(\"Address of 0: \", id(0))"
   ]
  },
  {
   "cell_type": "markdown",
   "metadata": {},
   "source": [
    "In Python 3 there is only the integer class and that does not have a size limit i.e. a maximum value that can be stored in the integer. There are is no `long` type that was available in Python 2 or the `L` literal qualifier. \n",
    "\n",
    "Below we see how the object size increases automatically dependent on value stored. Note that the size is the object size not the size of the representation."
   ]
  },
  {
   "cell_type": "code",
   "execution_count": 26,
   "metadata": {},
   "outputs": [
    {
     "name": "stdout",
     "output_type": "stream",
     "text": [
      "Values of n! with increasing n...\n",
      "1! = 1 of type class 'int' (object size=28, bit length=1)\n",
      "2! = 2 of type class 'int' (object size=28, bit length=2)\n",
      "3! = 6 of type class 'int' (object size=28, bit length=3)\n",
      "4! = 24 of type class 'int' (object size=28, bit length=5)\n",
      "5! = 120 of type class 'int' (object size=28, bit length=7)\n",
      "6! = 720 of type class 'int' (object size=28, bit length=10)\n",
      "7! = 5040 of type class 'int' (object size=28, bit length=13)\n",
      "8! = 40320 of type class 'int' (object size=28, bit length=16)\n",
      "9! = 362880 of type class 'int' (object size=28, bit length=19)\n",
      "10! = 3628800 of type class 'int' (object size=28, bit length=22)\n",
      "11! = 39916800 of type class 'int' (object size=28, bit length=26)\n",
      "12! = 479001600 of type class 'int' (object size=28, bit length=29)\n",
      "13! = 6227020800 of type class 'int' (object size=32, bit length=33)\n",
      "14! = 87178291200 of type class 'int' (object size=32, bit length=37)\n"
     ]
    }
   ],
   "source": [
    "import math\n",
    "\n",
    "print(\"Values of n! with increasing n...\")\n",
    "for i in range(1, 15):\n",
    "    _result = math.factorial(i)\n",
    "    print(\"%d! = %d of type %s (object size=%d, bit length=%d)\" %\n",
    "          (i, _result, str(type(_result))[1:-1], _result.__sizeof__(), _result.bit_length()))"
   ]
  },
  {
   "cell_type": "markdown",
   "metadata": {},
   "source": [
    "So where does the object size of the integer change to a larger value? Here we use brackets so parser doesn't confuse integer..."
   ]
  },
  {
   "cell_type": "code",
   "execution_count": 27,
   "metadata": {},
   "outputs": [
    {
     "name": "stdout",
     "output_type": "stream",
     "text": [
      "Value of 0 object size: 24\n",
      "Value of 1 object size: 28\n",
      "Value of 2^30-1 object size: 28\n",
      "Value of 2^30 object size: 32\n",
      "Value of 2^60-1 object size: 32\n",
      "Value of 2^60 object size: 36\n"
     ]
    }
   ],
   "source": [
    "print(\"Value of 0 object size: %d\" % (0).__sizeof__())\n",
    "print(\"Value of 1 object size: %d\" % (1).__sizeof__())\n",
    "print(\"Value of 2^30-1 object size: %d\" % (pow(2, 30) - 1).__sizeof__())\n",
    "print(\"Value of 2^30 object size: %d\" % (pow(2, 30)).__sizeof__())\n",
    "print(\"Value of 2^60-1 object size: %d\" % (pow(2, 60) - 1).__sizeof__())\n",
    "print(\"Value of 2^60 object size: %d\" % (pow(2, 60)).__sizeof__())"
   ]
  },
  {
   "cell_type": "markdown",
   "metadata": {},
   "source": [
    "Divisions in Python 3 result in a `float` even if numerator and denominator are both `int` objects. This is different behaviour to Python 2."
   ]
  },
  {
   "cell_type": "code",
   "execution_count": 32,
   "metadata": {},
   "outputs": [
    {
     "name": "stdout",
     "output_type": "stream",
     "text": [
      "1.5 is of type class 'float'\n"
     ]
    }
   ],
   "source": [
    "a = 3 / 2\n",
    "print(f\"{a} is of type {str(type(a))[1:-1]}\")"
   ]
  },
  {
   "cell_type": "markdown",
   "metadata": {},
   "source": [
    "You can cast between types, such as converting a `float` back to an `int`"
   ]
  },
  {
   "cell_type": "code",
   "execution_count": 29,
   "metadata": {},
   "outputs": [
    {
     "name": "stdout",
     "output_type": "stream",
     "text": [
      "1.5 is of type class 'float'\n",
      "1 is of type class 'int'\n"
     ]
    }
   ],
   "source": [
    "a = 1.5\n",
    "print(f\"{a} is of type {str(type(a))[1:-1]}\")\n",
    "a = int(a)\n",
    "print(f\"{a} is of type {str(type(a))[1:-1]}\")"
   ]
  },
  {
   "cell_type": "markdown",
   "metadata": {},
   "source": [
    "Casting a `float` to an integer is towards `0`"
   ]
  },
  {
   "cell_type": "code",
   "execution_count": 30,
   "metadata": {},
   "outputs": [
    {
     "name": "stdout",
     "output_type": "stream",
     "text": [
      "int(1.999999) = %d 1\n",
      "int(0.999999) = %d 0\n",
      "int(-0.999999) = %d 0\n",
      "int(-1.999999) = %d -1\n"
     ]
    }
   ],
   "source": [
    "print(\"int(1.999999) = %d\", int(1.999999)) \n",
    "print(\"int(0.999999) = %d\", int(0.999999))\n",
    "print(\"int(-0.999999) = %d\", int(-0.999999))\n",
    "print(\"int(-1.999999) = %d\", int(-1.999999))"
   ]
  },
  {
   "cell_type": "markdown",
   "metadata": {},
   "source": [
    "Various mathematical functions are built into Python, or available from the `math` package"
   ]
  },
  {
   "cell_type": "code",
   "execution_count": 31,
   "metadata": {},
   "outputs": [
    {
     "name": "stdout",
     "output_type": "stream",
     "text": [
      "abs(-1) = 1\n",
      "math.ceil(1.5) = 2\n",
      "math.floor(1.5) = 1\n",
      "round(1.6) = 2\n",
      "round(1.4) = 1\n",
      "math.pi = 3.141592653589793\n",
      "divmod(17, 3) = (5, 2)\n",
      "bin(10) = 0b1010\n",
      "bin(31) = 0b11111\n",
      "oct(8) = 0o10\n",
      "sum([1, 2, 3]) = 6\n",
      "pow(2, 4) = 16\n",
      "2**4 = 16\n"
     ]
    }
   ],
   "source": [
    "import math\n",
    "\n",
    "print(\"abs(-1) =\", abs(-1))\n",
    "print(\"math.ceil(1.5) =\", math.ceil(1.5))       # round up\n",
    "print(\"math.floor(1.5) =\", math.floor(1.5))     # round down\n",
    "print(\"round(1.6) =\", round(1.6))               # rounding to nearest\n",
    "print(\"round(1.4) =\", round(1.4))\n",
    "print(\"math.pi =\", math.pi)\n",
    "print(\"divmod(17, 3) =\", divmod(17, 3))         # returns quotient and remainder\n",
    "# convert to a binary string\n",
    "print(\"bin(10) =\", bin(10))\n",
    "print(\"bin(31) =\", bin(31))\n",
    "print(\"oct(8) =\", oct(8))                       # convert to octal string\n",
    "print(\"sum([1, 2, 3]) =\", sum([1, 2, 3]))       # sum a list of numbers\n",
    "print(\"pow(2, 4) =\", pow(2, 4))                 # power function\n",
    "print(\"2**4 =\", 2**4)"
   ]
  }
 ],
 "metadata": {
  "kernelspec": {
   "display_name": "Python 3.10.7 64-bit",
   "language": "python",
   "name": "python3"
  },
  "language_info": {
   "codemirror_mode": {
    "name": "ipython",
    "version": 3
   },
   "file_extension": ".py",
   "mimetype": "text/x-python",
   "name": "python",
   "nbconvert_exporter": "python",
   "pygments_lexer": "ipython3",
   "version": "3.10.7"
  },
  "orig_nbformat": 4,
  "vscode": {
   "interpreter": {
    "hash": "c19fa61d258bb2b35aae2ada233c33e2817c1ce895aa48acba720c6bf7cbe3cb"
   }
  }
 },
 "nbformat": 4,
 "nbformat_minor": 2
}
