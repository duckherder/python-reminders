{
 "cells": [
  {
   "cell_type": "markdown",
   "metadata": {},
   "source": [
    "# Strings\n",
    "\n",
    "Python strings and formatting. Python supports single, double and triple quotations."
   ]
  },
  {
   "cell_type": "code",
   "execution_count": 3,
   "metadata": {},
   "outputs": [],
   "source": [
    "my_string_single = 'Hello world'\n",
    "my_string_double = \"Hello again world\"\n",
    "my_multi_line_string = '''This is a string\n",
    "over two lines'''"
   ]
  },
  {
   "cell_type": "markdown",
   "metadata": {},
   "source": [
    "We can see that string variables are of type `str`..."
   ]
  },
  {
   "cell_type": "code",
   "execution_count": 4,
   "metadata": {},
   "outputs": [
    {
     "name": "stdout",
     "output_type": "stream",
     "text": [
      "class 'str'\n"
     ]
    }
   ],
   "source": [
    "print(str(type(my_multi_line_string))[1:-1])"
   ]
  },
  {
   "cell_type": "markdown",
   "metadata": {},
   "source": [
    "Quotes within quotes"
   ]
  },
  {
   "cell_type": "code",
   "execution_count": 20,
   "metadata": {},
   "outputs": [
    {
     "name": "stdout",
     "output_type": "stream",
     "text": [
      "my nested 'string'\n",
      "my nested \"string\"\n"
     ]
    }
   ],
   "source": [
    "my_nested_string = \"my nested 'string'\"\n",
    "print(my_nested_string)\n",
    "my_nested_string = 'my nested \"string\"'\n",
    "print(my_nested_string)\n"
   ]
  },
  {
   "cell_type": "markdown",
   "metadata": {},
   "source": [
    "We can concatenate strings using the `+` operator..."
   ]
  },
  {
   "cell_type": "code",
   "execution_count": 5,
   "metadata": {},
   "outputs": [
    {
     "name": "stdout",
     "output_type": "stream",
     "text": [
      "You can concatenate strings like this\n",
      "You can mix quotes but not recommended\n"
     ]
    }
   ],
   "source": [
    "print(\"You can \" + \"concatenate\" + \" strings like this\")\n",
    "print('You can ' + \"mix\" + ' quotes but not recommended')"
   ]
  },
  {
   "cell_type": "markdown",
   "metadata": {},
   "source": [
    "String repetition can be achived using the `*` operator"
   ]
  },
  {
   "cell_type": "code",
   "execution_count": 6,
   "metadata": {},
   "outputs": [
    {
     "name": "stdout",
     "output_type": "stream",
     "text": [
      "again..again..again..again..again..\n"
     ]
    }
   ],
   "source": [
    "bob = \"again..\" * 5\n",
    "print(bob)"
   ]
  },
  {
   "cell_type": "markdown",
   "metadata": {},
   "source": [
    "Strings can include escape characters..."
   ]
  },
  {
   "cell_type": "code",
   "execution_count": 8,
   "metadata": {},
   "outputs": [
    {
     "name": "stdout",
     "output_type": "stream",
     "text": [
      "This is a\n",
      " string with the '\\n' escape character\n",
      "This works for single\n",
      " quoted strings as well\n"
     ]
    }
   ],
   "source": [
    "print(\"This is a\\n string with the '\\\\n' escape character\")\n",
    "print('This works for single\\n quoted strings as well')"
   ]
  },
  {
   "cell_type": "markdown",
   "metadata": {},
   "source": [
    "Strings have methods and you can apply method direct to literals..."
   ]
  },
  {
   "cell_type": "code",
   "execution_count": 9,
   "metadata": {},
   "outputs": [
    {
     "name": "stdout",
     "output_type": "stream",
     "text": [
      "Capitalise this sentence with a method.\n",
      "Concatenate using join:  Bob and Sue and Sam\n"
     ]
    }
   ],
   "source": [
    "print(\"capitalise this sentence with a method.\".capitalize())\n",
    "print(\"Concatenate using join: \", \" and \".join(('Bob', 'Sue', 'Sam')))"
   ]
  },
  {
   "cell_type": "markdown",
   "metadata": {},
   "source": [
    "Formatting using variable string parameters to `print`, no space required"
   ]
  },
  {
   "cell_type": "code",
   "execution_count": 10,
   "metadata": {},
   "outputs": [
    {
     "name": "stdout",
     "output_type": "stream",
     "text": [
      "Integer value is 10\n"
     ]
    }
   ],
   "source": [
    "my_integer = 10\n",
    "print(\"Integer value is\", my_integer)"
   ]
  },
  {
   "cell_type": "markdown",
   "metadata": {},
   "source": [
    "String formatting using the `%` operator or `format()` method"
   ]
  },
  {
   "cell_type": "code",
   "execution_count": 11,
   "metadata": {},
   "outputs": [
    {
     "name": "stdout",
     "output_type": "stream",
     "text": [
      "Integer value = 10\n",
      "Integer value = 10\n",
      "Integer value in hexidecimal = 0xA\n",
      "Big number in thousands = 100,000,000\n"
     ]
    }
   ],
   "source": [
    "print(\"Integer value = %d\" % my_integer)\n",
    "print(\"Integer value = {0}\".format(my_integer))        # using format method\n",
    "print(\"Integer value in hexidecimal = 0x{bob:X}\".format(bob=my_integer))\n",
    "big_number = 100000000\n",
    "print(\"Big number in thousands = {0:,}\".format(big_number))"
   ]
  },
  {
   "cell_type": "markdown",
   "metadata": {},
   "source": [
    "Remember that formatting is a property of strings and not `print`"
   ]
  },
  {
   "cell_type": "code",
   "execution_count": 10,
   "metadata": {},
   "outputs": [
    {
     "name": "stdout",
     "output_type": "stream",
     "text": [
      "with formatted string the integer value is 10\n"
     ]
    }
   ],
   "source": [
    "formatted_string = \"with formatted string the integer value is %d\" % my_integer\n",
    "print(formatted_string)"
   ]
  },
  {
   "cell_type": "markdown",
   "metadata": {},
   "source": [
    "Raw strings use the `r` prefix. Below we compare a raw string with the new line versus a normal string with ASCII line feed."
   ]
  },
  {
   "cell_type": "code",
   "execution_count": 12,
   "metadata": {},
   "outputs": [
    {
     "name": "stdout",
     "output_type": "stream",
     "text": [
      "5c:6e\n",
      "0a\n"
     ]
    }
   ],
   "source": [
    "def print_hex(my_string):\n",
    "    \"\"\"Print a string in hexidecimal.\"\"\"\n",
    "    print(\":\".join(\"{:02x}\".format(ord(c)) for c in my_string))\n",
    "\n",
    "raw_string = r\"\\n\"\n",
    "normal_string = \"\\n\"\n",
    "print_hex(raw_string)\n",
    "print_hex(normal_string)"
   ]
  },
  {
   "cell_type": "markdown",
   "metadata": {},
   "source": [
    "In Python 3 all strings are Unicode by default, so no need for `u` prefix as required in Python 2"
   ]
  },
  {
   "cell_type": "code",
   "execution_count": 25,
   "metadata": {},
   "outputs": [
    {
     "name": "stdout",
     "output_type": "stream",
     "text": [
      "A unicode # string\n",
      "A unicode Ǝ string\n"
     ]
    }
   ],
   "source": [
    "my_string = 'A unicode # string'\n",
    "my_string_with_unicode_chars = 'A unicode \\u018e string'\n",
    "print(my_string)\n",
    "print(my_string_with_unicode_chars)"
   ]
  },
  {
   "cell_type": "markdown",
   "metadata": {},
   "source": [
    "Strings are actually of the same length as Unicode code points only counts as one character"
   ]
  },
  {
   "cell_type": "code",
   "execution_count": 24,
   "metadata": {},
   "outputs": [
    {
     "name": "stdout",
     "output_type": "stream",
     "text": [
      "my_string length = 18\n",
      "my_string_with_unicode_chars length = 18\n"
     ]
    }
   ],
   "source": [
    "print(\"my_string length = %d\" % len(my_string))\n",
    "print(\"my_string_with_unicode_chars length = %d\" % len(my_string_with_unicode_chars))"
   ]
  },
  {
   "cell_type": "markdown",
   "metadata": {},
   "source": [
    "`isascii()` new in Python 3.7"
   ]
  },
  {
   "cell_type": "code",
   "execution_count": 18,
   "metadata": {},
   "outputs": [
    {
     "name": "stdout",
     "output_type": "stream",
     "text": [
      "Is my_string ASCII: True\n",
      "Is my_string_with_unicode_chars ASCII: False\n"
     ]
    }
   ],
   "source": [
    "print(\"Is my_string ASCII: %r\" % my_string.isascii())\n",
    "print(\"Is my_string_with_unicode_chars ASCII: %r\" % my_string_with_unicode_chars.isascii())"
   ]
  },
  {
   "cell_type": "markdown",
   "metadata": {},
   "source": [
    "Converting to UTF converts a string into a series of bytes, hence the `b` prefix when printed to the console. In this case the input string is ASCII so the UTF-8 mapping is one to one."
   ]
  },
  {
   "cell_type": "code",
   "execution_count": 20,
   "metadata": {},
   "outputs": [
    {
     "name": "stdout",
     "output_type": "stream",
     "text": [
      "b'A unicode # string'\n",
      "class 'bytes'\n"
     ]
    }
   ],
   "source": [
    "utf8_encoded = my_string.encode('utf-8')\n",
    "print(utf8_encoded)\n",
    "print(str(type(utf8_encoded))[1:-1])"
   ]
  },
  {
   "cell_type": "markdown",
   "metadata": {},
   "source": [
    "See https://en.wikipedia.org/wiki/UTF-8 for how UTF-8 encoding works non-ASCII characters, such as Unicode code points > 128. Here we see conversion of Unicode code points to UTF8."
   ]
  },
  {
   "cell_type": "code",
   "execution_count": 26,
   "metadata": {},
   "outputs": [
    {
     "name": "stdout",
     "output_type": "stream",
     "text": [
      "b'A unicode \\xc6\\x8e string'\n"
     ]
    }
   ],
   "source": [
    "utf8_encoded = my_string_with_unicode_chars.encode('utf-8')\n",
    "# here you see the large Unicode value 0x018e being encoded as 2 bytes \\xc6\\x8e\n",
    "print(utf8_encoded)"
   ]
  },
  {
   "cell_type": "markdown",
   "metadata": {},
   "source": [
    "Decoding the UTF-8 bytes back to a Unicode string"
   ]
  },
  {
   "cell_type": "code",
   "execution_count": 27,
   "metadata": {},
   "outputs": [
    {
     "name": "stdout",
     "output_type": "stream",
     "text": [
      "A unicode Ǝ string\n",
      "class 'str'\n"
     ]
    }
   ],
   "source": [
    "recovered_ustring = utf8_encoded.decode('utf-8')\n",
    "print(recovered_ustring)\n",
    "print(str(type(recovered_ustring))[1:-1])"
   ]
  },
  {
   "cell_type": "markdown",
   "metadata": {},
   "source": [
    "Character conversions"
   ]
  },
  {
   "cell_type": "code",
   "execution_count": 28,
   "metadata": {},
   "outputs": [
    {
     "name": "stdout",
     "output_type": "stream",
     "text": [
      "97\n",
      "class 'int'\n",
      "398\n",
      "class 'int'\n",
      "Ǝ\n"
     ]
    }
   ],
   "source": [
    "ord_value = ord('a')\n",
    "print(ord_value)\n",
    "print(str(type(ord_value))[1:-1])\n",
    "ord_value = ord('\\u018e')\n",
    "print(ord_value)\n",
    "print(str(type(ord_value))[1:-1])\n",
    "\n",
    "# and back again using chr\n",
    "print(chr(ord_value))"
   ]
  },
  {
   "cell_type": "markdown",
   "metadata": {},
   "source": [
    "f-strings are available in Python 3. You can use the same formatting as with `format` and you can even call functions within the f-string braces."
   ]
  },
  {
   "cell_type": "code",
   "execution_count": 31,
   "metadata": {},
   "outputs": [
    {
     "name": "stdout",
     "output_type": "stream",
     "text": [
      "my_fstring: integer = 10 and my_list is ['bob', 'dave']\n",
      "my_fstring: my_integer**2 = 100 and max(my_list) is dave\n",
      "my_integer = 0x0A\n"
     ]
    }
   ],
   "source": [
    "my_integer = 10\n",
    "my_list = ['bob', 'dave']\n",
    "my_fstring = f\"integer = {my_integer} and my_list is {my_list}\"     # uses the f-prefix\n",
    "print(\"my_fstring:\", my_fstring)\n",
    "my_fstring = f\"my_integer**2 = {my_integer**2} and max(my_list) is {max(my_list)}\"     # uses the f-prefix\n",
    "print(\"my_fstring:\", my_fstring)\n",
    "print(f\"my_integer = 0x{my_integer:02X}\")"
   ]
  }
 ],
 "metadata": {
  "kernelspec": {
   "display_name": "Python 3.10.7 64-bit",
   "language": "python",
   "name": "python3"
  },
  "language_info": {
   "codemirror_mode": {
    "name": "ipython",
    "version": 3
   },
   "file_extension": ".py",
   "mimetype": "text/x-python",
   "name": "python",
   "nbconvert_exporter": "python",
   "pygments_lexer": "ipython3",
   "version": "3.10.7"
  },
  "orig_nbformat": 4,
  "vscode": {
   "interpreter": {
    "hash": "c19fa61d258bb2b35aae2ada233c33e2817c1ce895aa48acba720c6bf7cbe3cb"
   }
  }
 },
 "nbformat": 4,
 "nbformat_minor": 2
}
