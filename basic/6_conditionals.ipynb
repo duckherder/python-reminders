{
 "cells": [
  {
   "cell_type": "markdown",
   "metadata": {},
   "source": [
    "# Conditional statements\n",
    "\n",
    "How to use conditional statements in Python. Python has a boolean type and the function `bool()` can be used to convert a variable to a boolean."
   ]
  },
  {
   "cell_type": "code",
   "execution_count": null,
   "metadata": {},
   "outputs": [],
   "source": [
    "print(\"integer 0 means\", bool(0))\n",
    "print(\"integer 17 means\", bool(17))\n",
    "print(\"integer -17 means\", bool(-17))"
   ]
  },
  {
   "cell_type": "markdown",
   "metadata": {},
   "source": [
    "Standard condition code such as if, elif, else structure for controlling control paths but there is no switch statement in Python."
   ]
  },
  {
   "cell_type": "code",
   "execution_count": null,
   "metadata": {},
   "outputs": [],
   "source": [
    "def my_function(x):\n",
    "    \"\"\"some function\"\"\"\n",
    "    if x == 3:                          # there is no switch statement in Python\n",
    "        print(\"interesting value\")\n",
    "    elif x == 4:\n",
    "        print(\"that even it out\")\n",
    "    else:\n",
    "        print(\"something else\")"
   ]
  },
  {
   "cell_type": "markdown",
   "metadata": {},
   "source": [
    "We can use membership operators to test whether an object is in a list etc.."
   ]
  },
  {
   "cell_type": "code",
   "execution_count": null,
   "metadata": {},
   "outputs": [],
   "source": [
    "if 2 in [1, 2, 3]:\n",
    "    print(\"2 is in the list\")\n",
    "\n",
    "my_dict = {'bob': 1, 'tim': 2}\n",
    "if 'bob' in my_dict:            # replaces has_key() in Python 2\n",
    "    print(\"found bob\")\n",
    "if 'sally' not in my_dict.keys():     # more verbose version\n",
    "    print(\"no sally\")"
   ]
  },
  {
   "cell_type": "markdown",
   "metadata": {},
   "source": [
    "Use comparison operator '==' to test for same value..."
   ]
  },
  {
   "cell_type": "code",
   "execution_count": null,
   "metadata": {},
   "outputs": [],
   "source": [
    "list_a = [1, 2, 3]\n",
    "list_b = [1, 2, 3]\n",
    "if list_a == list_b:\n",
    "    print(\"lists a and b have the same values - they are equal\")"
   ]
  },
  {
   "cell_type": "markdown",
   "metadata": {},
   "source": [
    "But equality does not imply identical!"
   ]
  },
  {
   "cell_type": "code",
   "execution_count": null,
   "metadata": {},
   "outputs": [],
   "source": [
    "if list_a is not list_b:\n",
    "    print(\"..same values but lists a and b are different objects as lists are mutable\")\n",
    "\n",
    "x = None                    # set to empty state\n",
    "if x is None:               # should use 'is' instead of '=='  -> saying x is the same object as None\n",
    "    print(\"x is None\")      # None has no value to compare against\n",
    "\n",
    "x = True\n",
    "if x == True:\n",
    "    print(\"x has the value True\")\n",
    "    print(x)\n",
    "\n",
    "if x is True:       # preferred\n",
    "    print(\"x is the same object as True\")\n",
    "    print(id(x))\n",
    "    print(id(True))"
   ]
  },
  {
   "cell_type": "markdown",
   "metadata": {},
   "source": [
    "Operators like '>=' generate booleans..."
   ]
  },
  {
   "cell_type": "code",
   "execution_count": null,
   "metadata": {},
   "outputs": [],
   "source": [
    "x = 4\n",
    "y = 3\n",
    "result = 4 >= 3\n",
    "print(type(result))\n",
    "print(result)"
   ]
  },
  {
   "cell_type": "markdown",
   "metadata": {},
   "source": [
    "..`and`, `or`, `not` can operate on bool True and False objects..."
   ]
  },
  {
   "cell_type": "code",
   "execution_count": null,
   "metadata": {},
   "outputs": [],
   "source": [
    "if x >= y and not y > 5:\n",
    "    print(\"condition met!\")"
   ]
  },
  {
   "cell_type": "markdown",
   "metadata": {},
   "source": [
    "We can use ternary conditional statements like 'result = True if x == 4 else False'..."
   ]
  },
  {
   "cell_type": "code",
   "execution_count": null,
   "metadata": {},
   "outputs": [],
   "source": [
    "result = True if x == 4 else False\n",
    "print(result)"
   ]
  }
 ],
 "metadata": {
  "kernelspec": {
   "display_name": "Python 3.10.7 64-bit",
   "language": "python",
   "name": "python3"
  },
  "language_info": {
   "codemirror_mode": {
    "name": "ipython",
    "version": 3
   },
   "file_extension": ".py",
   "mimetype": "text/x-python",
   "name": "python",
   "nbconvert_exporter": "python",
   "pygments_lexer": "ipython3",
   "version": "3.10.7"
  },
  "orig_nbformat": 4,
  "vscode": {
   "interpreter": {
    "hash": "c19fa61d258bb2b35aae2ada233c33e2817c1ce895aa48acba720c6bf7cbe3cb"
   }
  }
 },
 "nbformat": 4,
 "nbformat_minor": 2
}
