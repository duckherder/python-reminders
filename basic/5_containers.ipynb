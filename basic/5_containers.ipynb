{
 "cells": [
  {
   "cell_type": "markdown",
   "metadata": {},
   "source": [
    "# Containers\n",
    "\n",
    "Various types of mutable and immutable containers supported by Python."
   ]
  },
  {
   "cell_type": "markdown",
   "metadata": {},
   "source": [
    "## Lists\n",
    "You create a simple list of the same type"
   ]
  },
  {
   "cell_type": "code",
   "execution_count": 58,
   "metadata": {},
   "outputs": [
    {
     "name": "stdout",
     "output_type": "stream",
     "text": [
      "[0, 1, 2]\n"
     ]
    }
   ],
   "source": [
    "my_simple_list = [0, 1, 2]              # list of integers\n",
    "print(my_simple_list)"
   ]
  },
  {
   "cell_type": "markdown",
   "metadata": {},
   "source": [
    "You can create lists with different types"
   ]
  },
  {
   "cell_type": "code",
   "execution_count": 59,
   "metadata": {},
   "outputs": [
    {
     "name": "stdout",
     "output_type": "stream",
     "text": [
      "[0, 'bob', 3.0, (4+5j)]\n"
     ]
    }
   ],
   "source": [
    "my_mixed_list = [0, 'bob', 3.0, 4 + 5j]\n",
    "print(my_mixed_list)"
   ]
  },
  {
   "cell_type": "markdown",
   "metadata": {},
   "source": [
    "Lists can contain lists"
   ]
  },
  {
   "cell_type": "code",
   "execution_count": 60,
   "metadata": {},
   "outputs": [
    {
     "name": "stdout",
     "output_type": "stream",
     "text": [
      "[[0, 1, 2], ['bob', 0], 4.0]\n"
     ]
    }
   ],
   "source": [
    "my_nested_list = [[0, 1, 2], ['bob', 0], 4.0]\n",
    "print(my_nested_list)"
   ]
  },
  {
   "cell_type": "markdown",
   "metadata": {},
   "source": [
    "Use repetition or generators to create big lists"
   ]
  },
  {
   "cell_type": "code",
   "execution_count": 61,
   "metadata": {},
   "outputs": [
    {
     "name": "stdout",
     "output_type": "stream",
     "text": [
      "Vector length = 100\n",
      "[1, 2, 3, 1, 2, 3, 1, 2, 3]\n"
     ]
    }
   ],
   "source": [
    "vector = [0] * 100\n",
    "print(\"Vector length = %d\" % len(vector))\n",
    "print([1, 2, 3] * 3)"
   ]
  },
  {
   "cell_type": "markdown",
   "metadata": {},
   "source": [
    "You can create lists using a list comprehension"
   ]
  },
  {
   "cell_type": "code",
   "execution_count": 62,
   "metadata": {},
   "outputs": [
    {
     "name": "stdout",
     "output_type": "stream",
     "text": [
      "['bob', 'bob', 'bob', 'bob']\n"
     ]
    }
   ],
   "source": [
    "bob_list = [\"bob\" for i in range(4)]\n",
    "print(bob_list)"
   ]
  },
  {
   "cell_type": "markdown",
   "metadata": {},
   "source": [
    "Also you can concatenate lists using `+=` operator"
   ]
  },
  {
   "cell_type": "code",
   "execution_count": 63,
   "metadata": {},
   "outputs": [
    {
     "name": "stdout",
     "output_type": "stream",
     "text": [
      "[0, 1, 2, 0, 'bob', 3.0, (4+5j)]\n"
     ]
    }
   ],
   "source": [
    "my_simple_list += my_mixed_list\n",
    "print(my_simple_list)"
   ]
  },
  {
   "cell_type": "markdown",
   "metadata": {},
   "source": [
    "You can access any member using a zero indexed integer"
   ]
  },
  {
   "cell_type": "code",
   "execution_count": 64,
   "metadata": {},
   "outputs": [
    {
     "name": "stdout",
     "output_type": "stream",
     "text": [
      "0\n",
      "(4+5j)\n"
     ]
    }
   ],
   "source": [
    "print(my_mixed_list[0])\n",
    "print(my_mixed_list[3])"
   ]
  },
  {
   "cell_type": "markdown",
   "metadata": {},
   "source": [
    "Lists are mutable so you change values in the list"
   ]
  },
  {
   "cell_type": "code",
   "execution_count": 65,
   "metadata": {},
   "outputs": [
    {
     "name": "stdout",
     "output_type": "stream",
     "text": [
      "['sam', 19, 3.0, (4+5j)]\n"
     ]
    }
   ],
   "source": [
    "my_mixed_list[0] = 'sam'\n",
    "my_mixed_list[1] = 19\n",
    "print(my_mixed_list)\n"
   ]
  },
  {
   "cell_type": "markdown",
   "metadata": {},
   "source": [
    "You can append new members to the end of a list"
   ]
  },
  {
   "cell_type": "code",
   "execution_count": 66,
   "metadata": {},
   "outputs": [
    {
     "name": "stdout",
     "output_type": "stream",
     "text": [
      "[0, 1, 2, 0, 'bob', 3.0, (4+5j), 3]\n"
     ]
    }
   ],
   "source": [
    "my_simple_list.append(3)\n",
    "print(my_simple_list)"
   ]
  },
  {
   "cell_type": "markdown",
   "metadata": {},
   "source": [
    "You can delete a specific element from a list..."
   ]
  },
  {
   "cell_type": "code",
   "execution_count": 67,
   "metadata": {},
   "outputs": [
    {
     "name": "stdout",
     "output_type": "stream",
     "text": [
      "[0, 1, 2, 0, 3.0, (4+5j), 3]\n"
     ]
    }
   ],
   "source": [
    "del my_simple_list[4]\n",
    "print(my_simple_list)"
   ]
  },
  {
   "cell_type": "markdown",
   "metadata": {},
   "source": [
    "...or remove the first matching object in the list"
   ]
  },
  {
   "cell_type": "code",
   "execution_count": 68,
   "metadata": {},
   "outputs": [
    {
     "name": "stdout",
     "output_type": "stream",
     "text": [
      "[1, 8, 1, 1, 8, 2, 2]\n",
      "[1, 1, 1, 8, 2, 2]\n"
     ]
    }
   ],
   "source": [
    "my_numbers = [1, 8, 1, 1, 8, 2, 2]\n",
    "print(my_numbers)\n",
    "my_numbers.remove(8)            # remove the first 8 found in the list, not index 8\n",
    "print(my_numbers)"
   ]
  },
  {
   "cell_type": "markdown",
   "metadata": {},
   "source": [
    "Get the number of objects in a list using `count()` method"
   ]
  },
  {
   "cell_type": "code",
   "execution_count": 69,
   "metadata": {},
   "outputs": [
    {
     "name": "stdout",
     "output_type": "stream",
     "text": [
      "2\n",
      "0\n"
     ]
    }
   ],
   "source": [
    "print(my_numbers.count(2))\n",
    "print(my_numbers.count('sally'))"
   ]
  },
  {
   "cell_type": "markdown",
   "metadata": {},
   "source": [
    "You can find the first matching objects using `index()` method"
   ]
  },
  {
   "cell_type": "code",
   "execution_count": 70,
   "metadata": {},
   "outputs": [
    {
     "name": "stdout",
     "output_type": "stream",
     "text": [
      "4\n",
      "..which will raise a ValueError exception if not in the list\n"
     ]
    }
   ],
   "source": [
    "print(my_numbers.index(2))\n",
    "try:\n",
    "    print(my_numbers.index('sally'))\n",
    "except ValueError:\n",
    "    print(\"..which will raise a ValueError exception if not in the list\")"
   ]
  },
  {
   "cell_type": "markdown",
   "metadata": {},
   "source": [
    "You can sort a list using `sorted()` built in function"
   ]
  },
  {
   "cell_type": "code",
   "execution_count": 71,
   "metadata": {},
   "outputs": [
    {
     "name": "stdout",
     "output_type": "stream",
     "text": [
      "my_list = [2, 1, 4, 3]\n",
      "sorted list = [1, 2, 3, 4]\n",
      "reverse sorted list = [4, 3, 2, 1]\n"
     ]
    }
   ],
   "source": [
    "my_list = [2, 1, 4, 3]\n",
    "print(\"my_list =\", my_list)\n",
    "print(\"sorted list =\", sorted(my_list))\n",
    "print(\"reverse sorted list =\", sorted(my_list, reverse=True))"
   ]
  },
  {
   "cell_type": "markdown",
   "metadata": {},
   "source": [
    "To create an empty list there are two methods, though using `list()` directly is slower. Using `list()` is really for casting other iterables to a list."
   ]
  },
  {
   "cell_type": "code",
   "execution_count": 72,
   "metadata": {},
   "outputs": [],
   "source": [
    "my_empty_list = []\n",
    "my_other_empty_list = list()"
   ]
  },
  {
   "cell_type": "markdown",
   "metadata": {},
   "source": [
    "You can see all available list functions and attributes using `dir()`"
   ]
  },
  {
   "cell_type": "code",
   "execution_count": 73,
   "metadata": {},
   "outputs": [
    {
     "name": "stdout",
     "output_type": "stream",
     "text": [
      "['__add__', '__class__', '__class_getitem__', '__contains__', '__delattr__', '__delitem__', '__dir__', '__doc__', '__eq__', '__format__', '__ge__', '__getattribute__', '__getitem__', '__gt__', '__hash__', '__iadd__', '__imul__', '__init__', '__init_subclass__', '__iter__', '__le__', '__len__', '__lt__', '__mul__', '__ne__', '__new__', '__reduce__', '__reduce_ex__', '__repr__', '__reversed__', '__rmul__', '__setattr__', '__setitem__', '__sizeof__', '__str__', '__subclasshook__', 'append', 'clear', 'copy', 'count', 'extend', 'index', 'insert', 'pop', 'remove', 'reverse', 'sort']\n"
     ]
    }
   ],
   "source": [
    "print(dir(list))"
   ]
  },
  {
   "cell_type": "markdown",
   "metadata": {},
   "source": [
    "## Tuples\n",
    "Tuples can be accessed in the same way as lists"
   ]
  },
  {
   "cell_type": "code",
   "execution_count": 74,
   "metadata": {},
   "outputs": [
    {
     "name": "stdout",
     "output_type": "stream",
     "text": [
      "('a', 'b', 'c', 1, 2, 'bob', 9.0)\n",
      "c\n"
     ]
    }
   ],
   "source": [
    "my_tuple = (\"a\", \"b\", \"c\", 1, 2, \"bob\", 9.0)\n",
    "print(my_tuple)\n",
    "print(my_tuple[2])"
   ]
  },
  {
   "cell_type": "markdown",
   "metadata": {},
   "source": [
    "Tuples can be created without parentheses as comma separated items. Note if only one element you must use a comma e.g. `my_tuple = \"w\",`"
   ]
  },
  {
   "cell_type": "code",
   "execution_count": 75,
   "metadata": {},
   "outputs": [
    {
     "name": "stdout",
     "output_type": "stream",
     "text": [
      "('w', 34, 'how', 8.76)\n",
      "class 'tuple'\n"
     ]
    }
   ],
   "source": [
    "my_comma_tuple = \"w\", 34, \"how\", 8.76\n",
    "print(my_comma_tuple)                           # ...or (\"w\",)\n",
    "print(str(type(my_comma_tuple))[1:-1])"
   ]
  },
  {
   "cell_type": "markdown",
   "metadata": {},
   "source": [
    "Big difference to lists is that tuples are immutable"
   ]
  },
  {
   "cell_type": "code",
   "execution_count": 76,
   "metadata": {},
   "outputs": [
    {
     "name": "stdout",
     "output_type": "stream",
     "text": [
      "...and will raise an exception if you try to modify them!\n"
     ]
    }
   ],
   "source": [
    "try:\n",
    "    my_tuple[0] = \"d\"\n",
    "except TypeError:\n",
    "    print(\"...and will raise an exception if you try to modify them!\")"
   ]
  },
  {
   "cell_type": "markdown",
   "metadata": {},
   "source": [
    "Concatenation is possible but only if you are creating a new tuple"
   ]
  },
  {
   "cell_type": "code",
   "execution_count": 77,
   "metadata": {},
   "outputs": [
    {
     "name": "stdout",
     "output_type": "stream",
     "text": [
      "('a', 'b', 'c', 1, 2, 'bob', 9.0, 'w', 34, 'how', 8.76, 34)\n",
      "12\n"
     ]
    }
   ],
   "source": [
    "my_cat_tuple = my_tuple + my_comma_tuple + (34,)        # need brackets here for single tuple\n",
    "print(my_cat_tuple)\n",
    "print(len(my_cat_tuple))\n"
   ]
  },
  {
   "cell_type": "markdown",
   "metadata": {},
   "source": [
    "Not all methods are available as with list containers. You can see all available tuple functions and attributes using ``dir()``"
   ]
  },
  {
   "cell_type": "code",
   "execution_count": 78,
   "metadata": {},
   "outputs": [
    {
     "name": "stdout",
     "output_type": "stream",
     "text": [
      "['__add__', '__class__', '__class_getitem__', '__contains__', '__delattr__', '__dir__', '__doc__', '__eq__', '__format__', '__ge__', '__getattribute__', '__getitem__', '__getnewargs__', '__gt__', '__hash__', '__init__', '__init_subclass__', '__iter__', '__le__', '__len__', '__lt__', '__mul__', '__ne__', '__new__', '__reduce__', '__reduce_ex__', '__repr__', '__rmul__', '__setattr__', '__sizeof__', '__str__', '__subclasshook__', 'count', 'index']\n"
     ]
    }
   ],
   "source": [
    "print(dir(tuple))"
   ]
  },
  {
   "cell_type": "markdown",
   "metadata": {},
   "source": [
    "## Dictionaries\n",
    "Dictionaries are `key:value` pairs. You can use any hashable type for keys, such as strings, numbers or tuple. Values can be of any type."
   ]
  },
  {
   "cell_type": "code",
   "execution_count": 79,
   "metadata": {},
   "outputs": [
    {
     "name": "stdout",
     "output_type": "stream",
     "text": [
      "{1: 2, 2: 6.0, 'bob': 4, (56, 78): 'odd'}\n",
      "class 'dict'\n"
     ]
    }
   ],
   "source": [
    "my_dict = {1: 2, 2: 6.0, 'bob': 4, (56, 78): 'odd'}\n",
    "print(my_dict)\n",
    "print(str(type(my_dict))[1:-1])"
   ]
  },
  {
   "cell_type": "markdown",
   "metadata": {},
   "source": [
    "Dictionaries are unordered but can be accessed using `[key]` rather than only an integer indices with lists."
   ]
  },
  {
   "cell_type": "code",
   "execution_count": 80,
   "metadata": {},
   "outputs": [
    {
     "name": "stdout",
     "output_type": "stream",
     "text": [
      "2\n",
      "6.0\n",
      "4\n",
      "Invalid keys will raise an exception\n"
     ]
    }
   ],
   "source": [
    "print(my_dict[1])\n",
    "print(my_dict[2])\n",
    "print(my_dict['bob'])\n",
    "try:\n",
    "    print(my_dict['tim'])\n",
    "except KeyError:\n",
    "    print(\"Invalid keys will raise an exception\")"
   ]
  },
  {
   "cell_type": "markdown",
   "metadata": {},
   "source": [
    "They are mutable so you can modify and add to a dictionary"
   ]
  },
  {
   "cell_type": "code",
   "execution_count": 81,
   "metadata": {},
   "outputs": [
    {
     "name": "stdout",
     "output_type": "stream",
     "text": [
      "{1: 2, 2: 'new_value', 'bob': 4, (56, 78): 'odd', 'new_key': (2+5j)}\n"
     ]
    }
   ],
   "source": [
    "my_dict[2] = 'new_value'\n",
    "my_dict['new_key'] = 2+5j\n",
    "print(my_dict)"
   ]
  },
  {
   "cell_type": "markdown",
   "metadata": {},
   "source": [
    "You can see all available list functions and attributes using `dir()`"
   ]
  },
  {
   "cell_type": "code",
   "execution_count": 82,
   "metadata": {},
   "outputs": [
    {
     "name": "stdout",
     "output_type": "stream",
     "text": [
      "['__class__', '__class_getitem__', '__contains__', '__delattr__', '__delitem__', '__dir__', '__doc__', '__eq__', '__format__', '__ge__', '__getattribute__', '__getitem__', '__gt__', '__hash__', '__init__', '__init_subclass__', '__ior__', '__iter__', '__le__', '__len__', '__lt__', '__ne__', '__new__', '__or__', '__reduce__', '__reduce_ex__', '__repr__', '__reversed__', '__ror__', '__setattr__', '__setitem__', '__sizeof__', '__str__', '__subclasshook__', 'clear', 'copy', 'fromkeys', 'get', 'items', 'keys', 'pop', 'popitem', 'setdefault', 'update', 'values']\n",
      "keys(): dict_keys([1, 2, 'bob', (56, 78), 'new_key'])\n",
      "get('bob'): 4\n",
      "items(): dict_items([(1, 2), (2, 'new_value'), ('bob', 4), ((56, 78), 'odd'), ('new_key', (2+5j))])\n"
     ]
    }
   ],
   "source": [
    "print(dir(dict))\n",
    "print(\"keys():\", my_dict.keys())   # get keys from dictionary\n",
    "print(\"get('bob'): %d\" % my_dict.get('bob'))  # get key value from dictionary\n",
    "print(\"items():\", my_dict.items())   # get list of tuples from dictionary"
   ]
  },
  {
   "cell_type": "markdown",
   "metadata": {},
   "source": [
    "## Sets\n",
    "Sets are unordered and unindexed so no `[]` access"
   ]
  },
  {
   "cell_type": "code",
   "execution_count": 83,
   "metadata": {},
   "outputs": [
    {
     "name": "stdout",
     "output_type": "stream",
     "text": [
      "bob = {8, 6, 7}\n",
      "dick = {8, 9}\n"
     ]
    }
   ],
   "source": [
    "bob = {6, 7, 8}\n",
    "dick = {8, 9}\n",
    "print(\"bob =\", bob)\n",
    "print(\"dick =\", dick)"
   ]
  },
  {
   "cell_type": "markdown",
   "metadata": {},
   "source": [
    "They contain only one version of an object - duplicates are removed"
   ]
  },
  {
   "cell_type": "code",
   "execution_count": 84,
   "metadata": {},
   "outputs": [
    {
     "name": "stdout",
     "output_type": "stream",
     "text": [
      "animals = {'cat', 'dog'}\n"
     ]
    }
   ],
   "source": [
    "animals = {\"dog\", \"cat\", \"dog\"}\n",
    "print(\"animals =\", animals)"
   ]
  },
  {
   "cell_type": "markdown",
   "metadata": {},
   "source": [
    "Set differencing that you can normally perform on a mathematical set can be performed"
   ]
  },
  {
   "cell_type": "code",
   "execution_count": 85,
   "metadata": {},
   "outputs": [
    {
     "name": "stdout",
     "output_type": "stream",
     "text": [
      "Difference between bob and dick =  {6, 7}\n",
      "Difference using difference() =  {6, 7}\n"
     ]
    }
   ],
   "source": [
    "print(\"Difference between bob and dick = \", bob-dick)\n",
    "print(\"Difference using difference() = \", bob.difference(dick))"
   ]
  },
  {
   "cell_type": "markdown",
   "metadata": {},
   "source": [
    "You can see all available list functions and attributes using `dir()`"
   ]
  },
  {
   "cell_type": "code",
   "execution_count": 86,
   "metadata": {},
   "outputs": [
    {
     "name": "stdout",
     "output_type": "stream",
     "text": [
      "['__and__', '__class__', '__class_getitem__', '__contains__', '__delattr__', '__dir__', '__doc__', '__eq__', '__format__', '__ge__', '__getattribute__', '__gt__', '__hash__', '__iand__', '__init__', '__init_subclass__', '__ior__', '__isub__', '__iter__', '__ixor__', '__le__', '__len__', '__lt__', '__ne__', '__new__', '__or__', '__rand__', '__reduce__', '__reduce_ex__', '__repr__', '__ror__', '__rsub__', '__rxor__', '__setattr__', '__sizeof__', '__str__', '__sub__', '__subclasshook__', '__xor__', 'add', 'clear', 'copy', 'difference', 'difference_update', 'discard', 'intersection', 'intersection_update', 'isdisjoint', 'issubset', 'issuperset', 'pop', 'remove', 'symmetric_difference', 'symmetric_difference_update', 'union', 'update']\n"
     ]
    }
   ],
   "source": [
    "print(dir(set))"
   ]
  },
  {
   "cell_type": "markdown",
   "metadata": {},
   "source": [
    "Adding to a set"
   ]
  },
  {
   "cell_type": "code",
   "execution_count": 87,
   "metadata": {},
   "outputs": [
    {
     "name": "stdout",
     "output_type": "stream",
     "text": [
      "Adding to bob:  {8, 5, 6, 7}\n"
     ]
    }
   ],
   "source": [
    "bob.add(5)\n",
    "print(\"Adding to bob: \", bob)"
   ]
  },
  {
   "cell_type": "markdown",
   "metadata": {},
   "source": [
    "Set intersection and union supported"
   ]
  },
  {
   "cell_type": "code",
   "execution_count": 88,
   "metadata": {},
   "outputs": [
    {
     "name": "stdout",
     "output_type": "stream",
     "text": [
      "Intersection of bob and dick:  {8}\n",
      "Intersection using '&' operator:  {8}\n",
      "Union of bob and dick:  {5, 6, 7, 8, 9}\n",
      "Union using '|' operator:  {5, 6, 7, 8, 9}\n"
     ]
    }
   ],
   "source": [
    "print(\"Intersection of bob and dick: \", bob.intersection(dick))\n",
    "print(\"Intersection using '&' operator: \", bob & dick)\n",
    "print(\"Union of bob and dick: \", bob.union(dick))\n",
    "print(\"Union using '|' operator: \", bob | dick)\n"
   ]
  }
 ],
 "metadata": {
  "kernelspec": {
   "display_name": "Python 3.10.7 64-bit",
   "language": "python",
   "name": "python3"
  },
  "language_info": {
   "codemirror_mode": {
    "name": "ipython",
    "version": 3
   },
   "file_extension": ".py",
   "mimetype": "text/x-python",
   "name": "python",
   "nbconvert_exporter": "python",
   "pygments_lexer": "ipython3",
   "version": "3.10.7"
  },
  "orig_nbformat": 4,
  "vscode": {
   "interpreter": {
    "hash": "c19fa61d258bb2b35aae2ada233c33e2817c1ce895aa48acba720c6bf7cbe3cb"
   }
  }
 },
 "nbformat": 4,
 "nbformat_minor": 2
}
