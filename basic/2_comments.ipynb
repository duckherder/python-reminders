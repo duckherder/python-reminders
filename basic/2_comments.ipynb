{
 "cells": [
  {
   "cell_type": "markdown",
   "metadata": {},
   "source": [
    "# Comments\n",
    "\n",
    "Some examples of how to add comments to Python code. There are a number of ways to add comments using different symbols and quotation."
   ]
  },
  {
   "cell_type": "code",
   "execution_count": 1,
   "metadata": {},
   "outputs": [
    {
     "data": {
      "text/plain": [
       "'\\nor like this style if you prefer\\n'"
      ]
     },
     "execution_count": 1,
     "metadata": {},
     "output_type": "execute_result"
    }
   ],
   "source": [
    "# This is a comment\n",
    "# and also like this\n",
    "\n",
    "\"\"\"You can add comments like this to your code\"\"\"\n",
    "\n",
    "\"\"\"You can do\n",
    "this for multi-line comments \n",
    "as well\"\"\"\n",
    "\n",
    "\"\"\"\n",
    "or like this style if you prefer\n",
    "\"\"\""
   ]
  },
  {
   "cell_type": "markdown",
   "metadata": {},
   "source": [
    "Docstrings are ways to document what a function, method or class does. Docstrings are described in [PEP0257](https://peps.python.org/pep-0257/). The docstring will appear as the `__doc__` attribute to the function."
   ]
  },
  {
   "cell_type": "code",
   "execution_count": 2,
   "metadata": {},
   "outputs": [],
   "source": [
    "def print_function(my_string):\n",
    "    '''You can use triple quoted ones here - these are called docstrings\n",
    "    and should prescribe the functions effect as a command according to PEP0257'''\n",
    "\n",
    "    # they should be indented the same as the code below\n",
    "    if my_string is None:\n",
    "        # comment with correct indentation\n",
    "        print(\"string is None\")\n",
    "        return\n",
    "    print(my_string)                # you can add them like this as well"
   ]
  },
  {
   "cell_type": "markdown",
   "metadata": {},
   "source": [
    "According to PEP0257 triple double quotes are generally preferred for docstrings. Also note that description should end in a period (full stop)."
   ]
  },
  {
   "cell_type": "code",
   "execution_count": 3,
   "metadata": {},
   "outputs": [
    {
     "name": "stdout",
     "output_type": "stream",
     "text": [
      "Print a user defined string.\n",
      "\n",
      "    :param my_string:     String to print\n",
      "    :return:              True if successful, False otherwise   -> note no blank lines before or after docstring\n",
      "    \n"
     ]
    }
   ],
   "source": [
    "def pretty_print_function(my_string) -> bool:\n",
    "    \"\"\"Print a user defined string.\n",
    "\n",
    "    :param my_string:     String to print\n",
    "    :return:              True if successful, False otherwise   -> note no blank lines before or after docstring\n",
    "    \"\"\"\n",
    "    if my_string is None:\n",
    "        print(\"string is None!\")\n",
    "        return False\n",
    "\n",
    "    # print the string -> example of redundant commenting - legal but unnecessary\n",
    "    print(my_string)\n",
    "    return True\n",
    "\n",
    "# triple quoted comments in the first the line after a start of a module,\n",
    "# function, class or method are called docstrings and can be\n",
    "# printed in code elsewhere. __doc__ is an attribute of the\n",
    "# function object named pretty_print_function\n",
    "print(pretty_print_function.__doc__)"
   ]
  }
 ],
 "metadata": {
  "kernelspec": {
   "display_name": "Python 3.10.7 64-bit",
   "language": "python",
   "name": "python3"
  },
  "language_info": {
   "codemirror_mode": {
    "name": "ipython",
    "version": 3
   },
   "file_extension": ".py",
   "mimetype": "text/x-python",
   "name": "python",
   "nbconvert_exporter": "python",
   "pygments_lexer": "ipython3",
   "version": "3.10.7"
  },
  "orig_nbformat": 4,
  "vscode": {
   "interpreter": {
    "hash": "c19fa61d258bb2b35aae2ada233c33e2817c1ce895aa48acba720c6bf7cbe3cb"
   }
  }
 },
 "nbformat": 4,
 "nbformat_minor": 2
}
