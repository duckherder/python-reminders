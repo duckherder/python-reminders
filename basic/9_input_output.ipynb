{
 "cells": [
  {
   "cell_type": "markdown",
   "metadata": {},
   "source": [
    "# Input and output\n",
    "\n",
    "How to perform basic input and output, beginning with simple writing to console output."
   ]
  },
  {
   "cell_type": "code",
   "execution_count": 16,
   "metadata": {},
   "outputs": [
    {
     "name": "stdout",
     "output_type": "stream",
     "text": [
      "hello world!\n",
      "hello world!\n",
      "hello@world!\n",
      "hello world!:end of the line!\n",
      "\n",
      "hello my value is (1+4j)\n",
      "hello my value is (1+4j)\n"
     ]
    }
   ],
   "source": [
    "print(\"hello world!\")\n",
    "# pass multiple parameters, will be separated by a ' '\n",
    "print(\"hello\", \"world!\")\n",
    "# you can change separator\n",
    "print(\"hello\", \"world!\", sep='@')\n",
    "# you can change terminator\n",
    "print(\"hello\", \"world!\", end=':end of the line!\\n\\n')\n",
    "# you can send objects of different types, no conversion\n",
    "print(\"hello my value is\", complex(1, 4))\n",
    "# if use string concatenation need to convert and add space\n",
    "print(\"hello my value is \" + str(complex(1, 4)))"
   ]
  },
  {
   "cell_type": "markdown",
   "metadata": {},
   "source": [
    "Get input string from the command line..."
   ]
  },
  {
   "cell_type": "code",
   "execution_count": 1,
   "metadata": {},
   "outputs": [],
   "source": [
    "my_input_string = input(\"Enter a string here: \")\n",
    "print(my_input_string)\n",
    "\n",
    "# input in Python 2.x would evaluate the input string - try string 'print(\"bob\")'\n",
    "my_input_string = input(\"Enter a command here: \")\n",
    "if len(my_input_string):\n",
    "    eval(my_input_string)       # this will do what input used to do"
   ]
  },
  {
   "cell_type": "markdown",
   "metadata": {},
   "source": [
    "Open and writing a file called 'text.txt'"
   ]
  },
  {
   "cell_type": "code",
   "execution_count": 2,
   "metadata": {},
   "outputs": [
    {
     "name": "stdout",
     "output_type": "stream",
     "text": [
      "filename = test.txt\n",
      "open mode = w\n",
      "file closed: True\n"
     ]
    }
   ],
   "source": [
    "file_object = open(\"test.txt\", \"w\")\n",
    "print(\"filename =\", file_object.name)\n",
    "print(\"open mode =\", file_object.mode)\n",
    "file_object.write(\"Hello!\\n\")\n",
    "file_object.close()\n",
    "print(\"file closed:\", file_object.closed)"
   ]
  },
  {
   "cell_type": "markdown",
   "metadata": {},
   "source": [
    "All attributes of a file object"
   ]
  },
  {
   "cell_type": "code",
   "execution_count": 3,
   "metadata": {},
   "outputs": [
    {
     "name": "stdout",
     "output_type": "stream",
     "text": [
      "['_CHUNK_SIZE', '__class__', '__del__', '__delattr__', '__dict__', '__dir__', '__doc__', '__enter__', '__eq__', '__exit__', '__format__', '__ge__', '__getattribute__', '__gt__', '__hash__', '__init__', '__init_subclass__', '__iter__', '__le__', '__lt__', '__ne__', '__new__', '__next__', '__reduce__', '__reduce_ex__', '__repr__', '__setattr__', '__sizeof__', '__str__', '__subclasshook__', '_checkClosed', '_checkReadable', '_checkSeekable', '_checkWritable', '_finalizing', 'buffer', 'close', 'closed', 'detach', 'encoding', 'errors', 'fileno', 'flush', 'isatty', 'line_buffering', 'mode', 'name', 'newlines', 'read', 'readable', 'readline', 'readlines', 'reconfigure', 'seek', 'seekable', 'tell', 'truncate', 'writable', 'write', 'write_through', 'writelines']\n"
     ]
    }
   ],
   "source": [
    "print(dir(file_object))"
   ]
  },
  {
   "cell_type": "markdown",
   "metadata": {},
   "source": [
    "Appending to a file"
   ]
  },
  {
   "cell_type": "code",
   "execution_count": 4,
   "metadata": {},
   "outputs": [],
   "source": [
    "with open(\"test.txt\", \"a\") as file_object:           # with is a better to open a file, example of a context..\n",
    "    file_object.write(\"\\n\")                          # ..manager for managing resource - no need to call close()\n",
    "    file_object.write(\"I'm the third line!\\n\")"
   ]
  },
  {
   "cell_type": "markdown",
   "metadata": {},
   "source": [
    "Read entire contents using read()..."
   ]
  },
  {
   "cell_type": "code",
   "execution_count": 5,
   "metadata": {},
   "outputs": [
    {
     "name": "stdout",
     "output_type": "stream",
     "text": [
      "contents is of type <class 'str'>\n",
      "Hello!\n",
      "\n",
      "I'm the third line!\n",
      "\n"
     ]
    }
   ],
   "source": [
    "with open(\"test.txt\", \"r\") as f:\n",
    "    contents = f.read()\n",
    "print(\"contents is of type\", type(contents))\n",
    "print(contents)                     # will be a string with embedded line feeds"
   ]
  },
  {
   "cell_type": "markdown",
   "metadata": {},
   "source": [
    "Read line by line using readline()..."
   ]
  },
  {
   "cell_type": "code",
   "execution_count": 6,
   "metadata": {},
   "outputs": [
    {
     "name": "stdout",
     "output_type": "stream",
     "text": [
      "Hello!\n",
      "\n",
      "I'm the third line!\n"
     ]
    }
   ],
   "source": [
    "with open(\"test.txt\", \"r\") as f:\n",
    "    while True:\n",
    "        line = f.readline()\n",
    "        if not line:\n",
    "            break\n",
    "        print(line.strip())          # strip the line feed character"
   ]
  },
  {
   "cell_type": "markdown",
   "metadata": {},
   "source": [
    "Read first 5 characters at a time from every line using readline()..."
   ]
  },
  {
   "cell_type": "code",
   "execution_count": 7,
   "metadata": {},
   "outputs": [
    {
     "name": "stdout",
     "output_type": "stream",
     "text": [
      "Hello\n",
      "!\n",
      "\n",
      "\n",
      "\n",
      "I'm t\n",
      "he th\n",
      "ird l\n",
      "ine!\n",
      "\n"
     ]
    }
   ],
   "source": [
    "with open(\"test.txt\", \"r\") as f:\n",
    "    while True:\n",
    "        line = f.readline(5)\n",
    "        if not line:\n",
    "            break\n",
    "        print(line)"
   ]
  },
  {
   "cell_type": "markdown",
   "metadata": {},
   "source": [
    "Read all lines using readlines()..."
   ]
  },
  {
   "cell_type": "code",
   "execution_count": 8,
   "metadata": {},
   "outputs": [
    {
     "name": "stdout",
     "output_type": "stream",
     "text": [
      "all_lines is of type <class 'list'>\n",
      "['Hello!\\n', '\\n', \"I'm the third line!\\n\"]\n"
     ]
    }
   ],
   "source": [
    "with open(\"test.txt\", \"r\") as f:\n",
    "    all_lines = f.readlines()\n",
    "print(\"all_lines is of type\", type(all_lines))\n",
    "print(all_lines)                    # list of strings with line feeds"
   ]
  },
  {
   "cell_type": "markdown",
   "metadata": {},
   "source": [
    "Deleting the file..."
   ]
  },
  {
   "cell_type": "code",
   "execution_count": 9,
   "metadata": {},
   "outputs": [],
   "source": [
    "import os\n",
    "os.remove(\"test.txt\")"
   ]
  },
  {
   "cell_type": "markdown",
   "metadata": {},
   "source": [
    "Writing binary files..."
   ]
  },
  {
   "cell_type": "code",
   "execution_count": 10,
   "metadata": {},
   "outputs": [],
   "source": [
    "with open(\"test.dat\", \"wb\") as file_object:                     # open as binary file for writing\n",
    "    file_object.write(bytes([0x01, 0x01, 0x02, 0x03, 0x04]))    # write 5 bytes"
   ]
  },
  {
   "cell_type": "markdown",
   "metadata": {},
   "source": [
    "Reading binary files..."
   ]
  },
  {
   "cell_type": "code",
   "execution_count": 11,
   "metadata": {},
   "outputs": [
    {
     "name": "stdout",
     "output_type": "stream",
     "text": [
      "number of bytes = 5\n",
      "contents of type <class 'bytes'>\n",
      "length of contents = 5\n",
      "b'\\x01\\x01\\x02\\x03\\x04'\n"
     ]
    }
   ],
   "source": [
    "with open(\"test.dat\", \"rb\") as f:\n",
    "    # seek to 0 offset from end of file\n",
    "    f.seek(0, 2)\n",
    "    # use tell to see how many bytes\n",
    "    number_bytes = f.tell()\n",
    "    print(\"number of bytes =\", number_bytes)\n",
    "    # go back to start of file\n",
    "    f.seek(0, 0)\n",
    "    contents = f.read(number_bytes)                             # read contents\n",
    "    # binary files so read bytes, not list or string\n",
    "    print(\"contents of type\", type(contents))\n",
    "    print(\"length of contents =\", len(contents))\n",
    "    print(contents)"
   ]
  },
  {
   "cell_type": "markdown",
   "metadata": {},
   "source": [
    "Can use os module to find file size..."
   ]
  },
  {
   "cell_type": "code",
   "execution_count": 12,
   "metadata": {},
   "outputs": [
    {
     "name": "stdout",
     "output_type": "stream",
     "text": [
      "number of bytes =  5\n"
     ]
    }
   ],
   "source": [
    "number_bytes = os.path.getsize(\"test.dat\")\n",
    "print(\"number of bytes = \", number_bytes)\n",
    "os.remove(\"test.dat\")"
   ]
  },
  {
   "cell_type": "markdown",
   "metadata": {},
   "source": [
    "You can check if file exists before opening..."
   ]
  },
  {
   "cell_type": "code",
   "execution_count": 13,
   "metadata": {},
   "outputs": [
    {
     "name": "stdout",
     "output_type": "stream",
     "text": [
      "does test.txt exist? False\n"
     ]
    }
   ],
   "source": [
    "print(\"does test.txt exist?\", os.path.exists(\"test.txt\"))"
   ]
  },
  {
   "cell_type": "markdown",
   "metadata": {},
   "source": [
    "But better to attempt to open with 'try'"
   ]
  },
  {
   "cell_type": "code",
   "execution_count": 14,
   "metadata": {},
   "outputs": [
    {
     "name": "stdout",
     "output_type": "stream",
     "text": [
      "unable to find file for reading!\n"
     ]
    }
   ],
   "source": [
    "try:\n",
    "    f = open(\"test.txt\", \"r\")\n",
    "except FileNotFoundError:                                       # subclasses IOError\n",
    "    print(\"unable to find file for reading!\")"
   ]
  },
  {
   "cell_type": "markdown",
   "metadata": {},
   "source": [
    "Difference between `%r` and `%s`. The former uses the `__repr__` representation attribute which is how a programmer might want to see it, and the latter, using `__str__`, how the user might want to see it."
   ]
  },
  {
   "cell_type": "code",
   "execution_count": 15,
   "metadata": {},
   "outputs": [
    {
     "name": "stdout",
     "output_type": "stream",
     "text": [
      "using __str__ : 2022-11-05 18:30:02.402619\n",
      "using __repr__ : datetime.datetime(2022, 11, 5, 18, 30, 2, 402619)\n"
     ]
    }
   ],
   "source": [
    "import datetime\n",
    "\n",
    "time = datetime.datetime.now()\n",
    "print(\"using __str__ : %s\" % time)\n",
    "print(\"using __repr__ : %r\" % time)"
   ]
  }
 ],
 "metadata": {
  "kernelspec": {
   "display_name": "Python 3.10.7 64-bit",
   "language": "python",
   "name": "python3"
  },
  "language_info": {
   "codemirror_mode": {
    "name": "ipython",
    "version": 3
   },
   "file_extension": ".py",
   "mimetype": "text/x-python",
   "name": "python",
   "nbconvert_exporter": "python",
   "pygments_lexer": "ipython3",
   "version": "3.10.7"
  },
  "orig_nbformat": 4,
  "vscode": {
   "interpreter": {
    "hash": "c19fa61d258bb2b35aae2ada233c33e2817c1ce895aa48acba720c6bf7cbe3cb"
   }
  }
 },
 "nbformat": 4,
 "nbformat_minor": 2
}
