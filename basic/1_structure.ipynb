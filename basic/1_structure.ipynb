{
 "cells": [
  {
   "cell_type": "markdown",
   "metadata": {},
   "source": [
    "# Demonstration of some basic structural features\n",
    "\n",
    "Basic structure allows use of variables, functions and statements."
   ]
  },
  {
   "cell_type": "code",
   "execution_count": 17,
   "metadata": {},
   "outputs": [
    {
     "name": "stdout",
     "output_type": "stream",
     "text": [
      "Current time is  2022-11-05 15:12:09.326583\n",
      "5! =  120\n",
      "[1 2 3]\n"
     ]
    }
   ],
   "source": [
    "import datetime\n",
    "from math import factorial\n",
    "import numpy as np\n",
    "\n",
    "print(\"Current time is \", datetime.datetime.now())\n",
    "# we can use factorial rather than math.factorial()\n",
    "print(\"5! = \", factorial(5))\n",
    "array = np.array([1, 2, 3])     # use simpler/shorter module name\n",
    "print(array)"
   ]
  },
  {
   "cell_type": "markdown",
   "metadata": {},
   "source": [
    "Python supports conditional execution"
   ]
  },
  {
   "cell_type": "code",
   "execution_count": 18,
   "metadata": {},
   "outputs": [
    {
     "name": "stdout",
     "output_type": "stream",
     "text": [
      "Array is not empty!\n"
     ]
    }
   ],
   "source": [
    "if np.size(array) > 0:\n",
    "    print(\"Array is not empty!\")\n"
   ]
  },
  {
   "cell_type": "markdown",
   "metadata": {},
   "source": [
    "Python is case sensitive so my_var and MY_VAR are different variables..."
   ]
  },
  {
   "cell_type": "code",
   "execution_count": 19,
   "metadata": {},
   "outputs": [
    {
     "name": "stdout",
     "output_type": "stream",
     "text": [
      "my_var at 2415000486192 with value 3\n",
      "MY_VAR at 2415000486224 with value 4\n"
     ]
    }
   ],
   "source": [
    "my_var = 3\n",
    "MY_VAR = 4\n",
    "print(\"my_var at\", id(my_var), \"with value\", my_var)\n",
    "print(\"MY_VAR at\", id(MY_VAR), \"with value\", MY_VAR)\n"
   ]
  },
  {
   "cell_type": "markdown",
   "metadata": {},
   "source": [
    "Functions can be easily defined with parameters. Identation is key in Python."
   ]
  },
  {
   "cell_type": "code",
   "execution_count": 20,
   "metadata": {},
   "outputs": [],
   "source": [
    "def my_function(bob, susan):\n",
    "    try:\n",
    "        if bob is None:\n",
    "            if susan is None:\n",
    "                print(\"anybody there?\")\n",
    "                return True    # the return is also conditional on bob and susan both None\n",
    "            return False    # bob is None but susan isn't\n",
    "        return False    # bob is not None, who cares about susan\n",
    "    except ValueError:\n",
    "        print(\"whoops\")\n",
    "        pass                # does nothing\n",
    "    return False"
   ]
  },
  {
   "cell_type": "markdown",
   "metadata": {},
   "source": [
    "Use line continuation after the operator"
   ]
  },
  {
   "cell_type": "code",
   "execution_count": 21,
   "metadata": {},
   "outputs": [
    {
     "name": "stdout",
     "output_type": "stream",
     "text": [
      "21\n"
     ]
    }
   ],
   "source": [
    "if None is not None and\\\n",
    "   None is None:\n",
    "    print(\"how odd\")\n",
    "my_variable = 1 + 4 +\\\n",
    "    6 + 10\n",
    "print(my_variable)"
   ]
  },
  {
   "cell_type": "markdown",
   "metadata": {},
   "source": [
    "Line continuation not always required, such as in lists or dictionaries"
   ]
  },
  {
   "cell_type": "code",
   "execution_count": 22,
   "metadata": {},
   "outputs": [],
   "source": [
    "my_colors = ['red',\n",
    "             'green']\n",
    "\n",
    "my_dictionary = {\n",
    "    'a': 10,\n",
    "    'b': 23\n",
    "}"
   ]
  },
  {
   "cell_type": "markdown",
   "metadata": {},
   "source": [
    "Multiple assignment of variables"
   ]
  },
  {
   "cell_type": "code",
   "execution_count": 23,
   "metadata": {},
   "outputs": [
    {
     "name": "stdout",
     "output_type": "stream",
     "text": [
      "1 2 3\n",
      "4\n"
     ]
    }
   ],
   "source": [
    "a, b, c = 1, 2, 3\n",
    "print(a, b, c)\n",
    "d = e = f = 4\n",
    "print(d)"
   ]
  },
  {
   "cell_type": "markdown",
   "metadata": {},
   "source": [
    "Use help() to get help on functions and modules etc"
   ]
  },
  {
   "cell_type": "code",
   "execution_count": 24,
   "metadata": {},
   "outputs": [
    {
     "name": "stdout",
     "output_type": "stream",
     "text": [
      "Help on built-in function dir in module builtins:\n",
      "\n",
      "dir(...)\n",
      "    dir([object]) -> list of strings\n",
      "    \n",
      "    If called without an argument, return the names in the current scope.\n",
      "    Else, return an alphabetized list of names comprising (some of) the attributes\n",
      "    of the given object, and of attributes reachable from it.\n",
      "    If the object supplies a method named __dir__, it will be used; otherwise\n",
      "    the default dir() logic is used and returns:\n",
      "      for a module object: the module's attributes.\n",
      "      for a class object:  its attributes, and recursively the attributes\n",
      "        of its bases.\n",
      "      for any other object: its attributes, its class's attributes, and\n",
      "        recursively the attributes of its class's base classes.\n",
      "\n"
     ]
    }
   ],
   "source": [
    "help(dir)"
   ]
  },
  {
   "cell_type": "markdown",
   "metadata": {},
   "source": [
    "\n",
    "Note that __name__ is typically pronounced 'dunder name' for double underscore. __main__ is the typical entry point for python program from interpreter, not another module. You would expect to call some function here and pass the return value to sys.exit(). Note a None value is equivalent to passing 0 (ok)."
   ]
  },
  {
   "cell_type": "code",
   "execution_count": 25,
   "metadata": {},
   "outputs": [
    {
     "name": "stdout",
     "output_type": "stream",
     "text": [
      "in main!\n"
     ]
    },
    {
     "ename": "SystemExit",
     "evalue": "0",
     "output_type": "error",
     "traceback": [
      "An exception has occurred, use %tb to see the full traceback.\n",
      "\u001b[1;31mSystemExit\u001b[0m\u001b[1;31m:\u001b[0m 0\n"
     ]
    }
   ],
   "source": [
    "import sys\n",
    "\n",
    "if __name__ == '__main__':\n",
    "    print(\"in main!\")\n",
    "    sys.exit(0)"
   ]
  }
 ],
 "metadata": {
  "kernelspec": {
   "display_name": "Python 3.10.7 64-bit",
   "language": "python",
   "name": "python3"
  },
  "language_info": {
   "codemirror_mode": {
    "name": "ipython",
    "version": 3
   },
   "file_extension": ".py",
   "mimetype": "text/x-python",
   "name": "python",
   "nbconvert_exporter": "python",
   "pygments_lexer": "ipython3",
   "version": "3.10.7"
  },
  "orig_nbformat": 4,
  "vscode": {
   "interpreter": {
    "hash": "c19fa61d258bb2b35aae2ada233c33e2817c1ce895aa48acba720c6bf7cbe3cb"
   }
  }
 },
 "nbformat": 4,
 "nbformat_minor": 2
}
