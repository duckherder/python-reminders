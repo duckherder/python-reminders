{
 "cells": [
  {
   "cell_type": "markdown",
   "metadata": {},
   "source": [
    "# Descriptors\n",
    "\n",
    "Classes that implement the descriptor protocol and allow specialised behaviour when accessing atttribues, such validation or logging. See https://docs.python.org/3/howto/descriptor.html.\n",
    "\n",
    "The descriptor interface includes the following methods:\n",
    "* `__get__()`\n",
    "* `__set__()`\n",
    "* `__delete__()`\n",
    "* `__set_name__()`\n",
    "\n",
    "These are called when accessing an attribute of an object with the `.` (dot) operator.\n",
    "\n",
    "If class only implements `__get__` then it is a _non-data descriptor_, else it is called a _data-descriptor_. So let's start with a non-data descriptor which only implement the `__get__` method."
   ]
  },
  {
   "cell_type": "code",
   "execution_count": 24,
   "metadata": {},
   "outputs": [
    {
     "name": "stdout",
     "output_type": "stream",
     "text": [
      "MyLoggingAgeNonDataDescriptor: someone is accessing this constant via __get__\n",
      "16\n"
     ]
    }
   ],
   "source": [
    "class MyLoggingAgeNonDataDescriptor:\n",
    "    def __get__(self, obj, type=None):\n",
    "        \"\"\"by defining get makes this a descriptor type\"\"\"\n",
    "        print(\"MyLoggingAgeNonDataDescriptor: someone is accessing this constant via __get__\")\n",
    "        return 16\n",
    "\n",
    "class MyClass:\n",
    "    \"\"\"descriptors live in class and not instance\"\"\"\n",
    "    min_age = MyLoggingAgeNonDataDescriptor()\n",
    "\n",
    "my_instance = MyClass()\n",
    "print(my_instance.min_age)  # overrides normal attribute look up and we can log the fact\n"
   ]
  },
  {
   "cell_type": "markdown",
   "metadata": {},
   "source": [
    "`obj` in the `__get__` function refers to the object to which this descriptor object is bound. We can use that to perform more dynamic behaviour when a user access the attribute."
   ]
  },
  {
   "cell_type": "code",
   "execution_count": 27,
   "metadata": {},
   "outputs": [
    {
     "name": "stdout",
     "output_type": "stream",
     "text": [
      "MyLoggingAgeNonDataDescriptor: __get__\n",
      "16\n",
      "MyLoggingAgeNonDataDescriptor: __get__\n",
      "18\n"
     ]
    }
   ],
   "source": [
    "class MyLoggingAgeNonDataDescriptor:\n",
    "    def __get__(self, obj, type=None):\n",
    "        print(\"MyLoggingAgeNonDataDescriptor: __get__\")\n",
    "        return 16 if obj.is_uk else 18     # obj is a MyClass instance so we can return different constants\n",
    "\n",
    "class MyClass():\n",
    "    min_age = MyLoggingAgeNonDataDescriptor()\n",
    "    def __init__(self, is_uk):\n",
    "        self.is_uk = is_uk\n",
    "\n",
    "my_instance = MyClass(True)\n",
    "print(my_instance.min_age)\n",
    "my_instance = MyClass(False)\n",
    "print(my_instance.min_age)"
   ]
  },
  {
   "cell_type": "markdown",
   "metadata": {},
   "source": [
    "Whenever we access the `min_age` attribute of any instance of the class then `__get__` will be called"
   ]
  },
  {
   "cell_type": "code",
   "execution_count": 30,
   "metadata": {},
   "outputs": [
    {
     "name": "stdout",
     "output_type": "stream",
     "text": [
      "MyLoggingAgeNonDataDescriptor: __get__\n",
      "type(my_instance.min_age) = class 'int'\n"
     ]
    }
   ],
   "source": [
    "print(\"type(my_instance.min_age) =\", str(type(my_instance.min_age))[1:-1])"
   ]
  },
  {
   "cell_type": "markdown",
   "metadata": {},
   "source": [
    "A data descriptor allows you both to customize both the setting and getting an atttibute. Here the public attribute `my_age` is a data descriptor. The value is actually stored in an object instance, `_my_age`."
   ]
  },
  {
   "cell_type": "code",
   "execution_count": 39,
   "metadata": {},
   "outputs": [
    {
     "name": "stdout",
     "output_type": "stream",
     "text": [
      "Create instances\n",
      "MyAgeDataDescriptor: __set__ setting new age\n",
      "MyAgeDataDescriptor: __set__ setting new age\n",
      "Changing age of instances\n",
      "MyAgeDataDescriptor: __set__ setting new age\n",
      "MyAgeDataDescriptor: __set__ setting new age\n",
      "Print descriptor\n",
      "MyAgeDataDescriptor: __get__ getting age\n",
      "15\n",
      "MyAgeDataDescriptor: __get__ getting age\n",
      "90\n"
     ]
    }
   ],
   "source": [
    "class MyLoggingAgeDataDescriptor:\n",
    "    def __get__(self, obj, type=None):\n",
    "        print(\"MyAgeDataDescriptor: __get__ getting age\")\n",
    "        return obj._my_age\n",
    "\n",
    "    def __set__(self, obj, value):\n",
    "        print(\"MyAgeDataDescriptor: __set__ setting new age\")\n",
    "        obj._my_age = value\n",
    "\n",
    "class MyClass:\n",
    "    my_age = MyLoggingAgeDataDescriptor()\n",
    "    def __init__(self, age):\n",
    "        self.my_age = age     # will call __set__ on my_age descriptor\n",
    "\n",
    "print(\"Create instances\")\n",
    "my_instance_young = MyClass(14)\n",
    "my_instance_old = MyClass(89)\n",
    "print(\"Changing age of instances\")\n",
    "my_instance_young.my_age = 15\n",
    "my_instance_old.my_age = 90\n",
    "print(\"Print descriptor\")\n",
    "print(my_instance_young.my_age)\n",
    "print(my_instance_old.my_age)"
   ]
  },
  {
   "cell_type": "markdown",
   "metadata": {},
   "source": [
    "See https://docs.python.org/3/howto/descriptor.html for how to use `__setname__` to write a single descriptor that can support multiple attributes i.e. you don't have to write a class for every attribute you want to log.\n",
    "\n",
    "Using a read-only descriptor you can implement read-only."
   ]
  },
  {
   "cell_type": "code",
   "execution_count": 40,
   "metadata": {},
   "outputs": [
    {
     "name": "stdout",
     "output_type": "stream",
     "text": [
      "MyReadOnlyDescriptor: __get__\n",
      "Hello!\n",
      "MyReadOnlyDescriptor: __set__\n",
      "Exception: This value is read only!\n"
     ]
    }
   ],
   "source": [
    "class MyReadOnlyDescriptor:\n",
    "    def __get__(self, obj, type=None):\n",
    "        print(\"MyReadOnlyDescriptor: __get__\")\n",
    "        return \"Hello!\"\n",
    "\n",
    "    def __set__(self, obj, value):\n",
    "        print(\"MyReadOnlyDescriptor: __set__\")\n",
    "        raise AttributeError(\"This value is read only!\")\n",
    "\n",
    "class MyClass:\n",
    "    my_readonly_descriptor = MyReadOnlyDescriptor()\n",
    "    def __init__(self):\n",
    "        pass\n",
    "\n",
    "my_instance = MyClass()\n",
    "print(my_instance.my_readonly_descriptor)\n",
    "try:\n",
    "    my_instance.my_readonly_descriptor = \"Try and change this value\"    # recommended way to implement\n",
    "except AttributeError as e:                                             # read-only attribute\n",
    "    print(\"Exception:\", e)"
   ]
  },
  {
   "cell_type": "markdown",
   "metadata": {},
   "source": [
    "### What is `self`?"
   ]
  },
  {
   "cell_type": "code",
   "execution_count": 41,
   "metadata": {},
   "outputs": [
    {
     "name": "stdout",
     "output_type": "stream",
     "text": [
      "__init__: initialisation\n",
      "__init__: type(self) = class '__main__.MySelf'\n",
      "__init__: id(self) = 2524343137232\n",
      "<__main__.MySelf object at 0x0000024BBE9373D0>\n"
     ]
    }
   ],
   "source": [
    "class MySelf:\n",
    "    def __init__(self):\n",
    "        print(\"__init__: initialisation\")\n",
    "        print(\"__init__: type(self) =\", str(type(self))[1:-1])\n",
    "        print(\"__init__: id(self) =\", id(self))\n",
    "        print(self)                                     # what is self?, self is a MySelf object\n",
    "        self.some_attribute = 'some instance attribute'\n",
    "\n",
    "my_instance = MySelf()"
   ]
  },
  {
   "cell_type": "markdown",
   "metadata": {},
   "source": [
    "You don't need to call it `self` - it's just the accepted name to use for first parameter in a bound method."
   ]
  },
  {
   "cell_type": "code",
   "execution_count": 44,
   "metadata": {},
   "outputs": [
    {
     "name": "stdout",
     "output_type": "stream",
     "text": [
      "do_something: type(funky_chicken) = class '__main__.MySelf'\n",
      "do_something: id(funky_chicken) = 2524344365456\n",
      "do_something: funky_chicken.some_attribute = Some attribute\n"
     ]
    }
   ],
   "source": [
    "class MySelf:\n",
    "    def __init__(self):\n",
    "        self.some_attribute = \"Some attribute\"\n",
    "\n",
    "    def do_something(funky_chicken):\n",
    "        print(\"do_something: type(funky_chicken) =\", str(type(funky_chicken))[1:-1])\n",
    "        print(\"do_something: id(funky_chicken) =\", id(funky_chicken))\n",
    "        print(\"do_something: funky_chicken.some_attribute =\", funky_chicken.some_attribute)\n",
    "\n",
    "my_instance = MySelf()\n",
    "my_instance.do_something()"
   ]
  },
  {
   "cell_type": "markdown",
   "metadata": {},
   "source": [
    "### What is the `__dict__` attribute and the look up chain?\n",
    "\n",
    "The look up chain is the order in which Python discovers an attribute. For example is I call `print(my_instance.my_class_variable)` then the interpreter will look to see if `my_class_variable` is a data descriptor that exposes the `__get__` part of the data descriptor interface. If that fails then it will try `my_instance.__dict__['my_class_variable']` and failing that, the lookup chain will look for a non-data descriptors with a `__get__` method, followed by type `(my_instance).__dict__['my_class_variable']` (or `MyClass.__dict__['my_class_variable']`) and failing all that will start progressing up parent classes."
   ]
  },
  {
   "cell_type": "code",
   "execution_count": 45,
   "metadata": {},
   "outputs": [
    {
     "name": "stdout",
     "output_type": "stream",
     "text": [
      "{'my_instance_variable': 2}\n",
      "{'__module__': '__main__', 'my_class_variable': 1, '__init__': <function MyClass.__init__ at 0x0000024BBEB19000>, '__dict__': <attribute '__dict__' of 'MyClass' objects>, '__weakref__': <attribute '__weakref__' of 'MyClass' objects>, '__doc__': None}\n",
      "{'__module__': '__main__', 'my_class_variable': 1, '__init__': <function MyClass.__init__ at 0x0000024BBEB19000>, '__dict__': <attribute '__dict__' of 'MyClass' objects>, '__weakref__': <attribute '__weakref__' of 'MyClass' objects>, '__doc__': None}\n"
     ]
    }
   ],
   "source": [
    "class MyClass:\n",
    "    my_class_variable = 1                   # not a descriptor, will appear in MyClass.__dict__\n",
    "\n",
    "    def __init__(self):\n",
    "        self.my_instance_variable = 2       # will appear in my_instance.__dict__\n",
    "\n",
    "my_instance = MyClass()\n",
    "print(my_instance.__dict__)\n",
    "print(MyClass.__dict__)\n",
    "print(type(my_instance).__dict__)"
   ]
  },
  {
   "cell_type": "markdown",
   "metadata": {},
   "source": [
    "### Monkey Patching\n",
    "\n",
    "Dynamically adding/removing attributes at run-time to an object instance is known as a monkey patch."
   ]
  },
  {
   "cell_type": "code",
   "execution_count": 47,
   "metadata": {},
   "outputs": [
    {
     "name": "stdout",
     "output_type": "stream",
     "text": [
      "self.my_instance_variable + 5 = 7\n"
     ]
    }
   ],
   "source": [
    "import types\n",
    "\n",
    "def my_dynamic_method(self, x):\n",
    "    print(f\"self.my_instance_variable + {x} =\", self.my_instance_variable + x)\n",
    "\n",
    "# monkey patch = modification/addition of attributes at run-time\n",
    "my_instance.my_method = types.MethodType(my_dynamic_method, my_instance)\n",
    "my_instance.my_method(5)            # method only available to this instance\n",
    "del my_instance.my_method"
   ]
  },
  {
   "cell_type": "markdown",
   "metadata": {},
   "source": [
    "### Descriptors and instances\n",
    "\n",
    "Use descriptor object to call instance method..."
   ]
  },
  {
   "cell_type": "code",
   "execution_count": 52,
   "metadata": {},
   "outputs": [
    {
     "name": "stdout",
     "output_type": "stream",
     "text": [
      "MyFunctionDescriptor: __get__\n",
      "do_something: ok\n",
      "self.my_instance_variable + 19 = 21\n"
     ]
    }
   ],
   "source": [
    "class MyFunctionDescriptor:\n",
    "    def __get__(self, obj, type=None):\n",
    "        print(\"MyFunctionDescriptor: __get__\")\n",
    "        return obj.do_something\n",
    "\n",
    "    def __set__(self, obj, value):\n",
    "        raise AttributeError(\"This value is read only!\")\n",
    "\n",
    "\n",
    "class MyDynamicFunctionDescriptor:\n",
    "    def __get__(self, obj, type=None):\n",
    "        return types.MethodType(my_dynamic_method, obj)     # similar to how instance methods are called\n",
    "\n",
    "    def __set__(self, obj, value):\n",
    "        raise AttributeError(\"This value is read only!\")\n",
    "\n",
    "class MySelf:\n",
    "    my_do_something = MyFunctionDescriptor()\n",
    "    my_dynamic_something = MyDynamicFunctionDescriptor()\n",
    "\n",
    "    def __init__(self):\n",
    "        self.my_instance_variable = 2\n",
    "\n",
    "    def do_something(self):\n",
    "        print(\"do_something: ok\")\n",
    "\n",
    "my_instance = MySelf()\n",
    "my_instance.my_do_something()\n",
    "my_instance.my_dynamic_something(19)"
   ]
  },
  {
   "cell_type": "markdown",
   "metadata": {},
   "source": [
    "To get descriptors to work with instances, not just classes..."
   ]
  },
  {
   "cell_type": "code",
   "execution_count": 2,
   "metadata": {},
   "outputs": [
    {
     "name": "stdout",
     "output_type": "stream",
     "text": [
      "MyClass: create instance descriptor\n",
      "MyInstanceDescriptor: __set_name__, owner = __main__.MyClass object at 0x00000161FA4C7850  name = age\n",
      "my_instance1.__dict__ = {}\n",
      "my_instance2.__dict__ = {}\n",
      "MyInstanceDescriptor: __set__\n",
      "MyInstanceDescriptor: __set__\n",
      "my_instance1.__dict__ = {'age': 9}\n",
      "my_instance2.__dict__ = {'age': 14}\n",
      "MyInstanceDescriptor: __get__\n",
      "9\n",
      "MyInstanceDescriptor: __get__\n",
      "14\n"
     ]
    }
   ],
   "source": [
    "class MyInstanceDescriptor:\n",
    "    def __set_name__(self, owner, name):                # available since Python 3.6\n",
    "        print(\"MyInstanceDescriptor: __set_name__, owner =\", str(owner())[1:-1], \" name =\", name)\n",
    "        self.name = name\n",
    "\n",
    "    def __get__(self, obj, type=None):\n",
    "        print(\"MyInstanceDescriptor: __get__\")\n",
    "        return obj.__dict__.get(self.name) or None      # should be able to use getattr here\n",
    "\n",
    "    def __set__(self, obj, value):\n",
    "        print(\"MyInstanceDescriptor: __set__\")\n",
    "        obj.__dict__[self.name] = value                 # store value in object instance dictionary\n",
    "\n",
    "class MyClass:\n",
    "    print(\"MyClass: create instance descriptor\")\n",
    "    age = MyInstanceDescriptor()\n",
    "\n",
    "    def __init__(self):\n",
    "        pass\n",
    "\n",
    "my_instance1 = MyClass()\n",
    "my_instance2 = MyClass()\n",
    "\n",
    "print(\"my_instance1.__dict__ =\", my_instance1.__dict__)\n",
    "print(\"my_instance2.__dict__ =\", my_instance2.__dict__)\n",
    "# MyClass.my_instance_descriptor = 3                     # this overwrites the descriptor with the 3 object..\n",
    "my_instance1.age = 9                                     # ...rather than call __set__ with obj = class object\n",
    "my_instance2.age = 14\n",
    "print(\"my_instance1.__dict__ =\", my_instance1.__dict__)\n",
    "print(\"my_instance2.__dict__ =\", my_instance2.__dict__)\n",
    "print(my_instance1.age)\n",
    "print(my_instance2.age)"
   ]
  }
 ],
 "metadata": {
  "kernelspec": {
   "display_name": "Python 3.10.7 64-bit",
   "language": "python",
   "name": "python3"
  },
  "language_info": {
   "codemirror_mode": {
    "name": "ipython",
    "version": 3
   },
   "file_extension": ".py",
   "mimetype": "text/x-python",
   "name": "python",
   "nbconvert_exporter": "python",
   "pygments_lexer": "ipython3",
   "version": "3.10.7"
  },
  "orig_nbformat": 4,
  "vscode": {
   "interpreter": {
    "hash": "c19fa61d258bb2b35aae2ada233c33e2817c1ce895aa48acba720c6bf7cbe3cb"
   }
  }
 },
 "nbformat": 4,
 "nbformat_minor": 2
}
