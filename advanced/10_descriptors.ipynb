{
 "cells": [
  {
   "cell_type": "markdown",
   "metadata": {},
   "source": [
    "# Descriptors\n",
    "\n",
    "Classes that implement the descriptor protocol and allow specialised behaviour when accessed.\n",
    "\n",
    "The descriptor interface includes the following methods:\n",
    "* `__get__()`\n",
    "* `__set__()`\n",
    "* `__delete__()`\n",
    "* `__set_name__()`\n",
    "\n",
    "If class only implements `__get__` then it is a non-data descriptor, else it is called a data-descriptor.\n",
    "\n",
    "Using the non-data descriptor..."
   ]
  },
  {
   "cell_type": "code",
   "execution_count": 1,
   "metadata": {},
   "outputs": [
    {
     "name": "stdout",
     "output_type": "stream",
     "text": [
      "descriptor objects live in the class and not the instance\n",
      "MyNonDataDescriptor initialisation\n",
      "MyDataDescriptor initialisation\n",
      "MyReadOnlyDescriptor initialisation\n",
      "__get__ called in MyNonDataDescriptor\n",
      "__get__ obj= <__main__.MyClass object at 0x000001401D6D3BE0> type= <class '__main__.MyClass'>\n",
      "type(my_instance.my_descriptor) = <class 'int'>\n",
      "__get__ called in MyNonDataDescriptor\n",
      "__get__ obj= <__main__.MyClass object at 0x000001401D6D3BE0> type= <class '__main__.MyClass'>\n",
      "my_instance.my_descriptor at 1374798807856\n",
      "__get__ called in MyNonDataDescriptor\n",
      "__get__ obj= <__main__.MyClass object at 0x000001401D6D3BE0> type= <class '__main__.MyClass'>\n",
      "my_instance.my_descriptor = 19\n",
      "type(my_instance.my_descriptor) = <class 'str'>\n",
      "my_instance.my_descriptor at 1374882247344\n",
      "my_instance.my_descriptor = my new value\n"
     ]
    }
   ],
   "source": [
    "import types\n",
    "import inspect\n",
    "\n",
    "class MyNonDataDescriptor:\n",
    "    def __init__(self):\n",
    "        print(\"MyNonDataDescriptor initialisation\")\n",
    "\n",
    "    def __get__(self, obj, type=None):                          # self is MyNonDataDescriptor instance\n",
    "        print(\"__get__ called in MyNonDataDescriptor\")          # and obj is the object we're attached to\n",
    "        print(\"__get__ obj=\", obj, \"type=\", type)               # ...you'll get a MyClass obj in this case\n",
    "        return 19\n",
    "\n",
    "class MyDataDescriptor:\n",
    "    def __init__(self):\n",
    "        print(\"MyDataDescriptor initialisation\")\n",
    "        self.some_value = 'some_value'\n",
    "\n",
    "    def __get__(self, obj, type=None):\n",
    "        \"\"\"implements the __get__ method of the descriptor protocol\"\"\"\n",
    "        print(\"__get__ called in MyDataDescriptor\")\n",
    "        return self.some_value\n",
    "\n",
    "    def __set__(self, obj, value):\n",
    "        \"\"\"implements the __set__ method of the descriptor protocol\"\"\"\n",
    "        print(\"__set__ called in MyDataDescriptor\")\n",
    "        self.some_value = value\n",
    "\n",
    "class MyReadOnlyDescriptor:\n",
    "    def __init__(self):\n",
    "        print(\"MyReadOnlyDescriptor initialisation\")\n",
    "\n",
    "    def __get__(self, obj, type=None):\n",
    "        print(\"__get__ called in MyReadOnlyDescriptor\")\n",
    "        return 19\n",
    "\n",
    "    def __set__(self, obj, value):\n",
    "        print(\"__set__ called in MyReadOnlyDescriptor\")\n",
    "        raise AttributeError(\"this value is read only!\")\n",
    "\n",
    "class MyClass:\n",
    "    # once instantiated as part of MyClass it can considered a descriptor\n",
    "    # as can be accessed using the dot (.) operator which these descriptors override and have precedence\n",
    "    print(\"descriptor objects live in the class and not the instance\")\n",
    "    my_descriptor = MyNonDataDescriptor()\n",
    "    my_data_descriptor = MyDataDescriptor()\n",
    "    my_ro_descriptor = MyReadOnlyDescriptor()\n",
    "\n",
    "    def __init__(self):\n",
    "        pass\n",
    "\n",
    "my_instance = MyClass()\n",
    "\n",
    "print(\"type(my_instance.my_descriptor) =\", type(my_instance.my_descriptor))\n",
    "print(\"my_instance.my_descriptor at\", id(my_instance.my_descriptor))\n",
    "print(\"my_instance.my_descriptor =\", my_instance.my_descriptor)\n",
    "my_instance.my_descriptor = 'my new value'                                      # no __set__ method so...\n",
    "print(\"type(my_instance.my_descriptor) =\", type(my_instance.my_descriptor))     # no longer a descriptor, just a string\n",
    "print(\"my_instance.my_descriptor at\", id(my_instance.my_descriptor))            # __get__ no longer called\n",
    "print(\"my_instance.my_descriptor =\", my_instance.my_descriptor)"
   ]
  },
  {
   "cell_type": "markdown",
   "metadata": {},
   "source": [
    "Using the data descriptor."
   ]
  },
  {
   "cell_type": "code",
   "execution_count": 2,
   "metadata": {},
   "outputs": [
    {
     "name": "stdout",
     "output_type": "stream",
     "text": [
      "__get__ called in MyDataDescriptor\n",
      "type(my_instance.my_data_descriptor) = <class 'str'>\n",
      "__get__ called in MyDataDescriptor\n",
      "my_instance.my_data_descriptor at 1374882288176\n",
      "__get__ called in MyDataDescriptor\n",
      "my_instance.my_data_descriptor = some_value\n",
      "__set__ called in MyDataDescriptor\n",
      "__get__ called in MyDataDescriptor\n",
      "type(my_instance.my_data_descriptor) = <class 'str'>\n",
      "__get__ called in MyDataDescriptor\n",
      "my_instance.my_data_descriptor at 1374894390880\n",
      "__get__ called in MyDataDescriptor\n",
      "my_instance.my_data_descriptor = ive changed this value\n"
     ]
    }
   ],
   "source": [
    "print(\"type(my_instance.my_data_descriptor) =\", type(my_instance.my_data_descriptor))\n",
    "print(\"my_instance.my_data_descriptor at\", id(my_instance.my_data_descriptor))\n",
    "print(\"my_instance.my_data_descriptor =\", my_instance.my_data_descriptor)\n",
    "my_instance.my_data_descriptor = 'ive changed this value'\n",
    "print(\"type(my_instance.my_data_descriptor) =\", type(my_instance.my_data_descriptor))   # remains MyDataDescriptor\n",
    "print(\"my_instance.my_data_descriptor at\", id(my_instance.my_data_descriptor))          # __get__ still called\n",
    "print(\"my_instance.my_data_descriptor =\", my_instance.my_data_descriptor)"
   ]
  },
  {
   "cell_type": "markdown",
   "metadata": {},
   "source": [
    "Using the read-only descriptor..."
   ]
  },
  {
   "cell_type": "code",
   "execution_count": 3,
   "metadata": {},
   "outputs": [
    {
     "name": "stdout",
     "output_type": "stream",
     "text": [
      "__get__ called in MyReadOnlyDescriptor\n",
      "type(my_instance.my_ro_descriptor) = <class 'int'>\n",
      "__get__ called in MyReadOnlyDescriptor\n",
      "my_instance.my_ro_descriptor at 1374798807856\n",
      "__get__ called in MyReadOnlyDescriptor\n",
      "my_instance.my_ro_descriptor = 19\n",
      "__set__ called in MyReadOnlyDescriptor\n",
      "exception handler: this value is read only!\n",
      "__get__ called in MyReadOnlyDescriptor\n",
      "type(my_instance.my_ro_descriptor) = <class 'int'>\n",
      "__get__ called in MyReadOnlyDescriptor\n",
      "my_instance.my_ro_descriptor at 1374798807856\n",
      "__get__ called in MyReadOnlyDescriptor\n",
      "my_instance.my_ro_descriptor = 19\n"
     ]
    }
   ],
   "source": [
    "print(\"type(my_instance.my_ro_descriptor) =\", type(my_instance.my_ro_descriptor))\n",
    "print(\"my_instance.my_ro_descriptor at\", id(my_instance.my_ro_descriptor))\n",
    "print(\"my_instance.my_ro_descriptor =\", my_instance.my_ro_descriptor)\n",
    "try:\n",
    "    my_instance.my_ro_descriptor = 'ive changed this value'                     # recommended way to implement\n",
    "except AttributeError as e:                                                     # read-only attribute\n",
    "    print(\"exception handler:\", e)\n",
    "print(\"type(my_instance.my_ro_descriptor) =\", type(my_instance.my_ro_descriptor))\n",
    "print(\"my_instance.my_ro_descriptor at\", id(my_instance.my_ro_descriptor))\n",
    "print(\"my_instance.my_ro_descriptor =\", my_instance.my_ro_descriptor)\n"
   ]
  },
  {
   "cell_type": "markdown",
   "metadata": {},
   "source": [
    "What is self?"
   ]
  },
  {
   "cell_type": "code",
   "execution_count": 4,
   "metadata": {},
   "outputs": [
    {
     "name": "stdout",
     "output_type": "stream",
     "text": [
      "MySelf initialisation\n",
      "type(self) = <class '__main__.MySelf'>\n",
      "id(self) = 1374883222080\n",
      "<__main__.MySelf object at 0x000001401D6D1240>\n",
      "in do_something function\n",
      "type(funky_chicken) = <class '__main__.MySelf'>\n",
      "id(funky_chicken) = 1374883222080\n",
      "funky_chicken.some_attribute = some instance attribute\n",
      "type(some_parameter) = <class 'str'>\n",
      "id(some_parameter) = 1374874988400\n",
      "hello\n",
      "in do_something function\n",
      "type(funky_chicken) = <class '__main__.MySelf'>\n",
      "id(funky_chicken) = 1374883222080\n",
      "funky_chicken.some_attribute = some instance attribute\n",
      "type(some_parameter) = <class '__main__.MySelf'>\n",
      "id(some_parameter) = 1374883222080\n",
      "hey we've passed self twice!\n"
     ]
    }
   ],
   "source": [
    "class MySelf:\n",
    "    def __init__(self):\n",
    "        print(\"MySelf initialisation\")\n",
    "        print(\"type(self) =\", type(self))\n",
    "        print(\"id(self) =\", id(self))\n",
    "        print(self)                                     # what is self?, self is a MySelf object\n",
    "        self.some_attribute = 'some instance attribute'\n",
    "\n",
    "    def do_something(funky_chicken, some_parameter):    # you don't need to call it 'self' - it's just the\n",
    "        print(\"in do_something function\")               # ...accepted name to use for first parameter in bound method\n",
    "        print(\"type(funky_chicken) =\", type(funky_chicken))\n",
    "        print(\"id(funky_chicken) =\", id(funky_chicken))\n",
    "        print(\"funky_chicken.some_attribute =\", funky_chicken.some_attribute)\n",
    "        print(\"type(some_parameter) =\", type(some_parameter))\n",
    "        print(\"id(some_parameter) =\", id(some_parameter))\n",
    "        if some_parameter is funky_chicken:\n",
    "            print(\"hey we've passed self twice!\")\n",
    "        else:\n",
    "            print(some_parameter)\n",
    "\n",
    "my_instance = MySelf()\n",
    "my_instance.do_something('hello')\n",
    "my_instance.do_something(my_instance)\n",
    "\n",
    "class MyClass:\n",
    "    my_class_variable = 1                   # not a descriptor, will appear in MyClass.__dict__\n",
    "\n",
    "    def __init__(self):\n",
    "        self.my_instance_variable = 2       # will appear in my_instance.__dict__"
   ]
  },
  {
   "cell_type": "markdown",
   "metadata": {},
   "source": [
    "What is `__dict__` attribute and the look up chain?\n",
    "\n",
    "dict's are used if `__get__` method fails on any matching named data descriptors in class e.g. if I call print(`my_instance.my_class_variable`) interpreter will see if my_class_variable is a data descriptor that exposes the `__get__` interface; if that fails then it will try `my_instance.__dict__['my_class_variable']` and after that the lookup chain will look for a non-data descriptors with a `__get__` method, followed by type `(my_instance).__dict__['my_class_variable']` (or `MyClass.__dict__['my_class_variable']`) and failing all that will start progressing up parent classes"
   ]
  },
  {
   "cell_type": "code",
   "execution_count": 5,
   "metadata": {},
   "outputs": [
    {
     "name": "stdout",
     "output_type": "stream",
     "text": [
      "{'my_instance_variable': 2}\n",
      "{'__module__': '__main__', 'my_class_variable': 1, '__init__': <function MyClass.__init__ at 0x000001401D5EBF40>, '__dict__': <attribute '__dict__' of 'MyClass' objects>, '__weakref__': <attribute '__weakref__' of 'MyClass' objects>, '__doc__': None}\n",
      "{'__module__': '__main__', 'my_class_variable': 1, '__init__': <function MyClass.__init__ at 0x000001401D5EBF40>, '__dict__': <attribute '__dict__' of 'MyClass' objects>, '__weakref__': <attribute '__weakref__' of 'MyClass' objects>, '__doc__': None}\n"
     ]
    }
   ],
   "source": [
    "my_instance = MyClass()\n",
    "print(my_instance.__dict__)\n",
    "print(MyClass.__dict__)\n",
    "print(type(my_instance).__dict__)"
   ]
  },
  {
   "cell_type": "markdown",
   "metadata": {},
   "source": [
    "Dynamically adding a method to an object instance..."
   ]
  },
  {
   "cell_type": "code",
   "execution_count": 6,
   "metadata": {},
   "outputs": [
    {
     "name": "stdout",
     "output_type": "stream",
     "text": [
      "self.my_instance_variable + x = 7\n"
     ]
    }
   ],
   "source": [
    "def my_dynamic_method(self, x):\n",
    "    print(\"self.my_instance_variable + x =\", self.my_instance_variable + x)\n",
    "\n",
    "# monkey patch = modification/addition of attributes at run-time\n",
    "my_instance.my_method = types.MethodType(my_dynamic_method, my_instance)\n",
    "my_instance.my_method(5)            # method only available to this instance\n",
    "del my_instance.my_method"
   ]
  },
  {
   "cell_type": "markdown",
   "metadata": {},
   "source": [
    "Use descriptor object to call instance method..."
   ]
  },
  {
   "cell_type": "code",
   "execution_count": 7,
   "metadata": {},
   "outputs": [
    {
     "name": "stdout",
     "output_type": "stream",
     "text": [
      "MySelf initialisation\n",
      "type(self) = <class '__main__.MySelf'>\n",
      "id(self) = 1374882603760\n",
      "<__main__.MySelf object at 0x000001401D63A2F0>\n",
      "in do_something function\n",
      "type(funky_chicken) = <class '__main__.MySelf'>\n",
      "id(funky_chicken) = 1374882603760\n",
      "funky_chicken.some_attribute = some instance attribute\n",
      "type(some_parameter) = <class 'str'>\n",
      "id(some_parameter) = 1374883166576\n",
      "how odd\n",
      "self.my_instance_variable + x = 21\n"
     ]
    }
   ],
   "source": [
    "class MyFunctionDescriptor:\n",
    "    def __init__(self):\n",
    "        pass\n",
    "\n",
    "    def __get__(self, obj, type=None):\n",
    "        return obj.do_something\n",
    "\n",
    "    def __set__(self, obj, value):\n",
    "        print(\"__set__ called in MyReadOnlyDescriptor\")\n",
    "        raise AttributeError(\"this value is read only!\")\n",
    "\n",
    "\n",
    "class MyDynamicFunctionDescriptor:\n",
    "    def __init__(self):\n",
    "        pass\n",
    "\n",
    "    def __get__(self, obj, type=None):\n",
    "        return types.MethodType(my_dynamic_method, obj)     # similar to how instance methods are called\n",
    "\n",
    "    def __set__(self, obj, value):\n",
    "        print(\"__set__ called in MyReadOnlyDescriptor\")\n",
    "        raise AttributeError(\"this value is read only!\")\n",
    "\n",
    "\n",
    "class MySelf:\n",
    "    def __init__(self):\n",
    "        print(\"MySelf initialisation\")\n",
    "        print(\"type(self) =\", type(self))\n",
    "        print(\"id(self) =\", id(self))\n",
    "        print(self)                                     # what is self?, self is a MySelf object\n",
    "        self.some_attribute = 'some instance attribute'\n",
    "        self.my_instance_variable = 2\n",
    "\n",
    "    def do_something(funky_chicken, some_parameter):    # you don't need to call it 'self' - it's just the\n",
    "        print(\"in do_something function\")               # ...accepted name to use for first parameter in bound method\n",
    "        print(\"type(funky_chicken) =\", type(funky_chicken))\n",
    "        print(\"id(funky_chicken) =\", id(funky_chicken))\n",
    "        print(\"funky_chicken.some_attribute =\", funky_chicken.some_attribute)\n",
    "        print(\"type(some_parameter) =\", type(some_parameter))\n",
    "        print(\"id(some_parameter) =\", id(some_parameter))\n",
    "        if some_parameter is funky_chicken:\n",
    "            print(\"hey we've passed self twice!\")\n",
    "        else:\n",
    "            print(some_parameter)\n",
    "\n",
    "    my_do_something = MyFunctionDescriptor()\n",
    "    my_dynamic_something = MyDynamicFunctionDescriptor()\n",
    "\n",
    "my_instance = MySelf()\n",
    "my_instance.my_do_something('how odd')\n",
    "my_instance.my_dynamic_something(19)"
   ]
  },
  {
   "cell_type": "markdown",
   "metadata": {},
   "source": [
    "To get descriptors to work with instances, not just classes..."
   ]
  },
  {
   "cell_type": "code",
   "execution_count": 8,
   "metadata": {},
   "outputs": [
    {
     "name": "stdout",
     "output_type": "stream",
     "text": [
      "create instance descriptor in MyClass\n",
      "MyInstanceDescriptor __set_name__\n",
      "owner = <class '__main__.MyClass'>\n",
      "name = my_instance_descriptor\n",
      "MyClass.__dict__ = {'__module__': '__main__', 'my_instance_descriptor': <__main__.MyInstanceDescriptor object at 0x000001401D6D0940>, '__init__': <function MyClass.__init__ at 0x000001401D72C5E0>, '__dict__': <attribute '__dict__' of 'MyClass' objects>, '__weakref__': <attribute '__weakref__' of 'MyClass' objects>, '__doc__': None}\n",
      "my_instance1.__dict__ = {}\n",
      "my_instance2.__dict__ = {}\n",
      "MyInstanceDescriptor __set__\n",
      "MyInstanceDescriptor __set__\n",
      "MyClass.__dict__ = {'__module__': '__main__', 'my_instance_descriptor': <__main__.MyInstanceDescriptor object at 0x000001401D6D0940>, '__init__': <function MyClass.__init__ at 0x000001401D72C5E0>, '__dict__': <attribute '__dict__' of 'MyClass' objects>, '__weakref__': <attribute '__weakref__' of 'MyClass' objects>, '__doc__': None}\n",
      "my_instance1.__dict__ = {'my_instance_descriptor': 9}\n",
      "my_instance2.__dict__ = {'my_instance_descriptor': 14}\n"
     ]
    }
   ],
   "source": [
    "class MyInstanceDescriptor:\n",
    "    def __set_name__(self, owner, name):                # available since Python 3.6\n",
    "        print(\"MyInstanceDescriptor __set_name__\")\n",
    "        print(\"owner =\", owner)\n",
    "        print(\"name =\", name)\n",
    "        self.name = name\n",
    "\n",
    "    def __get__(self, obj, type=None):\n",
    "        print(\"MyInstanceDescriptor __get__\")\n",
    "        return obj.__dict__.get(self.name) or 0\n",
    "\n",
    "    def __set__(self, obj, value):\n",
    "        print(\"MyInstanceDescriptor __set__\")\n",
    "        obj.__dict__[self.name] = value                 # store value in object instance dictionary\n",
    "\n",
    "class MyClass:\n",
    "    print(\"create instance descriptor in MyClass\")\n",
    "    my_instance_descriptor = MyInstanceDescriptor()\n",
    "\n",
    "    def __init__(self):\n",
    "        pass\n",
    "\n",
    "my_instance1 = MyClass()\n",
    "my_instance2 = MyClass()\n",
    "\n",
    "print(\"MyClass.__dict__ =\", MyClass.__dict__)\n",
    "print(\"my_instance1.__dict__ =\", my_instance1.__dict__)\n",
    "print(\"my_instance2.__dict__ =\", my_instance2.__dict__)\n",
    "# MyClass.my_instance_descriptor = 3                        # this overwrites the descriptor with the 3 object..\n",
    "my_instance1.my_instance_descriptor = 9                     # ...rather than call __set__ with obj = class object\n",
    "my_instance2.my_instance_descriptor = 14\n",
    "print(\"MyClass.__dict__ =\", MyClass.__dict__)\n",
    "print(\"my_instance1.__dict__ =\", my_instance1.__dict__)\n",
    "print(\"my_instance2.__dict__ =\", my_instance2.__dict__)"
   ]
  }
 ],
 "metadata": {
  "kernelspec": {
   "display_name": "Python 3.10.7 64-bit",
   "language": "python",
   "name": "python3"
  },
  "language_info": {
   "codemirror_mode": {
    "name": "ipython",
    "version": 3
   },
   "file_extension": ".py",
   "mimetype": "text/x-python",
   "name": "python",
   "nbconvert_exporter": "python",
   "pygments_lexer": "ipython3",
   "version": "3.10.7"
  },
  "orig_nbformat": 4,
  "vscode": {
   "interpreter": {
    "hash": "c19fa61d258bb2b35aae2ada233c33e2817c1ce895aa48acba720c6bf7cbe3cb"
   }
  }
 },
 "nbformat": 4,
 "nbformat_minor": 2
}
