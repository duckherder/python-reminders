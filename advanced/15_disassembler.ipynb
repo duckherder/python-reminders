{
 "cells": [
  {
   "cell_type": "markdown",
   "metadata": {},
   "source": [
    "# Disassembly\n",
    "\n",
    "For disassembling Python byte code.\n",
    "\n",
    "* See https://docs.python.org/3/library/dis.html\n",
    "* See https://en.wikipedia.org/wiki/Stack-oriented_programming\n",
    "\n",
    "Python is a stack-orientated language. There are 3 stacks: call, data (python code/function evaluation) and block (control structures).\n",
    "\n",
    "Disassemble an object - module, class, method, function etc..."
   ]
  },
  {
   "cell_type": "code",
   "execution_count": 2,
   "metadata": {},
   "outputs": [
    {
     "name": "stdout",
     "output_type": "stream",
     "text": [
      "  4           0 LOAD_FAST                0 (x)\n",
      "              2 LOAD_FAST                1 (y)\n",
      "              4 BINARY_ADD\n",
      "              6 STORE_FAST               2 (_z)\n",
      "\n",
      "  5           8 LOAD_GLOBAL              0 (print)\n",
      "             10 LOAD_FAST                2 (_z)\n",
      "             12 CALL_FUNCTION            1\n",
      "             14 POP_TOP\n",
      "\n",
      "  6          16 SETUP_FINALLY            8 (to 34)\n",
      "\n",
      "  7          18 LOAD_GLOBAL              1 (open)\n",
      "             20 LOAD_CONST               1 ('my_file.txt')\n",
      "             22 LOAD_CONST               2 ('r')\n",
      "             24 CALL_FUNCTION            2\n",
      "             26 STORE_FAST               3 (f)\n",
      "             28 POP_BLOCK\n",
      "\n",
      " 10          30 LOAD_FAST                2 (_z)\n",
      "             32 RETURN_VALUE\n",
      "\n",
      "  8     >>   34 DUP_TOP\n",
      "             36 LOAD_GLOBAL              2 (FileNotFoundError)\n",
      "             38 JUMP_IF_NOT_EXC_MATCH    26 (to 52)\n",
      "             40 POP_TOP\n",
      "             42 POP_TOP\n",
      "             44 POP_TOP\n",
      "\n",
      "  9          46 POP_EXCEPT\n",
      "\n",
      " 10          48 LOAD_FAST                2 (_z)\n",
      "             50 RETURN_VALUE\n",
      "\n",
      "  8     >>   52 RERAISE                  0\n"
     ]
    }
   ],
   "source": [
    "import dis\n",
    "\n",
    "def my_function(x, y):\n",
    "    _z = x + y\n",
    "    print(_z)\n",
    "    try:\n",
    "        f = open('my_file.txt', 'r')\n",
    "    except FileNotFoundError:\n",
    "        pass\n",
    "    return _z\n",
    "\n",
    "dis.dis(my_function)"
   ]
  },
  {
   "cell_type": "markdown",
   "metadata": {},
   "source": [
    "Show code information"
   ]
  },
  {
   "cell_type": "code",
   "execution_count": 3,
   "metadata": {},
   "outputs": [
    {
     "name": "stdout",
     "output_type": "stream",
     "text": [
      "Name:              my_function\n",
      "Filename:          C:\\Users\\Mike\\AppData\\Local\\Temp\\ipykernel_9896\\2776365920.py\n",
      "Argument count:    2\n",
      "Positional-only arguments: 0\n",
      "Kw-only arguments: 0\n",
      "Number of locals:  4\n",
      "Stack size:        8\n",
      "Flags:             OPTIMIZED, NEWLOCALS, NOFREE\n",
      "Constants:\n",
      "   0: None\n",
      "   1: 'my_file.txt'\n",
      "   2: 'r'\n",
      "Names:\n",
      "   0: print\n",
      "   1: open\n",
      "   2: FileNotFoundError\n",
      "Variable names:\n",
      "   0: x\n",
      "   1: y\n",
      "   2: _z\n",
      "   3: f\n"
     ]
    }
   ],
   "source": [
    "print(dis.code_info(my_function))"
   ]
  },
  {
   "cell_type": "markdown",
   "metadata": {},
   "source": [
    "We can also access code information through the `__code__` attribute of a function"
   ]
  },
  {
   "cell_type": "code",
   "execution_count": 4,
   "metadata": {},
   "outputs": [
    {
     "name": "stdout",
     "output_type": "stream",
     "text": [
      "<code object my_function at 0x000002560DE2FE10, file \"C:\\Users\\Mike\\AppData\\Local\\Temp\\ipykernel_9896\\2776365920.py\", line 3>\n",
      "literals = (None, 'my_file.txt', 'r')\n",
      "locals = ('x', 'y', '_z', 'f')\n",
      "non-locals = ('print', 'open', 'FileNotFoundError')\n"
     ]
    }
   ],
   "source": [
    "print(my_function.__code__)\n",
    "print(\"literals =\", my_function.__code__.co_consts)             # any literals in the code\n",
    "print(\"locals =\", my_function.__code__.co_varnames)             # local variables\n",
    "print(\"non-locals =\", my_function.__code__.co_names)            # non-local names referenced"
   ]
  },
  {
   "cell_type": "markdown",
   "metadata": {},
   "source": [
    "Get instructions using an iterator"
   ]
  },
  {
   "cell_type": "code",
   "execution_count": 5,
   "metadata": {},
   "outputs": [
    {
     "name": "stdout",
     "output_type": "stream",
     "text": [
      "opcode: 124 opname: LOAD_FAST arg: 0\n",
      "opcode: 124 opname: LOAD_FAST arg: 1\n",
      "opcode: 23 opname: BINARY_ADD arg: None\n",
      "opcode: 125 opname: STORE_FAST arg: 2\n",
      "opcode: 116 opname: LOAD_GLOBAL arg: 0\n",
      "opcode: 124 opname: LOAD_FAST arg: 2\n",
      "opcode: 131 opname: CALL_FUNCTION arg: 1\n",
      "opcode: 1 opname: POP_TOP arg: None\n",
      "opcode: 122 opname: SETUP_FINALLY arg: 8\n",
      "opcode: 116 opname: LOAD_GLOBAL arg: 1\n",
      "opcode: 100 opname: LOAD_CONST arg: 1\n",
      "opcode: 100 opname: LOAD_CONST arg: 2\n",
      "opcode: 131 opname: CALL_FUNCTION arg: 2\n",
      "opcode: 125 opname: STORE_FAST arg: 3\n",
      "opcode: 87 opname: POP_BLOCK arg: None\n",
      "opcode: 124 opname: LOAD_FAST arg: 2\n",
      "opcode: 83 opname: RETURN_VALUE arg: None\n",
      "opcode: 4 opname: DUP_TOP arg: None\n",
      "opcode: 116 opname: LOAD_GLOBAL arg: 2\n",
      "opcode: 121 opname: JUMP_IF_NOT_EXC_MATCH arg: 26\n",
      "opcode: 1 opname: POP_TOP arg: None\n",
      "opcode: 1 opname: POP_TOP arg: None\n",
      "opcode: 1 opname: POP_TOP arg: None\n",
      "opcode: 89 opname: POP_EXCEPT arg: None\n",
      "opcode: 124 opname: LOAD_FAST arg: 2\n",
      "opcode: 83 opname: RETURN_VALUE arg: None\n",
      "opcode: 119 opname: RERAISE arg: 0\n"
     ]
    }
   ],
   "source": [
    "my_instructions = dis.get_instructions(my_function)\n",
    "for instruction in my_instructions:\n",
    "    print(f\"opcode: {instruction.opcode} opname: {instruction.opname} arg: {instruction.arg}\")"
   ]
  },
  {
   "cell_type": "markdown",
   "metadata": {},
   "source": [
    "Comparing `[]` and `list()` and you can see why `[]` is faster "
   ]
  },
  {
   "cell_type": "code",
   "execution_count": 10,
   "metadata": {},
   "outputs": [
    {
     "name": "stdout",
     "output_type": "stream",
     "text": [
      "  1           0 BUILD_LIST               0\n",
      "              2 RETURN_VALUE\n",
      "  1           0 LOAD_NAME                0 (list)\n",
      "              2 CALL_FUNCTION            0\n",
      "              4 RETURN_VALUE\n"
     ]
    }
   ],
   "source": [
    "dis.dis(\"[]\")\n",
    "dis.dis(\"list()\")"
   ]
  },
  {
   "cell_type": "markdown",
   "metadata": {},
   "source": [
    "Print `traceback` object"
   ]
  },
  {
   "cell_type": "code",
   "execution_count": 11,
   "metadata": {},
   "outputs": [
    {
     "name": "stdout",
     "output_type": "stream",
     "text": [
      "  File \"C:\\Users\\Mike\\AppData\\Local\\Temp\\ipykernel_9896\\2710167046.py\", line 6, in <module>\n",
      "    print(my_list.womble)\n",
      "type(e.__traceback__) = class 'traceback'\n",
      "  File \"C:\\Users\\Mike\\AppData\\Local\\Temp\\ipykernel_9896\\2710167046.py\", line 6, in <module>\n",
      "    print(my_list.womble)\n"
     ]
    }
   ],
   "source": [
    "import traceback\n",
    "import sys\n",
    "\n",
    "my_list = [1, 2, 3]\n",
    "try:\n",
    "    print(my_list.womble)\n",
    "except AttributeError as e:\n",
    "    exc_type, exc_value, exc_traceback = sys.exc_info()\n",
    "    traceback.print_tb(exc_traceback, limit=1, file=sys.stdout)\n",
    "    print(\"type(e.__traceback__) =\", str(type(e.__traceback__))[1:-1])\n",
    "    traceback.print_tb(e.__traceback__, limit=1, file=sys.stdout)"
   ]
  },
  {
   "cell_type": "markdown",
   "metadata": {},
   "source": [
    "Print stack"
   ]
  },
  {
   "cell_type": "code",
   "execution_count": 8,
   "metadata": {},
   "outputs": [
    {
     "name": "stderr",
     "output_type": "stream",
     "text": [
      "  File \"c:\\python310\\lib\\runpy.py\", line 196, in _run_module_as_main\n",
      "    return _run_code(code, main_globals, None,\n",
      "  File \"c:\\python310\\lib\\runpy.py\", line 86, in _run_code\n",
      "    exec(code, run_globals)\n",
      "  File \"C:\\Users\\Mike\\AppData\\Roaming\\Python\\Python310\\site-packages\\ipykernel_launcher.py\", line 17, in <module>\n",
      "    app.launch_new_instance()\n",
      "  File \"C:\\Users\\Mike\\AppData\\Roaming\\Python\\Python310\\site-packages\\traitlets\\config\\application.py\", line 982, in launch_instance\n",
      "    app.start()\n",
      "  File \"C:\\Users\\Mike\\AppData\\Roaming\\Python\\Python310\\site-packages\\ipykernel\\kernelapp.py\", line 712, in start\n",
      "    self.io_loop.start()\n",
      "  File \"C:\\Users\\Mike\\AppData\\Roaming\\Python\\Python310\\site-packages\\tornado\\platform\\asyncio.py\", line 215, in start\n",
      "    self.asyncio_loop.run_forever()\n",
      "  File \"c:\\python310\\lib\\asyncio\\base_events.py\", line 600, in run_forever\n",
      "    self._run_once()\n",
      "  File \"c:\\python310\\lib\\asyncio\\base_events.py\", line 1896, in _run_once\n",
      "    handle._run()\n",
      "  File \"c:\\python310\\lib\\asyncio\\events.py\", line 80, in _run\n",
      "    self._context.run(self._callback, *self._args)\n",
      "  File \"C:\\Users\\Mike\\AppData\\Roaming\\Python\\Python310\\site-packages\\ipykernel\\kernelbase.py\", line 510, in dispatch_queue\n",
      "    await self.process_one()\n",
      "  File \"C:\\Users\\Mike\\AppData\\Roaming\\Python\\Python310\\site-packages\\ipykernel\\kernelbase.py\", line 499, in process_one\n",
      "    await dispatch(*args)\n",
      "  File \"C:\\Users\\Mike\\AppData\\Roaming\\Python\\Python310\\site-packages\\ipykernel\\kernelbase.py\", line 406, in dispatch_shell\n",
      "    await result\n",
      "  File \"C:\\Users\\Mike\\AppData\\Roaming\\Python\\Python310\\site-packages\\ipykernel\\kernelbase.py\", line 730, in execute_request\n",
      "    reply_content = await reply_content\n",
      "  File \"C:\\Users\\Mike\\AppData\\Roaming\\Python\\Python310\\site-packages\\ipykernel\\ipkernel.py\", line 383, in do_execute\n",
      "    res = shell.run_cell(\n",
      "  File \"C:\\Users\\Mike\\AppData\\Roaming\\Python\\Python310\\site-packages\\ipykernel\\zmqshell.py\", line 528, in run_cell\n",
      "    return super().run_cell(*args, **kwargs)\n",
      "  File \"C:\\Users\\Mike\\AppData\\Roaming\\Python\\Python310\\site-packages\\IPython\\core\\interactiveshell.py\", line 2940, in run_cell\n",
      "    result = self._run_cell(\n",
      "  File \"C:\\Users\\Mike\\AppData\\Roaming\\Python\\Python310\\site-packages\\IPython\\core\\interactiveshell.py\", line 2995, in _run_cell\n",
      "    return runner(coro)\n",
      "  File \"C:\\Users\\Mike\\AppData\\Roaming\\Python\\Python310\\site-packages\\IPython\\core\\async_helpers.py\", line 129, in _pseudo_sync_runner\n",
      "    coro.send(None)\n",
      "  File \"C:\\Users\\Mike\\AppData\\Roaming\\Python\\Python310\\site-packages\\IPython\\core\\interactiveshell.py\", line 3194, in run_cell_async\n",
      "    has_raised = await self.run_ast_nodes(code_ast.body, cell_name,\n",
      "  File \"C:\\Users\\Mike\\AppData\\Roaming\\Python\\Python310\\site-packages\\IPython\\core\\interactiveshell.py\", line 3373, in run_ast_nodes\n",
      "    if await self.run_code(code, result, async_=asy):\n",
      "  File \"C:\\Users\\Mike\\AppData\\Roaming\\Python\\Python310\\site-packages\\IPython\\core\\interactiveshell.py\", line 3433, in run_code\n",
      "    exec(code_obj, self.user_global_ns, self.user_ns)\n",
      "  File \"C:\\Users\\Mike\\AppData\\Local\\Temp\\ipykernel_9896\\3506700912.py\", line 4, in <module>\n",
      "    my_function()\n",
      "  File \"C:\\Users\\Mike\\AppData\\Local\\Temp\\ipykernel_9896\\3506700912.py\", line 2, in my_function\n",
      "    traceback.print_stack()\n"
     ]
    }
   ],
   "source": [
    "def my_function():\n",
    "    traceback.print_stack()\n",
    "\n",
    "my_function()"
   ]
  },
  {
   "cell_type": "markdown",
   "metadata": {},
   "source": [
    "Disassemble the last traceback in `my_function()`"
   ]
  },
  {
   "cell_type": "code",
   "execution_count": 9,
   "metadata": {},
   "outputs": [
    {
     "name": "stdout",
     "output_type": "stream",
     "text": [
      "  2           0 BUILD_LIST               0\n",
      "              2 LOAD_CONST               1 ((1, 2, 3))\n",
      "              4 LIST_EXTEND              1\n",
      "              6 STORE_FAST               0 (_my_list)\n",
      "\n",
      "  3           8 SETUP_FINALLY            8 (to 26)\n",
      "\n",
      "  4          10 LOAD_GLOBAL              0 (print)\n",
      "             12 LOAD_FAST                0 (_my_list)\n",
      "    -->      14 LOAD_ATTR                1 (womble)\n",
      "             16 CALL_FUNCTION            1\n",
      "             18 POP_TOP\n",
      "             20 POP_BLOCK\n",
      "             22 LOAD_CONST               0 (None)\n",
      "             24 RETURN_VALUE\n",
      "\n",
      "  5     >>   26 DUP_TOP\n",
      "             28 LOAD_GLOBAL              2 (AttributeError)\n",
      "             30 JUMP_IF_NOT_EXC_MATCH    37 (to 74)\n",
      "             32 POP_TOP\n",
      "             34 STORE_FAST               1 (e)\n",
      "             36 POP_TOP\n",
      "             38 SETUP_FINALLY           13 (to 66)\n",
      "\n",
      "  6          40 LOAD_GLOBAL              3 (dis)\n",
      "             42 LOAD_METHOD              4 (distb)\n",
      "             44 LOAD_FAST                1 (e)\n",
      "             46 LOAD_ATTR                5 (__traceback__)\n",
      "             48 CALL_METHOD              1\n",
      "             50 POP_TOP\n",
      "             52 POP_BLOCK\n",
      "             54 POP_EXCEPT\n",
      "             56 LOAD_CONST               0 (None)\n",
      "             58 STORE_FAST               1 (e)\n",
      "             60 DELETE_FAST              1 (e)\n",
      "             62 LOAD_CONST               0 (None)\n",
      "             64 RETURN_VALUE\n",
      "        >>   66 LOAD_CONST               0 (None)\n",
      "             68 STORE_FAST               1 (e)\n",
      "             70 DELETE_FAST              1 (e)\n",
      "             72 RERAISE                  1\n",
      "\n",
      "  5     >>   74 RERAISE                  0\n"
     ]
    }
   ],
   "source": [
    "def my_function():\n",
    "    _my_list = [1, 2, 3]\n",
    "    try:\n",
    "        print(_my_list.womble)\n",
    "    except AttributeError as e:\n",
    "        dis.distb(e.__traceback__)\n",
    "\n",
    "my_function()"
   ]
  },
  {
   "cell_type": "markdown",
   "metadata": {},
   "source": [
    "See https://github.com/python/cpython/blob/master/Include/opcode.h for op-code header file"
   ]
  }
 ],
 "metadata": {
  "kernelspec": {
   "display_name": "Python 3.10.7 64-bit",
   "language": "python",
   "name": "python3"
  },
  "language_info": {
   "codemirror_mode": {
    "name": "ipython",
    "version": 3
   },
   "file_extension": ".py",
   "mimetype": "text/x-python",
   "name": "python",
   "nbconvert_exporter": "python",
   "pygments_lexer": "ipython3",
   "version": "3.10.7"
  },
  "orig_nbformat": 4,
  "vscode": {
   "interpreter": {
    "hash": "c19fa61d258bb2b35aae2ada233c33e2817c1ce895aa48acba720c6bf7cbe3cb"
   }
  }
 },
 "nbformat": 4,
 "nbformat_minor": 2
}
