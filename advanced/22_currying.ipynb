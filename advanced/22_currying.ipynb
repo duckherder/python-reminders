{
 "cells": [
  {
   "cell_type": "markdown",
   "metadata": {},
   "source": [
    "# Currying\n",
    "\n",
    "Currying is the practice of converting a function with multiple arguments into a series of function calls that take a single argument. This is common in functional programming and can be implemented in Python using closures."
   ]
  },
  {
   "cell_type": "code",
   "execution_count": 1,
   "metadata": {},
   "outputs": [
    {
     "data": {
      "text/plain": [
       "7.0"
      ]
     },
     "execution_count": 1,
     "metadata": {},
     "output_type": "execute_result"
    }
   ],
   "source": [
    "def polynomial(a: float,b: float,x:float) -> float:\n",
    "    \"\"\"Standard polynomial function\"\"\"\n",
    "    return b*x + a\n",
    "\n",
    "polynomial(1.0,2.0,3.0)"
   ]
  },
  {
   "cell_type": "markdown",
   "metadata": {},
   "source": [
    "This function with 3 arguments to a series of function calls with single argument"
   ]
  },
  {
   "cell_type": "code",
   "execution_count": 4,
   "metadata": {},
   "outputs": [
    {
     "data": {
      "text/plain": [
       "7.0"
      ]
     },
     "execution_count": 4,
     "metadata": {},
     "output_type": "execute_result"
    }
   ],
   "source": [
    "def polynomial(a: float):\n",
    "    def _multiplier(b: float):\n",
    "        def _result(x: float):\n",
    "            return b*x + a\n",
    "        return _result\n",
    "    return _multiplier\n",
    "\n",
    "polynomial(1.0)(2.0)(3.0)"
   ]
  },
  {
   "cell_type": "markdown",
   "metadata": {},
   "source": [
    "This can promote code reuse and problem decomposition"
   ]
  },
  {
   "cell_type": "code",
   "execution_count": 7,
   "metadata": {},
   "outputs": [
    {
     "name": "stdout",
     "output_type": "stream",
     "text": [
      "my_polynomial(3.0) = 7.0\n",
      "my_polynomial(-1.0) = -1.0\n"
     ]
    }
   ],
   "source": [
    "my_polynomial = polynomial(1.0)(2.0)\n",
    "print(f\"my_polynomial(3.0) = {my_polynomial(3.0)}\")\n",
    "print(f\"my_polynomial(-1.0) = {my_polynomial(-1.0)}\")\n"
   ]
  }
 ],
 "metadata": {
  "kernelspec": {
   "display_name": "python-reminders",
   "language": "python",
   "name": "python3"
  },
  "language_info": {
   "codemirror_mode": {
    "name": "ipython",
    "version": 3
   },
   "file_extension": ".py",
   "mimetype": "text/x-python",
   "name": "python",
   "nbconvert_exporter": "python",
   "pygments_lexer": "ipython3",
   "version": "3.8.3"
  }
 },
 "nbformat": 4,
 "nbformat_minor": 2
}
