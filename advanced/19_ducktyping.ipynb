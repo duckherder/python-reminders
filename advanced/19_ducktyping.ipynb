{
 "cells": [
  {
   "cell_type": "markdown",
   "metadata": {},
   "source": [
    "# Duck Typing\n",
    "\n",
    "A trivial example."
   ]
  },
  {
   "cell_type": "code",
   "execution_count": null,
   "metadata": {},
   "outputs": [],
   "source": [
    "class Animal:\n",
    "    def __init__(self):\n",
    "        pass\n",
    "\n",
    "class Duck(Animal):\n",
    "    def __init__(self):\n",
    "        super().__init__()\n",
    "\n",
    "    def quack(self):\n",
    "        print(\"quack\")\n",
    "\n",
    "class Mallard(Duck):\n",
    "    def __init__(self):\n",
    "        super().__init__()\n",
    "\n",
    "class Donald(Duck):\n",
    "    def __init__(self):\n",
    "        super().__init__()\n",
    "\n",
    "class Dog(Animal):\n",
    "    def __init__(self):\n",
    "        super().__init__()\n",
    "\n",
    "def am_i_a_duck(an_animal):\n",
    "    try:\n",
    "        an_animal.quack()\n",
    "        print(\"I'm a duck!\")\n",
    "    except AttributeError:\n",
    "        print(\"no quack method, so can't be a duck, or a duck with a sore throat\")\n",
    "\n",
    "if __name__ == '__main__':\n",
    "    while True:\n",
    "        animal = input(\"enter animal:\")\n",
    "        animal = animal.rstrip().lower()\n",
    "        if animal == 'duck':\n",
    "            am_i_a_duck(Duck())\n",
    "        elif animal == 'mallard':\n",
    "            am_i_a_duck(Mallard())\n",
    "        elif animal == 'donald':\n",
    "            am_i_a_duck(Donald())\n",
    "        elif animal == 'dog':\n",
    "            am_i_a_duck(Dog())\n",
    "        else:\n",
    "            print(\"no idea what you are, probably not a duck though!\")\n",
    "            break"
   ]
  }
 ],
 "metadata": {
  "kernelspec": {
   "display_name": "Python 3.10.7 64-bit",
   "language": "python",
   "name": "python3"
  },
  "language_info": {
   "name": "python",
   "version": "3.10.7"
  },
  "orig_nbformat": 4,
  "vscode": {
   "interpreter": {
    "hash": "c19fa61d258bb2b35aae2ada233c33e2817c1ce895aa48acba720c6bf7cbe3cb"
   }
  }
 },
 "nbformat": 4,
 "nbformat_minor": 2
}
