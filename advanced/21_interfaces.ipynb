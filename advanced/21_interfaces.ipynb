{
 "cells": [
  {
   "cell_type": "markdown",
   "metadata": {},
   "source": [
    "# Interfaces\n",
    "\n",
    "Classes are objects and type and class can mostly be used to mean the same in Python but there are differences in attributes between object and type (metaclass = an object)\", set(dir(type)) - set(dir(object)))\n"
   ]
  },
  {
   "cell_type": "code",
   "execution_count": 1,
   "metadata": {},
   "outputs": [],
   "source": [
    "class MySimpleInterface:\n",
    "    \"\"\"Simple interface but with no enforcement, simply using standard subclassing.\"\"\"\n",
    "\n",
    "    def print_message(self, message: str) -> None:\n",
    "        \"\"\"Print message method with no implementation.\"\"\"\n",
    "        pass\n",
    "\n",
    "    def my_other_interface_function(self):\n",
    "        \"\"\"There is no requirement with simple subclassing to fully implement this interface. Will work without it.\"\"\"\n",
    "        pass        # is this an interface in the true sense of the word?\n",
    "\n",
    "class MyConcreteClass(MySimpleInterface):           # does not fully implement the interface\n",
    "\n",
    "    def print_message(self, message: str) -> None:\n",
    "        print(\"MyConcreteClass message:\", message)\n",
    "\n",
    "class MyOtherConcreteClass(MySimpleInterface):      # fully implements the interface\n",
    "\n",
    "    def print_message(self, message: str) -> None:\n",
    "        print(\"MyOtherConcreteClass message:\", message)\n",
    "\n",
    "    def my_other_interface_function(self):\n",
    "        print(\"MyOtherConcreteClass message in my_other_interface_function!\")"
   ]
  },
  {
   "cell_type": "markdown",
   "metadata": {},
   "source": [
    "We can pass interfaces to functions to use"
   ]
  },
  {
   "cell_type": "code",
   "execution_count": 2,
   "metadata": {},
   "outputs": [
    {
     "name": "stdout",
     "output_type": "stream",
     "text": [
      "in some_function\n",
      "my_interface = <__main__.MyConcreteClass object at 0x000002037030E9B0>\n",
      "MyConcreteClass message: some random message!\n",
      "in some_function\n",
      "my_interface = <__main__.MyOtherConcreteClass object at 0x000002037030E7A0>\n",
      "MyOtherConcreteClass message: some random message!\n",
      "MyOtherConcreteClass message in my_other_interface_function!\n"
     ]
    }
   ],
   "source": [
    "def some_function(my_interface: MySimpleInterface) -> None:\n",
    "    print(\"in some_function\")\n",
    "    print(\"my_interface =\", my_interface)\n",
    "    my_interface.print_message(\"some random message!\")\n",
    "    # even though we have not fully implemented the interface we can however call my_other_interface\n",
    "    my_interface.my_other_interface_function()\n",
    "\n",
    "my_concrete_class = MyConcreteClass()\n",
    "my_other_concrete_class = MyOtherConcreteClass()\n",
    "\n",
    "some_function(my_concrete_class)\n",
    "some_function(my_other_concrete_class)"
   ]
  },
  {
   "cell_type": "markdown",
   "metadata": {},
   "source": [
    "Define the interface and some concrete classes. Ee could override using a metaclass to enforce type checking,\n",
    "\n",
    "See https://realpython/python-interface"
   ]
  },
  {
   "cell_type": "code",
   "execution_count": 3,
   "metadata": {},
   "outputs": [],
   "source": [
    "class SimpleMeta(type):                                 # metaclass describes how a class should work\n",
    "\n",
    "    def __instancecheck__(self, instance):\n",
    "        print(\"overridding instance type check in SimpleMeta\")\n",
    "        return self.__subclasscheck__(type(instance))\n",
    "\n",
    "    def __subclasscheck__(self, subclass):\n",
    "        print(\"overridding subclass check in SimpleMeta\")\n",
    "        print(\"self =\", self)\n",
    "        print(\"subclass =\", subclass)\n",
    "        # see if subclass actually implements the interface\n",
    "        return hasattr(subclass, 'print_message') and callable(subclass.print_message) and \\\n",
    "            hasattr(subclass, 'my_other_interface_function') and callable(subclass.my_other_interface_function)\n",
    "\n",
    "class MySimpleInterface(metaclass=SimpleMeta):      # this is a virtual base class of MyFullImplementedConcreteClass...\n",
    "                                                    # ...below as it implements the interface defined in metaclass\n",
    "    \"\"\"__subclasscheck__ implicitly makes print_message and my_other_interface available\"\"\"\n",
    "    pass    # if you define them the point we hasattr and callable as above will work - which we don't want\n",
    "\n",
    "class MyConcreteClass:\n",
    "\n",
    "    def print_message(self, message: str) -> None:\n",
    "        print(\"MyConcreteClass message:\", message)\n",
    "\n",
    "class MyFullImplementedConcreteClass:           # note implicit super-classing....\n",
    "                                                # ....not MyFullImplementedConcreteClass(MySimpleInterface)...\n",
    "                                                # ...which is also perfectly fine to do so appears in MRO\n",
    "\n",
    "    def print_message(self, message: str) -> None:\n",
    "        print(\"MyOtherConcreteClass message:\", message)\n",
    "\n",
    "    def my_other_interface_function(self):\n",
    "        print(\"MyFullImplementedConcreteClass: in my_other_interface_function!\")"
   ]
  },
  {
   "cell_type": "markdown",
   "metadata": {},
   "source": [
    "Using a metaclass we can see if a class is really of type `MySimpleInterface`"
   ]
  },
  {
   "cell_type": "code",
   "execution_count": 4,
   "metadata": {},
   "outputs": [
    {
     "name": "stdout",
     "output_type": "stream",
     "text": [
      "overridding subclass check in SimpleMeta\n",
      "self = <class '__main__.MySimpleInterface'>\n",
      "subclass = <class '__main__.MyConcreteClass'>\n",
      "issubclass(MyConcreteClass, MySimpleInterface) = False\n",
      "overridding subclass check in SimpleMeta\n",
      "self = <class '__main__.MySimpleInterface'>\n",
      "subclass = <class '__main__.MyFullImplementedConcreteClass'>\n",
      "issubclass(MyFullImplementedConcreteClass, MySimpleInterface) = True\n"
     ]
    }
   ],
   "source": [
    "print(\"issubclass(MyConcreteClass, MySimpleInterface) =\", issubclass(MyConcreteClass, MySimpleInterface))\n",
    "print(\"issubclass(MyFullImplementedConcreteClass, MySimpleInterface) =\",\n",
    "      issubclass(MyFullImplementedConcreteClass, MySimpleInterface))"
   ]
  },
  {
   "cell_type": "markdown",
   "metadata": {},
   "source": [
    "Create instances"
   ]
  },
  {
   "cell_type": "code",
   "execution_count": 5,
   "metadata": {},
   "outputs": [
    {
     "name": "stdout",
     "output_type": "stream",
     "text": [
      "overridding instance type check in SimpleMeta\n",
      "overridding subclass check in SimpleMeta\n",
      "self = <class '__main__.MySimpleInterface'>\n",
      "subclass = <class '__main__.MyFullImplementedConcreteClass'>\n",
      "isinstance(my_full_concrete_class, MySimpleInterface) = True\n",
      "overridding instance type check in SimpleMeta\n",
      "overridding subclass check in SimpleMeta\n",
      "self = <class '__main__.MySimpleInterface'>\n",
      "subclass = <class '__main__.MyConcreteClass'>\n",
      "isinstance(my_concrete_class, MySimpleInterface) = False\n"
     ]
    }
   ],
   "source": [
    "my_full_concrete_class = MyFullImplementedConcreteClass()\n",
    "my_concrete_class = MyConcreteClass()\n",
    "print(\"isinstance(my_full_concrete_class, MySimpleInterface) =\", isinstance(my_full_concrete_class, MySimpleInterface))\n",
    "print(\"isinstance(my_concrete_class, MySimpleInterface) =\", isinstance(my_concrete_class, MySimpleInterface))"
   ]
  },
  {
   "cell_type": "markdown",
   "metadata": {},
   "source": [
    "Now if we try and use interface improperly we will get an exception"
   ]
  },
  {
   "cell_type": "code",
   "execution_count": 6,
   "metadata": {},
   "outputs": [
    {
     "name": "stdout",
     "output_type": "stream",
     "text": [
      "in some_function\n",
      "my_interface = <__main__.MyFullImplementedConcreteClass object at 0x000002037030ED10>\n",
      "calling my_other_interface_function\n",
      "MyFullImplementedConcreteClass: in my_other_interface_function!\n",
      "in some_function\n",
      "my_interface = <__main__.MyConcreteClass object at 0x000002037030F340>\n",
      "calling my_other_interface_function\n",
      "Exception: Attribute error - my_other_interface is not implemented\n"
     ]
    }
   ],
   "source": [
    "def some_function(my_interface: MySimpleInterface) -> None:\n",
    "    print(\"in some_function\")\n",
    "    print(\"my_interface =\", my_interface)\n",
    "    print(\"calling my_other_interface_function\")\n",
    "    my_interface.my_other_interface_function()\n",
    "\n",
    "some_function(my_full_concrete_class)\n",
    "try:\n",
    "    some_function(my_concrete_class)\n",
    "except AttributeError:\n",
    "    print(\"Exception: Attribute error - my_other_interface is not implemented\")"
   ]
  },
  {
   "cell_type": "markdown",
   "metadata": {},
   "source": [
    "Virtual base class and metaclass do not appear in the MRO if implicit inheritance used"
   ]
  },
  {
   "cell_type": "code",
   "execution_count": 7,
   "metadata": {},
   "outputs": [
    {
     "name": "stdout",
     "output_type": "stream",
     "text": [
      "MyConcreteClass.__mro__ = (<class '__main__.MyConcreteClass'>, <class 'object'>)\n",
      "MyFullImplementedConcreteClass.__mro__ = (<class '__main__.MyFullImplementedConcreteClass'>, <class 'object'>)\n"
     ]
    }
   ],
   "source": [
    "print(\"MyConcreteClass.__mro__ =\", MyConcreteClass.__mro__)\n",
    "print(\"MyFullImplementedConcreteClass.__mro__ =\", MyFullImplementedConcreteClass.__mro__)"
   ]
  },
  {
   "cell_type": "markdown",
   "metadata": {},
   "source": [
    "Alternatively you can use the abstract base class abc to be more formal"
   ]
  },
  {
   "cell_type": "code",
   "execution_count": 8,
   "metadata": {},
   "outputs": [],
   "source": [
    "import abc      # abc = abstract base class\n",
    "\n",
    "class MySimpleABCInterface(metaclass=abc.ABCMeta):\n",
    "\n",
    "    @classmethod\n",
    "    def __subclasshook__(cls, subclass):\n",
    "        print(\"overridding subclass hook in MySimpleABCInterface\")\n",
    "        print(\"self =\", cls)\n",
    "        print(\"subclass =\", subclass)\n",
    "        # see if subclass actually implements the interface\n",
    "        return (hasattr(subclass, 'print_message') and callable(subclass.print_message) and\n",
    "                hasattr(subclass, 'my_other_interface_function') and callable(subclass.my_other_interface_function) or\n",
    "                NotImplemented)\n",
    "\n",
    "    @abc.abstractmethod\n",
    "    def print_message(self, message: str) -> None:\n",
    "        raise NotImplementedError\n",
    "\n",
    "    @abc.abstractmethod\n",
    "    def my_other_interface_function(self):\n",
    "        raise NotImplementedError"
   ]
  },
  {
   "cell_type": "markdown",
   "metadata": {},
   "source": [
    "Instantiating a `MyABCClass` object that implements the interface"
   ]
  },
  {
   "cell_type": "code",
   "execution_count": 9,
   "metadata": {},
   "outputs": [],
   "source": [
    "class MyABCClass(MySimpleABCInterface):\n",
    "    def print_message(self, message: str) -> None:\n",
    "        print(\"MyABCClass message:\", message)\n",
    "\n",
    "    def my_other_interface_function(self):\n",
    "        print(\"MyABCClass: in my_other_interface_function!\")\n",
    "\n",
    "my_abc_class = MyABCClass()"
   ]
  },
  {
   "cell_type": "markdown",
   "metadata": {},
   "source": [
    "Instantiating a `NotMyABCClass` object that does not implement all abstract methos in interface"
   ]
  },
  {
   "cell_type": "code",
   "execution_count": 10,
   "metadata": {},
   "outputs": [
    {
     "name": "stdout",
     "output_type": "stream",
     "text": [
      "trying to instantiate an object that does not implement interface will throw a TypeError exception\n"
     ]
    }
   ],
   "source": [
    "class NotMyABCClass(MySimpleABCInterface):                 # fails to implement all abstract methods\n",
    "    def print_message(self, message: str) -> None:\n",
    "        print(\"NotMyABCClass message:\", message)\n",
    "\n",
    "try:\n",
    "    my_not_abc_class = NotMyABCClass()\n",
    "except TypeError:\n",
    "    print(\"trying to instantiate an object that does not implement interface will throw a TypeError exception\")\n",
    "\n"
   ]
  },
  {
   "cell_type": "markdown",
   "metadata": {},
   "source": [
    "Now check the two instances..."
   ]
  },
  {
   "cell_type": "code",
   "execution_count": 11,
   "metadata": {},
   "outputs": [
    {
     "name": "stdout",
     "output_type": "stream",
     "text": [
      "overridding subclass hook in MySimpleABCInterface\n",
      "self = <class '__main__.MySimpleABCInterface'>\n",
      "subclass = <class '__main__.MyABCClass'>\n",
      "issubclass(MyABCClass, MySimpleABCInterface) = True\n",
      "overridding subclass hook in MySimpleABCInterface\n",
      "self = <class '__main__.MySimpleABCInterface'>\n",
      "subclass = <class '__main__.NotMyABCClass'>\n",
      "issubclass(NotMyABCClass, MySimpleABCInterface) = True\n"
     ]
    }
   ],
   "source": [
    "print(\"issubclass(MyABCClass, MySimpleABCInterface) =\", issubclass(MyABCClass, MySimpleABCInterface))\n",
    "# note the following will return True to say it is because you have defined methods in interface\n",
    "print(\"issubclass(NotMyABCClass, MySimpleABCInterface) =\", issubclass(NotMyABCClass, MySimpleABCInterface))"
   ]
  }
 ],
 "metadata": {
  "kernelspec": {
   "display_name": "Python 3.10.7 64-bit",
   "language": "python",
   "name": "python3"
  },
  "language_info": {
   "codemirror_mode": {
    "name": "ipython",
    "version": 3
   },
   "file_extension": ".py",
   "mimetype": "text/x-python",
   "name": "python",
   "nbconvert_exporter": "python",
   "pygments_lexer": "ipython3",
   "version": "3.10.7"
  },
  "orig_nbformat": 4,
  "vscode": {
   "interpreter": {
    "hash": "c19fa61d258bb2b35aae2ada233c33e2817c1ce895aa48acba720c6bf7cbe3cb"
   }
  }
 },
 "nbformat": 4,
 "nbformat_minor": 2
}
