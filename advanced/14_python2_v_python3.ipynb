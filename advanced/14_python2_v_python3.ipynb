{
 "cells": [
  {
   "cell_type": "markdown",
   "metadata": {},
   "source": [
    "# Python 2 v Python 3\n",
    "\n",
    "Not intended to be a full and complete list just some examples of the more interesting changes.\n",
    "\n",
    "See https://docs.python.org/3/whatsnew/\n"
   ]
  },
  {
   "cell_type": "markdown",
   "metadata": {},
   "source": [
    "`print` now a function"
   ]
  },
  {
   "cell_type": "code",
   "execution_count": 1,
   "metadata": {},
   "outputs": [
    {
     "name": "stdout",
     "output_type": "stream",
     "text": [
      "hello world!\n"
     ]
    }
   ],
   "source": [
    "print(\"hello world!\")                                           # Python 2: print \"hello world!\""
   ]
  },
  {
   "cell_type": "markdown",
   "metadata": {},
   "source": [
    "`input()` now longer evaluates input so input now same as `raw_input` (deprecated)"
   ]
  },
  {
   "cell_type": "code",
   "execution_count": null,
   "metadata": {},
   "outputs": [],
   "source": [
    "my_string = input()                                             # PEP 3111 in Python 3.0\n",
    "print(my_string)"
   ]
  },
  {
   "cell_type": "markdown",
   "metadata": {},
   "source": [
    "New `.isascii()` attribute for strings"
   ]
  },
  {
   "cell_type": "code",
   "execution_count": 2,
   "metadata": {},
   "outputs": [
    {
     "name": "stdout",
     "output_type": "stream",
     "text": [
      "my_char.isascii() = True\n"
     ]
    }
   ],
   "source": [
    "my_char = 'c'\n",
    "print(\"my_char.isascii() =\", my_char.isascii())                 # New in Python 3.7"
   ]
  },
  {
   "cell_type": "markdown",
   "metadata": {},
   "source": [
    "Integer division now result in a float"
   ]
  },
  {
   "cell_type": "code",
   "execution_count": 3,
   "metadata": {},
   "outputs": [
    {
     "name": "stdout",
     "output_type": "stream",
     "text": [
      "1.5\n"
     ]
    }
   ],
   "source": [
    "a = 3 / 2\n",
    "print(a)"
   ]
  },
  {
   "cell_type": "markdown",
   "metadata": {},
   "source": [
    "There are no longs any more in Python 3"
   ]
  },
  {
   "cell_type": "code",
   "execution_count": 4,
   "metadata": {},
   "outputs": [
    {
     "name": "stdout",
     "output_type": "stream",
     "text": [
      "type(65536*65536) = <class 'int'>\n",
      "ints can be of any size 13407807929942597099574024998205846127479365820592393377723561443721764030073546976801874298166903427690031858186486050853753882811946569946433649006084096\n"
     ]
    }
   ],
   "source": [
    "print(\"type(65536*65536) =\", type(65536*65536))                 # Python 2: <type 'long'>\n",
    "print(\"ints can be of any size\", 65536**32)"
   ]
  },
  {
   "cell_type": "markdown",
   "metadata": {},
   "source": [
    "Strings are unicode by default, no u prefix required"
   ]
  },
  {
   "cell_type": "code",
   "execution_count": 5,
   "metadata": {},
   "outputs": [],
   "source": [
    "my_string = \"\\u018e\""
   ]
  },
  {
   "cell_type": "markdown",
   "metadata": {},
   "source": [
    "Classes are new-style only and type of class can be used to mean the same"
   ]
  },
  {
   "cell_type": "code",
   "execution_count": 6,
   "metadata": {},
   "outputs": [
    {
     "name": "stdout",
     "output_type": "stream",
     "text": [
      "instance bob.__class__ = <class '__main__.Bob'>\n",
      "type(bob) = <class '__main__.Bob'>\n"
     ]
    }
   ],
   "source": [
    "class Bob:                      # no need to use Bob(object) to use new-style class in Python 3\n",
    "    def __init__(self):\n",
    "        pass\n",
    "\n",
    "bob = Bob()\n",
    "print(\"instance bob.__class__ =\", bob.__class__)\n",
    "print(\"type(bob) =\", type(bob))     # this would return built-in type 'instance' in Python 2"
   ]
  },
  {
   "cell_type": "markdown",
   "metadata": {},
   "source": [
    "Classes are instances of object but also the metaclass 'type'"
   ]
  },
  {
   "cell_type": "code",
   "execution_count": 7,
   "metadata": {},
   "outputs": [
    {
     "name": "stdout",
     "output_type": "stream",
     "text": [
      "type(Bob) = <class 'type'>\n",
      "type(type) = <class 'type'>\n",
      "Bob.__bases__ = (<class 'object'>,)\n",
      "Bob.__mro__ =  (<class '__main__.Bob'>, <class 'object'>)\n"
     ]
    }
   ],
   "source": [
    "print(\"type(Bob) =\", type(Bob))         # type metaclass is an instance of itself\n",
    "print(\"type(type) =\", type(type))       # type() is an instance of itself, type returns a new instance of type metaclass\n",
    "print(\"Bob.__bases__ =\", Bob.__bases__)\n",
    "print(\"Bob.__mro__ = \", Bob.__mro__)    # new style allows for method resolution order to be seen"
   ]
  },
  {
   "cell_type": "markdown",
   "metadata": {},
   "source": [
    "`range()` now returns an iterable range object instead of a list..."
   ]
  },
  {
   "cell_type": "code",
   "execution_count": 8,
   "metadata": {},
   "outputs": [
    {
     "name": "stdout",
     "output_type": "stream",
     "text": [
      "type(range_object) = range(0, 1000)\n",
      "...so no more need for xrange\n"
     ]
    }
   ],
   "source": [
    "range_object = range(1000)                                                 # better memory footprint\n",
    "print(\"type(range_object) =\", range_object)\n",
    "print(\"...so no more need for xrange\")"
   ]
  },
  {
   "cell_type": "markdown",
   "metadata": {},
   "source": [
    "`items()` and not `iteritems()` (PEP 3106)"
   ]
  },
  {
   "cell_type": "code",
   "execution_count": 9,
   "metadata": {},
   "outputs": [
    {
     "name": "stdout",
     "output_type": "stream",
     "text": [
      "bob 1\n",
      "sally 2\n"
     ]
    }
   ],
   "source": [
    "my_dict = {'bob': 1, 'sally': 2}\n",
    "for k, v in my_dict.items():                                    # Python 2: my_dict.iteritems()...\n",
    "    print(k, v)                                                 # ...items() is a generator"
   ]
  },
  {
   "cell_type": "markdown",
   "metadata": {},
   "source": [
    "No `has_key()` dictionary attribute any more"
   ]
  },
  {
   "cell_type": "code",
   "execution_count": 10,
   "metadata": {},
   "outputs": [
    {
     "name": "stdout",
     "output_type": "stream",
     "text": [
      "no attribute has_key() any more\n",
      "True\n"
     ]
    }
   ],
   "source": [
    "try:\n",
    "    print(my_dict.has_key('bob'))\n",
    "except AttributeError:\n",
    "    print(\"no attribute has_key() any more\")\n",
    "print('bob' in my_dict)"
   ]
  },
  {
   "cell_type": "markdown",
   "metadata": {},
   "source": [
    "Exception formatting no longer supports comma"
   ]
  },
  {
   "cell_type": "code",
   "execution_count": 11,
   "metadata": {},
   "outputs": [
    {
     "name": "stdout",
     "output_type": "stream",
     "text": [
      "except ValueError, e is no longer supported...\n"
     ]
    }
   ],
   "source": [
    "try:\n",
    "    print(\"except ValueError, e is no longer supported...\")\n",
    "except ValueError as e:    # rather than \"except ValueError, e\" which is no longer supported\n",
    "    pass"
   ]
  },
  {
   "cell_type": "markdown",
   "metadata": {},
   "source": [
    "New suppress feature"
   ]
  },
  {
   "cell_type": "code",
   "execution_count": 12,
   "metadata": {},
   "outputs": [
    {
     "name": "stdout",
     "output_type": "stream",
     "text": [
      "use suppress when you wish to pass on certain exceptions...\n"
     ]
    }
   ],
   "source": [
    "from contextlib import suppress         # New feature in Python 3.4\n",
    "\n",
    "with suppress(AttributeError):\n",
    "    print(\"use suppress when you wish to pass on certain exceptions...\")\n",
    "    print(my_dict.womble)"
   ]
  },
  {
   "cell_type": "markdown",
   "metadata": {},
   "source": [
    "`with` statement is now a builtin rather than `__future__` feature"
   ]
  },
  {
   "cell_type": "code",
   "execution_count": 13,
   "metadata": {},
   "outputs": [],
   "source": [
    "try:\n",
    "    with open('random.txt', 'r',) as f:\n",
    "        print(\"hello!\")\n",
    "except FileNotFoundError:\n",
    "    pass"
   ]
  },
  {
   "cell_type": "markdown",
   "metadata": {},
   "source": [
    "`cmp()` no longer supported"
   ]
  },
  {
   "cell_type": "code",
   "execution_count": 14,
   "metadata": {},
   "outputs": [
    {
     "name": "stdout",
     "output_type": "stream",
     "text": [
      "cmp no longer supported in Python 3...\n",
      "my_cmp(a, b) = 1\n"
     ]
    }
   ],
   "source": [
    "try:\n",
    "    a = [1, 2, 3]\n",
    "    b = [1, 2, 3]\n",
    "    c = cmp(a, b)\n",
    "except NameError:\n",
    "    print(\"cmp no longer supported in Python 3...\")\n",
    "\n",
    "# you can implement it yourself if you so wish\n",
    "def my_cmp(a_value, b_value):\n",
    "    return (a_value > b_value) - (a_value < b_value)\n",
    "\n",
    "a = [1, 4, 3]\n",
    "b = [1, 2, 2]\n",
    "print(\"my_cmp(a, b) =\", my_cmp(a, b))"
   ]
  },
  {
   "cell_type": "markdown",
   "metadata": {},
   "source": [
    "When creating an immutable bytes object the bytes() constructor is different"
   ]
  },
  {
   "cell_type": "code",
   "execution_count": 15,
   "metadata": {},
   "outputs": [
    {
     "name": "stdout",
     "output_type": "stream",
     "text": [
      "b'\\x13\\x00\\x00\\x00\\x08\\x00'\n"
     ]
    }
   ],
   "source": [
    "# Python 2: key = ''.join(chr(x) for x in [0x13, ....]) -> str\n",
    "key = bytes([0x13, 0x00, 0x00, 0x00, 0x08, 0x00])\n",
    "print(key)"
   ]
  },
  {
   "cell_type": "markdown",
   "metadata": {},
   "source": [
    "Iterable unpacking  (PEP 3132 in Python 3.0)"
   ]
  },
  {
   "cell_type": "code",
   "execution_count": 16,
   "metadata": {},
   "outputs": [
    {
     "name": "stdout",
     "output_type": "stream",
     "text": [
      "first = first\n",
      "second = second\n",
      "rest = ['bob', 'sally', 'brian']\n"
     ]
    }
   ],
   "source": [
    "first, second, *rest = ['first', 'second', 'bob', 'sally', 'brian']\n",
    "print(\"first =\", first)\n",
    "print(\"second =\", second)\n",
    "print(\"rest =\", rest)"
   ]
  },
  {
   "cell_type": "markdown",
   "metadata": {},
   "source": [
    "`nonlocal` keyword (PEP 3104)"
   ]
  },
  {
   "cell_type": "code",
   "execution_count": 17,
   "metadata": {},
   "outputs": [],
   "source": [
    "def my_nested_func():\n",
    "    my_enclosing_variable = 'bob'\n",
    "\n",
    "    def my_func_in_func_modifier():\n",
    "        nonlocal my_enclosing_variable\n",
    "        my_enclosing_variable = 'sally'\n",
    "\n",
    "    my_func_in_func_modifier()\n",
    "    print(\"modified my_enclosing_variable =\", my_enclosing_variable)"
   ]
  },
  {
   "cell_type": "markdown",
   "metadata": {},
   "source": [
    "Keyword only functions"
   ]
  },
  {
   "cell_type": "code",
   "execution_count": 18,
   "metadata": {},
   "outputs": [
    {
     "name": "stdout",
     "output_type": "stream",
     "text": [
      "keyword only arguments...\n",
      "3 bob\n"
     ]
    }
   ],
   "source": [
    "def my_keyword_only_function(*, keyword_param_1, keyword_param_2):\n",
    "    print(keyword_param_1, keyword_param_2)\n",
    "\n",
    "try:\n",
    "    my_keyword_only_function(3, 'bob')                          # PEP 3102 in Python 3.0\n",
    "except TypeError:\n",
    "    print(\"keyword only arguments...\")\n",
    "    my_keyword_only_function(keyword_param_1=3, keyword_param_2='bob')"
   ]
  },
  {
   "cell_type": "markdown",
   "metadata": {},
   "source": [
    "Function hinting"
   ]
  },
  {
   "cell_type": "code",
   "execution_count": 19,
   "metadata": {},
   "outputs": [],
   "source": [
    "def my_type_hinted_function2(name: str) -> bool:                # PEP 3107/484\n",
    "    return \"bob\""
   ]
  },
  {
   "cell_type": "markdown",
   "metadata": {},
   "source": [
    "New exceptions"
   ]
  },
  {
   "cell_type": "code",
   "execution_count": 20,
   "metadata": {},
   "outputs": [
    {
     "name": "stdout",
     "output_type": "stream",
     "text": [
      "new exception FileNotFoundError...\n"
     ]
    }
   ],
   "source": [
    "\n",
    "try:\n",
    "    f = open('does_not_exist.txt', 'r')\n",
    "except FileNotFoundError:\n",
    "    print(\"new exception FileNotFoundError...\")"
   ]
  },
  {
   "cell_type": "markdown",
   "metadata": {},
   "source": [
    "`super()` requires no parameters"
   ]
  },
  {
   "cell_type": "code",
   "execution_count": 21,
   "metadata": {},
   "outputs": [
    {
     "name": "stdout",
     "output_type": "stream",
     "text": [
      "BaseClass __init__\n",
      "DerivedClass __init__\n"
     ]
    }
   ],
   "source": [
    "class BaseClass:\n",
    "    def __init__(self):\n",
    "        print(\"BaseClass __init__\")\n",
    "\n",
    "class DerivedClass(BaseClass):\n",
    "    def __init__(self):\n",
    "        super().__init__()                                      # PEP 3135: no parameter required for super()\n",
    "        print(\"DerivedClass __init__\")\n",
    "\n",
    "my_instance = DerivedClass()"
   ]
  },
  {
   "cell_type": "markdown",
   "metadata": {},
   "source": [
    "`next()` is now a builtin function"
   ]
  },
  {
   "cell_type": "code",
   "execution_count": 22,
   "metadata": {},
   "outputs": [
    {
     "name": "stdout",
     "output_type": "stream",
     "text": [
      "next(my_list_iter) = 1\n"
     ]
    }
   ],
   "source": [
    "my_list_iter = iter([1, 2, 3])                                  # PEP 3114 in Python 3.0\n",
    "print(\"next(my_list_iter) =\", next(my_list_iter))               # Python 2: my_list_iter.next(), now __next__()"
   ]
  },
  {
   "cell_type": "markdown",
   "metadata": {},
   "source": [
    "f-strings"
   ]
  },
  {
   "cell_type": "code",
   "execution_count": 23,
   "metadata": {},
   "outputs": [
    {
     "name": "stdout",
     "output_type": "stream",
     "text": [
      "hello Bob\n"
     ]
    }
   ],
   "source": [
    "my_variable = 'bob'\n",
    "my_f_string = f\"hello {my_variable.capitalize()}\"               # PEP 498 in Python 3.6\n",
    "print(my_f_string)"
   ]
  },
  {
   "cell_type": "markdown",
   "metadata": {},
   "source": [
    "`statistics` module (PEP 450 in Python 3.4)"
   ]
  },
  {
   "cell_type": "code",
   "execution_count": 24,
   "metadata": {},
   "outputs": [
    {
     "name": "stdout",
     "output_type": "stream",
     "text": [
      "statistics.mean(my_list) = 3.6333333333333333\n",
      "statistics.stdev(my_list) = 1.7897858344878397\n"
     ]
    }
   ],
   "source": [
    "import statistics                       # New module in Python 3.4\n",
    "\n",
    "my_list = [3.2, 5.6, 2.1]\n",
    "print(\"statistics.mean(my_list) =\", statistics.mean(my_list))\n",
    "print(\"statistics.stdev(my_list) =\", statistics.stdev(my_list))"
   ]
  },
  {
   "cell_type": "markdown",
   "metadata": {},
   "source": [
    "\n",
    "`ipaddress` module (New in Python 3.3)"
   ]
  },
  {
   "cell_type": "code",
   "execution_count": 25,
   "metadata": {},
   "outputs": [
    {
     "name": "stdout",
     "output_type": "stream",
     "text": [
      "type(address) = <class 'ipaddress.IPv4Address'>\n",
      "address.is_multicast = True\n",
      "type(address) = <class 'ipaddress.IPv6Address'>\n"
     ]
    }
   ],
   "source": [
    "import ipaddress                        # New module in Python 3.3\n",
    "\n",
    "address = ipaddress.ip_address('239.255.255.250')\n",
    "print(\"type(address) =\", type(address))\n",
    "print(\"address.is_multicast =\", address.is_multicast)\n",
    "address = ipaddress.ip_address('2001:db8::')\n",
    "print(\"type(address) =\", type(address))"
   ]
  },
  {
   "cell_type": "markdown",
   "metadata": {},
   "source": [
    "`tracemalloc` module (PEP 454 in Python 3.4)"
   ]
  },
  {
   "cell_type": "code",
   "execution_count": 26,
   "metadata": {},
   "outputs": [
    {
     "name": "stdout",
     "output_type": "stream",
     "text": [
      "C:\\Users\\Mike\\AppData\\Local\\Temp\\ipykernel_1440\\2583321658.py:4: size=28.9 KiB, count=744, average=40 B\n",
      "c:\\python310\\lib\\codeop.py:118: size=776 B, count=11, average=71 B\n",
      "C:\\Users\\Mike\\AppData\\Local\\Temp\\ipykernel_1440\\2583321658.py:5: size=416 B, count=1, average=416 B\n",
      "C:\\Users\\Mike\\AppData\\Roaming\\Python\\Python310\\site-packages\\IPython\\core\\interactiveshell.py:3373: size=112 B, count=1, average=112 B\n",
      "C:\\Users\\Mike\\AppData\\Roaming\\Python\\Python310\\site-packages\\IPython\\core\\interactiveshell.py:3363: size=96 B, count=3, average=32 B\n",
      "C:\\Users\\Mike\\AppData\\Roaming\\Python\\Python310\\site-packages\\IPython\\core\\interactiveshell.py:3422: size=64 B, count=1, average=64 B\n",
      "C:\\Users\\Mike\\AppData\\Roaming\\Python\\Python310\\site-packages\\IPython\\core\\compilerop.py:177: size=28 B, count=1, average=28 B\n"
     ]
    }
   ],
   "source": [
    "import tracemalloc                      # New module in Python 3.4\n",
    "\n",
    "tracemalloc.start()\n",
    "trace_malloc_vector = [z for z in range(1000)]\n",
    "memory_snapshot = tracemalloc.take_snapshot()\n",
    "stats = memory_snapshot.statistics('lineno')\n",
    "for stat in stats[:10]:\n",
    "    print(stat)"
   ]
  },
  {
   "cell_type": "markdown",
   "metadata": {},
   "source": [
    "New time functions for measuring relative time"
   ]
  },
  {
   "cell_type": "code",
   "execution_count": 27,
   "metadata": {},
   "outputs": [
    {
     "name": "stdout",
     "output_type": "stream",
     "text": [
      "elapsed time from time.perf_counter() = 0.0001292000088142231\n",
      "elapsed time from time.process_time() = 0.0\n"
     ]
    }
   ],
   "source": [
    "import time\n",
    "\n",
    "start_time = time.perf_counter()                                # PEP 418 in Python 3.3\n",
    "print(\"elapsed time from time.perf_counter() =\", time.perf_counter() - start_time)\n",
    "start_time = time.process_time()\n",
    "print(\"elapsed time from time.process_time() =\", time.process_time() - start_time)"
   ]
  },
  {
   "cell_type": "markdown",
   "metadata": {},
   "source": [
    "`reduce()` is no longer builtin function - part of `functools`..."
   ]
  },
  {
   "cell_type": "code",
   "execution_count": 28,
   "metadata": {},
   "outputs": [
    {
     "name": "stdout",
     "output_type": "stream",
     "text": [
      "-1\n"
     ]
    }
   ],
   "source": [
    "from functools import reduce            # No longer a builtin function\n",
    "\n",
    "def my_reducer(x, y): return x if x < y else y\n",
    "\n",
    "print(reduce(my_reducer, [5, 3, -1, 4]))"
   ]
  },
  {
   "cell_type": "markdown",
   "metadata": {},
   "source": [
    "`@=` and `@` are new operators introduced in Python 3.5 performing matrix multiplication..."
   ]
  },
  {
   "cell_type": "code",
   "execution_count": 29,
   "metadata": {},
   "outputs": [
    {
     "name": "stdout",
     "output_type": "stream",
     "text": [
      "but no supported for any built in types...\n"
     ]
    }
   ],
   "source": [
    "A = [[1,2], [3,4]]\n",
    "B = [[10,100], [10, 100]]\n",
    "try:\n",
    "    print(A @ B)                                                # PEP 465 in Python 3.5\n",
    "except TypeError:\n",
    "    print(\"but no supported for any built in types...\")"
   ]
  },
  {
   "cell_type": "markdown",
   "metadata": {},
   "source": [
    "There are plenty more so see https://docs.python.org/3/whatsnew/ ..."
   ]
  }
 ],
 "metadata": {
  "kernelspec": {
   "display_name": "Python 3.10.7 64-bit",
   "language": "python",
   "name": "python3"
  },
  "language_info": {
   "codemirror_mode": {
    "name": "ipython",
    "version": 3
   },
   "file_extension": ".py",
   "mimetype": "text/x-python",
   "name": "python",
   "nbconvert_exporter": "python",
   "pygments_lexer": "ipython3",
   "version": "3.10.7"
  },
  "orig_nbformat": 4,
  "vscode": {
   "interpreter": {
    "hash": "c19fa61d258bb2b35aae2ada233c33e2817c1ce895aa48acba720c6bf7cbe3cb"
   }
  }
 },
 "nbformat": 4,
 "nbformat_minor": 2
}
