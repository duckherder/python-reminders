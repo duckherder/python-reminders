{
 "cells": [
  {
   "cell_type": "markdown",
   "metadata": {},
   "source": [
    "# CPU and Memory Profiling\n",
    "\n",
    "Profiling CPU and memory with Python."
   ]
  },
  {
   "cell_type": "markdown",
   "metadata": {},
   "source": [
    "## Timing code\n",
    "\n",
    "We can use `time.time()` to time code. Let's define a few different versions of determining if a number is a prime number."
   ]
  },
  {
   "cell_type": "code",
   "execution_count": 1,
   "metadata": {},
   "outputs": [],
   "source": [
    "def is_prime_fn1(x):\n",
    "    for i in range(2, x-1):\n",
    "        if x % i == 0:\n",
    "            return False\n",
    "    return True\n",
    "\n",
    "def is_prime_fn2(x):\n",
    "    for i in range(2, int(x**.5)+1):\n",
    "        if x % i == 0:\n",
    "            return False\n",
    "    return True\n",
    "\n",
    "is_prime_lambda = lambda x: all(x % i != 0 for i in range(2, int(x**.5)+1))\n",
    "\n",
    "def get_primes(y, func):\n",
    "    _primes = []\n",
    "    for val in range(y):\n",
    "        if func(val):\n",
    "            _primes.append(val)\n",
    "    return _primes"
   ]
  },
  {
   "cell_type": "markdown",
   "metadata": {},
   "source": [
    "We can use `time` module to compare the different methods."
   ]
  },
  {
   "cell_type": "code",
   "execution_count": 3,
   "metadata": {},
   "outputs": [
    {
     "name": "stdout",
     "output_type": "stream",
     "text": [
      "is_prime_fn1: elapsed time = 0.018995285034179688 seconds\n",
      "is_prime_fn2: elapsed time = 0.002004384994506836 seconds\n",
      "is_prime_lambda: elapsed time = 0.004999637603759766 seconds\n"
     ]
    }
   ],
   "source": [
    "import time\n",
    "\n",
    "start_time = time.time()\n",
    "get_primes(1000, is_prime_fn1)\n",
    "print(f\"is_prime_fn1: elapsed time = {time.time() - start_time} seconds\")\n",
    "\n",
    "start_time = time.time()\n",
    "get_primes(1000, is_prime_fn2)\n",
    "print(f\"is_prime_fn2: elapsed time = {time.time() - start_time} seconds\")\n",
    "\n",
    "start_time = time.time()\n",
    "get_primes(1000, is_prime_lambda)\n",
    "print(f\"is_prime_lambda: elapsed time = {time.time() - start_time} seconds\")"
   ]
  },
  {
   "cell_type": "markdown",
   "metadata": {},
   "source": [
    "We can use `time.perf_counter()` for system wide elapsed time which includes sleeps and waits and anything else going on in the system when running."
   ]
  },
  {
   "cell_type": "code",
   "execution_count": 9,
   "metadata": {},
   "outputs": [
    {
     "name": "stdout",
     "output_type": "stream",
     "text": [
      "is_prime_fn1: elapsed time = 0.9100839999737218 seconds\n",
      "is_prime_fn2: elapsed time = 0.020037800015415996 seconds\n",
      "is_prime_lambda: elapsed time = 0.046718800003873184 seconds\n"
     ]
    }
   ],
   "source": [
    "start_time = time.perf_counter()            # time.clock() deprecated in Python 3.8\n",
    "get_primes(10000, is_prime_fn1)\n",
    "print(f\"is_prime_fn1: elapsed time = {time.perf_counter()- start_time} seconds\")\n",
    "\n",
    "start_time = time.perf_counter()\n",
    "get_primes(10000, is_prime_fn2)\n",
    "print(f\"is_prime_fn2: elapsed time = {time.perf_counter()- start_time} seconds\")\n",
    "\n",
    "start_time = time.perf_counter()\n",
    "get_primes(10000, is_prime_lambda)\n",
    "print(f\"is_prime_lambda: elapsed time = {time.perf_counter()- start_time} seconds\")"
   ]
  },
  {
   "cell_type": "markdown",
   "metadata": {},
   "source": [
    "We can use `time.process_time()` if only want time for this process, excluding any sleeps..."
   ]
  },
  {
   "cell_type": "code",
   "execution_count": 8,
   "metadata": {},
   "outputs": [
    {
     "name": "stdout",
     "output_type": "stream",
     "text": [
      "is_prime_fn1: elapsed time = 0.9375 seconds\n",
      "is_prime_fn2: elapsed time = 0.03125 seconds\n",
      "is_prime_lambda: elapsed time = 0.046875 seconds\n"
     ]
    }
   ],
   "source": [
    "start_time = time.process_time()\n",
    "get_primes(10000, is_prime_fn1)\n",
    "print(f\"is_prime_fn1: elapsed time = {time.process_time()- start_time} seconds\")\n",
    "\n",
    "start_time = time.process_time()\n",
    "get_primes(10000, is_prime_fn2)\n",
    "print(f\"is_prime_fn2: elapsed time = {time.process_time()- start_time} seconds\")\n",
    "\n",
    "start_time = time.process_time()\n",
    "get_primes(10000, is_prime_lambda)\n",
    "print(f\"is_prime_lambda: elapsed time = {time.process_time()- start_time} seconds\")"
   ]
  },
  {
   "cell_type": "markdown",
   "metadata": {},
   "source": [
    "We can use `time.process_time_ns()` for nanoseconds counting..."
   ]
  },
  {
   "cell_type": "code",
   "execution_count": 10,
   "metadata": {},
   "outputs": [
    {
     "name": "stdout",
     "output_type": "stream",
     "text": [
      "Hello!\n",
      "print elapsed time = 1043000ns\n"
     ]
    }
   ],
   "source": [
    "start_time = time.perf_counter_ns()\n",
    "print(\"Hello!\")\n",
    "print(f\"print elapsed time = {time.perf_counter_ns()- start_time}ns\")"
   ]
  },
  {
   "cell_type": "markdown",
   "metadata": {},
   "source": [
    "We can use `timeit.timeit()` if you prefer..."
   ]
  },
  {
   "cell_type": "code",
   "execution_count": 11,
   "metadata": {},
   "outputs": [
    {
     "name": "stdout",
     "output_type": "stream",
     "text": [
      "4.405430500017246\n",
      "0.10138859998551197\n",
      "0.2076089000038337\n"
     ]
    }
   ],
   "source": [
    "import timeit\n",
    "\n",
    "print(timeit.timeit(\"get_primes(10000, is_prime_fn1)\", globals=globals(), number=5))\n",
    "print(timeit.timeit(\"get_primes(10000, is_prime_fn2)\", globals=globals(), number=5))\n",
    "print(timeit.timeit(\"get_primes(10000, is_prime_lambda)\", globals=globals(), number=5))"
   ]
  },
  {
   "cell_type": "markdown",
   "metadata": {},
   "source": [
    "We can create and use a decorator if we so wish..."
   ]
  },
  {
   "cell_type": "code",
   "execution_count": 12,
   "metadata": {},
   "outputs": [
    {
     "name": "stdout",
     "output_type": "stream",
     "text": [
      "Number of tests executed = 10\n",
      "Mean execution time = 0.8055555555555556\n",
      "Standard deviation execution time = 0.08235098073355154\n",
      "Number of tests executed = 10\n",
      "Mean execution time = 0.022569444444444444\n",
      "Standard deviation execution time = 0.01135129933213717\n",
      "Number of tests executed = 10\n",
      "Mean execution time = 0.041666666666666664\n",
      "Standard deviation execution time = 0.015625\n"
     ]
    }
   ],
   "source": [
    "import statistics       # in standard library since Python 3.4/PEP450\n",
    "\n",
    "def time_primes(number_tests=1):\n",
    "    def my_time_prime_decorator(func):\n",
    "        def time_prime_execution(*args, **kwargs):\n",
    "            _tests = []\n",
    "            for t in range(1, number_tests):\n",
    "                _start_time = time.process_time()\n",
    "                func(*args, **kwargs)\n",
    "                _end_time = time.process_time()\n",
    "                _tests.append(_end_time - _start_time)\n",
    "            print(\"Number of tests executed =\", number_tests)\n",
    "            print(\"Mean execution time =\", statistics.mean(_tests))\n",
    "            print(\"Standard deviation execution time =\", statistics.stdev(_tests))\n",
    "        return time_prime_execution\n",
    "    return my_time_prime_decorator\n",
    "\n",
    "@time_primes(number_tests=10)\n",
    "def get_primes(y, func):\n",
    "    _primes = []\n",
    "    for val in range(y):\n",
    "        if func(val):\n",
    "            _primes.append(val)\n",
    "    return _primes\n",
    "\n",
    "get_primes(10000, is_prime_fn1)\n",
    "get_primes(10000, is_prime_fn2)\n",
    "get_primes(10000, is_prime_lambda)"
   ]
  },
  {
   "cell_type": "markdown",
   "metadata": {},
   "source": [
    "For large lists of data it is often much faster to create a dictionary than perform linear search..."
   ]
  },
  {
   "cell_type": "code",
   "execution_count": 17,
   "metadata": {},
   "outputs": [
    {
     "name": "stdout",
     "output_type": "stream",
     "text": [
      "(221333, 'sally')\n",
      "print elapsed time = 830700ns\n",
      "(221333, 'sally')\n",
      "print elapsed time = 466500ns\n"
     ]
    }
   ],
   "source": [
    "my_big_data_list = [(7263, 'bob'), (221333, 'sally'), (212892, 'simon')]\n",
    "# linear search\n",
    "start_time = time.perf_counter_ns()\n",
    "for x in my_big_data_list:\n",
    "    if x[0] == 221333:\n",
    "        print(x)\n",
    "print(f\"print elapsed time = {time.perf_counter_ns()- start_time}ns\")\n",
    "# or use a dictionary\n",
    "start_time = time.perf_counter_ns()\n",
    "my_big_data_list_dict = {x[0]: x for x in my_big_data_list}\n",
    "print(my_big_data_list_dict[221333])\n",
    "print(f\"print elapsed time = {time.perf_counter_ns()- start_time}ns\")\n"
   ]
  },
  {
   "cell_type": "markdown",
   "metadata": {},
   "source": [
    "## Memory usage"
   ]
  },
  {
   "cell_type": "markdown",
   "metadata": {},
   "source": [
    "Some objects have the `__sizeof__` attribute."
   ]
  },
  {
   "cell_type": "code",
   "execution_count": 22,
   "metadata": {},
   "outputs": [
    {
     "name": "stdout",
     "output_type": "stream",
     "text": [
      "type(my_number_list.__sizeof__) = class 'builtin_function_or_method'\n",
      "my_number_list.__sizeof__() = 72\n",
      "sys.getsizeof(1) = 28\n",
      "sys.getsizeof(my_number_list) = 88\n",
      "len(my_number_list) * (1).__sizeof__() = 112\n"
     ]
    }
   ],
   "source": [
    "import sys\n",
    "\n",
    "my_number_list = [1, 2, 3, 4]\n",
    "print(\"type(my_number_list.__sizeof__) =\", str(type(my_number_list.__sizeof__))[1:-1])\n",
    "print(\"my_number_list.__sizeof__() =\", my_number_list.__sizeof__())               # raw object size\n",
    "print(\"sys.getsizeof(1) =\", sys.getsizeof(1))\n",
    "print(\"sys.getsizeof(my_number_list) =\", sys.getsizeof(my_number_list))    # __sizeof__ + garbage collector overhead\n",
    "print(\"len(my_number_list) * (1).__sizeof__() =\", len(my_number_list) * (1).__sizeof__())"
   ]
  },
  {
   "cell_type": "markdown",
   "metadata": {},
   "source": [
    "Note that the total size of elements greater than list object size! What about a string list of the same length as the number list?"
   ]
  },
  {
   "cell_type": "code",
   "execution_count": 24,
   "metadata": {},
   "outputs": [
    {
     "name": "stdout",
     "output_type": "stream",
     "text": [
      "my_string_list.__sizeof__() = 72\n",
      "sys.getsizeof(my_string_list) = 88\n"
     ]
    }
   ],
   "source": [
    "my_string_list = ['Hello world', 'My name is Bob', 'Quick brown fox', 'Phillip the cat']\n",
    "print(\"my_string_list.__sizeof__() =\", my_string_list.__sizeof__())         # raw object size\n",
    "print(\"sys.getsizeof(my_string_list) =\", sys.getsizeof(my_string_list))     # __sizeof__ + garbage collector overhead"
   ]
  },
  {
   "cell_type": "markdown",
   "metadata": {},
   "source": [
    "String list is the same size as the number list.\n",
    "\n",
    "So now let's include the size of the actual items in each of the lists."
   ]
  },
  {
   "cell_type": "code",
   "execution_count": 27,
   "metadata": {},
   "outputs": [
    {
     "name": "stdout",
     "output_type": "stream",
     "text": [
      "sys.getsizeof(my_number_list) + sys.getsizeof(1) + ... = 200\n",
      "sys.getsizeof(my_string_list) + sys.getsizeof('Hello world') + ... = 339\n"
     ]
    }
   ],
   "source": [
    "print(\"sys.getsizeof(my_number_list) + sys.getsizeof(1) + ... =\",\n",
    "      sys.getsizeof(my_number_list) +\n",
    "      sys.getsizeof(1) +\n",
    "      sys.getsizeof(2) +\n",
    "      sys.getsizeof(3) +\n",
    "      sys.getsizeof(4))\n",
    "print(\"sys.getsizeof(my_string_list) + sys.getsizeof('Hello world') + ... =\",\n",
    "      sys.getsizeof(my_string_list) +\n",
    "      sys.getsizeof('Hello world') +\n",
    "      sys.getsizeof('My name is Bob') +\n",
    "      sys.getsizeof('Quick brown fox') +\n",
    "      sys.getsizeof('Phillip the cat'))\n"
   ]
  },
  {
   "cell_type": "markdown",
   "metadata": {},
   "source": [
    "So sizes do differ now we are totalling everything. We can also use `asizeof` instead."
   ]
  },
  {
   "cell_type": "code",
   "execution_count": 28,
   "metadata": {},
   "outputs": [
    {
     "name": "stdout",
     "output_type": "stream",
     "text": [
      "asizeof.asizeof(my_number_list) = 216\n",
      "asizeof.asizeof(my_string_list) = 344\n"
     ]
    }
   ],
   "source": [
    "from pympler import asizeof\n",
    "print(\"asizeof.asizeof(my_number_list) =\", asizeof.asizeof(my_number_list))\n",
    "print(\"asizeof.asizeof(my_string_list) =\", asizeof.asizeof(my_string_list))"
   ]
  },
  {
   "cell_type": "markdown",
   "metadata": {},
   "source": [
    "Using `tracemalloc`..."
   ]
  },
  {
   "cell_type": "code",
   "execution_count": null,
   "metadata": {},
   "outputs": [],
   "source": [
    "import tracemalloc\n",
    "\n",
    "tracemalloc.start()\n",
    "trace_malloc_vector = [z for z in range(1000)]\n",
    "memory_snapshot = tracemalloc.take_snapshot()\n",
    "stats = memory_snapshot.statistics('lineno')\n",
    "for stat in stats[:10]:\n",
    "    print(stat)"
   ]
  },
  {
   "cell_type": "markdown",
   "metadata": {},
   "source": [
    "Using `guppy`..."
   ]
  },
  {
   "cell_type": "code",
   "execution_count": 31,
   "metadata": {},
   "outputs": [
    {
     "name": "stdout",
     "output_type": "stream",
     "text": [
      "Partition of a set of 17 objects. Total size = 2232 bytes.\n",
      " Index  Count   %     Size   % Cumulative  % Kind (class / dict of class)\n",
      "     0      3  18     1328  59      1328  59 types.FrameType\n",
      "     1      1   6      176   8      1504  67 types.CodeType\n",
      "     2      2  12      152   7      1656  74 list\n",
      "     3      2  12      112   5      1768  79 tuple\n",
      "     4      1   6      104   5      1872  84 dict of ast.Interactive\n",
      "     5      3  18       92   4      1964  88 int\n",
      "     6      2  12       84   4      2048  92 bytes\n",
      "     7      1   6       72   3      2120  95 weakref.ReferenceType\n",
      "     8      1   6       64   3      2184  98 types.MethodType\n",
      "     9      1   6       48   2      2232 100 ast.Interactive\n"
     ]
    }
   ],
   "source": [
    "from guppy import hpy\n",
    "\n",
    "h = hpy()\n",
    "h.setrelheap()\n",
    "my_number_heaped_list = ['Red', 'Brown', 'Green', 'Blue']\n",
    "print(h.heap())"
   ]
  },
  {
   "cell_type": "markdown",
   "metadata": {},
   "source": [
    "Using `memory_profiler`..."
   ]
  },
  {
   "cell_type": "code",
   "execution_count": null,
   "metadata": {},
   "outputs": [],
   "source": [
    "from memory_profiler import profile\n",
    "\n",
    "@profile\n",
    "def my_func():\n",
    "    a = [1] * (10 ** 6)\n",
    "    b = [2] * (2 * 10 ** 7)\n",
    "    del b\n",
    "    return a\n",
    "\n",
    "my_func()"
   ]
  },
  {
   "cell_type": "markdown",
   "metadata": {},
   "source": [
    "Using `objgraph`..."
   ]
  },
  {
   "cell_type": "code",
   "execution_count": 32,
   "metadata": {},
   "outputs": [
    {
     "name": "stdout",
     "output_type": "stream",
     "text": [
      "dict                       27332\n",
      "function                   22305\n",
      "list                       15769\n",
      "tuple                      15601\n",
      "Operator                   7926\n",
      "ReferenceType              7713\n",
      "DFAPlan                    5418\n",
      "Name                       5008\n",
      "PythonNode                 4288\n",
      "builtin_function_or_method 3815\n",
      "dict        27321    +27321\n",
      "function    22305    +22305\n",
      "list        15766    +15766\n",
      "list           15767        +1\n",
      "Interactive        3        +1\n"
     ]
    }
   ],
   "source": [
    "import objgraph\n",
    "\n",
    "objgraph.show_most_common_types()\n",
    "objgraph.show_growth(limit=3)\n",
    "my_new_number_list = [1, 2, 3, 4]\n",
    "my_new_string_list = ['Hello world', 'My name is Bob', 'Quick brown fox', 'Phillip the cat']\n",
    "objgraph.show_growth()"
   ]
  }
 ],
 "metadata": {
  "kernelspec": {
   "display_name": "Python 3.10.7 64-bit",
   "language": "python",
   "name": "python3"
  },
  "language_info": {
   "codemirror_mode": {
    "name": "ipython",
    "version": 3
   },
   "file_extension": ".py",
   "mimetype": "text/x-python",
   "name": "python",
   "nbconvert_exporter": "python",
   "pygments_lexer": "ipython3",
   "version": "3.10.7"
  },
  "orig_nbformat": 4,
  "vscode": {
   "interpreter": {
    "hash": "c19fa61d258bb2b35aae2ada233c33e2817c1ce895aa48acba720c6bf7cbe3cb"
   }
  }
 },
 "nbformat": 4,
 "nbformat_minor": 2
}
