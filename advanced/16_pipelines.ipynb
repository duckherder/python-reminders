{
 "cells": [
  {
   "cell_type": "markdown",
   "metadata": {},
   "source": [
    "# Pipelines\n",
    "\n",
    "Data pipelines allow large amounts of data to be processed without loading into memory at once."
   ]
  },
  {
   "cell_type": "markdown",
   "metadata": {},
   "source": [
    "## Pull Pipelines\n",
    "\n",
    "Generators can be used for iteration based data pipelines"
   ]
  },
  {
   "cell_type": "code",
   "execution_count": 47,
   "metadata": {},
   "outputs": [],
   "source": [
    "def pipeline_stage_one_a(limit):\n",
    "    num = 0\n",
    "    while num <= limit:\n",
    "        print(\"pipeline_stage_one_a: stage 1 yield\")\n",
    "        yield num\n",
    "        num += 1\n",
    "\n",
    "def pipeline_stage_two(previous_stage_generator):\n",
    "    for value in previous_stage_generator:\n",
    "        print(\"pipeline_stage_two: stage 2 yield\")\n",
    "        yield value * value\n",
    "\n",
    "def pipeline_stage_three(previous_stage_generator):\n",
    "    for squared_value in previous_stage_generator:\n",
    "        squared_value += 1\n",
    "        print(\"pipeline_stage_three: stage 3 yield\")\n",
    "        yield squared_value"
   ]
  },
  {
   "cell_type": "markdown",
   "metadata": {},
   "source": [
    "Create a data pipeline using generators"
   ]
  },
  {
   "cell_type": "code",
   "execution_count": 48,
   "metadata": {},
   "outputs": [],
   "source": [
    "stage1 = pipeline_stage_one_a(limit=2)          # create initial generator - returns generator object, no execution\n",
    "stage2 = pipeline_stage_two(stage1)             # pass it to the next in the pipeline\n",
    "stage3 = pipeline_stage_three(stage2)           # pass it to the next in the pipeline"
   ]
  },
  {
   "cell_type": "markdown",
   "metadata": {},
   "source": [
    "Use iteration to pull data through pipeline"
   ]
  },
  {
   "cell_type": "code",
   "execution_count": 49,
   "metadata": {},
   "outputs": [
    {
     "name": "stdout",
     "output_type": "stream",
     "text": [
      "pipeline_stage_one_a: stage 1 yield\n",
      "pipeline_stage_two: stage 2 yield\n",
      "pipeline_stage_three: stage 3 yield\n",
      "x^2 + 1 = 1\n",
      "pipeline_stage_one_a: stage 1 yield\n",
      "pipeline_stage_two: stage 2 yield\n",
      "pipeline_stage_three: stage 3 yield\n",
      "x^2 + 1 = 2\n",
      "pipeline_stage_one_a: stage 1 yield\n",
      "pipeline_stage_two: stage 2 yield\n",
      "pipeline_stage_three: stage 3 yield\n",
      "x^2 + 1 = 5\n"
     ]
    }
   ],
   "source": [
    "for i in stage3:\n",
    "    print(\"x^2 + 1 =\", i)"
   ]
  },
  {
   "cell_type": "markdown",
   "metadata": {},
   "source": [
    "Same can be done using generator comprehensions"
   ]
  },
  {
   "cell_type": "code",
   "execution_count": 50,
   "metadata": {},
   "outputs": [
    {
     "name": "stdout",
     "output_type": "stream",
     "text": [
      "x^2 + 1 = 1\n",
      "x^2 + 1 = 2\n",
      "x^2 + 1 = 5\n"
     ]
    }
   ],
   "source": [
    "stage1 = (x for x in range(3))                 # create initial generator\n",
    "stage2 = (x*x for x in stage1)                  # pass it to the next in the pipeline\n",
    "stage3 = (x+1 for x in stage2)                  # pass it to the next in the pipeline\n",
    "\n",
    "# here we use iteration to pull the data through the pipeline from the end\n",
    "for i in stage3:\n",
    "    print(\"x^2 + 1 =\", i)"
   ]
  },
  {
   "cell_type": "markdown",
   "metadata": {},
   "source": [
    "You can create many-to-one generators in the pipeline with `zip`"
   ]
  },
  {
   "cell_type": "code",
   "execution_count": 51,
   "metadata": {},
   "outputs": [
    {
     "name": "stdout",
     "output_type": "stream",
     "text": [
      "pipeline_stage_one_a: stage 1 yield\n",
      "pipeline_stage_two: stage 2 yield\n",
      "pipeline_stage_one_b: stage 1a yield\n",
      "pipeline_stage_multiplex: stage 3 yield\n",
      "x^2 + 1 = 1 (x = 0)\n",
      "pipeline_stage_one_a: stage 1 yield\n",
      "pipeline_stage_two: stage 2 yield\n",
      "pipeline_stage_one_b: stage 1a yield\n",
      "pipeline_stage_multiplex: stage 3 yield\n",
      "x^2 + 1 = 2 (x = 1)\n",
      "pipeline_stage_one_a: stage 1 yield\n",
      "pipeline_stage_two: stage 2 yield\n",
      "pipeline_stage_one_b: stage 1a yield\n",
      "pipeline_stage_multiplex: stage 3 yield\n",
      "x^2 + 1 = 5 (x = 2)\n"
     ]
    }
   ],
   "source": [
    "def pipeline_stage_one_b(limit):\n",
    "    num = 0\n",
    "    while num <= limit:\n",
    "        print(\"pipeline_stage_one_b: stage 1a yield\")\n",
    "        yield f\"(x = {num})\"\n",
    "        num += 1\n",
    "\n",
    "def pipeline_stage_multiplex(previous_stage_generator_a, previous_stage_generator_b):\n",
    "    for squared_value, value_label in zip(previous_stage_generator_a, previous_stage_generator_b):\n",
    "        squared_value += 1\n",
    "        print(\"pipeline_stage_multiplex: stage 3 yield\")\n",
    "        yield f\"{squared_value} {value_label}\"\n",
    "\n",
    "stage1a = pipeline_stage_one_a(limit=2)                # create first generator\n",
    "stage1b = pipeline_stage_one_b(limit=2)                # create second generator\n",
    "stage2 = pipeline_stage_two(stage1a)                    # pass first to the next in the pipeline\n",
    "stage3 = pipeline_stage_multiplex(stage2, stage1b)      # pass two generators to the next in the pipeline\n",
    "\n",
    "for i in stage3:\n",
    "    print(\"x^2 + 1 =\", i)"
   ]
  },
  {
   "cell_type": "markdown",
   "metadata": {},
   "source": [
    "## Push Pipelines\n",
    "\n",
    "Coroutines can be used to create producer-consumer data pipelines"
   ]
  },
  {
   "cell_type": "code",
   "execution_count": 52,
   "metadata": {},
   "outputs": [],
   "source": [
    "def pipeline_producer(next_stage_coroutine, limit):\n",
    "    num = 0\n",
    "    _return_value = next_stage_coroutine.send(None)                 # prime the next stage in the pipeline\n",
    "    while num <= limit:\n",
    "        print(\"pipeline_producer: stage producer send\")\n",
    "        _return_value = next_stage_coroutine.send(num)\n",
    "        print(\"pipeline_producer: return value from producer send =\", _return_value)\n",
    "        num += 1\n",
    "    next_stage_coroutine.close()\n",
    "\n",
    "def pipeline_stage_one(next_stage_coroutine):\n",
    "    _return_value = next_stage_coroutine.send(None)\n",
    "    while True:\n",
    "        print(\"pipeline_stage_one: stage 1 yield\")\n",
    "        value = (yield _return_value)                               # yield back up the pipeline\n",
    "        print(\"pipeline_stage_one: stage 1 send\")\n",
    "        _return_value = next_stage_coroutine.send(value * value)    # send down the pipeline\n",
    "\n",
    "def pipeline_stage_two(next_stage_coroutine):\n",
    "    _return_value = next_stage_coroutine.send(None)\n",
    "    while True:\n",
    "        print(\"pipeline_stage_two: stage 2 yield\")\n",
    "        value = (yield _return_value)\n",
    "        print(\"pipeline_stage_two: stage 2 send\")\n",
    "        _return_value = next_stage_coroutine.send(value + 1)"
   ]
  },
  {
   "cell_type": "markdown",
   "metadata": {},
   "source": [
    "Now create a consumer for the pipeline."
   ]
  },
  {
   "cell_type": "code",
   "execution_count": 53,
   "metadata": {},
   "outputs": [],
   "source": [
    "def pipeline_stage_consumer(prefix_string):\n",
    "    while True:\n",
    "        print(\"pipeline_stage_consumer: stage consumer yield\")\n",
    "        value = (yield 'Consumed')\n",
    "        print(prefix_string, value)"
   ]
  },
  {
   "cell_type": "markdown",
   "metadata": {},
   "source": [
    "Build the pipeline starting with the consumer"
   ]
  },
  {
   "cell_type": "code",
   "execution_count": 54,
   "metadata": {},
   "outputs": [],
   "source": [
    "stage_consumer = pipeline_stage_consumer(\"x^2 + 1 =\")\n",
    "stage2 = pipeline_stage_two(stage_consumer)\n",
    "stage1 = pipeline_stage_one(stage2)"
   ]
  },
  {
   "cell_type": "markdown",
   "metadata": {},
   "source": [
    "Finally, push data data through the pipeline by calling producer."
   ]
  },
  {
   "cell_type": "code",
   "execution_count": 55,
   "metadata": {},
   "outputs": [
    {
     "name": "stdout",
     "output_type": "stream",
     "text": [
      "pipeline_stage_consumer: stage consumer yield\n",
      "pipeline_stage_two: stage 2 yield\n",
      "pipeline_stage_one: stage 1 yield\n",
      "pipeline_producer: stage producer send\n",
      "pipeline_stage_one: stage 1 send\n",
      "pipeline_stage_two: stage 2 send\n",
      "x^2 + 1 = 1\n",
      "pipeline_stage_consumer: stage consumer yield\n",
      "pipeline_stage_two: stage 2 yield\n",
      "pipeline_stage_one: stage 1 yield\n",
      "pipeline_producer: return value from producer send = Consumed\n",
      "pipeline_producer: stage producer send\n",
      "pipeline_stage_one: stage 1 send\n",
      "pipeline_stage_two: stage 2 send\n",
      "x^2 + 1 = 2\n",
      "pipeline_stage_consumer: stage consumer yield\n",
      "pipeline_stage_two: stage 2 yield\n",
      "pipeline_stage_one: stage 1 yield\n",
      "pipeline_producer: return value from producer send = Consumed\n",
      "pipeline_producer: stage producer send\n",
      "pipeline_stage_one: stage 1 send\n",
      "pipeline_stage_two: stage 2 send\n",
      "x^2 + 1 = 5\n",
      "pipeline_stage_consumer: stage consumer yield\n",
      "pipeline_stage_two: stage 2 yield\n",
      "pipeline_stage_one: stage 1 yield\n",
      "pipeline_producer: return value from producer send = Consumed\n"
     ]
    }
   ],
   "source": [
    "pipeline_producer(stage1, 2)"
   ]
  },
  {
   "cell_type": "markdown",
   "metadata": {},
   "source": [
    "Create a data pipeline with broadcasting coroutines"
   ]
  },
  {
   "cell_type": "code",
   "execution_count": 56,
   "metadata": {},
   "outputs": [],
   "source": [
    "def pipeline_stage_broadcaster(next_stage_coroutines):\n",
    "    for _sink in next_stage_coroutines:\n",
    "        _sink.send(None)\n",
    "    while True:\n",
    "        print(\"pipeline_stage_broadcaster: stage broadcast yield\")\n",
    "        value = (yield 'Broadcasting')\n",
    "        print(\"pipeline_stage_broadcaster: stage broadcasting\")\n",
    "        for _sink in next_stage_coroutines:\n",
    "            _sink.send(value)\n",
    "\n",
    "stage_consumer1 = pipeline_stage_consumer(\"consumer1: x^2 + 1 =\")\n",
    "stage_consumer2 = pipeline_stage_consumer(\"consumer2: x^2 + 1 =\")\n",
    "stage_broadcaster = pipeline_stage_broadcaster([stage_consumer1, stage_consumer2])\n",
    "stage2 = pipeline_stage_two(stage_broadcaster)\n",
    "stage1 = pipeline_stage_one(stage2)"
   ]
  },
  {
   "cell_type": "markdown",
   "metadata": {},
   "source": [
    "Again, push data data through the pipeline by calling producer."
   ]
  },
  {
   "cell_type": "code",
   "execution_count": 57,
   "metadata": {},
   "outputs": [
    {
     "name": "stdout",
     "output_type": "stream",
     "text": [
      "pipeline_stage_consumer: stage consumer yield\n",
      "pipeline_stage_consumer: stage consumer yield\n",
      "pipeline_stage_broadcaster: stage broadcast yield\n",
      "pipeline_stage_two: stage 2 yield\n",
      "pipeline_stage_one: stage 1 yield\n",
      "pipeline_producer: stage producer send\n",
      "pipeline_stage_one: stage 1 send\n",
      "pipeline_stage_two: stage 2 send\n",
      "pipeline_stage_broadcaster: stage broadcasting\n",
      "consumer1: x^2 + 1 = 1\n",
      "pipeline_stage_consumer: stage consumer yield\n",
      "consumer2: x^2 + 1 = 1\n",
      "pipeline_stage_consumer: stage consumer yield\n",
      "pipeline_stage_broadcaster: stage broadcast yield\n",
      "pipeline_stage_two: stage 2 yield\n",
      "pipeline_stage_one: stage 1 yield\n",
      "pipeline_producer: return value from producer send = Broadcasting\n",
      "pipeline_producer: stage producer send\n",
      "pipeline_stage_one: stage 1 send\n",
      "pipeline_stage_two: stage 2 send\n",
      "pipeline_stage_broadcaster: stage broadcasting\n",
      "consumer1: x^2 + 1 = 2\n",
      "pipeline_stage_consumer: stage consumer yield\n",
      "consumer2: x^2 + 1 = 2\n",
      "pipeline_stage_consumer: stage consumer yield\n",
      "pipeline_stage_broadcaster: stage broadcast yield\n",
      "pipeline_stage_two: stage 2 yield\n",
      "pipeline_stage_one: stage 1 yield\n",
      "pipeline_producer: return value from producer send = Broadcasting\n",
      "pipeline_producer: stage producer send\n",
      "pipeline_stage_one: stage 1 send\n",
      "pipeline_stage_two: stage 2 send\n",
      "pipeline_stage_broadcaster: stage broadcasting\n",
      "consumer1: x^2 + 1 = 5\n",
      "pipeline_stage_consumer: stage consumer yield\n",
      "consumer2: x^2 + 1 = 5\n",
      "pipeline_stage_consumer: stage consumer yield\n",
      "pipeline_stage_broadcaster: stage broadcast yield\n",
      "pipeline_stage_two: stage 2 yield\n",
      "pipeline_stage_one: stage 1 yield\n",
      "pipeline_producer: return value from producer send = Broadcasting\n"
     ]
    }
   ],
   "source": [
    "pipeline_producer(stage1, 2)"
   ]
  }
 ],
 "metadata": {
  "kernelspec": {
   "display_name": "Python 3.10.7 64-bit",
   "language": "python",
   "name": "python3"
  },
  "language_info": {
   "codemirror_mode": {
    "name": "ipython",
    "version": 3
   },
   "file_extension": ".py",
   "mimetype": "text/x-python",
   "name": "python",
   "nbconvert_exporter": "python",
   "pygments_lexer": "ipython3",
   "version": "3.10.7"
  },
  "orig_nbformat": 4,
  "vscode": {
   "interpreter": {
    "hash": "c19fa61d258bb2b35aae2ada233c33e2817c1ce895aa48acba720c6bf7cbe3cb"
   }
  }
 },
 "nbformat": 4,
 "nbformat_minor": 2
}
