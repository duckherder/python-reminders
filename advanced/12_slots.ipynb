{
 "cells": [
  {
   "cell_type": "markdown",
   "metadata": {},
   "source": [
    "# Slots\n",
    "\n",
    "`__slots__` attribute is capable of reducing memory overheads associated with `__dict__`."
   ]
  },
  {
   "cell_type": "code",
   "execution_count": 1,
   "metadata": {},
   "outputs": [],
   "source": [
    "class MyClassWithoutSlots(object):\n",
    "    def __init__(self, x):\n",
    "        self.x = x\n",
    "        self.y = 'hello' + str(x)\n",
    "        self.z = x * 113.8\n",
    "\n",
    "class MyClassWithSlots(object):\n",
    "    # instead of variables being stored in __dict__ known variables can be stored in __slots__\n",
    "    __slots__ = ['x', 'y', 'z']\n",
    "\n",
    "    def __init__(self, x):\n",
    "        self.x = x\n",
    "        self.y = 'hello' + str(x)\n",
    "        self.z = x * 113.8"
   ]
  },
  {
   "cell_type": "markdown",
   "metadata": {},
   "source": [
    "Create a 1000 instances of the two classes"
   ]
  },
  {
   "cell_type": "code",
   "execution_count": 2,
   "metadata": {},
   "outputs": [
    {
     "name": "stdout",
     "output_type": "stream",
     "text": [
      "Memory required for 1000 object without slots = 280216\n",
      "Memory required for 1000 object with slots = 184048\n"
     ]
    }
   ],
   "source": [
    "from pympler import asizeof\n",
    "\n",
    "my_instance_list_without_slots = [MyClassWithoutSlots(x) for x in range(1000)]\n",
    "my_instance_list_with_slots = [MyClassWithSlots(x) for x in range(1000)]\n",
    "\n",
    "# storing variables in __slots__ rather than __dict__ can save significant amount of RAM\n",
    "print(\"Memory required for 1000 object without slots =\", asizeof.asizeof(my_instance_list_without_slots))\n",
    "print(\"Memory required for 1000 object with slots =\", asizeof.asizeof(my_instance_list_with_slots))"
   ]
  },
  {
   "cell_type": "markdown",
   "metadata": {},
   "source": [
    "Different attributes and dictionaries."
   ]
  },
  {
   "cell_type": "code",
   "execution_count": 7,
   "metadata": {},
   "outputs": [
    {
     "name": "stdout",
     "output_type": "stream",
     "text": [
      "['__class__', '__delattr__', '__dict__', '__dir__', '__doc__', '__eq__', '__format__', '__ge__', '__getattribute__', '__gt__', '__hash__', '__init__', '__init_subclass__', '__le__', '__lt__', '__module__', '__ne__', '__new__', '__reduce__', '__reduce_ex__', '__repr__', '__setattr__', '__sizeof__', '__str__', '__subclasshook__', '__weakref__', 'x', 'y', 'z']\n",
      "['__class__', '__delattr__', '__dir__', '__doc__', '__eq__', '__format__', '__ge__', '__getattribute__', '__gt__', '__hash__', '__init__', '__init_subclass__', '__le__', '__lt__', '__module__', '__ne__', '__new__', '__reduce__', '__reduce_ex__', '__repr__', '__setattr__', '__sizeof__', '__slots__', '__str__', '__subclasshook__', 'x', 'y', 'z']\n",
      "{'x': 1, 'y': 'hello1', 'z': 113.8}\n",
      "['x', 'y', 'z']\n"
     ]
    }
   ],
   "source": [
    "my_instance_without_slots = MyClassWithoutSlots(1)\n",
    "my_instance_with_slots = MyClassWithSlots(1)\n",
    "print(dir(my_instance_without_slots))\n",
    "print(dir(my_instance_with_slots))    # no __dict__ or __weakref__\n",
    "print(my_instance_without_slots.__dict__)\n",
    "print(my_instance_with_slots.__slots__)"
   ]
  },
  {
   "cell_type": "markdown",
   "metadata": {},
   "source": [
    "But you can't add dynamic variables after creation."
   ]
  },
  {
   "cell_type": "code",
   "execution_count": 6,
   "metadata": {},
   "outputs": [
    {
     "name": "stdout",
     "output_type": "stream",
     "text": [
      "With __slots__ defined we can not add new dynamic variables after creation\n"
     ]
    }
   ],
   "source": [
    "my_instance_without_slots = MyClassWithoutSlots(1)\n",
    "my_instance_without_slots.dynamic_value = 1\n",
    "my_instance_with_slots = MyClassWithSlots(1)\n",
    "try:\n",
    "    my_instance_with_slots.dynamic_value = 1\n",
    "except AttributeError:\n",
    "    print(\"With __slots__ defined we can not add new dynamic variables after creation\")"
   ]
  }
 ],
 "metadata": {
  "kernelspec": {
   "display_name": "Python 3.10.7 64-bit",
   "language": "python",
   "name": "python3"
  },
  "language_info": {
   "codemirror_mode": {
    "name": "ipython",
    "version": 3
   },
   "file_extension": ".py",
   "mimetype": "text/x-python",
   "name": "python",
   "nbconvert_exporter": "python",
   "pygments_lexer": "ipython3",
   "version": "3.10.7"
  },
  "orig_nbformat": 4,
  "vscode": {
   "interpreter": {
    "hash": "c19fa61d258bb2b35aae2ada233c33e2817c1ce895aa48acba720c6bf7cbe3cb"
   }
  }
 },
 "nbformat": 4,
 "nbformat_minor": 2
}
