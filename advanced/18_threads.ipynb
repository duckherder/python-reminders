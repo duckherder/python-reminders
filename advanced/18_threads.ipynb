{
 "cells": [
  {
   "cell_type": "markdown",
   "metadata": {},
   "source": [
    "# Threads\n",
    "\n",
    "Create a thread"
   ]
  },
  {
   "cell_type": "code",
   "execution_count": 1,
   "metadata": {},
   "outputs": [
    {
     "name": "stdout",
     "output_type": "stream",
     "text": [
      "start thread\n",
      "in do_threading\n",
      "some_string = some arguments\n",
      "some_integer = 1\n",
      "returned from start, wait for the thread to complete using join()\n",
      "do_threading exiting...\n",
      "returned from join\n"
     ]
    }
   ],
   "source": [
    "import threading\n",
    "import time\n",
    "\n",
    "def do_threading(some_string, some_integer):\n",
    "    print(\"in do_threading\")\n",
    "    print(\"some_string =\", some_string)\n",
    "    print(\"some_integer =\", some_integer)\n",
    "    time.sleep(some_integer)\n",
    "    print(\"do_threading exiting...\")\n",
    "\n",
    "my_thread = threading.Thread(target=do_threading, args=('some arguments', 1))   # use 'daemon=True' to create daemon...\n",
    "print(\"start thread\")                                                           # background process which will\n",
    "my_thread.start()                                                               # terminate when program finishes\n",
    "print(\"returned from start, wait for the thread to complete using join()\")\n",
    "my_thread.join()\n",
    "print(\"returned from join\")"
   ]
  },
  {
   "cell_type": "markdown",
   "metadata": {},
   "source": [
    "Using a threaded class"
   ]
  },
  {
   "cell_type": "code",
   "execution_count": 2,
   "metadata": {},
   "outputs": [
    {
     "name": "stdout",
     "output_type": "stream",
     "text": [
      "start the threaded class\n",
      "MyThread::run: still working\n",
      "go away and do lots of crazy stuff\n",
      "MyThread::run: still working\n",
      "MyThread::run: still working\n",
      "MyThread::run: still working\n",
      "MyThread::run: still working\n",
      "MyThread::run: still working\n",
      "ok that's all done, don't need that thread any more\n",
      "back from stop_processing\n",
      "MyThread::run: stopped working\n"
     ]
    }
   ],
   "source": [
    "class MyThread(threading.Thread):\n",
    "    def __init__(self):\n",
    "        self.main_lock = threading.Lock()\n",
    "        self.continue_processing = True\n",
    "        super().__init__()\n",
    "\n",
    "    def get_continue_processing(self):\n",
    "        with self.main_lock:\n",
    "            return self.continue_processing\n",
    "\n",
    "    def stop_processing(self):\n",
    "        with self.main_lock:\n",
    "            self.continue_processing = False\n",
    "\n",
    "    def run(self):\n",
    "        while self.get_continue_processing():\n",
    "            print(\"MyThread::run: still working\")\n",
    "            time.sleep(0.5)\n",
    "        print(\"MyThread::run: stopped working\")\n",
    "\n",
    "my_threaded_class = MyThread()\n",
    "print(\"start the threaded class\")\n",
    "my_threaded_class.start()\n",
    "print(\"go away and do lots of crazy stuff\")\n",
    "time.sleep(3)\n",
    "print(\"ok that's all done, don't need that thread any more\")\n",
    "my_threaded_class.stop_processing()\n",
    "print(\"back from stop_processing\")\n",
    "time.sleep(2)           # let MyThread stop before doing anything else"
   ]
  },
  {
   "cell_type": "markdown",
   "metadata": {},
   "source": [
    "Using a thread pool executor for launching multiple threads"
   ]
  },
  {
   "cell_type": "code",
   "execution_count": 3,
   "metadata": {},
   "outputs": [
    {
     "name": "stdout",
     "output_type": "stream",
     "text": [
      "submit do_some_stuff\n",
      "submit do_some_other_stuff\n",
      "<Future at 0x139956a6830 state=running>\n",
      "<Future at 0x1399479b6d0 state=running>\n",
      "wait for threads to complete\n",
      "done some other stuff\n",
      "<Future at 0x1399479b6d0 state=finished returned str>\n",
      "result from this thread = do_some_other_stuff return value\n",
      "done some stuff\n",
      "<Future at 0x139956a6830 state=finished returned str>\n",
      "result from this thread = do_some_stuff return value\n"
     ]
    }
   ],
   "source": [
    "import concurrent.futures\n",
    "\n",
    "def do_some_stuff():\n",
    "    time.sleep(3)\n",
    "    print(\"done some stuff\")\n",
    "    return 'do_some_stuff return value'\n",
    "\n",
    "def do_some_other_stuff():\n",
    "    time.sleep(1)\n",
    "    print(\"done some other stuff\")\n",
    "    return 'do_some_other_stuff return value'\n",
    "\n",
    "executor = concurrent.futures.ThreadPoolExecutor(max_workers=2)\n",
    "print(\"submit do_some_stuff\")\n",
    "stuff_future_object = executor.submit(do_some_stuff)\n",
    "print(\"submit do_some_other_stuff\")\n",
    "other_future_object = executor.submit(do_some_other_stuff)\n",
    "print(stuff_future_object)\n",
    "print(other_future_object)\n",
    "print(\"wait for threads to complete\")\n",
    "for f in concurrent.futures.as_completed([stuff_future_object, other_future_object]):\n",
    "    print(f)\n",
    "    print(\"result from this thread =\", f.result())"
   ]
  },
  {
   "cell_type": "markdown",
   "metadata": {},
   "source": [
    "Using map to launch multiple worker threads"
   ]
  },
  {
   "cell_type": "code",
   "execution_count": 4,
   "metadata": {},
   "outputs": [
    {
     "name": "stdout",
     "output_type": "stream",
     "text": [
      "starting worker thread to calculate length of bob\n",
      "starting worker thread to calculate length of denise\n",
      "starting worker thread to calculate length of reginald\n",
      "starting worker thread to calculate length of sidney\n",
      "length of bob is 3\n",
      "length of denise is 6\n",
      "length of reginald is 8\n",
      "length of sidney is 6\n"
     ]
    }
   ],
   "source": [
    "def my_worker_thread(my_string):\n",
    "    print(\"starting worker thread to calculate length of\", my_string)\n",
    "    if my_string == 'bob':\n",
    "        time.sleep(3)\n",
    "    return f\"length of {my_string} is {len(my_string)}\"\n",
    "\n",
    "with concurrent.futures.ThreadPoolExecutor(max_workers=5) as executor:\n",
    "    map_results = executor.map(my_worker_thread, ['bob', 'denise', 'reginald', 'sidney'])\n",
    "    for result in map_results:       # will have to wait for 'bob' to finish as results provided in order given\n",
    "        print(result)"
   ]
  },
  {
   "cell_type": "markdown",
   "metadata": {},
   "source": [
    "Or as an alternative...\n",
    "\n",
    "See https://stackoverflow.com/questions/20838162/how-does-threadpoolexecutor-map-differ-from-threadpoolexecutor-submit\n"
   ]
  },
  {
   "cell_type": "code",
   "execution_count": 5,
   "metadata": {},
   "outputs": [
    {
     "name": "stdout",
     "output_type": "stream",
     "text": [
      "starting worker thread to calculate length of bob\n",
      "starting worker thread to calculate length of denise\n",
      "starting worker thread to calculate length of reginald\n",
      "starting worker thread to calculate length of sidney\n",
      "length of reginald is 8\n",
      "length of denise is 6\n",
      "length of sidney is 6\n",
      "length of bob is 3\n"
     ]
    }
   ],
   "source": [
    "with concurrent.futures.ThreadPoolExecutor(max_workers=5) as executor:\n",
    "    # use list comprehension, no need for map\n",
    "    mapped_futures = [executor.submit(my_worker_thread, x) for x in ['bob', 'denise', 'reginald', 'sidney']]\n",
    "    for f in concurrent.futures.as_completed(mapped_futures):   # get results in order of completion\n",
    "        print(f.result())"
   ]
  },
  {
   "cell_type": "markdown",
   "metadata": {},
   "source": [
    "Semaphores are usually shared between threads as a way to control resources"
   ]
  },
  {
   "cell_type": "code",
   "execution_count": 6,
   "metadata": {},
   "outputs": [],
   "source": [
    "my_semaphore = threading.Semaphore(2)       # 2 resources"
   ]
  },
  {
   "cell_type": "markdown",
   "metadata": {},
   "source": [
    "Starting thread pool with 5 threads and 2 resources"
   ]
  },
  {
   "cell_type": "code",
   "execution_count": 7,
   "metadata": {},
   "outputs": [
    {
     "name": "stdout",
     "output_type": "stream",
     "text": [
      "thread 0 has started!\n",
      "thread 0 acquired semaphore for resource!\n",
      "thread 1 has started!\n",
      "thread 1 acquired semaphore for resource!\n",
      "thread 2 has started!\n",
      "thread 3 has started!\n",
      "thread 4 has started!\n",
      "thread 1 finished with resource so releasing!\n",
      "thread 1 is done\n",
      "thread 2 acquired semaphore for resource!\n",
      "thread 0 finished with resource so releasing!\n",
      "thread 3 acquired semaphore for resource!\n",
      "thread 0 is done\n",
      "thread 3 finished with resource so releasing!\n",
      "thread 3 is done\n",
      "thread 4 acquired semaphore for resource!\n",
      "thread 2 finished with resource so releasing!\n",
      "thread 2 is done\n",
      "thread 4 finished with resource so releasing!\n",
      "thread 4 is done\n"
     ]
    }
   ],
   "source": [
    "import random\n",
    "\n",
    "def my_greedy_worker_thread(name, a_semaphore):\n",
    "    print(f\"thread {name} has started!\")\n",
    "    a_semaphore.acquire()\n",
    "    print(f\"thread {name} acquired semaphore for resource!\")\n",
    "    time.sleep(random.randint(1, 3))\n",
    "    print(f\"thread {name} finished with resource so releasing!\")\n",
    "    a_semaphore.release()\n",
    "    return f'thread {name} is done'\n",
    "\n",
    "with concurrent.futures.ThreadPoolExecutor(max_workers=5) as executor:\n",
    "    # use list comprehension, no need for map\n",
    "    my_futures = [executor.submit(my_greedy_worker_thread, x, my_semaphore) for x in range(5)]\n",
    "    for f in concurrent.futures.as_completed(my_futures):   # get results in order of completion\n",
    "        print(f.result())\n",
    "\n",
    "def wait_for_an_event(event, number_events):\n",
    "    events_detected = 0\n",
    "    while events_detected < number_events:\n",
    "        print(\"waiting for event\")\n",
    "        event.wait()                    # you can specify a timeout here e.g. wait(timeout=0.5) for 500ms wait\n",
    "        print(\"got event\")\n",
    "        event.clear()                   # need to clear events\n",
    "        events_detected += 1\n",
    "    print(\"all events detected, thread terminating...\")"
   ]
  },
  {
   "cell_type": "markdown",
   "metadata": {},
   "source": [
    "Using events to signal other threads"
   ]
  },
  {
   "cell_type": "code",
   "execution_count": 8,
   "metadata": {},
   "outputs": [
    {
     "name": "stdout",
     "output_type": "stream",
     "text": [
      "starting thread\n",
      "waiting for event\n",
      "set event\n",
      "got event\n",
      "waiting for event\n",
      "set event\n",
      "got event\n",
      "waiting for event\n",
      "set event\n",
      "got event\n",
      "waiting for event\n",
      "set event\n",
      "got event\n",
      "waiting for event\n",
      "set event\n",
      "got event\n",
      "all events detected, thread terminating...\n"
     ]
    }
   ],
   "source": [
    "my_event = threading.Event()\n",
    "my_thread = threading.Thread(name='wait_for_an_event', target=wait_for_an_event, args=(my_event, 5))\n",
    "print(\"starting thread\")\n",
    "my_thread.start()\n",
    "for i in range(5):\n",
    "    time.sleep(0.5)\n",
    "    print(\"set event\")\n",
    "    my_event.set()\n",
    "my_thread.join()"
   ]
  },
  {
   "cell_type": "markdown",
   "metadata": {},
   "source": [
    "Using timers to run a function at some future point in time"
   ]
  },
  {
   "cell_type": "code",
   "execution_count": 9,
   "metadata": {},
   "outputs": [
    {
     "name": "stdout",
     "output_type": "stream",
     "text": [
      "timer_thread= <Timer(Thread-5, started 14592)>\n",
      "time's up!\n",
      "timer_thread= <Timer(Thread-5, stopped 14592)>\n"
     ]
    }
   ],
   "source": [
    "def my_function(a_string):\n",
    "    print(a_string)\n",
    "\n",
    "timer_thread = threading.Timer(2, my_function,args=(\"time's up!\",))\n",
    "timer_thread.start()\n",
    "print(\"timer_thread=\", timer_thread)\n",
    "timer_thread.join()   # might as well wait in this demo but obviously you might do something interesting here, or not\n",
    "print(\"timer_thread=\", timer_thread)"
   ]
  },
  {
   "cell_type": "markdown",
   "metadata": {},
   "source": [
    "Using barriers to ensure threads sync up where necessary"
   ]
  },
  {
   "cell_type": "code",
   "execution_count": 10,
   "metadata": {},
   "outputs": [
    {
     "name": "stdout",
     "output_type": "stream",
     "text": [
      "thread_a started at 2022-11-06 11:59:36.953807\n",
      "thread_b started at 2022-11-06 11:59:36.961805\n",
      "thread_a: ok all in sync now, we can start...thread_b: ok all in sync now, we can start...\n",
      "thread_b: time = 2022-11-06 11:59:38.967935\n",
      "\n",
      "thread_a: time = 2022-11-06 11:59:38.968954\n"
     ]
    }
   ],
   "source": [
    "import datetime\n",
    "\n",
    "def thread_a(a_barrier):\n",
    "    print(\"thread_a started at\", datetime.datetime.now())\n",
    "    time.sleep(2)       # do something that needs to be done for both threads before go any further e.g. client/server\n",
    "    a_barrier.wait()\n",
    "    print(\"thread_a: ok all in sync now, we can start...\")\n",
    "    # do something exciting....\n",
    "    return f\"thread_a: time = {datetime.datetime.now()}\"\n",
    "\n",
    "def thread_b(a_barrier):\n",
    "    print(\"thread_b started at\", datetime.datetime.now())\n",
    "    a_barrier.wait()\n",
    "    print(\"thread_b: ok all in sync now, we can start...\")\n",
    "    # do something exciting....\n",
    "    return f\"thread_b: time = {datetime.datetime.now()}\"\n",
    "\n",
    "my_barrier = threading.Barrier(2)\n",
    "with concurrent.futures.ThreadPoolExecutor(max_workers=2) as executor:\n",
    "    my_futures = [executor.submit(f, my_barrier) for f in [thread_a, thread_b]]\n",
    "    for f in concurrent.futures.as_completed(my_futures):\n",
    "        print(f.result())"
   ]
  },
  {
   "cell_type": "markdown",
   "metadata": {},
   "source": [
    "Define three functions that will run in separate threads"
   ]
  },
  {
   "cell_type": "code",
   "execution_count": 11,
   "metadata": {},
   "outputs": [
    {
     "ename": "SyntaxError",
     "evalue": "'(' was never closed (330352817.py, line 1)",
     "output_type": "error",
     "traceback": [
      "\u001b[1;36m  Cell \u001b[1;32mIn [11], line 1\u001b[1;36m\u001b[0m\n\u001b[1;33m    def thread_a(a_condition\u001b[0m\n\u001b[1;37m                ^\u001b[0m\n\u001b[1;31mSyntaxError\u001b[0m\u001b[1;31m:\u001b[0m '(' was never closed\n"
     ]
    }
   ],
   "source": [
    "def thread_a(a_condition\n",
    "    print(\"thread_a started at\", datetime.datetime.now())\n",
    "    with a_condition:\n",
    "        print(\"thread_a: creating the shared resource\")\n",
    "        time.sleep(2)           # let's create a shared resource\n",
    "        print(\"thread_a: resource now available, notify everyone\")\n",
    "        a_condition.notify_all()    # notify others shared resource is available\n",
    "        print(\"thread_a: others now notified\")\n",
    "    # do something exciting....\n",
    "    return f\"thread_a: time = {datetime.datetime.now()}\"\n",
    "\n",
    "def thread_b(a_condition):\n",
    "    print(\"thread_b started at\", datetime.datetime.now())\n",
    "    with a_condition:\n",
    "        print(\"thread_b: waiting for shared resource\")\n",
    "        a_condition.wait()\n",
    "        print(\"thread_b: we can now use shared resource\")\n",
    "        # do something exciting....\n",
    "    return f\"thread_b: time = {datetime.datetime.now()}\"\n",
    "\n",
    "def thread_c(a_condition):\n",
    "    print(\"thread_c started at\", datetime.datetime.now())\n",
    "    with a_condition:\n",
    "        print(\"thread_c: waiting for shared resource\")\n",
    "        a_condition.wait()\n",
    "        print(\"thread_c: we can now use shared resource\")\n",
    "        # do something exciting....\n",
    "    return f\"thread_c: time = {datetime.datetime.now()}\""
   ]
  },
  {
   "cell_type": "markdown",
   "metadata": {},
   "source": [
    "Using conditionals to let other threads know when they can start"
   ]
  },
  {
   "cell_type": "code",
   "execution_count": null,
   "metadata": {},
   "outputs": [],
   "source": [
    "my_condition = threading.Condition()\n",
    "my_notifier_thread = threading.Thread(target=thread_a, args=(my_condition,))\n",
    "consumer_thread_b = threading.Thread(target=thread_b, args=(my_condition,))\n",
    "consumer_thread_c = threading.Thread(target=thread_c, args=(my_condition,))\n",
    "\n",
    "consumer_thread_b.start()\n",
    "time.sleep(1)\n",
    "consumer_thread_c.start()\n",
    "time.sleep(1)\n",
    "my_notifier_thread.start()"
   ]
  }
 ],
 "metadata": {
  "kernelspec": {
   "display_name": "Python 3.10.7 64-bit",
   "language": "python",
   "name": "python3"
  },
  "language_info": {
   "codemirror_mode": {
    "name": "ipython",
    "version": 3
   },
   "file_extension": ".py",
   "mimetype": "text/x-python",
   "name": "python",
   "nbconvert_exporter": "python",
   "pygments_lexer": "ipython3",
   "version": "3.10.7"
  },
  "orig_nbformat": 4,
  "vscode": {
   "interpreter": {
    "hash": "c19fa61d258bb2b35aae2ada233c33e2817c1ce895aa48acba720c6bf7cbe3cb"
   }
  }
 },
 "nbformat": 4,
 "nbformat_minor": 2
}
