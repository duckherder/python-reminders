{
 "cells": [
  {
   "cell_type": "markdown",
   "metadata": {},
   "source": [
    "# Threads\n",
    "\n",
    "Create a thread"
   ]
  },
  {
   "cell_type": "code",
   "execution_count": 8,
   "metadata": {},
   "outputs": [
    {
     "name": "stdout",
     "output_type": "stream",
     "text": [
      "Start thread\n",
      "Returned from start, wait for the thread to complete using join()\n",
      "do_threading: some_string = Some arguments\n",
      "do_threading: some_integer = 1\n",
      "do_threading: exiting...\n",
      "Returned from join\n"
     ]
    }
   ],
   "source": [
    "import threading\n",
    "import time\n",
    "\n",
    "def do_threading(some_string, some_integer):\n",
    "    time.sleep(1)\n",
    "    print(\"do_threading: some_string =\", some_string)\n",
    "    print(\"do_threading: some_integer =\", some_integer)\n",
    "    time.sleep(some_integer)\n",
    "    print(\"do_threading: exiting...\")\n",
    "\n",
    "my_thread = threading.Thread(target=do_threading, args=('Some arguments', 1))   # use 'daemon=True' to create daemon...\n",
    "print(\"Start thread\")                                                           # background process which will\n",
    "my_thread.start()                                                               # terminate when program finishes\n",
    "print(\"Returned from start, wait for the thread to complete using join()\")\n",
    "my_thread.join()\n",
    "print(\"Returned from join\")"
   ]
  },
  {
   "cell_type": "markdown",
   "metadata": {},
   "source": [
    "Using a threaded class"
   ]
  },
  {
   "cell_type": "code",
   "execution_count": 9,
   "metadata": {},
   "outputs": [
    {
     "name": "stdout",
     "output_type": "stream",
     "text": [
      "Start the threaded class\n",
      "MyThread::run: still working\n",
      "Go away and do lots of crazy stuff\n",
      "MyThread::run: still working\n",
      "MyThread::run: still working\n",
      "MyThread::run: still working\n",
      "MyThread::run: still working\n",
      "MyThread::run: still working\n",
      "Ok that's all done, don't need that thread any more\n",
      "Back from stop_processing\n",
      "MyThread::run: stopped working\n"
     ]
    }
   ],
   "source": [
    "class MyThread(threading.Thread):\n",
    "    def __init__(self):\n",
    "        self.main_lock = threading.Lock()\n",
    "        self.continue_processing = True\n",
    "        super().__init__()\n",
    "\n",
    "    def get_continue_processing(self):\n",
    "        with self.main_lock:\n",
    "            return self.continue_processing\n",
    "\n",
    "    def stop_processing(self):\n",
    "        with self.main_lock:\n",
    "            self.continue_processing = False\n",
    "\n",
    "    def run(self):\n",
    "        while self.get_continue_processing():\n",
    "            print(\"MyThread::run: still working\")\n",
    "            time.sleep(0.5)\n",
    "        print(\"MyThread::run: stopped working\")\n",
    "\n",
    "my_threaded_class = MyThread()\n",
    "print(\"Start the threaded class\")\n",
    "my_threaded_class.start()\n",
    "print(\"Go away and do lots of crazy stuff\")\n",
    "time.sleep(3)\n",
    "print(\"Ok that's all done, don't need that thread any more\")\n",
    "my_threaded_class.stop_processing()\n",
    "print(\"Back from stop_processing\")\n",
    "time.sleep(2)           # let MyThread stop before doing anything else"
   ]
  },
  {
   "cell_type": "markdown",
   "metadata": {},
   "source": [
    "Using a thread pool executor for launching multiple threads"
   ]
  },
  {
   "cell_type": "code",
   "execution_count": 10,
   "metadata": {},
   "outputs": [
    {
     "name": "stdout",
     "output_type": "stream",
     "text": [
      "Submit do_some_stuff\n",
      "Submit do_some_other_stuff\n",
      "<Future at 0x1b7213774c0 state=running>\n",
      "<Future at 0x1b720ba58d0 state=running>\n",
      "Wait for threads to complete\n",
      "do_some_other_stuff: finished what I was doing\n",
      "<Future at 0x1b720ba58d0 state=finished returned str>\n",
      "Result from this thread = do_some_other_stuff return value\n",
      "do_some_stuff: finished what I was doing\n",
      "<Future at 0x1b7213774c0 state=finished returned str>\n",
      "Result from this thread = do_some_stuff return value\n"
     ]
    }
   ],
   "source": [
    "import concurrent.futures\n",
    "\n",
    "def do_some_stuff():\n",
    "    time.sleep(3)\n",
    "    print(\"do_some_stuff: finished what I was doing\")\n",
    "    return 'do_some_stuff return value'\n",
    "\n",
    "def do_some_other_stuff():\n",
    "    time.sleep(1)\n",
    "    print(\"do_some_other_stuff: finished what I was doing\")\n",
    "    return 'do_some_other_stuff return value'\n",
    "\n",
    "executor = concurrent.futures.ThreadPoolExecutor(max_workers=2)\n",
    "print(\"Submit do_some_stuff\")\n",
    "stuff_future_object = executor.submit(do_some_stuff)\n",
    "print(\"Submit do_some_other_stuff\")\n",
    "other_future_object = executor.submit(do_some_other_stuff)\n",
    "print(stuff_future_object)\n",
    "print(other_future_object)\n",
    "print(\"Wait for threads to complete\")\n",
    "for f in concurrent.futures.as_completed([stuff_future_object, other_future_object]):\n",
    "    print(f)\n",
    "    print(\"Result from this thread =\", f.result())"
   ]
  },
  {
   "cell_type": "markdown",
   "metadata": {},
   "source": [
    "Using `map` to launch multiple worker threads"
   ]
  },
  {
   "cell_type": "code",
   "execution_count": 11,
   "metadata": {},
   "outputs": [
    {
     "name": "stdout",
     "output_type": "stream",
     "text": [
      "my_worker_thread: starting worker thread to calculate length of Bob\n",
      "my_worker_thread: starting worker thread to calculate length of Denise\n",
      "my_worker_thread: starting worker thread to calculate length of Reginald\n",
      "my_worker_thread: starting worker thread to calculate length of Sidney\n",
      "Length of Bob is 3\n",
      "Length of Denise is 6\n",
      "Length of Reginald is 8\n",
      "Length of Sidney is 6\n"
     ]
    }
   ],
   "source": [
    "def my_worker_thread(my_string):\n",
    "    print(\"my_worker_thread: starting worker thread to calculate length of\", my_string)\n",
    "    if my_string == 'Bob':\n",
    "        time.sleep(3)\n",
    "    return f\"Length of {my_string} is {len(my_string)}\"\n",
    "\n",
    "with concurrent.futures.ThreadPoolExecutor(max_workers=5) as executor:\n",
    "    map_results = executor.map(my_worker_thread, ['Bob', 'Denise', 'Reginald', 'Sidney'])\n",
    "    for result in map_results:       # will have to wait for 'Bob' to finish as results provided in order given\n",
    "        print(result)"
   ]
  },
  {
   "cell_type": "markdown",
   "metadata": {},
   "source": [
    "Or as an alternative...\n",
    "\n",
    "See https://stackoverflow.com/questions/20838162/how-does-threadpoolexecutor-map-differ-from-threadpoolexecutor-submit\n"
   ]
  },
  {
   "cell_type": "code",
   "execution_count": 12,
   "metadata": {},
   "outputs": [
    {
     "name": "stdout",
     "output_type": "stream",
     "text": [
      "my_worker_thread: starting worker thread to calculate length of Bob\n",
      "my_worker_thread: starting worker thread to calculate length of Denise\n",
      "my_worker_thread: starting worker thread to calculate length of Reginald\n",
      "my_worker_thread: starting worker thread to calculate length of Sidney\n",
      "Length of Sidney is 6\n",
      "Length of Reginald is 8\n",
      "Length of Denise is 6\n",
      "Length of Bob is 3\n"
     ]
    }
   ],
   "source": [
    "with concurrent.futures.ThreadPoolExecutor(max_workers=5) as executor:\n",
    "    # use list comprehension, no need for map\n",
    "    mapped_futures = [executor.submit(my_worker_thread, x) for x in ['Bob', 'Denise', 'Reginald', 'Sidney']]\n",
    "    for f in concurrent.futures.as_completed(mapped_futures):   # get results in order of completion\n",
    "        print(f.result())"
   ]
  },
  {
   "cell_type": "markdown",
   "metadata": {},
   "source": [
    "Semaphores are usually shared between threads as a way to control resources"
   ]
  },
  {
   "cell_type": "code",
   "execution_count": 13,
   "metadata": {},
   "outputs": [],
   "source": [
    "my_semaphore = threading.Semaphore(2)       # 2 resources"
   ]
  },
  {
   "cell_type": "markdown",
   "metadata": {},
   "source": [
    "Starting thread pool with 5 threads and 2 resources"
   ]
  },
  {
   "cell_type": "code",
   "execution_count": 19,
   "metadata": {},
   "outputs": [
    {
     "name": "stdout",
     "output_type": "stream",
     "text": [
      "my_greedy_worker_thread: thread 0 has started!\n",
      "my_greedy_worker_thread: thread 0 acquired semaphore for resource!\n",
      "my_greedy_worker_thread: thread 1 has started!\n",
      "my_greedy_worker_thread: thread 1 acquired semaphore for resource!\n",
      "my_greedy_worker_thread: thread 2 has started!\n",
      "my_greedy_worker_thread: thread 3 has started!\n",
      "my_greedy_worker_thread: thread 4 has started!\n",
      "my_greedy_worker_thread: thread 0 finished with resource so releasing!\n",
      "Thread 0 is done\n",
      "my_greedy_worker_thread: thread 2 acquired semaphore for resource!\n",
      "my_greedy_worker_thread: thread 1 finished with resource so releasing!\n",
      "my_greedy_worker_thread: thread 3 acquired semaphore for resource!\n",
      "Thread 1 is done\n",
      "my_greedy_worker_thread: thread 2 finished with resource so releasing!\n",
      "my_greedy_worker_thread: thread 4 acquired semaphore for resource!\n",
      "Thread 2 is done\n",
      "my_greedy_worker_thread: thread 3 finished with resource so releasing!\n",
      "Thread 3 is done\n",
      "my_greedy_worker_thread: thread 4 finished with resource so releasing!\n",
      "Thread 4 is done\n"
     ]
    }
   ],
   "source": [
    "import random\n",
    "\n",
    "def my_greedy_worker_thread(name, a_semaphore):\n",
    "    print(f\"my_greedy_worker_thread: thread {name} has started!\")\n",
    "    a_semaphore.acquire()\n",
    "    print(f\"my_greedy_worker_thread: thread {name} acquired semaphore for resource!\")\n",
    "    time.sleep(random.randint(1, 3))\n",
    "    print(f\"my_greedy_worker_thread: thread {name} finished with resource so releasing!\")\n",
    "    a_semaphore.release()\n",
    "    return f'Thread {name} is done'\n",
    "\n",
    "with concurrent.futures.ThreadPoolExecutor(max_workers=5) as executor:\n",
    "    # use list comprehension, no need for map\n",
    "    my_futures = [executor.submit(my_greedy_worker_thread, x, my_semaphore) for x in range(5)]\n",
    "    for f in concurrent.futures.as_completed(my_futures):   # get results in order of completion\n",
    "        print(f.result())\n",
    "\n",
    "def wait_for_an_event(event, number_events):\n",
    "    events_detected = 0\n",
    "    while events_detected < number_events:\n",
    "        print(\"wait_for_an_event: waiting...\")\n",
    "        event.wait()                    # you can specify a timeout here e.g. wait(timeout=0.5) for 500ms wait\n",
    "        print(\"wait_for_an_event: got event\")\n",
    "        event.clear()                   # need to clear events\n",
    "        events_detected += 1\n",
    "    print(\"All events detected, thread terminating...\")"
   ]
  },
  {
   "cell_type": "markdown",
   "metadata": {},
   "source": [
    "Using events to signal other threads"
   ]
  },
  {
   "cell_type": "code",
   "execution_count": 20,
   "metadata": {},
   "outputs": [
    {
     "name": "stdout",
     "output_type": "stream",
     "text": [
      "Starting thread\n",
      "wait_for_an_event: waiting...\n",
      "Set event\n",
      "wait_for_an_event: got event\n",
      "wait_for_an_event: waiting...\n",
      "Set event\n",
      "wait_for_an_event: got event\n",
      "wait_for_an_event: waiting...\n",
      "Set event\n",
      "wait_for_an_event: got event\n",
      "wait_for_an_event: waiting...\n",
      "Set event\n",
      "wait_for_an_event: got event\n",
      "wait_for_an_event: waiting...\n",
      "Set event\n",
      "wait_for_an_event: got event\n",
      "All events detected, thread terminating...\n"
     ]
    }
   ],
   "source": [
    "my_event = threading.Event()\n",
    "my_thread = threading.Thread(name='wait_for_an_event', target=wait_for_an_event, args=(my_event, 5))\n",
    "print(\"Starting thread\")\n",
    "my_thread.start()\n",
    "for i in range(5):\n",
    "    time.sleep(0.5)\n",
    "    print(\"Set event\")\n",
    "    my_event.set()\n",
    "my_thread.join()"
   ]
  },
  {
   "cell_type": "markdown",
   "metadata": {},
   "source": [
    "Using timers to run a function at some future point in time"
   ]
  },
  {
   "cell_type": "code",
   "execution_count": 22,
   "metadata": {},
   "outputs": [
    {
     "name": "stdout",
     "output_type": "stream",
     "text": [
      "timer_thread = Timer(Thread-10, started 12528)\n",
      "Time is up!\n",
      "timer_thread = Timer(Thread-10, stopped 12528)\n"
     ]
    }
   ],
   "source": [
    "def my_function(a_string):\n",
    "    print(a_string)\n",
    "\n",
    "timer_thread = threading.Timer(2, my_function,args=(\"Time is up!\",))\n",
    "timer_thread.start()\n",
    "print(\"timer_thread =\", str(timer_thread)[1:-1])\n",
    "timer_thread.join()   # might as well wait in this demo but obviously you might do something interesting here, or not\n",
    "print(\"timer_thread =\", str(timer_thread)[1:-1])"
   ]
  },
  {
   "cell_type": "markdown",
   "metadata": {},
   "source": [
    "Using barriers to ensure threads sync up where necessary"
   ]
  },
  {
   "cell_type": "code",
   "execution_count": 23,
   "metadata": {},
   "outputs": [
    {
     "name": "stdout",
     "output_type": "stream",
     "text": [
      "thread_a: started at 2022-11-21 23:16:49.696289\n",
      "thread_b: started at 2022-11-21 23:16:49.705650\n",
      "thread_a: ok all in sync now, we can start...thread_b: ok all in sync now, we can start...\n",
      "thread_b: time = 2022-11-21 23:16:51.707899\n",
      "\n",
      "thread_a: time = 2022-11-21 23:16:51.708872\n"
     ]
    }
   ],
   "source": [
    "import datetime\n",
    "\n",
    "def thread_a(a_barrier):\n",
    "    print(\"thread_a: started at\", datetime.datetime.now())\n",
    "    time.sleep(2)       # do something that needs to be done for both threads before go any further e.g. client/server\n",
    "    a_barrier.wait()\n",
    "    print(\"thread_a: ok all in sync now, we can start...\")\n",
    "    # do something exciting....\n",
    "    return f\"thread_a: time = {datetime.datetime.now()}\"\n",
    "\n",
    "def thread_b(a_barrier):\n",
    "    print(\"thread_b: started at\", datetime.datetime.now())\n",
    "    a_barrier.wait()\n",
    "    print(\"thread_b: ok all in sync now, we can start...\")\n",
    "    # do something exciting....\n",
    "    return f\"thread_b: time = {datetime.datetime.now()}\"\n",
    "\n",
    "my_barrier = threading.Barrier(2)\n",
    "with concurrent.futures.ThreadPoolExecutor(max_workers=2) as executor:\n",
    "    my_futures = [executor.submit(f, my_barrier) for f in [thread_a, thread_b]]\n",
    "    for f in concurrent.futures.as_completed(my_futures):\n",
    "        print(f.result())"
   ]
  },
  {
   "cell_type": "markdown",
   "metadata": {},
   "source": [
    "Define three functions that will run in separate threads"
   ]
  },
  {
   "cell_type": "code",
   "execution_count": 24,
   "metadata": {},
   "outputs": [],
   "source": [
    "def thread_a(a_condition):\n",
    "    print(\"thread_a: started at\", datetime.datetime.now())\n",
    "    with a_condition:\n",
    "        print(\"thread_a: creating the shared resource\")\n",
    "        time.sleep(2)           # let's create a shared resource\n",
    "        print(\"thread_a: resource now available, notify everyone\")\n",
    "        a_condition.notify_all()    # notify others shared resource is available\n",
    "        print(\"thread_a: others now notified\")\n",
    "    # do something exciting....\n",
    "    return f\"thread_a: time = {datetime.datetime.now()}\"\n",
    "\n",
    "def thread_b(a_condition):\n",
    "    print(\"thread_b: started at\", datetime.datetime.now())\n",
    "    with a_condition:\n",
    "        print(\"thread_b: waiting for shared resource\")\n",
    "        a_condition.wait()\n",
    "        print(\"thread_b: we can now use shared resource\")\n",
    "        # do something exciting....\n",
    "    return f\"thread_b: time = {datetime.datetime.now()}\"\n",
    "\n",
    "def thread_c(a_condition):\n",
    "    print(\"thread_c: started at\", datetime.datetime.now())\n",
    "    with a_condition:\n",
    "        print(\"thread_c: waiting for shared resource\")\n",
    "        a_condition.wait()\n",
    "        print(\"thread_c: we can now use shared resource\")\n",
    "        # do something exciting....\n",
    "    return f\"thread_c: time = {datetime.datetime.now()}\""
   ]
  },
  {
   "cell_type": "markdown",
   "metadata": {},
   "source": [
    "Using conditionals to let other threads know when they can start"
   ]
  },
  {
   "cell_type": "code",
   "execution_count": 25,
   "metadata": {},
   "outputs": [
    {
     "name": "stdout",
     "output_type": "stream",
     "text": [
      "thread_b: started at 2022-11-21 23:18:10.185061\n",
      "thread_b: waiting for shared resource\n",
      "thread_c: started at 2022-11-21 23:18:11.324078\n",
      "thread_c: waiting for shared resource\n",
      "thread_a: started at 2022-11-21 23:18:12.340645\n",
      "thread_a: creating the shared resource\n"
     ]
    },
    {
     "name": "stdout",
     "output_type": "stream",
     "text": [
      "thread_a: resource now available, notify everyone\n",
      "thread_a: others now notified\n",
      "thread_b: we can now use shared resource\n",
      "thread_c: we can now use shared resource\n"
     ]
    }
   ],
   "source": [
    "my_condition = threading.Condition()\n",
    "my_notifier_thread = threading.Thread(target=thread_a, args=(my_condition,))\n",
    "consumer_thread_b = threading.Thread(target=thread_b, args=(my_condition,))\n",
    "consumer_thread_c = threading.Thread(target=thread_c, args=(my_condition,))\n",
    "\n",
    "consumer_thread_b.start()\n",
    "time.sleep(1)\n",
    "consumer_thread_c.start()\n",
    "time.sleep(1)\n",
    "my_notifier_thread.start()"
   ]
  }
 ],
 "metadata": {
  "kernelspec": {
   "display_name": "Python 3.10.7 64-bit",
   "language": "python",
   "name": "python3"
  },
  "language_info": {
   "codemirror_mode": {
    "name": "ipython",
    "version": 3
   },
   "file_extension": ".py",
   "mimetype": "text/x-python",
   "name": "python",
   "nbconvert_exporter": "python",
   "pygments_lexer": "ipython3",
   "version": "3.10.7"
  },
  "orig_nbformat": 4,
  "vscode": {
   "interpreter": {
    "hash": "c19fa61d258bb2b35aae2ada233c33e2817c1ce895aa48acba720c6bf7cbe3cb"
   }
  }
 },
 "nbformat": 4,
 "nbformat_minor": 2
}
