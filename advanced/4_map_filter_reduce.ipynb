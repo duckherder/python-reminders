{
 "cells": [
  {
   "cell_type": "markdown",
   "metadata": {},
   "source": [
    "# Map, Filter, Reduce\n",
    "\n",
    "Higher order functions that take a function and an iterable and do something with it.\n",
    "\n",
    "Use `map()` to apply a function to an iterable"
   ]
  },
  {
   "cell_type": "code",
   "execution_count": 2,
   "metadata": {},
   "outputs": [
    {
     "name": "stdout",
     "output_type": "stream",
     "text": [
      "map() returns an object of type class 'map'\n",
      "2\n",
      "4\n",
      "6\n"
     ]
    }
   ],
   "source": [
    "result = map(lambda x: x * 2, [1, 2, 3])      # map(function, iterable)\n",
    "# returns a map object iterator (generator)\n",
    "print(\"map() returns an object of type\", str(type(result))[1:-1])\n",
    "for i in result:\n",
    "    print(i)"
   ]
  },
  {
   "cell_type": "markdown",
   "metadata": {},
   "source": [
    "Very similar to using a list comprehension..."
   ]
  },
  {
   "cell_type": "code",
   "execution_count": 3,
   "metadata": {},
   "outputs": [
    {
     "name": "stdout",
     "output_type": "stream",
     "text": [
      "class 'list'\n",
      "[2, 4, 6]\n"
     ]
    }
   ],
   "source": [
    "result = [(lambda x: x * 2)(y) for y in [1, 2, 3]]\n",
    "print(str(type(result))[1:-1])\n",
    "print(result)"
   ]
  },
  {
   "cell_type": "markdown",
   "metadata": {},
   "source": [
    "But in fact more like a generator..."
   ]
  },
  {
   "cell_type": "code",
   "execution_count": 4,
   "metadata": {},
   "outputs": [
    {
     "name": "stdout",
     "output_type": "stream",
     "text": [
      "class 'generator'\n",
      "2\n",
      "4\n",
      "6\n"
     ]
    }
   ],
   "source": [
    "result = ((lambda x: x * 2)(y) for y in [1, 2, 3])\n",
    "print(str(type(result))[1:-1])\n",
    "for i in result:\n",
    "    print(i)"
   ]
  },
  {
   "cell_type": "markdown",
   "metadata": {},
   "source": [
    "You can pass a lambda or any function"
   ]
  },
  {
   "cell_type": "code",
   "execution_count": 10,
   "metadata": {},
   "outputs": [
    {
     "name": "stdout",
     "output_type": "stream",
     "text": [
      "my_func: name = bob\n",
      "loop: Bob\n",
      "my_func: name = tom\n",
      "loop: Tom\n",
      "my_func: name = sheila\n",
      "loop: Sheila\n"
     ]
    }
   ],
   "source": [
    "def my_func(name: str):\n",
    "    print(\"my_func: name =\", name)\n",
    "    return name.capitalize()      # need to return a value\n",
    "\n",
    "result = map(my_func, ['bob', 'tom', 'sheila'])\n",
    "for i in result:\n",
    "    print(\"loop:\", i)"
   ]
  },
  {
   "cell_type": "markdown",
   "metadata": {},
   "source": [
    "What about multiple arguments to my_func?"
   ]
  },
  {
   "cell_type": "code",
   "execution_count": 12,
   "metadata": {},
   "outputs": [
    {
     "name": "stdout",
     "output_type": "stream",
     "text": [
      "my_func: bob 19\n",
      "Bob is 19 years old!\n",
      "my_func: tom 24\n",
      "Tom is 24 years old!\n",
      "my_func: sheila 33\n",
      "Sheila is 33 years old!\n"
     ]
    }
   ],
   "source": [
    "def my_func(name: str, age: int):\n",
    "    print(\"my_func:\", name, age)\n",
    "    return f\"{name.capitalize()} is {age} years old!\"\n",
    "\n",
    "result = map(my_func, ['bob', 'tom', 'sheila'], [19, 24, 33])\n",
    "for i in result:\n",
    "    print(i)"
   ]
  },
  {
   "cell_type": "markdown",
   "metadata": {},
   "source": [
    "Use `filter()` to filter out items in an iterable. Function or lambda used must return `True` or `False`."
   ]
  },
  {
   "cell_type": "code",
   "execution_count": 13,
   "metadata": {},
   "outputs": [
    {
     "name": "stdout",
     "output_type": "stream",
     "text": [
      "class 'filter'\n",
      "[3, 1, 1, 33, 5, 7]\n",
      "class 'filter'\n",
      "[3, 1, 1, 33, 5, 7]\n"
     ]
    }
   ],
   "source": [
    "def my_filter_function(my_integer):\n",
    "    return True if my_integer % 2 else False\n",
    "\n",
    "result = filter(my_filter_function, [3, 4, 34, 2, 1, 1, 33, 4, 5, 6, 7])\n",
    "print(str(type(result))[1:-1])\n",
    "print(list(result))         # you can convert an iterable to a list\n",
    "\n",
    "result = filter(lambda x: True if x % 2 else False,\n",
    "                [3, 4, 34, 2, 1, 1, 33, 4, 5, 6, 7])\n",
    "print(str(type(result))[1:-1])\n",
    "print(list(result))"
   ]
  },
  {
   "cell_type": "markdown",
   "metadata": {},
   "source": [
    "To use a function with multiple parameters use a lambda or a closure..."
   ]
  },
  {
   "cell_type": "code",
   "execution_count": 14,
   "metadata": {},
   "outputs": [
    {
     "name": "stdout",
     "output_type": "stream",
     "text": [
      "class 'filter'\n",
      "[(4, 3), (7, 5)]\n"
     ]
    }
   ],
   "source": [
    "result = filter(lambda x: True if x[0] > x[1] else False, [(4, 3), (7, 5), (2, 34)])\n",
    "print(str(type(result))[1:-1])\n",
    "print(list(result))"
   ]
  },
  {
   "cell_type": "markdown",
   "metadata": {},
   "source": [
    "Use `reduce()` to reduce an iterable to a single object based on a reduction function and sliding window. Sliding windows passes elements `0` and `1 `to `my_reduce_function()` and then the result and element 2. "
   ]
  },
  {
   "cell_type": "code",
   "execution_count": 16,
   "metadata": {},
   "outputs": [
    {
     "name": "stdout",
     "output_type": "stream",
     "text": [
      "class 'int'\n",
      "6\n"
     ]
    }
   ],
   "source": [
    "from functools import reduce                # built-in function in Python 2\n",
    "\n",
    "def max_function(a, b):\n",
    "    return a if a > b else b           # function takes 2 values and reduces it to 1\n",
    "\n",
    "result = reduce(max_function, [1, 6, 3, 4, -1])     # ...again could use a lambda\n",
    "print(str(type(result))[1:-1])\n",
    "print(result)"
   ]
  }
 ],
 "metadata": {
  "kernelspec": {
   "display_name": "Python 3.10.7 64-bit",
   "language": "python",
   "name": "python3"
  },
  "language_info": {
   "codemirror_mode": {
    "name": "ipython",
    "version": 3
   },
   "file_extension": ".py",
   "mimetype": "text/x-python",
   "name": "python",
   "nbconvert_exporter": "python",
   "pygments_lexer": "ipython3",
   "version": "3.10.7"
  },
  "orig_nbformat": 4,
  "vscode": {
   "interpreter": {
    "hash": "c19fa61d258bb2b35aae2ada233c33e2817c1ce895aa48acba720c6bf7cbe3cb"
   }
  }
 },
 "nbformat": 4,
 "nbformat_minor": 2
}
