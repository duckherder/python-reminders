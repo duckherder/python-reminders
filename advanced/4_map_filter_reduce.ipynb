{
 "cells": [
  {
   "cell_type": "markdown",
   "metadata": {},
   "source": [
    "# Map, Filter, Reduce\n",
    "\n",
    "Higher order functions that take a function and an iterable and do something with it.\n",
    "\n",
    "Use `map()` to apply a function to an iterable"
   ]
  },
  {
   "cell_type": "code",
   "execution_count": 9,
   "metadata": {},
   "outputs": [
    {
     "name": "stdout",
     "output_type": "stream",
     "text": [
      "map() returns an object of type <class 'map'>\n",
      "2\n",
      "4\n",
      "6\n"
     ]
    }
   ],
   "source": [
    "result = map(lambda x: x * 2, [1, 2, 3])\n",
    "# returns a map object iterator (generator)\n",
    "print(\"map() returns an object of type\", type(result))\n",
    "for i in result:\n",
    "    print(i)"
   ]
  },
  {
   "cell_type": "markdown",
   "metadata": {},
   "source": [
    "Very similar to using a list comprehension..."
   ]
  },
  {
   "cell_type": "code",
   "execution_count": 2,
   "metadata": {},
   "outputs": [
    {
     "name": "stdout",
     "output_type": "stream",
     "text": [
      "result = [(lambda x : x * 2)(y) for y in [1, 2, 3]]\n",
      "<class 'list'>\n",
      "[2, 4, 6]\n"
     ]
    }
   ],
   "source": [
    "print(\"result = [(lambda x : x * 2)(y) for y in [1, 2, 3]]\")\n",
    "result = [(lambda x: x * 2)(y) for y in [1, 2, 3]]\n",
    "print(type(result))\n",
    "print(result)"
   ]
  },
  {
   "cell_type": "markdown",
   "metadata": {},
   "source": [
    "But in fact more like a generator..."
   ]
  },
  {
   "cell_type": "code",
   "execution_count": 3,
   "metadata": {},
   "outputs": [
    {
     "name": "stdout",
     "output_type": "stream",
     "text": [
      "<class 'generator'>\n",
      "2\n",
      "4\n",
      "6\n"
     ]
    }
   ],
   "source": [
    "result = ((lambda x: x * 2)(y) for y in [1, 2, 3])\n",
    "print(type(result))\n",
    "for i in result:\n",
    "    print(i)"
   ]
  },
  {
   "cell_type": "markdown",
   "metadata": {},
   "source": [
    "You can pass a lambda or any function"
   ]
  },
  {
   "cell_type": "code",
   "execution_count": 4,
   "metadata": {},
   "outputs": [
    {
     "name": "stdout",
     "output_type": "stream",
     "text": [
      "in my_func, my_string = Bob:0\n",
      "Bob:0\n",
      "in my_func, my_string = Tom:0\n",
      "Tom:0\n",
      "in my_func, my_string = Sheila:0\n",
      "Sheila:0\n"
     ]
    }
   ],
   "source": [
    "def my_func(my_string, my_number=0):\n",
    "    my_string = my_string.capitalize() + ':' + str(my_number)\n",
    "    print(\"in my_func, my_string =\", my_string)\n",
    "    return my_string                                # need to return a value\n",
    "\n",
    "result = map(my_func, ['bob', 'tom', 'sheila'])\n",
    "for i in result:\n",
    "    # you can see interleaving of generator (my_func calls on next())\n",
    "    print(i)\n",
    "    # ..function evaluation as we go/need the data"
   ]
  },
  {
   "cell_type": "markdown",
   "metadata": {},
   "source": [
    "What about multiple arguments to my_func?"
   ]
  },
  {
   "cell_type": "code",
   "execution_count": 5,
   "metadata": {},
   "outputs": [
    {
     "name": "stdout",
     "output_type": "stream",
     "text": [
      "in my_func, my_string = Bob:1\n",
      "Bob:1\n",
      "in my_func, my_string = Tom:2\n",
      "Tom:2\n",
      "in my_func, my_string = Sheila:3\n",
      "Sheila:3\n"
     ]
    }
   ],
   "source": [
    "result = map(my_func, ['bob', 'tom', 'sheila'], [1, 2, 3])\n",
    "for i in result:\n",
    "    print(i)"
   ]
  },
  {
   "cell_type": "markdown",
   "metadata": {},
   "source": [
    "Use `filter()` to filter out items in an iterable - function or lambda must return `True` or `False`"
   ]
  },
  {
   "cell_type": "code",
   "execution_count": 6,
   "metadata": {},
   "outputs": [
    {
     "name": "stdout",
     "output_type": "stream",
     "text": [
      "<class 'filter'>\n",
      "[3, 1, 1, 33, 5, 7]\n",
      "<class 'filter'>\n",
      "[3, 1, 1, 33, 5, 7]\n"
     ]
    }
   ],
   "source": [
    "def my_filter_function(my_integer):\n",
    "    return True if my_integer % 2 else False\n",
    "\n",
    "result = filter(my_filter_function, [3, 4, 34, 2, 1, 1, 33, 4, 5, 6, 7])\n",
    "print(type(result))\n",
    "print(list(result))         # you can convert an iterable to a list\n",
    "\n",
    "result = filter(lambda x: True if x % 2 else False,\n",
    "                [3, 4, 34, 2, 1, 1, 33, 4, 5, 6, 7])\n",
    "print(type(result))\n",
    "print(list(result))\n"
   ]
  },
  {
   "cell_type": "markdown",
   "metadata": {},
   "source": [
    "To use a function with multiple parameters use a lambda or a closure..."
   ]
  },
  {
   "cell_type": "code",
   "execution_count": 7,
   "metadata": {},
   "outputs": [
    {
     "name": "stdout",
     "output_type": "stream",
     "text": [
      "<class 'filter'>\n",
      "[(4, 3), (7, 5)]\n"
     ]
    }
   ],
   "source": [
    "result = filter(lambda x: True if x[0] > x[1]\n",
    "                else False, [(4, 3), (7, 5), (2, 34)])\n",
    "print(type(result))\n",
    "print(list(result))"
   ]
  },
  {
   "cell_type": "markdown",
   "metadata": {},
   "source": [
    "Use `reduce()` to reduce an iterable to a single object based on a reduction function and sliding window. Sliding windows passes elements `0` and `1 `to `my_reduce_function()` and then the result and element 2. "
   ]
  },
  {
   "cell_type": "code",
   "execution_count": 8,
   "metadata": {},
   "outputs": [
    {
     "name": "stdout",
     "output_type": "stream",
     "text": [
      "<class 'int'>\n",
      "6\n"
     ]
    }
   ],
   "source": [
    "from functools import reduce                # built-in function in Python 2\n",
    "\n",
    "# function takes 2 values and reduces it to 1\n",
    "def my_reduce_function(a, b):\n",
    "    return a if a > b else b\n",
    "\n",
    "# verbose way of performing max()\n",
    "result = reduce(my_reduce_function, [1, 6, 3, 4, -1])\n",
    "# ...again could use a lambda\n",
    "print(type(result))\n",
    "print(result)\n"
   ]
  }
 ],
 "metadata": {
  "kernelspec": {
   "display_name": "Python 3.10.7 64-bit",
   "language": "python",
   "name": "python3"
  },
  "language_info": {
   "codemirror_mode": {
    "name": "ipython",
    "version": 3
   },
   "file_extension": ".py",
   "mimetype": "text/x-python",
   "name": "python",
   "nbconvert_exporter": "python",
   "pygments_lexer": "ipython3",
   "version": "3.10.7"
  },
  "orig_nbformat": 4,
  "vscode": {
   "interpreter": {
    "hash": "c19fa61d258bb2b35aae2ada233c33e2817c1ce895aa48acba720c6bf7cbe3cb"
   }
  }
 },
 "nbformat": 4,
 "nbformat_minor": 2
}
