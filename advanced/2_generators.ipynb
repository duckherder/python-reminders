{
 "cells": [
  {
   "cell_type": "markdown",
   "metadata": {},
   "source": [
    "# Generators and Coroutines\n",
    "\n",
    "Generators allow you to declare a function that behaves like an iterator - a lazy iterator.\n",
    "From https://realpython.com/introduction-to-python-generators/\n",
    "\n",
    "Generators are for creating large lists that don't require large amount of memory like a list see PEP255. They behave like iterators but are implemented differently.\n",
    "\n",
    "Generators produce data, coroutines consume data."
   ]
  },
  {
   "cell_type": "code",
   "execution_count": 59,
   "metadata": {},
   "outputs": [
    {
     "name": "stdout",
     "output_type": "stream",
     "text": [
      "type(random_number_sequence) = class 'function'\n",
      "54\n",
      "60\n",
      "90\n",
      "95\n",
      "56\n"
     ]
    }
   ],
   "source": [
    "import random\n",
    "\n",
    "def random_number_sequence(limit):\n",
    "    \"\"\"a generator to create a list of random numbers\"\"\"\n",
    "    num = limit\n",
    "    while num > 0:\n",
    "        # use of 'yield' is what makes it a generator object rather than a standard object\n",
    "        # state of generator function object saved here and number returned\n",
    "        yield random.randint(0, 100)\n",
    "        # start again from here when next() is called\n",
    "        num -= 1\n",
    "\n",
    "print(\"type(random_number_sequence) =\", str(type(random_number_sequence))[1:-1])\n",
    "for i in random_number_sequence(5):\n",
    "    print(i)"
   ]
  },
  {
   "cell_type": "markdown",
   "metadata": {},
   "source": [
    "The generator object is an iterator so we can call `next()` on a generator object..."
   ]
  },
  {
   "cell_type": "code",
   "execution_count": 60,
   "metadata": {},
   "outputs": [
    {
     "name": "stdout",
     "output_type": "stream",
     "text": [
      "56\n",
      "10\n",
      "98\n"
     ]
    }
   ],
   "source": [
    "generator_fn = random_number_sequence(10)\n",
    "print(next(generator_fn))\n",
    "print(next(generator_fn))\n",
    "print(next(generator_fn))"
   ]
  },
  {
   "cell_type": "markdown",
   "metadata": {},
   "source": [
    "Rather than a function you can use a generator expression or comprehension..."
   ]
  },
  {
   "cell_type": "code",
   "execution_count": 61,
   "metadata": {},
   "outputs": [
    {
     "name": "stdout",
     "output_type": "stream",
     "text": [
      "type(generator_comprehension) = class 'generator'\n",
      "26\n",
      "18\n",
      "85\n",
      "88\n",
      "80\n"
     ]
    }
   ],
   "source": [
    "generator_comprehension = (random.randint(0, 100) for x in range(0, 5))   # yields for each x\n",
    "print(\"type(generator_comprehension) =\", str(type(generator_comprehension))[1:-1])\n",
    "for i in generator_comprehension:\n",
    "    print(i)"
   ]
  },
  {
   "cell_type": "markdown",
   "metadata": {},
   "source": [
    "You can use a generator to convert a string to hexidecimal"
   ]
  },
  {
   "cell_type": "code",
   "execution_count": 62,
   "metadata": {},
   "outputs": [
    {
     "name": "stdout",
     "output_type": "stream",
     "text": [
      "48:65:6c:6c:6f\n"
     ]
    }
   ],
   "source": [
    "hex_generator = (\"{:02x}\".format(ord(c)) for c in \"Hello\")  # yields after each character in string\n",
    "print(\":\".join(hex_generator))                              # join accepts an iterable"
   ]
  },
  {
   "cell_type": "markdown",
   "metadata": {},
   "source": [
    "Comparing a list comprehension with a generator comprehension..."
   ]
  },
  {
   "cell_type": "code",
   "execution_count": 63,
   "metadata": {},
   "outputs": [
    {
     "name": "stdout",
     "output_type": "stream",
     "text": [
      "[num**2 for num in range(5)] = [0, 1, 4, 9, 16]\n",
      "(num**2 for num in range(5)) = generator object <genexpr> at 0x00000228D1C03BC0\n"
     ]
    }
   ],
   "source": [
    "nums_squared_lc = [num**2 for num in range(5)]\n",
    "nums_squared_gc = (num**2 for num in range(5))\n",
    "print(\"[num**2 for num in range(5)] =\", nums_squared_lc)\n",
    "print(\"(num**2 for num in range(5)) =\", str(nums_squared_gc)[1:-1])"
   ]
  },
  {
   "cell_type": "markdown",
   "metadata": {},
   "source": [
    "These do the same thing but have a different memory footprint. This creates a whole list through comprehension and then iterates."
   ]
  },
  {
   "cell_type": "code",
   "execution_count": 64,
   "metadata": {},
   "outputs": [
    {
     "name": "stdout",
     "output_type": "stream",
     "text": [
      "0\n",
      "1\n",
      "4\n",
      "9\n",
      "16\n",
      "0\n",
      "1\n",
      "4\n",
      "9\n",
      "16\n"
     ]
    }
   ],
   "source": [
    "for i in nums_squared_lc:          # all values stored before getting here\n",
    "    print(i)\n",
    "for i in nums_squared_gc:          # this creates data as it goes\n",
    "    print(i)"
   ]
  },
  {
   "cell_type": "markdown",
   "metadata": {},
   "source": [
    "`max()` also takes an iterable as a parameter so we can pass generator to max..."
   ]
  },
  {
   "cell_type": "code",
   "execution_count": 65,
   "metadata": {},
   "outputs": [
    {
     "name": "stdout",
     "output_type": "stream",
     "text": [
      "16\n"
     ]
    }
   ],
   "source": [
    "nums_squared_gc = (num**2 for num in range(5))    # need to recreate as generator already used\n",
    "print(max(nums_squared_gc))"
   ]
  },
  {
   "cell_type": "markdown",
   "metadata": {},
   "source": [
    "What if I want to return a value from a generator?"
   ]
  },
  {
   "cell_type": "code",
   "execution_count": 66,
   "metadata": {},
   "outputs": [
    {
     "name": "stdout",
     "output_type": "stream",
     "text": [
      "Fire!\n",
      "StopIteration exception: generator finished and returned value: {'Success': True}\n"
     ]
    }
   ],
   "source": [
    "def single_shot() -> dict:              # generator returns a dictionary\n",
    "    yield 'Fire!'\n",
    "    return {'Success': True}            # returning value from generator function\n",
    "\n",
    "my_single_shot = single_shot()\n",
    "print(next(my_single_shot))\n",
    "try:\n",
    "    print(next(my_single_shot))\n",
    "except StopIteration as e:              # StopIteration exception is raised\n",
    "    print(\"StopIteration exception: generator finished and returned value:\", e)"
   ]
  },
  {
   "cell_type": "markdown",
   "metadata": {},
   "source": [
    "Will a generator comprehension raise an exception?"
   ]
  },
  {
   "cell_type": "code",
   "execution_count": 67,
   "metadata": {},
   "outputs": [
    {
     "name": "stdout",
     "output_type": "stream",
     "text": [
      "14\n",
      "StopIteration exception: generator finished and returned value: \n"
     ]
    }
   ],
   "source": [
    "single_shot_comprehension = (random.randint(0, 100) for x in range(0, 1))\n",
    "print(next(single_shot_comprehension))\n",
    "try:\n",
    "    print(next(single_shot_comprehension))\n",
    "except StopIteration as e:              # StopIteration exception is raised again\n",
    "    # ...but no return value to print\n",
    "    print(\"StopIteration exception: generator finished and returned value:\", e)"
   ]
  },
  {
   "cell_type": "markdown",
   "metadata": {},
   "source": [
    "What attributes does a generator differ from a standard function..."
   ]
  },
  {
   "cell_type": "code",
   "execution_count": 68,
   "metadata": {},
   "outputs": [
    {
     "name": "stdout",
     "output_type": "stream",
     "text": [
      "Difference in attributes between a generator function and standard function: set()\n",
      "Difference in attributes between a generator object and standard function: {'gi_running', 'throw', '__next__', 'gi_code', 'close', 'gi_yieldfrom', '__del__', 'gi_frame', '__iter__', 'send'}\n",
      "Difference in attributes between a generator object from a comprehension: set()\n"
     ]
    }
   ],
   "source": [
    "def single_shot_fn():\n",
    "    return True\n",
    "\n",
    "print(\"Difference in attributes between a generator function and standard function:\",\n",
    "      (set(dir(single_shot)) - set(dir(single_shot_fn))))\n",
    "print(\"Difference in attributes between a generator object and standard function:\",\n",
    "      (set(dir(my_single_shot)) - set(dir(single_shot_fn))))\n",
    "print(\"Difference in attributes between a generator object from a comprehension:\",\n",
    "      (set(dir(my_single_shot)) - set(dir(single_shot_comprehension))))"
   ]
  },
  {
   "cell_type": "markdown",
   "metadata": {},
   "source": [
    "You can have multiple yields in a generator function..."
   ]
  },
  {
   "cell_type": "code",
   "execution_count": 69,
   "metadata": {},
   "outputs": [
    {
     "name": "stdout",
     "output_type": "stream",
     "text": [
      "First yield!\n",
      "Second yield!\n",
      "Third yield!\n"
     ]
    }
   ],
   "source": [
    "def triple_shot():\n",
    "    yield 'First yield!'\n",
    "    yield 'Second yield!'\n",
    "    yield 'Third yield!'\n",
    "\n",
    "my_triple_generator = triple_shot()\n",
    "print(next(my_triple_generator))\n",
    "print(next(my_triple_generator))\n",
    "print(next(my_triple_generator))"
   ]
  },
  {
   "cell_type": "markdown",
   "metadata": {},
   "source": [
    "Generators produce data like an iterable while with a coroutines it can consume data. First let's create a generator that uses `yield` as an expression rather than statement and make use of the return value from the first `yield`."
   ]
  },
  {
   "cell_type": "code",
   "execution_count": 70,
   "metadata": {},
   "outputs": [
    {
     "name": "stdout",
     "output_type": "stream",
     "text": [
      "try #1: Calling first next()\n",
      "my_coroutine_fn: Before first yield\n",
      "try #2: First yield from my_coroutine_fn\n",
      "my_coroutine_fn: After first yield, return value = None\n",
      "try #3: Second yield from my_coroutine_fn\n",
      "except: Generator complete!\n"
     ]
    }
   ],
   "source": [
    "def my_coroutine_fn():\n",
    "    print(\"my_coroutine_fn: Before first yield\")          # note when this is printed\n",
    "    ret = (yield \"First yield from my_coroutine_fn\")      # yield as expression and not statement\n",
    "    print(\"my_coroutine_fn: After first yield, return value =\", ret)\n",
    "    if ret is None:\n",
    "        yield \"Second yield from my_coroutine_fn\"\n",
    "    else:\n",
    "        yield \"Different second yield!\"\n",
    "\n",
    "try:\n",
    "    my_coroutine = my_coroutine_fn()\n",
    "    print(\"try #1: Calling first next()\")\n",
    "    print(\"try #2:\", next(my_coroutine))\n",
    "    print(\"try #3:\", next(my_coroutine))\n",
    "    print(\"try #4:\", next(my_coroutine))                  # this next() will throw as generator done\n",
    "except StopIteration:\n",
    "    print(\"except: Generator complete!\")"
   ]
  },
  {
   "cell_type": "markdown",
   "metadata": {},
   "source": [
    "How do we send a return value back to the generator. We can use `send()`. This is what turns a generator into a coroutine, one that consumes data."
   ]
  },
  {
   "cell_type": "code",
   "execution_count": 71,
   "metadata": {},
   "outputs": [
    {
     "name": "stdout",
     "output_type": "stream",
     "text": [
      "try: Calling first next()\n",
      "my_coroutine_fn: Before first yield\n",
      "try #1: First yield from my_coroutine_fn\n",
      "try #2: sending data to coroutine\n",
      "my_coroutine_fn: After first yield, return value = Whatever you like\n",
      "try #3: Different second yield!\n",
      "except: Generator complete!\n"
     ]
    }
   ],
   "source": [
    "try:\n",
    "    my_coroutine = my_coroutine_fn()\n",
    "    print(\"try: Calling first next()\")\n",
    "    print(\"try #1:\", next(my_coroutine))\n",
    "    print(\"try #2: sending data to coroutine\")\n",
    "    print(\"try #3:\", my_coroutine.send(\"Whatever you like\"))    # send() is also a next()\n",
    "    print(\"try #4:\", next(my_coroutine))\n",
    "except StopIteration:\n",
    "    print(\"except: Generator complete!\")"
   ]
  },
  {
   "cell_type": "markdown",
   "metadata": {},
   "source": [
    "Here is a complicated way to create a list using a co-routine"
   ]
  },
  {
   "cell_type": "code",
   "execution_count": 72,
   "metadata": {},
   "outputs": [
    {
     "name": "stdout",
     "output_type": "stream",
     "text": [
      "[0, 1, 2, 3, 4]\n"
     ]
    }
   ],
   "source": [
    "def my_number_swallower_fn():\n",
    "    _mylist = []\n",
    "    while len(_mylist) < 5:\n",
    "        _mylist.append((yield))   # need to yield before you can do a send\n",
    "    return _mylist\n",
    "\n",
    "try:\n",
    "    my_number_swallower = my_number_swallower_fn()\n",
    "    next(my_number_swallower)        # need to get to first yield\n",
    "    for i in range(100):\n",
    "        my_number_swallower.send(i)  # co-routine is just consuming data\n",
    "except StopIteration as e:\n",
    "    print(e)"
   ]
  },
  {
   "cell_type": "markdown",
   "metadata": {},
   "source": [
    "Call `throw()` on generator object..."
   ]
  },
  {
   "cell_type": "code",
   "execution_count": 73,
   "metadata": {},
   "outputs": [
    {
     "name": "stdout",
     "output_type": "stream",
     "text": [
      "test_yield: Caught value error exception in generator: Don't like looks of this!\n",
      "except: Caught stop iteration - thrown by throw() function\n"
     ]
    }
   ],
   "source": [
    "def test_yield():\n",
    "    try:\n",
    "        yield 1\n",
    "        yield 2\n",
    "        yield 3\n",
    "    except ValueError as e:\n",
    "        print(\"test_yield: Caught value error exception in generator:\", e)\n",
    "\n",
    "my_throw_yield = test_yield()\n",
    "value = next(my_throw_yield)\n",
    "try:\n",
    "    if value == 1:\n",
    "        my_throw_yield.throw(ValueError(\"Don't like looks of this!\"))\n",
    "except StopIteration:\n",
    "    print(\"except: Caught stop iteration - thrown by throw() function\")"
   ]
  },
  {
   "cell_type": "markdown",
   "metadata": {},
   "source": [
    "Call `close()` on generator object..."
   ]
  },
  {
   "cell_type": "code",
   "execution_count": 74,
   "metadata": {},
   "outputs": [
    {
     "name": "stdout",
     "output_type": "stream",
     "text": [
      "except: Caught stop iteration - thrown by next() function\n"
     ]
    }
   ],
   "source": [
    "my_close_yield = test_yield()\n",
    "value = next(my_close_yield)\n",
    "if value == 1:\n",
    "    my_close_yield.close()\n",
    "try:\n",
    "    # should be 2 if hadn't closed the generator\n",
    "    value = next(my_close_yield)\n",
    "except StopIteration:\n",
    "    print(\"except: Caught stop iteration - thrown by next() function\")"
   ]
  },
  {
   "cell_type": "markdown",
   "metadata": {},
   "source": [
    "`yield from` allows for delegation to sub-generators. See https://docs.python.org/3/whatsnew/3.3.html#pep-380."
   ]
  },
  {
   "cell_type": "code",
   "execution_count": 75,
   "metadata": {},
   "outputs": [
    {
     "name": "stdout",
     "output_type": "stream",
     "text": [
      "Bob\n",
      "Sally\n",
      "Donald\n",
      "0\n",
      "1\n",
      "2\n",
      "Bob\n",
      "Sally\n",
      "Donald\n"
     ]
    }
   ],
   "source": [
    "my_sub_generator = ['Bob', 'Sally', 'Donald']       # a list can be considered a sub-generator\n",
    "\n",
    "def my_generator():\n",
    "    yield from my_sub_generator                     # this could be any generator function or comprehension\n",
    "    yield from range(3)\n",
    "    yield from (x for x in my_sub_generator)        # if I just yield, it will yield a generator expression\n",
    "\n",
    "for x in my_generator():\n",
    "    print(x)"
   ]
  },
  {
   "cell_type": "markdown",
   "metadata": {},
   "source": [
    "Can be useful for recursive traversal of tree..."
   ]
  },
  {
   "cell_type": "code",
   "execution_count": 76,
   "metadata": {},
   "outputs": [
    {
     "name": "stdout",
     "output_type": "stream",
     "text": [
      "Recurse a list [[[1, 2, 3], 'Bob', 'John'], ['Sally', 'Susan', 'Amelia']]\n",
      "Recurse a list [[1, 2, 3], 'Bob', 'John']\n",
      "Recurse a list [1, 2, 3]\n",
      "Yield a leaf 1\n",
      "Yield a leaf 2\n",
      "Yield a leaf 3\n",
      "Yield a leaf Bob\n",
      "Yield a leaf John\n",
      "Recurse a list ['Sally', 'Susan', 'Amelia']\n",
      "Yield a leaf Sally\n",
      "Yield a leaf Susan\n",
      "Yield a leaf Amelia\n"
     ]
    }
   ],
   "source": [
    "my_nested_list = [[[1, 2, 3], 'Bob', 'John'], ['Sally', 'Susan', 'Amelia']]\n",
    "\n",
    "def traverse_nested_lists(a_node):\n",
    "    if type(a_node) is not list:\n",
    "        print(f\"Yield a leaf {a_node}\")\n",
    "        yield a_node\n",
    "    else:\n",
    "        print(f\"Recurse a list {a_node}\")\n",
    "        for node in a_node:\n",
    "            yield from traverse_nested_lists(node)\n",
    "\n",
    "for x in traverse_nested_lists(my_nested_list):\n",
    "    pass"
   ]
  }
 ],
 "metadata": {
  "kernelspec": {
   "display_name": "Python 3.10.7 64-bit",
   "language": "python",
   "name": "python3"
  },
  "language_info": {
   "codemirror_mode": {
    "name": "ipython",
    "version": 3
   },
   "file_extension": ".py",
   "mimetype": "text/x-python",
   "name": "python",
   "nbconvert_exporter": "python",
   "pygments_lexer": "ipython3",
   "version": "3.10.7"
  },
  "orig_nbformat": 4,
  "vscode": {
   "interpreter": {
    "hash": "c19fa61d258bb2b35aae2ada233c33e2817c1ce895aa48acba720c6bf7cbe3cb"
   }
  }
 },
 "nbformat": 4,
 "nbformat_minor": 2
}
