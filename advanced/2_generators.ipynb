{
 "cells": [
  {
   "cell_type": "markdown",
   "metadata": {},
   "source": [
    "# Generators\n",
    "\n",
    "Generators allow you to declare a function that behaves like an iterator - a lazy iterator.\n",
    "From https://realpython.com/introduction-to-python-generators/\n",
    "\n",
    "Generators are for creating large lists that don't require large amount of memory like a list see PEP255. They behave like iterators but are implemented differently."
   ]
  },
  {
   "cell_type": "code",
   "execution_count": 1,
   "metadata": {},
   "outputs": [
    {
     "name": "stdout",
     "output_type": "stream",
     "text": [
      "39\n",
      "76\n",
      "93\n",
      "95\n",
      "30\n",
      "67\n",
      "78\n",
      "24\n",
      "9\n",
      "51\n",
      "type(random_number_sequence) = <class 'function'>\n",
      "..but object created when generator function is called is of type(generator_fn) = <class 'generator'>\n"
     ]
    }
   ],
   "source": [
    "import random\n",
    "\n",
    "# you could make generator create an infinite list\n",
    "def random_number_sequence(limit):\n",
    "    num = limit\n",
    "    while num > 0:\n",
    "        # use of 'yield' is what makes it a generator object rather than a standard object\n",
    "        # state of generator function object saved here and number returned\n",
    "        yield random.randint(0, 100)\n",
    "        # start again from here when next() is called\n",
    "        num -= 1\n",
    "\n",
    "for i in random_number_sequence(10):\n",
    "    print(i)\n",
    "\n",
    "# the generator function is just a function\n",
    "print(\"type(random_number_sequence) =\", type(random_number_sequence))\n",
    "# could be set to 100000000 without allocating equivalent memory\n",
    "generator_fn = random_number_sequence(10)\n",
    "print(\"..but object created when generator function is called is of type(generator_fn) =\", type(generator_fn))"
   ]
  },
  {
   "cell_type": "markdown",
   "metadata": {},
   "source": [
    "The generator object is an iterator so we can call next() on a generator object..."
   ]
  },
  {
   "cell_type": "code",
   "execution_count": 2,
   "metadata": {},
   "outputs": [
    {
     "name": "stdout",
     "output_type": "stream",
     "text": [
      "83\n",
      "14\n",
      "82\n"
     ]
    }
   ],
   "source": [
    "print(next(generator_fn))\n",
    "print(next(generator_fn))\n",
    "print(next(generator_fn))"
   ]
  },
  {
   "cell_type": "markdown",
   "metadata": {},
   "source": [
    "Using a generator expression or comprehension..."
   ]
  },
  {
   "cell_type": "code",
   "execution_count": 3,
   "metadata": {},
   "outputs": [
    {
     "name": "stdout",
     "output_type": "stream",
     "text": [
      "some random numbers\n",
      "1\n",
      "9\n",
      "90\n",
      "60\n",
      "43\n",
      "48\n",
      "35\n",
      "40\n",
      "94\n",
      "31\n",
      "converting the string ' hello ' to hexideximal\n",
      "<class 'generator'>\n",
      "68:65:6c:6c:6f\n"
     ]
    }
   ],
   "source": [
    "generator_comprehension = (random.randint(0, 100) for x in range(0, 10))\n",
    "print(\"some random numbers\")\n",
    "for i in generator_comprehension:\n",
    "    print(i)\n",
    "\n",
    "my_string = 'hello'\n",
    "print(\"converting the string '\", my_string, \"' to hexideximal\")\n",
    "hex_generator = (\"{:02x}\".format(ord(c)) for c in my_string)\n",
    "print(type(hex_generator))\n",
    "# join expects an iterable e.g. a list or a generator expression\n",
    "print(\":\".join(hex_generator))"
   ]
  },
  {
   "cell_type": "markdown",
   "metadata": {},
   "source": [
    "Comparing a list comprehension with a generator comprehension..."
   ]
  },
  {
   "cell_type": "code",
   "execution_count": 4,
   "metadata": {},
   "outputs": [
    {
     "name": "stdout",
     "output_type": "stream",
     "text": [
      "[num**2 for num in range(5)] = [0, 1, 4, 9, 16]\n",
      "(num**2 for num in range(5)) = <generator object <genexpr> at 0x0000021157D9AFF0>\n"
     ]
    }
   ],
   "source": [
    "nums_squared_lc = [num**2 for num in range(5)]\n",
    "nums_squared_gc = (num**2 for num in range(5))\n",
    "print(\"[num**2 for num in range(5)] =\", nums_squared_lc)\n",
    "print(\"(num**2 for num in range(5)) =\", nums_squared_gc)"
   ]
  },
  {
   "cell_type": "markdown",
   "metadata": {},
   "source": [
    "These do the same thing but have a different memory footprint. This creates a whole list through comprehension and then iterates."
   ]
  },
  {
   "cell_type": "code",
   "execution_count": 5,
   "metadata": {},
   "outputs": [
    {
     "name": "stdout",
     "output_type": "stream",
     "text": [
      "0\n",
      "1\n",
      "4\n",
      "9\n",
      "16\n",
      "0\n",
      "1\n",
      "4\n",
      "9\n",
      "16\n"
     ]
    }
   ],
   "source": [
    "for i in [num**2 for num in range(5)]:\n",
    "    print(i)\n",
    "for i in (num**2 for num in range(5)):          # this iterates data as it goes\n",
    "    print(i)"
   ]
  },
  {
   "cell_type": "markdown",
   "metadata": {},
   "source": [
    "`max()` also takes an iterable as a parameter so we can pass generator to max..."
   ]
  },
  {
   "cell_type": "code",
   "execution_count": 6,
   "metadata": {},
   "outputs": [
    {
     "name": "stdout",
     "output_type": "stream",
     "text": [
      "16\n"
     ]
    }
   ],
   "source": [
    "print(max(num**2 for num in range(5)))"
   ]
  },
  {
   "cell_type": "markdown",
   "metadata": {},
   "source": [
    "What if i return a value from a generator?"
   ]
  },
  {
   "cell_type": "code",
   "execution_count": 7,
   "metadata": {},
   "outputs": [
    {
     "name": "stdout",
     "output_type": "stream",
     "text": [
      "fire!\n",
      "StopIteration exception: generator finished and returned value: True\n"
     ]
    }
   ],
   "source": [
    "def single_shot():\n",
    "    yield 'fire!'\n",
    "    return True             # returning value from generator function\n",
    "\n",
    "my_single_shot = single_shot()\n",
    "print(next(my_single_shot))\n",
    "try:\n",
    "    print(next(my_single_shot))\n",
    "except StopIteration as e:              # StopIteration exception is raised\n",
    "    print(\"StopIteration exception: generator finished and returned value:\", e)"
   ]
  },
  {
   "cell_type": "markdown",
   "metadata": {},
   "source": [
    "Will a generator comprehension raise an exception?"
   ]
  },
  {
   "cell_type": "code",
   "execution_count": 8,
   "metadata": {},
   "outputs": [
    {
     "name": "stdout",
     "output_type": "stream",
     "text": [
      "57\n",
      "StopIteration exception: generator finished and returned value: \n"
     ]
    }
   ],
   "source": [
    "single_shot_comprehension = (random.randint(0, 100) for x in range(0, 1))\n",
    "print(next(single_shot_comprehension))\n",
    "try:\n",
    "    print(next(single_shot_comprehension))\n",
    "except StopIteration as e:              # StopIteration exception is raised again\n",
    "    # ...but no return value to print\n",
    "    print(\"StopIteration exception: generator finished and returned value:\", e)"
   ]
  },
  {
   "cell_type": "markdown",
   "metadata": {},
   "source": [
    "What attributes does a generator different from a standard function..."
   ]
  },
  {
   "cell_type": "code",
   "execution_count": 9,
   "metadata": {},
   "outputs": [
    {
     "name": "stdout",
     "output_type": "stream",
     "text": [
      "difference in attributes between a generator function and standard function: set()\n",
      "difference in attributes between a generator object and standard function: {'gi_code', 'send', '__del__', '__next__', 'gi_frame', 'gi_yieldfrom', 'throw', 'close', 'gi_running', '__iter__'}\n",
      "difference in attributes between a generators from function or comprehension: set()\n"
     ]
    }
   ],
   "source": [
    "def single_shot_fn():\n",
    "    fired = True\n",
    "    return fired\n",
    "\n",
    "print(\"difference in attributes between a generator function and standard function:\",\n",
    "      (set(dir(single_shot)) - set(dir(single_shot_fn))))\n",
    "print(\"difference in attributes between a generator object and standard function:\",\n",
    "      (set(dir(my_single_shot)) - set(dir(single_shot_fn))))\n",
    "print(\"difference in attributes between a generators from function or comprehension:\",\n",
    "      (set(dir(my_single_shot)) - set(dir(single_shot_comprehension))))"
   ]
  },
  {
   "cell_type": "markdown",
   "metadata": {},
   "source": [
    "You can have multiple yields..."
   ]
  },
  {
   "cell_type": "code",
   "execution_count": 10,
   "metadata": {},
   "outputs": [
    {
     "name": "stdout",
     "output_type": "stream",
     "text": [
      "first yield!\n",
      "second yield!\n",
      "third yield!\n"
     ]
    }
   ],
   "source": [
    "def triple_shot():\n",
    "    yield 'first yield!'\n",
    "    yield 'second yield!'\n",
    "    yield 'third yield!'\n",
    "\n",
    "my_triple_generator = triple_shot()\n",
    "print(next(my_triple_generator))\n",
    "print(next(my_triple_generator))\n",
    "print(next(my_triple_generator))"
   ]
  },
  {
   "cell_type": "markdown",
   "metadata": {},
   "source": [
    "How to use send() to create a coroutine..."
   ]
  },
  {
   "cell_type": "code",
   "execution_count": 11,
   "metadata": {},
   "outputs": [
    {
     "name": "stdout",
     "output_type": "stream",
     "text": [
      "\n",
      "\n",
      "calling next(my_send_to_yield)\n",
      "value returned from next = 1\n",
      "sending 'hello yield' to the generator\n",
      "after first yield, ret= hello yield\n",
      "value returned from send = 2\n",
      "calling next(my_send_to_yield)\n",
      "after second yield, ret= None\n",
      "value returned = None\n"
     ]
    }
   ],
   "source": [
    "def send_to_yield():\n",
    "    # yield as expression and not statement\n",
    "    ret = (yield 1)\n",
    "    print(\"after first yield, ret=\", ret)\n",
    "    ret = (yield 2)\n",
    "    print(\"after second yield, ret=\", ret)\n",
    "    yield                                           # yield None\n",
    "\n",
    "try:\n",
    "    print(\"\\n\")\n",
    "    my_send_to_yield = send_to_yield()\n",
    "    print(\"calling next(my_send_to_yield)\")\n",
    "    print(\"value returned from next =\", next(my_send_to_yield)\n",
    "          )                     # return first yielded value\n",
    "    print(\"sending 'hello yield' to the generator\")\n",
    "    print(\"value returned from send =\", my_send_to_yield.send(\n",
    "        'hello yield'))       # send returns next yield value\n",
    "    print(\"calling next(my_send_to_yield)\")\n",
    "    # returns last yield (None)\n",
    "    print(\"value returned =\", next(my_send_to_yield))\n",
    "except StopIteration:\n",
    "    print(\"generator complete!\")"
   ]
  },
  {
   "cell_type": "markdown",
   "metadata": {},
   "source": [
    "Call throw on generator object..."
   ]
  },
  {
   "cell_type": "code",
   "execution_count": 12,
   "metadata": {},
   "outputs": [
    {
     "name": "stdout",
     "output_type": "stream",
     "text": [
      "caught value error exception in generator!\n",
      "caught stop iteration - thrown by throw() function\n"
     ]
    }
   ],
   "source": [
    "def test_yield():\n",
    "    try:\n",
    "        yield 1\n",
    "        yield 2\n",
    "        yield 3\n",
    "    except ValueError:\n",
    "        print(\"caught value error exception in generator!\")\n",
    "\n",
    "my_throw_yield = test_yield()\n",
    "value = next(my_throw_yield)\n",
    "try:\n",
    "    if value == 1:\n",
    "        my_throw_yield.throw(ValueError(\"whoops don't like looks of this from generator\"))\n",
    "except StopIteration:\n",
    "    print(\"caught stop iteration - thrown by throw() function\")"
   ]
  },
  {
   "cell_type": "markdown",
   "metadata": {},
   "source": [
    "Call close on generator object..."
   ]
  },
  {
   "cell_type": "code",
   "execution_count": 13,
   "metadata": {},
   "outputs": [
    {
     "name": "stdout",
     "output_type": "stream",
     "text": [
      "caught stop iteration - thrown by next() function\n"
     ]
    }
   ],
   "source": [
    "my_close_yield = test_yield()\n",
    "value = next(my_close_yield)\n",
    "if value == 1:\n",
    "    my_close_yield.close()\n",
    "try:\n",
    "    # should be 2 if hadn't closed the generator\n",
    "    value = next(my_close_yield)\n",
    "except StopIteration:\n",
    "    print(\"caught stop iteration - thrown by next() function\")\n"
   ]
  },
  {
   "cell_type": "markdown",
   "metadata": {},
   "source": [
    "`yield from` allows for delegation to sub-generators. See https://docs.python.org/3/whatsnew/3.3.html#pep-380."
   ]
  },
  {
   "cell_type": "code",
   "execution_count": 14,
   "metadata": {},
   "outputs": [
    {
     "name": "stdout",
     "output_type": "stream",
     "text": [
      "bob\n",
      "sally\n",
      "donald\n",
      "0\n",
      "1\n",
      "2\n",
      "bob\n",
      "sally\n",
      "donald\n",
      "<generator object my_generator.<locals>.<genexpr> at 0x0000021157308200>\n"
     ]
    }
   ],
   "source": [
    "my_sub_generator = ['bob', 'sally', 'donald']       # a list can be considered a sub-generator\n",
    "\n",
    "def my_generator():\n",
    "    yield from my_sub_generator                     # this could be any generator function or comprehension\n",
    "    yield from range(3)\n",
    "    yield from (x for x in my_sub_generator)\n",
    "    yield (x for x in my_sub_generator)             # if I just yield, it will yield a generator object instead\n",
    "\n",
    "for x in my_generator():\n",
    "    print(x)"
   ]
  },
  {
   "cell_type": "markdown",
   "metadata": {},
   "source": [
    "Can be useful for recursive traversal of tree..."
   ]
  },
  {
   "cell_type": "code",
   "execution_count": 15,
   "metadata": {},
   "outputs": [
    {
     "name": "stdout",
     "output_type": "stream",
     "text": [
      "recurse nested list\n",
      "recurse nested list\n",
      "recurse nested list\n",
      "yielding a node\n",
      "1\n",
      "yielding a node\n",
      "2\n",
      "yielding a node\n",
      "3\n",
      "yielding a node\n",
      "bob\n",
      "yielding a node\n",
      "john\n",
      "recurse nested list\n",
      "yielding a node\n",
      "sally\n",
      "yielding a node\n",
      "susan\n",
      "yielding a node\n",
      "amelia\n"
     ]
    }
   ],
   "source": [
    "my_nested_list = [[[1, 2, 3], 'bob', 'john'], ['sally', 'susan', 'amelia']]\n",
    "\n",
    "def traverse_nested_lists(a_node):\n",
    "    if type(a_node) is not list:\n",
    "        print(\"yielding a node\")\n",
    "        yield a_node\n",
    "    else:\n",
    "        print(\"recurse nested list\")\n",
    "        for node in a_node:\n",
    "            yield from traverse_nested_lists(node)\n",
    "\n",
    "for x in traverse_nested_lists(my_nested_list):\n",
    "    print(x)"
   ]
  }
 ],
 "metadata": {
  "kernelspec": {
   "display_name": "Python 3.10.7 64-bit",
   "language": "python",
   "name": "python3"
  },
  "language_info": {
   "codemirror_mode": {
    "name": "ipython",
    "version": 3
   },
   "file_extension": ".py",
   "mimetype": "text/x-python",
   "name": "python",
   "nbconvert_exporter": "python",
   "pygments_lexer": "ipython3",
   "version": "3.10.7"
  },
  "orig_nbformat": 4,
  "vscode": {
   "interpreter": {
    "hash": "c19fa61d258bb2b35aae2ada233c33e2817c1ce895aa48acba720c6bf7cbe3cb"
   }
  }
 },
 "nbformat": 4,
 "nbformat_minor": 2
}
