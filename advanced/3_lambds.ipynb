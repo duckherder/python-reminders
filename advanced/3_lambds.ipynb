{
 "cells": [
  {
   "cell_type": "markdown",
   "metadata": {},
   "source": [
    "# Lambdas\n",
    "\n",
    "Anonymous functions.\n",
    "\n",
    "Form `lambda <bound variable, or argument>: <body including free variables>`"
   ]
  },
  {
   "cell_type": "code",
   "execution_count": 2,
   "metadata": {},
   "outputs": [
    {
     "name": "stdout",
     "output_type": "stream",
     "text": [
      "(lambda x: x)(32) = 32\n"
     ]
    }
   ],
   "source": [
    "print(\"(lambda x: x)(32) =\", (lambda x: x)(32))   # calling lambda function with parameter and returning it"
   ]
  },
  {
   "cell_type": "markdown",
   "metadata": {},
   "source": [
    "You can name your lambda"
   ]
  },
  {
   "cell_type": "code",
   "execution_count": 4,
   "metadata": {},
   "outputs": [
    {
     "name": "stdout",
     "output_type": "stream",
     "text": [
      "type(times_two) = class 'function'\n",
      "times_two(2) = 4\n"
     ]
    }
   ],
   "source": [
    "times_two = lambda x: x * 2\n",
    "print(\"type(times_two) =\", str(type(times_two))[1:-1])     # it's a function\n",
    "print(\"times_two(2) =\", times_two(2))"
   ]
  },
  {
   "cell_type": "markdown",
   "metadata": {},
   "source": [
    "What about multiple parameters to your lambda..."
   ]
  },
  {
   "cell_type": "code",
   "execution_count": 3,
   "metadata": {},
   "outputs": [
    {
     "name": "stdout",
     "output_type": "stream",
     "text": [
      "(lambda x, y: x + y)(2, 8) = 10\n",
      "add_numbers(5, 7) = 12\n"
     ]
    }
   ],
   "source": [
    "print(\"(lambda x, y: x + y)(2, 8) =\", (lambda x, y: x + y)(2, 8))       # immediately invoked function expression...\n",
    "add_numbers = lambda x, y: x + y                                        # ...pronounced 'iffy'\n",
    "print(\"add_numbers(5, 7) =\", add_numbers(5, 7))"
   ]
  },
  {
   "cell_type": "markdown",
   "metadata": {},
   "source": [
    "You can pass lambda functions to other (higher order) functions..."
   ]
  },
  {
   "cell_type": "code",
   "execution_count": 5,
   "metadata": {},
   "outputs": [
    {
     "name": "stdout",
     "output_type": "stream",
     "text": [
      "[1, 4, 9]\n",
      "[2, 3, 4]\n",
      "[0.8414709848078965, 0.9092974268256817, 0.1411200080598672]\n"
     ]
    }
   ],
   "source": [
    "import math\n",
    "\n",
    "def my_func_function(a_list, func):            # higher order function: accepts or returns a function object\n",
    "    return [func(x) for x in a_list]\n",
    "\n",
    "print(my_func_function([1, 2, 3], lambda x: x * x))             # square every value in list\n",
    "print(my_func_function([1, 2, 3], lambda x: x + 1))             # add one to every value in list\n",
    "print(my_func_function([1, 2, 3], lambda x: math.sin(x)))       # apply trig function to each value"
   ]
  },
  {
   "cell_type": "markdown",
   "metadata": {},
   "source": [
    "You can return lambda functions from other functions..."
   ]
  },
  {
   "cell_type": "code",
   "execution_count": 5,
   "metadata": {},
   "outputs": [
    {
     "name": "stdout",
     "output_type": "stream",
     "text": [
      "my_returned_function(30)(3) = 90\n"
     ]
    }
   ],
   "source": [
    "def my_returned_function(scale):\n",
    "    return lambda x :  x * scale\n",
    "\n",
    "print(\"my_returned_function(30)(3) =\", my_returned_function(30)(3))"
   ]
  }
 ],
 "metadata": {
  "kernelspec": {
   "display_name": "Python 3.10.7 64-bit",
   "language": "python",
   "name": "python3"
  },
  "language_info": {
   "codemirror_mode": {
    "name": "ipython",
    "version": 3
   },
   "file_extension": ".py",
   "mimetype": "text/x-python",
   "name": "python",
   "nbconvert_exporter": "python",
   "pygments_lexer": "ipython3",
   "version": "3.10.7"
  },
  "orig_nbformat": 4,
  "vscode": {
   "interpreter": {
    "hash": "c19fa61d258bb2b35aae2ada233c33e2817c1ce895aa48acba720c6bf7cbe3cb"
   }
  }
 },
 "nbformat": 4,
 "nbformat_minor": 2
}
