{
 "cells": [
  {
   "cell_type": "markdown",
   "metadata": {},
   "source": [
    "# Function Types\n",
    "\n",
    "More on different types of functions in Python 3."
   ]
  },
  {
   "cell_type": "code",
   "execution_count": 1,
   "metadata": {},
   "outputs": [
    {
     "name": "stdout",
     "output_type": "stream",
     "text": [
      "\n",
      "\n",
      "Bob.__init__ = <function Bob.__init__ at 0x0000013EFCA0C4C0>\n",
      "Bob.__add__ = <function Bob.__add__ at 0x0000013EFCB72950>\n",
      "Bob.__getattribute__ = <slot wrapper '__getattribute__' of 'object' objects>\n",
      "Bob.__ne__ = <slot wrapper '__ne__' of 'object' objects>\n",
      "Bob.a_method = <function Bob.a_method at 0x0000013EFCB728C0>\n",
      "Bob.a_static_method = <function Bob.a_static_method at 0x0000013EFCB73880>\n",
      "Bob.a_class_method = <bound method Bob.a_class_method of <class '__main__.Bob'>>\n",
      "\n",
      "\n",
      "my_instance.__init__ = <bound method Bob.__init__ of <__main__.Bob object at 0x0000013EFCBDAA40>>\n",
      "my_instance.__add__ = <bound method Bob.__add__ of <__main__.Bob object at 0x0000013EFCBDAA40>>\n",
      "my_instance.__getattribute__ = <method-wrapper '__getattribute__' of Bob object at 0x0000013EFCBDAA40>\n",
      "my_instance.__ne__ = <method-wrapper '__ne__' of Bob object at 0x0000013EFCBDAA40>\n",
      "my_instance.a_method = <bound method Bob.a_method of <__main__.Bob object at 0x0000013EFCBDAA40>>\n",
      "my_instance.a_static_method = <function Bob.a_static_method at 0x0000013EFCB73880>\n",
      "my_instance.a_class_method = <bound method Bob.a_class_method of <class '__main__.Bob'>>\n",
      "\n",
      "\n",
      "a_function = <function a_function at 0x0000013EFC83DD80>\n",
      "str.capitalize = <method 'capitalize' of 'str' objects>\n",
      "list.append = <method 'append' of 'list' objects>\n",
      "(0).__ne__ = <method-wrapper '__ne__' of int object at 0x0000013EF7CE00D0>\n",
      "my_list.append = <built-in method append of list object at 0x0000013EFD709240>\n",
      "my_iterator.__next__ = <method-wrapper '__next__' of list_iterator object at 0x0000013EFCBDAE90>\n",
      "issubclass = <built-in function issubclass>\n"
     ]
    }
   ],
   "source": [
    "class Bob(object):\n",
    "    def __init__(self):\n",
    "        pass\n",
    "\n",
    "    def __add__(self):\n",
    "        pass\n",
    "\n",
    "    def a_method(self, x):\n",
    "        pass\n",
    "\n",
    "    @staticmethod\n",
    "    def a_static_method(self):\n",
    "        pass\n",
    "\n",
    "    @classmethod\n",
    "    def a_class_method(cls):\n",
    "        pass\n",
    "\n",
    "# see https://stackoverflow.com/questions/10401935/python-method-wrapper-type\n",
    "print(\"\\n\")\n",
    "print(\"Bob.__init__ =\", Bob.__init__)                   # function\n",
    "print(\"Bob.__add__ =\", Bob.__add__)                     # function\n",
    "print(\"Bob.__getattribute__ =\", Bob.__getattribute__)   # slot wrapper -> wraps C-implemented function\n",
    "print(\"Bob.__ne__ =\", Bob.__ne__)                       # slot wrapper -> wraps C-implemented function\n",
    "print(\"Bob.a_method =\", Bob.a_method)                   # function\n",
    "print(\"Bob.a_static_method =\", Bob.a_static_method)     # function\n",
    "print(\"Bob.a_class_method =\", Bob.a_class_method)       # bound method (bound to class)\n",
    "\n",
    "my_instance = Bob()\n",
    "print(\"\\n\")\n",
    "print(\"my_instance.__init__ =\", my_instance.__init__)   # bound method (bound to my_instance)\n",
    "print(\"my_instance.__add__ =\", my_instance.__add__)     # bound method\n",
    "print(\"my_instance.__getattribute__ =\", my_instance.__getattribute__)   # method-wrapper\n",
    "print(\"my_instance.__ne__ =\", my_instance.__ne__)       # method-wrapper -> wraps C-implemented function as bound method\n",
    "print(\"my_instance.a_method =\", my_instance.a_method)   # bound method\n",
    "print(\"my_instance.a_static_method =\", my_instance.a_static_method) # function\n",
    "print(\"my_instance.a_class_method =\", my_instance.a_class_method)   # bound method (bound to class)\n",
    "\n",
    "def a_function():\n",
    "    pass\n",
    "\n",
    "print(\"\\n\")\n",
    "print(\"a_function =\", a_function)                       # function\n",
    "print(\"str.capitalize =\", str.capitalize)               # method\n",
    "print(\"list.append =\", list.append)                     # method\n",
    "print(\"(0).__ne__ =\", (0).__ne__)                       # method-wrapper\n",
    "my_list = [1,2,3]\n",
    "print(\"my_list.append =\", my_list.append)               # built-in method (bound to my_list)\n",
    "my_iterator = iter(my_list)\n",
    "print(\"my_iterator.__next__ =\", my_iterator.__next__)   # method-wrapper\n",
    "print(\"issubclass =\", issubclass)                       # built-in function"
   ]
  }
 ],
 "metadata": {
  "kernelspec": {
   "display_name": "Python 3.10.7 64-bit",
   "language": "python",
   "name": "python3"
  },
  "language_info": {
   "codemirror_mode": {
    "name": "ipython",
    "version": 3
   },
   "file_extension": ".py",
   "mimetype": "text/x-python",
   "name": "python",
   "nbconvert_exporter": "python",
   "pygments_lexer": "ipython3",
   "version": "3.10.7"
  },
  "orig_nbformat": 4,
  "vscode": {
   "interpreter": {
    "hash": "c19fa61d258bb2b35aae2ada233c33e2817c1ce895aa48acba720c6bf7cbe3cb"
   }
  }
 },
 "nbformat": 4,
 "nbformat_minor": 2
}
