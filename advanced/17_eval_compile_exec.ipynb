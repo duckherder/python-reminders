{
 "cells": [
  {
   "cell_type": "markdown",
   "metadata": {},
   "source": [
    "# Eval, Compile, Exec\n",
    "\n",
    "Use of `eval()`, `compile()` and `exec()`. `eval()` can be used to evaluate a string as code."
   ]
  },
  {
   "cell_type": "code",
   "execution_count": 13,
   "metadata": {},
   "outputs": [
    {
     "name": "stdout",
     "output_type": "stream",
     "text": [
      "5\n",
      "6\n"
     ]
    }
   ],
   "source": [
    "my_generator = (x for x in range(5, 10))\n",
    "my_code_to_execute = \"print(next(my_generator))\"\n",
    "eval(my_code_to_execute)\n",
    "eval(my_code_to_execute)"
   ]
  },
  {
   "cell_type": "markdown",
   "metadata": {},
   "source": [
    "Works with user defined functions"
   ]
  },
  {
   "cell_type": "code",
   "execution_count": 14,
   "metadata": {},
   "outputs": [
    {
     "name": "stdout",
     "output_type": "stream",
     "text": [
      "my_function: Hello Bob\n",
      "my_function: Hello Sally\n"
     ]
    }
   ],
   "source": [
    "def my_function(name):\n",
    "    print(f\"my_function: Hello {name}\")\n",
    "\n",
    "my_code_to_execute = \"my_function('Bob')\"\n",
    "eval(my_code_to_execute)\n",
    "eval(\"my_function('Sally')\")"
   ]
  },
  {
   "cell_type": "markdown",
   "metadata": {},
   "source": [
    "`eval()` is obviously dangerous as you may not know where the string has originated, such as from input(). However, the `locals` and `globals` parameters allow some protection on what may be used by `eval()`."
   ]
  },
  {
   "cell_type": "code",
   "execution_count": 15,
   "metadata": {},
   "outputs": [
    {
     "name": "stdout",
     "output_type": "stream",
     "text": [
      "This eval will fail as print() not in globals\n",
      "my_function: Hello Bob\n",
      "Nested hello eval!\n",
      "Yhis eval will fail again as eval() not in globals\n"
     ]
    }
   ],
   "source": [
    "try:\n",
    "    eval('print(\"Hello\")', globals={'__builtins__': None}, locals={})\n",
    "except TypeError:\n",
    "    print(\"This eval will fail as print() not in globals\")\n",
    "\n",
    "eval(my_code_to_execute, {'__builtins__': None, 'my_function': my_function}, {})    # just allow my_function\n",
    "my_code_to_execute = \"eval('print(\" + '\"Nested hello eval!\"' + \")')\"\n",
    "eval(my_code_to_execute)\n",
    "try:\n",
    "    eval(my_code_to_execute, {'__builtins__': None, 'my_function': my_function}, {})\n",
    "except TypeError:\n",
    "    print(\"Yhis eval will fail again as eval() not in globals\")"
   ]
  },
  {
   "cell_type": "markdown",
   "metadata": {},
   "source": [
    "You can use `compile` to create a code object that can be evaluated later"
   ]
  },
  {
   "cell_type": "code",
   "execution_count": 19,
   "metadata": {},
   "outputs": [
    {
     "name": "stdout",
     "output_type": "stream",
     "text": [
      "my_function: Hello Tim\n",
      "exception: evaluations must be single expression strings\n"
     ]
    }
   ],
   "source": [
    "eval_code_object = compile(\"my_function('Tim')\", '', 'eval')\n",
    "eval(eval_code_object)\n",
    "try:\n",
    "    eval_code_object = compile(\"my_function('tim')\\nprint('Hello function, from Tim!')\", '', 'eval')\n",
    "except SyntaxError:\n",
    "    print(\"exception: evaluations must be single expression strings\")"
   ]
  },
  {
   "cell_type": "markdown",
   "metadata": {},
   "source": [
    "For multi-expressions strings use `exec()`"
   ]
  },
  {
   "cell_type": "code",
   "execution_count": 20,
   "metadata": {},
   "outputs": [
    {
     "name": "stdout",
     "output_type": "stream",
     "text": [
      "my_function: Hello Tim\n",
      "Hello function, from Tim!\n"
     ]
    }
   ],
   "source": [
    "exec(\"my_function('Tim')\\nprint('Hello function, from Tim!')\")"
   ]
  },
  {
   "cell_type": "markdown",
   "metadata": {},
   "source": [
    "..also compatible with `compile`..."
   ]
  },
  {
   "cell_type": "code",
   "execution_count": 21,
   "metadata": {},
   "outputs": [
    {
     "name": "stdout",
     "output_type": "stream",
     "text": [
      "my_function: Hello Tim\n",
      "Hello function, from Tim!\n"
     ]
    }
   ],
   "source": [
    "exec_code_object = compile(\"my_function('Tim')\\nprint('Hello function, from Tim!')\", '', 'exec')\n",
    "exec(exec_code_object)"
   ]
  }
 ],
 "metadata": {
  "kernelspec": {
   "display_name": "Python 3.10.7 64-bit",
   "language": "python",
   "name": "python3"
  },
  "language_info": {
   "codemirror_mode": {
    "name": "ipython",
    "version": 3
   },
   "file_extension": ".py",
   "mimetype": "text/x-python",
   "name": "python",
   "nbconvert_exporter": "python",
   "pygments_lexer": "ipython3",
   "version": "3.10.7"
  },
  "orig_nbformat": 4,
  "vscode": {
   "interpreter": {
    "hash": "c19fa61d258bb2b35aae2ada233c33e2817c1ce895aa48acba720c6bf7cbe3cb"
   }
  }
 },
 "nbformat": 4,
 "nbformat_minor": 2
}
