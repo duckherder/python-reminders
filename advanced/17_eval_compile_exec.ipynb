{
 "cells": [
  {
   "cell_type": "markdown",
   "metadata": {},
   "source": [
    "# Eval, Compile, Exec\n",
    "\n",
    "Use of `eval()`, `compile()` and `exec()`\n",
    "\n",
    "Use `eval` to evaluate a string as code"
   ]
  },
  {
   "cell_type": "code",
   "execution_count": 1,
   "metadata": {},
   "outputs": [
    {
     "name": "stdout",
     "output_type": "stream",
     "text": [
      "5\n",
      "6\n",
      "hello bob from my_function\n",
      "hello sally from my_function\n",
      "this eval will fail as print() not in globals\n",
      "hello bob from my_function\n",
      "nested hello eval!\n",
      "this eval will fail again as eval() not in globals\n"
     ]
    }
   ],
   "source": [
    "my_generator = (x for x in range(5, 10))\n",
    "my_code_to_execute = \"print(next(my_generator))\"\n",
    "\n",
    "eval(my_code_to_execute)\n",
    "eval(my_code_to_execute)\n",
    "\n",
    "def my_function(name):\n",
    "    print(f\"hello {name} from my_function\")\n",
    "\n",
    "my_code_to_execute = \"my_function('bob')\"\n",
    "eval(my_code_to_execute)\n",
    "eval(\"my_function('sally')\")\n",
    "try:\n",
    "    # eval is obviously dangerous as you may not know where the string has originated, such as from input()\n",
    "    eval('print(\"hello\")', {'__builtins__': None}, {})          # input() does not evaluate in Python 3\n",
    "except TypeError:\n",
    "    print(\"this eval will fail as print() not in globals\")\n",
    "# the globals add locals parameters allow some protection on what may be used by eval\n",
    "eval(my_code_to_execute, {'__builtins__': None, 'my_function': my_function}, {})    # just allow my_function\n",
    "my_code_to_execute = \"eval('print(\" + '\"nested hello eval!\"' + \")')\"\n",
    "eval(my_code_to_execute)\n",
    "try:\n",
    "    eval(my_code_to_execute, {'__builtins__': None, 'my_function': my_function}, {})\n",
    "except TypeError:\n",
    "    print(\"this eval will fail again as eval() not in globals\")\n"
   ]
  },
  {
   "cell_type": "markdown",
   "metadata": {},
   "source": [
    "You can use `compile` to create a code object that can be evaluated later"
   ]
  },
  {
   "cell_type": "code",
   "execution_count": 2,
   "metadata": {},
   "outputs": [
    {
     "name": "stdout",
     "output_type": "stream",
     "text": [
      "hello tim from my_function\n",
      "exception: evaluations must be single expression strings\n"
     ]
    }
   ],
   "source": [
    "eval_code_object = compile(\"my_function('tim')\", '', 'eval')\n",
    "eval(eval_code_object)\n",
    "try:\n",
    "    eval_code_object = compile(\"my_function('tim')\\nprint('hello function, from tim!')\", '', 'eval')\n",
    "except SyntaxError:\n",
    "    print(\"exception: evaluations must be single expression strings\")"
   ]
  },
  {
   "cell_type": "markdown",
   "metadata": {},
   "source": [
    "For multi-expressions strings use `exec()`"
   ]
  },
  {
   "cell_type": "code",
   "execution_count": 3,
   "metadata": {},
   "outputs": [
    {
     "name": "stdout",
     "output_type": "stream",
     "text": [
      "hello tim from my_function\n",
      "hello function, from tim!\n"
     ]
    }
   ],
   "source": [
    "exec(\"my_function('tim')\\nprint('hello function, from tim!')\")"
   ]
  },
  {
   "cell_type": "markdown",
   "metadata": {},
   "source": [
    "..also compatible with `compile`..."
   ]
  },
  {
   "cell_type": "code",
   "execution_count": 4,
   "metadata": {},
   "outputs": [
    {
     "name": "stdout",
     "output_type": "stream",
     "text": [
      "hello tim from my_function\n",
      "hello function, from tim!\n"
     ]
    }
   ],
   "source": [
    "exec_code_object = compile(\"my_function('tim')\\nprint('hello function, from tim!')\", '', 'exec')\n",
    "exec(exec_code_object)"
   ]
  }
 ],
 "metadata": {
  "kernelspec": {
   "display_name": "Python 3.10.7 64-bit",
   "language": "python",
   "name": "python3"
  },
  "language_info": {
   "codemirror_mode": {
    "name": "ipython",
    "version": 3
   },
   "file_extension": ".py",
   "mimetype": "text/x-python",
   "name": "python",
   "nbconvert_exporter": "python",
   "pygments_lexer": "ipython3",
   "version": "3.10.7"
  },
  "orig_nbformat": 4,
  "vscode": {
   "interpreter": {
    "hash": "c19fa61d258bb2b35aae2ada233c33e2817c1ce895aa48acba720c6bf7cbe3cb"
   }
  }
 },
 "nbformat": 4,
 "nbformat_minor": 2
}
