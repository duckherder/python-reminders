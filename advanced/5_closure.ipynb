{
 "cells": [
  {
   "cell_type": "markdown",
   "metadata": {},
   "source": [
    "# Closures\n",
    "\n",
    "Closures are functions that have free variables bound into them.\n",
    "\n",
    "Can create a callable closure function object that has various values baked into it."
   ]
  },
  {
   "cell_type": "code",
   "execution_count": 1,
   "metadata": {},
   "outputs": [
    {
     "name": "stdout",
     "output_type": "stream",
     "text": [
      "closure.capitalise_flag = True\n",
      "closure('hello') = :start:Hello:end:\n",
      "False\n",
      ":start:yellow:end:\n"
     ]
    }
   ],
   "source": [
    "def my_closure_function(capitalise_flag=False):\n",
    "    prefix = ':start:'\n",
    "    suffix = ':end:'\n",
    "\n",
    "    def make_string(my_string):                 # the closures function\n",
    "        a_string = my_string.capitalize() if capitalise_flag else my_string\n",
    "        # make_string has everything it needs from closure object\n",
    "        return prefix + a_string + suffix\n",
    "    # we can tag with an attribute so we can inspect the closure later\n",
    "    make_string.capitalise_flag = capitalise_flag\n",
    "    return make_string                          # returns a function\n",
    "\n",
    "\n",
    "closure = my_closure_function(True)\n",
    "print(\"closure.capitalise_flag =\", closure.capitalise_flag)\n",
    "# function doesn't need to specify prefix, suffix etc.. each time\n",
    "print(\"closure('hello') =\", closure('hello'))\n",
    "# closure function object has 'capitalise' set to False\n",
    "closure = my_closure_function(False)\n",
    "print(closure.capitalise_flag)\n",
    "print(closure('yellow'))"
   ]
  },
  {
   "cell_type": "markdown",
   "metadata": {},
   "source": [
    "Closures can be used with `filter()` when the reducing function needs extra parameters to perform filtering.\n",
    " \n",
    "If your filter function for `filter()` takes some other fixed parameters you can create a closure for it lower and upper parameters are stored in closure object"
   ]
  },
  {
   "cell_type": "code",
   "execution_count": 2,
   "metadata": {},
   "outputs": [
    {
     "name": "stdout",
     "output_type": "stream",
     "text": [
      "[6, 7, 8]\n"
     ]
    }
   ],
   "source": [
    "def create_reduction_filter(lower, upper):\n",
    "    def apply_filter(x):                         # no free variables in this example\n",
    "        return lower < x < upper\n",
    "    return apply_filter\n",
    "\n",
    "# create filter that has multiple parameters\n",
    "filter_5_9 = create_reduction_filter(5, 9)\n",
    "# pass a list of numbers to the filter\n",
    "print(list(filter(filter_5_9, list(range(0, 10)))))"
   ]
  },
  {
   "cell_type": "markdown",
   "metadata": {},
   "source": [
    "We can return a lambda when we create the closure..."
   ]
  },
  {
   "cell_type": "code",
   "execution_count": 3,
   "metadata": {},
   "outputs": [
    {
     "name": "stdout",
     "output_type": "stream",
     "text": [
      ":start:Hello:end:\n",
      ":start:yellow:end:\n"
     ]
    }
   ],
   "source": [
    "def my_lambda_closure_function(capitalise_flag=False):\n",
    "    prefix = ':start:'\n",
    "    suffix = ':end:'\n",
    "    # bake 3 variables into lambda\n",
    "    return lambda x: prefix + (x.capitalize() if capitalise_flag else x) + suffix\n",
    "\n",
    "closure = my_lambda_closure_function(True)\n",
    "print(closure('hello'))\n",
    "closure = my_lambda_closure_function(False)\n",
    "print(closure('yellow'))\n"
   ]
  }
 ],
 "metadata": {
  "kernelspec": {
   "display_name": "Python 3.10.7 64-bit",
   "language": "python",
   "name": "python3"
  },
  "language_info": {
   "codemirror_mode": {
    "name": "ipython",
    "version": 3
   },
   "file_extension": ".py",
   "mimetype": "text/x-python",
   "name": "python",
   "nbconvert_exporter": "python",
   "pygments_lexer": "ipython3",
   "version": "3.10.7"
  },
  "orig_nbformat": 4,
  "vscode": {
   "interpreter": {
    "hash": "c19fa61d258bb2b35aae2ada233c33e2817c1ce895aa48acba720c6bf7cbe3cb"
   }
  }
 },
 "nbformat": 4,
 "nbformat_minor": 2
}
