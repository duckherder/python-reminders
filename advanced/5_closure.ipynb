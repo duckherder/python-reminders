{
 "cells": [
  {
   "cell_type": "markdown",
   "metadata": {},
   "source": [
    "# Closures\n",
    "\n",
    "Closures are functions that have free variables bound into them. You can create a callable closure function object that has various values baked into it."
   ]
  },
  {
   "cell_type": "code",
   "execution_count": 2,
   "metadata": {},
   "outputs": [
    {
     "name": "stdout",
     "output_type": "stream",
     "text": [
      "Hello Susan!\n",
      "Hello susan!\n"
     ]
    }
   ],
   "source": [
    "def my_closure_function(capitalise_flag=False):\n",
    "    _prefix = 'Hello '\n",
    "    _suffix = '!'\n",
    "\n",
    "    def make_string_function(my_string):\n",
    "        a_string = my_string.capitalize() if capitalise_flag else my_string\n",
    "        return _prefix + a_string + _suffix\n",
    "\n",
    "    make_string_function.capitalise_flag = capitalise_flag   # we can tag function with an attribute\n",
    "    return make_string_function\n",
    "\n",
    "my_closure = my_closure_function(True)    # my_closure.capitalise_flag = True\n",
    "print(my_closure('susan'))\n",
    "my_closure = my_closure_function(False)\n",
    "print(my_closure('susan'))"
   ]
  },
  {
   "cell_type": "markdown",
   "metadata": {},
   "source": [
    "Closures can be used with `filter()` when the reducing function needs extra parameters to perform filtering."
   ]
  },
  {
   "cell_type": "code",
   "execution_count": 4,
   "metadata": {},
   "outputs": [
    {
     "name": "stdout",
     "output_type": "stream",
     "text": [
      "[6, 7, 8]\n"
     ]
    }
   ],
   "source": [
    "def create_reduction_filter(lower, upper):\n",
    "    def apply_filter(x):                         # no free variables in this example\n",
    "        return lower < x < upper\n",
    "    return apply_filter                          # lower and upper values are baked into the returned filter\n",
    "\n",
    "filter_5_9 = create_reduction_filter(5, 9)\n",
    "print(list(filter(filter_5_9, list(range(0, 10)))))"
   ]
  },
  {
   "cell_type": "markdown",
   "metadata": {},
   "source": [
    "We can return a lambda when we create the closure..."
   ]
  },
  {
   "cell_type": "code",
   "execution_count": 8,
   "metadata": {},
   "outputs": [
    {
     "name": "stdout",
     "output_type": "stream",
     "text": [
      "Hello Bob!\n",
      "Hello susan!\n"
     ]
    }
   ],
   "source": [
    "def my_lambda_closure_function(capitalise_flag=False):\n",
    "    return lambda x: 'Hello ' + (x.capitalize() if capitalise_flag else x) + '!'   # bake all into lambda\n",
    "\n",
    "print(my_lambda_closure_function(True)(\"bob\"))\n",
    "print(my_lambda_closure_function(False)(\"susan\"))"
   ]
  }
 ],
 "metadata": {
  "kernelspec": {
   "display_name": "Python 3.10.7 64-bit",
   "language": "python",
   "name": "python3"
  },
  "language_info": {
   "codemirror_mode": {
    "name": "ipython",
    "version": 3
   },
   "file_extension": ".py",
   "mimetype": "text/x-python",
   "name": "python",
   "nbconvert_exporter": "python",
   "pygments_lexer": "ipython3",
   "version": "3.10.7"
  },
  "orig_nbformat": 4,
  "vscode": {
   "interpreter": {
    "hash": "c19fa61d258bb2b35aae2ada233c33e2817c1ce895aa48acba720c6bf7cbe3cb"
   }
  }
 },
 "nbformat": 4,
 "nbformat_minor": 2
}
