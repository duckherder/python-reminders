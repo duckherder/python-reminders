{
 "cells": [
  {
   "cell_type": "markdown",
   "metadata": {},
   "source": [
    "# Packing and Unpacking\n",
    "\n",
    "Packing and unpacking and variable length function arguments.\n",
    "\n",
    "You can pack and unpack tuples during assignment."
   ]
  },
  {
   "cell_type": "code",
   "execution_count": 23,
   "metadata": {},
   "outputs": [
    {
     "name": "stdout",
     "output_type": "stream",
     "text": [
      "Bob\n"
     ]
    }
   ],
   "source": [
    "a = ('Bob', 1, [0.5, 1])         # packing a tuple\n",
    "(aa, bb, cc) = a                 # unpacking a tuple\n",
    "print(aa)"
   ]
  },
  {
   "cell_type": "markdown",
   "metadata": {},
   "source": [
    "Unpacking a string using the `*` operator"
   ]
  },
  {
   "cell_type": "code",
   "execution_count": 24,
   "metadata": {},
   "outputs": [
    {
     "name": "stdout",
     "output_type": "stream",
     "text": [
      "['H', 'e', 'l', 'l', 'o']\n"
     ]
    }
   ],
   "source": [
    "my_unpacked_string_list = [*'Hello']\n",
    "print(my_unpacked_string_list)"
   ]
  },
  {
   "cell_type": "markdown",
   "metadata": {},
   "source": [
    "Unpacking a tuple or a list, into a list using the `*` operator"
   ]
  },
  {
   "cell_type": "code",
   "execution_count": 26,
   "metadata": {},
   "outputs": [
    {
     "name": "stdout",
     "output_type": "stream",
     "text": [
      "['Sally', 1, 3.4]\n",
      "['Sally', 1, 3.4]\n",
      "['Sally', 1, 3.4]\n"
     ]
    }
   ],
   "source": [
    "my_unpacked_tuple_list = [*('Sally', 1, 3.4)]\n",
    "print(my_unpacked_tuple_list)\n",
    "my_unpacked_list_list = [*['Sally', 1, 3.4]]\n",
    "print(my_unpacked_list_list)\n",
    "*my_unpacked_tuple_list, = ('Sally', 1, 3.4)                    # unpacks to a list\n",
    "print(my_unpacked_tuple_list)"
   ]
  },
  {
   "cell_type": "markdown",
   "metadata": {},
   "source": [
    "Unpacking parts of a string or a tuple (PEP3132)"
   ]
  },
  {
   "cell_type": "code",
   "execution_count": 28,
   "metadata": {},
   "outputs": [
    {
     "name": "stdout",
     "output_type": "stream",
     "text": [
      "first = H\n",
      "second = e\n",
      "rest = ['l', 'l', 'o']\n",
      "first = 1\n",
      "second = Bob\n",
      "rest = [3, 3.5, 'Fred']\n"
     ]
    }
   ],
   "source": [
    "my_string = 'Hello'\n",
    "first, second, *rest = my_string\n",
    "print(\"first =\", first)\n",
    "print(\"second =\", second)\n",
    "print(\"rest =\", rest)\n",
    "\n",
    "my_tuple = (1, 'Bob', 3, 3.5, 'Fred')\n",
    "first, second, *rest = my_tuple\n",
    "print(\"first =\", first)\n",
    "print(\"second =\", second)\n",
    "print(\"rest =\", rest)"
   ]
  },
  {
   "cell_type": "markdown",
   "metadata": {},
   "source": [
    "Calling a function with parameters by unpacking a tuple with `*` operator...."
   ]
  },
  {
   "cell_type": "code",
   "execution_count": 5,
   "metadata": {},
   "outputs": [
    {
     "name": "stdout",
     "output_type": "stream",
     "text": [
      "*arguments = 1 Bob\n",
      "my_function: param1 = (1, 'Bob')\n",
      "my_function: param2 = None\n",
      "my_function: param1 = 1\n",
      "my_function: param2 = Bob\n"
     ]
    }
   ],
   "source": [
    "def my_function(param1, param2=None):\n",
    "    print(\"my_function: param1 =\", param1)\n",
    "    print(\"my_function: param2 =\", param2)\n",
    "\n",
    "arguments = (1, 'Bob')\n",
    "print(\"*arguments =\", *arguments)  # this expands to print(\"*arguments =\", 1, 'Bob')\n",
    "my_function(arguments)           # pass tuple as argument and only single tuple will be passed\n",
    "my_function(*arguments)          # unpack and pass two parameters"
   ]
  },
  {
   "cell_type": "markdown",
   "metadata": {},
   "source": [
    "If we want send named arguments we need to use a dictionary. Now calling `my_function` using parameter names by unpacking a dictionary with `**` operator."
   ]
  },
  {
   "cell_type": "code",
   "execution_count": 7,
   "metadata": {},
   "outputs": [
    {
     "name": "stdout",
     "output_type": "stream",
     "text": [
      "my_function: param1 = 1\n",
      "my_function: param2 = 2\n"
     ]
    }
   ],
   "source": [
    "arguments = {'param2': 2, 'param1': 1}              # keywords must be strings\n",
    "my_function(**arguments)"
   ]
  },
  {
   "cell_type": "markdown",
   "metadata": {},
   "source": [
    "Calling a function that uses an `*args` parameter..."
   ]
  },
  {
   "cell_type": "code",
   "execution_count": 29,
   "metadata": {},
   "outputs": [
    {
     "name": "stdout",
     "output_type": "stream",
     "text": [
      "('Bob', 'Sue', 'Dave')\n",
      "([3.4, 1, 'temp'],)\n",
      "((1, 'Bob'),)\n",
      "(1, 'Bob')\n",
      "Function has no support for named parameters\n"
     ]
    }
   ],
   "source": [
    "def my_function(*args):\n",
    "    print(args)\n",
    "\n",
    "my_function(\"Bob\", \"Sue\", \"Dave\")\n",
    "my_function([3.4, 1, 'temp'])               # my_function will get a tuple containing a list\n",
    "arguments = (1, 'Bob')\n",
    "my_function(arguments)\n",
    "my_function(*arguments)                     # will unpack arguments, then pack into args, then unpacked\n",
    "try:\n",
    "    my_function(name='Bob', days=2)\n",
    "except TypeError:\n",
    "    print(\"Function has no support for named parameters\")"
   ]
  },
  {
   "cell_type": "markdown",
   "metadata": {},
   "source": [
    "Calling a function with `**kwargs` parameter..."
   ]
  },
  {
   "cell_type": "code",
   "execution_count": 15,
   "metadata": {},
   "outputs": [
    {
     "name": "stdout",
     "output_type": "stream",
     "text": [
      "{'name': 'Bob', 'days': 2}\n",
      "Function has no support for unnamed parameters\n",
      "{'name': 'Bob', 'days': 2}\n"
     ]
    }
   ],
   "source": [
    "def my_function(**kwargs):        # kwargs will be a dictionary with keys as parameter names\n",
    "    print(kwargs)\n",
    "\n",
    "my_function(name='Bob', days=2)\n",
    "keyword_arguments = {'name': 'Bob', 'days': 2}\n",
    "try:\n",
    "    my_function(keyword_arguments)\n",
    "except TypeError:\n",
    "    print(\"Function has no support for unnamed parameters\")\n",
    "my_function(**keyword_arguments)               # ..but we can do this"
   ]
  },
  {
   "cell_type": "markdown",
   "metadata": {},
   "source": [
    "Calling a function with `*args` and `**kwargs` parameters..."
   ]
  },
  {
   "cell_type": "code",
   "execution_count": 20,
   "metadata": {},
   "outputs": [
    {
     "name": "stdout",
     "output_type": "stream",
     "text": [
      "args: (1, 2, [7, 'Bob']) kwargs: {}\n",
      "args: () kwargs: {'name': 'Bob', 'days': 2, 'colors': ['red', 'blue']}\n",
      "args: (1, 2) kwargs: {'colors': ['red', 'blue']}\n"
     ]
    }
   ],
   "source": [
    "def my_function(*args, **kwargs):\n",
    "    print(\"args:\", args, \"kwargs:\", kwargs)\n",
    "\n",
    "my_function(1, 2, [7, 'Bob'])\n",
    "my_function(name=\"Bob\", days=2, colors=[\"red\", \"blue\"])\n",
    "my_function(1, 2, colors=[\"red\", \"blue\"])"
   ]
  },
  {
   "cell_type": "markdown",
   "metadata": {},
   "source": [
    "Note that the dictionary unpacking can also be used to merge dictionaries..."
   ]
  },
  {
   "cell_type": "code",
   "execution_count": 21,
   "metadata": {},
   "outputs": [
    {
     "name": "stdout",
     "output_type": "stream",
     "text": [
      "merged_dictionary =  {'name': 'Bob', 'days': 2, 'colors': ['red', 'blue'], 'age': 32}\n"
     ]
    }
   ],
   "source": [
    "a = {'name': \"Bob\", 'days': 2}\n",
    "b = {'colors': [\"red\", \"blue\"], 'age': 32}\n",
    "print(\"merged_dictionary = \", {**a, **b})"
   ]
  }
 ],
 "metadata": {
  "kernelspec": {
   "display_name": "Python 3.10.7 64-bit",
   "language": "python",
   "name": "python3"
  },
  "language_info": {
   "codemirror_mode": {
    "name": "ipython",
    "version": 3
   },
   "file_extension": ".py",
   "mimetype": "text/x-python",
   "name": "python",
   "nbconvert_exporter": "python",
   "pygments_lexer": "ipython3",
   "version": "3.10.7"
  },
  "orig_nbformat": 4,
  "vscode": {
   "interpreter": {
    "hash": "c19fa61d258bb2b35aae2ada233c33e2817c1ce895aa48acba720c6bf7cbe3cb"
   }
  }
 },
 "nbformat": 4,
 "nbformat_minor": 2
}
