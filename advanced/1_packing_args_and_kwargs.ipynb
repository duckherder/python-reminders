{
 "cells": [
  {
   "cell_type": "markdown",
   "metadata": {},
   "source": [
    "# Packing and Unpacking\n",
    "\n",
    "Packing and unpacking and variable length function arguments."
   ]
  },
  {
   "cell_type": "code",
   "execution_count": 1,
   "metadata": {},
   "outputs": [],
   "source": [
    "a = ('a', 'b', 'c')         # packing a tuple\n",
    "(aa, bb, cc) = a            # unpacking a tuple"
   ]
  },
  {
   "cell_type": "markdown",
   "metadata": {},
   "source": [
    "Unpacking..."
   ]
  },
  {
   "cell_type": "code",
   "execution_count": 2,
   "metadata": {},
   "outputs": [
    {
     "name": "stdout",
     "output_type": "stream",
     "text": [
      "my_unpacked_string_list = [*'hello'] = ['h', 'e', 'l', 'l', 'o']\n",
      "my_unpacked_tuple_list = [*('a', 1, 3.4)] = ['a', 1, 3.4]\n",
      "my_unpacked_list_list = [*['a', 1, 3.4]] = ['a', 1, 3.4]\n",
      "my_unpacked_tuple_list = ['a', 1, 3.4]\n",
      "my_string = hello\n",
      "first = h\n",
      "second = e\n",
      "rest = ['l', 'l', 'o']\n",
      "my_tuple = (1, 'bob', 3, 3.5, 'fred')\n",
      "first = 1\n",
      "second = bob\n",
      "rest = [3, 3.5, 'fred']\n"
     ]
    }
   ],
   "source": [
    "my_unpacked_string_list = [*'hello']\n",
    "print(\"my_unpacked_string_list = [*'hello'] =\", my_unpacked_string_list)\n",
    "my_unpacked_tuple_list = [*('a', 1, 3.4)]\n",
    "print(\"my_unpacked_tuple_list = [*('a', 1, 3.4)] =\", my_unpacked_tuple_list)\n",
    "my_unpacked_list_list = [*['a', 1, 3.4]]\n",
    "print(\"my_unpacked_list_list = [*['a', 1, 3.4]] =\", my_unpacked_list_list)\n",
    "\n",
    "*my_unpacked_tuple_list, = ('a', 1, 3.4)                    # unpacks to a list\n",
    "print(\"my_unpacked_tuple_list =\", my_unpacked_tuple_list)\n",
    "\n",
    "my_string = 'hello'\n",
    "first, second, *rest = my_string                            # from PEP 3132\n",
    "print(\"my_string =\", my_string)\n",
    "print(\"first =\", first)\n",
    "print(\"second =\", second)\n",
    "print(\"rest =\", rest)\n",
    "\n",
    "my_tuple = (1, 'bob', 3, 3.5, 'fred')\n",
    "first, second, *rest = my_tuple\n",
    "print(\"my_tuple =\", my_tuple)\n",
    "print(\"first =\", first)\n",
    "print(\"second =\", second)\n",
    "print(\"rest =\", rest)\n"
   ]
  },
  {
   "cell_type": "markdown",
   "metadata": {},
   "source": [
    "Calling my_function by unpacking a tuple with * operator...."
   ]
  },
  {
   "cell_type": "code",
   "execution_count": 3,
   "metadata": {},
   "outputs": [
    {
     "name": "stdout",
     "output_type": "stream",
     "text": [
      "arguments = (1, 'bob')\n",
      "*arguments = 1 bob\n",
      "pass tuple as argument then single tuple will be passed\n",
      "in my_function(param1, param2)\n",
      "param1 = (1, 'bob')\n",
      "param2 = None\n",
      "if we unpack we won't send a single tuple parameter, rather an int, str\n",
      "in my_function(param1, param2)\n",
      "param1 = 1\n",
      "param2 = bob\n"
     ]
    }
   ],
   "source": [
    "def my_function(param1, param2=None):\n",
    "    print(\"in my_function(param1, param2)\")\n",
    "    print(\"param1 =\", param1)\n",
    "    print(\"param2 =\", param2)\n",
    "\n",
    "arguments = (1, 'bob')\n",
    "print(\"arguments =\", arguments)         # will print the tuple\n",
    "# this expands to print(\"*arguments =\", 1, 'bob') in print function\n",
    "print(\"*arguments =\", *arguments)\n",
    "print(\"pass tuple as argument then single tuple will be passed\")\n",
    "my_function(arguments)\n",
    "print(\"if we unpack we won't send a single tuple parameter, rather an int, str\")\n",
    "my_function(*arguments)\n"
   ]
  },
  {
   "cell_type": "markdown",
   "metadata": {},
   "source": [
    "Calling my_function using parameter names by unpacking a dictionary with ** operator..."
   ]
  },
  {
   "cell_type": "code",
   "execution_count": 4,
   "metadata": {},
   "outputs": [
    {
     "name": "stdout",
     "output_type": "stream",
     "text": [
      "arguments = ('param2 = 1', 'param1 = 2') (this won't work)\n",
      "in my_function(param1, param2)\n",
      "param1 = param2 = 1\n",
      "param2 = param1 = 2\n",
      "arguments = {'param2': 1, 'param1': 2}\n",
      "use a dictionary and **operator\n",
      "in my_function(param1, param2)\n",
      "param1 = 2\n",
      "param2 = 1\n"
     ]
    }
   ],
   "source": [
    "# what we want to send named arguments -> can't do this...\n",
    "arguments = ('param2 = 1', 'param1 = 2')\n",
    "print(\"arguments =\", arguments, \"(this won't work)\")\n",
    "# ..we'll just pass two strings\n",
    "my_function(*arguments)\n",
    "arguments = {'param2': 1, 'param1': 2}              # keywords must be strings\n",
    "print(\"arguments =\", arguments)\n",
    "print(\"use a dictionary and **operator\")\n",
    "my_function(**arguments)"
   ]
  },
  {
   "cell_type": "markdown",
   "metadata": {},
   "source": [
    "\n",
    "Calling a function with *args parameter..."
   ]
  },
  {
   "cell_type": "code",
   "execution_count": 5,
   "metadata": {},
   "outputs": [
    {
     "name": "stdout",
     "output_type": "stream",
     "text": [
      "number of arguments = 3\n",
      "type(args) = <class 'tuple'>\n",
      "('bob', 'sue', 'dave')\n",
      "number of arguments = 1\n",
      "type(args) = <class 'tuple'>\n",
      "([3.4, 1, 'temp'],)\n",
      "number of arguments = 1\n",
      "type(args) = <class 'tuple'>\n",
      "(1,)\n",
      "number of arguments = 2\n",
      "type(args) = <class 'tuple'>\n",
      "('param2', 'param1')\n",
      "argument_function has no support for named parameters\n"
     ]
    }
   ],
   "source": [
    "def argument_function(*args):\n",
    "    print(\"number of arguments =\", len(args))\n",
    "    # always a tuple, even if just passing a single integer\n",
    "    print(\"type(args) =\", type(args))\n",
    "    print(args)\n",
    "\n",
    "argument_function(\"bob\", \"sue\", \"dave\")\n",
    "# argument_function will get a tuple containing a list\n",
    "argument_function([3.4, 1, 'temp'])\n",
    "argument_function(1)\n",
    "# will unpack arguments, then pack into args, then unpacked\n",
    "argument_function(*arguments)\n",
    "try:\n",
    "    argument_function(bob=1, daisy=2)\n",
    "except TypeError:\n",
    "    print(\"argument_function has no support for named parameters\")\n"
   ]
  },
  {
   "cell_type": "markdown",
   "metadata": {},
   "source": [
    "Calling a function with **named_args parameter..."
   ]
  },
  {
   "cell_type": "code",
   "execution_count": 6,
   "metadata": {},
   "outputs": [
    {
     "name": "stdout",
     "output_type": "stream",
     "text": [
      "number of named arguments = 2\n",
      "type(named_args) = <class 'dict'>\n",
      "{'bob': 1, 'daisy': 2}\n",
      "keyword_function has no support for unnamed parameters\n",
      "number of named arguments = 2\n",
      "type(named_args) = <class 'dict'>\n",
      "{'daisy': 2, 'bob': 1}\n"
     ]
    }
   ],
   "source": [
    "def keyword_function(**named_args):                             # normally this would be called kwargs by convention\n",
    "    print(\"number of named arguments =\", len(named_args))\n",
    "    print(\"type(named_args) =\", type(named_args))\n",
    "    # we'll get a dictionary instead of a tuple\n",
    "    print(named_args)\n",
    "\n",
    "keyword_function(bob=1, daisy=2)\n",
    "keyword_arguments = {'daisy': 2, 'bob': 1}\n",
    "try:\n",
    "    # not named so not supported\n",
    "    keyword_function(keyword_arguments)\n",
    "except TypeError:\n",
    "    print(\"keyword_function has no support for unnamed parameters\")\n",
    "keyword_function(**keyword_arguments)               # ..but we can do this"
   ]
  },
  {
   "cell_type": "markdown",
   "metadata": {},
   "source": [
    "Calling a function with *args and **kwargs parameters..."
   ]
  },
  {
   "cell_type": "code",
   "execution_count": 7,
   "metadata": {},
   "outputs": [
    {
     "name": "stdout",
     "output_type": "stream",
     "text": [
      "in function args_and_kwargs\n",
      "number of arguments = 3\n",
      "type(args) = <class 'tuple'>\n",
      "(1, 2, [7, 'bob'])\n",
      "number of named arguments = 0\n",
      "type(named_args) = <class 'dict'>\n",
      "{}\n",
      "in function args_and_kwargs\n",
      "number of arguments = 0\n",
      "type(args) = <class 'tuple'>\n",
      "()\n",
      "number of named arguments = 3\n",
      "type(named_args) = <class 'dict'>\n",
      "{'mary': 1, 'donald': 2, 'sally': [7, 'bob']}\n",
      "in function args_and_kwargs\n",
      "number of arguments = 2\n",
      "type(args) = <class 'tuple'>\n",
      "(1, 2)\n",
      "number of named arguments = 1\n",
      "type(named_args) = <class 'dict'>\n",
      "{'sally': [7, 'bob']}\n"
     ]
    }
   ],
   "source": [
    "# kwargs is the more usual variable name\n",
    "def args_and_kwargs(*args, **kwargs):\n",
    "    print(\"in function args_and_kwargs\")\n",
    "    print(\"number of arguments =\", len(args))\n",
    "    # always a tuple, even if just passing a single integer\n",
    "    print(\"type(args) =\", type(args))\n",
    "    print(args)\n",
    "    print(\"number of named arguments =\", len(kwargs))\n",
    "    print(\"type(named_args) =\", type(kwargs))\n",
    "    # we'll get a dictionary instead of a tuple\n",
    "    print(kwargs)\n",
    "\n",
    "args_and_kwargs(1, 2, [7, 'bob'])\n",
    "args_and_kwargs(mary=1, donald=2, sally=[7, 'bob'])\n",
    "args_and_kwargs(1, 2, sally=[7, 'bob'])"
   ]
  },
  {
   "cell_type": "markdown",
   "metadata": {},
   "source": [
    "Note that the dictionary unpacking can also be used to merge dictionaries..."
   ]
  },
  {
   "cell_type": "code",
   "execution_count": 8,
   "metadata": {},
   "outputs": [
    {
     "name": "stdout",
     "output_type": "stream",
     "text": [
      "a =  {'bob': 1, 'tom': 3, 'rodney': 5}\n",
      "b =  {'sally': 5, 'susan': 7, 'amelia': 0}\n",
      "merged_dictionary =  {'bob': 1, 'tom': 3, 'rodney': 5, 'sally': 5, 'susan': 7, 'amelia': 0}\n"
     ]
    }
   ],
   "source": [
    "a = {'bob': 1, 'tom': 3, 'rodney': 5}\n",
    "b = {'sally': 5, 'susan': 7, 'amelia': 0}\n",
    "merged_dictionary = {**a, **b}\n",
    "print(\"a = \", a)\n",
    "print(\"b = \", b)\n",
    "print(\"merged_dictionary = \", merged_dictionary)"
   ]
  }
 ],
 "metadata": {
  "kernelspec": {
   "display_name": "Python 3.10.7 64-bit",
   "language": "python",
   "name": "python3"
  },
  "language_info": {
   "codemirror_mode": {
    "name": "ipython",
    "version": 3
   },
   "file_extension": ".py",
   "mimetype": "text/x-python",
   "name": "python",
   "nbconvert_exporter": "python",
   "pygments_lexer": "ipython3",
   "version": "3.10.7"
  },
  "orig_nbformat": 4,
  "vscode": {
   "interpreter": {
    "hash": "c19fa61d258bb2b35aae2ada233c33e2817c1ce895aa48acba720c6bf7cbe3cb"
   }
  }
 },
 "nbformat": 4,
 "nbformat_minor": 2
}
