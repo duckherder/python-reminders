{
 "cells": [
  {
   "cell_type": "markdown",
   "metadata": {},
   "source": [
    "# Packing and Unpacking\n",
    "\n",
    "Packing and unpacking and variable length function arguments.\n",
    "\n",
    "You can pack and unpack tuples during assignment."
   ]
  },
  {
   "cell_type": "code",
   "execution_count": 29,
   "metadata": {},
   "outputs": [
    {
     "name": "stdout",
     "output_type": "stream",
     "text": [
      "Bob\n"
     ]
    }
   ],
   "source": [
    "a = ('Bob', 1, [0.5, 1])         # packing a tuple\n",
    "(aa, bb, cc) = a                 # unpacking a tuple\n",
    "print(aa)"
   ]
  },
  {
   "cell_type": "markdown",
   "metadata": {},
   "source": [
    "Unpacking a string using the `*` operator"
   ]
  },
  {
   "cell_type": "code",
   "execution_count": 30,
   "metadata": {},
   "outputs": [
    {
     "name": "stdout",
     "output_type": "stream",
     "text": [
      "['H', 'e', 'l', 'l', 'o']\n"
     ]
    }
   ],
   "source": [
    "my_unpacked_string_list = [*'Hello']\n",
    "print(my_unpacked_string_list)"
   ]
  },
  {
   "cell_type": "markdown",
   "metadata": {},
   "source": [
    "Unpacking a tuple or a list, into a list using the `*` operator"
   ]
  },
  {
   "cell_type": "code",
   "execution_count": 31,
   "metadata": {},
   "outputs": [
    {
     "name": "stdout",
     "output_type": "stream",
     "text": [
      "['Sally', 1, 3.4]\n",
      "['Sally', 1, 3.4]\n",
      "['Sally', 1, 3.4]\n"
     ]
    }
   ],
   "source": [
    "my_unpacked_tuple_list = [*('Sally', 1, 3.4)]\n",
    "print(my_unpacked_tuple_list)\n",
    "my_unpacked_list_list = [*['Sally', 1, 3.4]]\n",
    "print(my_unpacked_list_list)\n",
    "*my_unpacked_tuple_list, = ('Sally', 1, 3.4)                    # unpacks to a list\n",
    "print(my_unpacked_tuple_list)"
   ]
  },
  {
   "cell_type": "markdown",
   "metadata": {},
   "source": [
    "Unpacking parts of a string or a tuple (PEP3132)"
   ]
  },
  {
   "cell_type": "code",
   "execution_count": 32,
   "metadata": {},
   "outputs": [
    {
     "name": "stdout",
     "output_type": "stream",
     "text": [
      "first = H\n",
      "second = e\n",
      "rest = ['l', 'l', 'o']\n",
      "first = 1\n",
      "second = Bob\n",
      "rest = [3, 3.5, 'Fred']\n"
     ]
    }
   ],
   "source": [
    "my_string = 'Hello'\n",
    "first, second, *rest = my_string\n",
    "print(\"first =\", first)\n",
    "print(\"second =\", second)\n",
    "print(\"rest =\", rest)\n",
    "\n",
    "my_tuple = (1, 'Bob', 3, 3.5, 'Fred')\n",
    "first, second, *rest = my_tuple\n",
    "print(\"first =\", first)\n",
    "print(\"second =\", second)\n",
    "print(\"rest =\", rest)"
   ]
  },
  {
   "cell_type": "markdown",
   "metadata": {},
   "source": [
    "Calling a function with parameters by unpacking a tuple with `*` operator...."
   ]
  },
  {
   "cell_type": "code",
   "execution_count": 33,
   "metadata": {},
   "outputs": [
    {
     "name": "stdout",
     "output_type": "stream",
     "text": [
      "*arguments = 1 Bob\n",
      "my_function: param1 = (1, 'Bob')\n",
      "my_function: param2 = None\n",
      "my_function: param1 = 1\n",
      "my_function: param2 = Bob\n"
     ]
    }
   ],
   "source": [
    "def my_function(param1, param2=None):\n",
    "    print(\"my_function: param1 =\", param1)\n",
    "    print(\"my_function: param2 =\", param2)\n",
    "\n",
    "arguments = (1, 'Bob')\n",
    "print(\"*arguments =\", *arguments)  # this expands to print(\"*arguments =\", 1, 'Bob')\n",
    "my_function(arguments)           # pass tuple as argument and only single tuple will be passed\n",
    "my_function(*arguments)          # unpack and pass two parameters"
   ]
  },
  {
   "cell_type": "markdown",
   "metadata": {},
   "source": [
    "If we want send named arguments we need to use a dictionary. Now calling `my_function` using parameter names by unpacking a dictionary with `**` operator."
   ]
  },
  {
   "cell_type": "code",
   "execution_count": 34,
   "metadata": {},
   "outputs": [
    {
     "name": "stdout",
     "output_type": "stream",
     "text": [
      "my_function: param1 = 1\n",
      "my_function: param2 = 2\n"
     ]
    }
   ],
   "source": [
    "arguments = {'param2': 2, 'param1': 1}              # keywords must be strings\n",
    "my_function(**arguments)"
   ]
  },
  {
   "cell_type": "markdown",
   "metadata": {},
   "source": [
    "Calling a function that uses an `*args` parameter..."
   ]
  },
  {
   "cell_type": "code",
   "execution_count": 35,
   "metadata": {},
   "outputs": [
    {
     "name": "stdout",
     "output_type": "stream",
     "text": [
      "('Bob', 'Sue', 'Dave')\n",
      "([3.4, 1, 'temp'],)\n",
      "((1, 'Bob'),)\n",
      "(1, 'Bob')\n",
      "Function has no support for named parameters\n"
     ]
    }
   ],
   "source": [
    "def my_function(*args):\n",
    "    print(args)\n",
    "\n",
    "my_function(\"Bob\", \"Sue\", \"Dave\")\n",
    "my_function([3.4, 1, 'temp'])               # my_function will get a tuple containing a list\n",
    "arguments = (1, 'Bob')\n",
    "my_function(arguments)\n",
    "my_function(*arguments)                     # will unpack arguments, then pack into args, then unpacked\n",
    "try:\n",
    "    my_function(name='Bob', days=2)\n",
    "except TypeError:\n",
    "    print(\"Function has no support for named parameters\")"
   ]
  },
  {
   "cell_type": "markdown",
   "metadata": {},
   "source": [
    "Calling a function with `**kwargs` parameter..."
   ]
  },
  {
   "cell_type": "code",
   "execution_count": 36,
   "metadata": {},
   "outputs": [
    {
     "name": "stdout",
     "output_type": "stream",
     "text": [
      "{'name': 'Bob', 'days': 2}\n",
      "Function has no support for unnamed parameters\n",
      "{'name': 'Bob', 'days': 2}\n"
     ]
    }
   ],
   "source": [
    "def my_function(**kwargs):        # kwargs will be a dictionary with keys as parameter names\n",
    "    print(kwargs)\n",
    "\n",
    "my_function(name='Bob', days=2)\n",
    "keyword_arguments = {'name': 'Bob', 'days': 2}\n",
    "try:\n",
    "    my_function(keyword_arguments)\n",
    "except TypeError:\n",
    "    print(\"Function has no support for unnamed parameters\")\n",
    "my_function(**keyword_arguments)               # ..but we can do this"
   ]
  },
  {
   "cell_type": "markdown",
   "metadata": {},
   "source": [
    "Calling a function with `*args` and `**kwargs` parameters..."
   ]
  },
  {
   "cell_type": "code",
   "execution_count": 37,
   "metadata": {},
   "outputs": [
    {
     "name": "stdout",
     "output_type": "stream",
     "text": [
      "args: (1, 2, [7, 'Bob']) kwargs: {}\n",
      "args: () kwargs: {'name': 'Bob', 'days': 2, 'colors': ['red', 'blue']}\n",
      "args: (1, 2) kwargs: {'colors': ['red', 'blue']}\n"
     ]
    }
   ],
   "source": [
    "def my_function(*args, **kwargs):\n",
    "    print(\"args:\", args, \"kwargs:\", kwargs)\n",
    "\n",
    "my_function(1, 2, [7, 'Bob'])\n",
    "my_function(name=\"Bob\", days=2, colors=[\"red\", \"blue\"])\n",
    "my_function(1, 2, colors=[\"red\", \"blue\"])"
   ]
  },
  {
   "cell_type": "markdown",
   "metadata": {},
   "source": [
    "Note that the dictionary unpacking can also be used to merge dictionaries..."
   ]
  },
  {
   "cell_type": "code",
   "execution_count": 38,
   "metadata": {},
   "outputs": [
    {
     "name": "stdout",
     "output_type": "stream",
     "text": [
      "merged_dictionary =  {'name': 'Bob', 'days': 2, 'colors': ['red', 'blue'], 'age': 32}\n"
     ]
    }
   ],
   "source": [
    "a = {'name': \"Bob\", 'days': 2}\n",
    "b = {'colors': [\"red\", \"blue\"], 'age': 32}\n",
    "print(\"merged_dictionary = \", {**a, **b})"
   ]
  },
  {
   "cell_type": "markdown",
   "metadata": {},
   "source": [
    "Mixing `args` with fixed parameters"
   ]
  },
  {
   "cell_type": "code",
   "execution_count": 39,
   "metadata": {},
   "outputs": [
    {
     "name": "stdout",
     "output_type": "stream",
     "text": [
      "Must specify my_int_keyword, e: my_function() missing 1 required keyword-only argument: 'my_int_keyword'\n",
      "-----------------------\n",
      "my_function: my_int = 2 my_string = default\n",
      "my_function: args = ()\n",
      "my_function: my_int_keyword = 3 my_string_keyword = Bob\n",
      "my_function: kwargs = {}\n",
      "-----------------------\n",
      "my_function: my_int = 2 my_string = Hello\n",
      "my_function: args = (7, 'Another string')\n",
      "my_function: my_int_keyword = 3 my_string_keyword = Bob\n",
      "my_function: kwargs = {'my_other_keyword': 'Extra keyword'}\n"
     ]
    }
   ],
   "source": [
    "def my_function(my_int, my_string=\"default\", *args, my_int_keyword, my_string_keyword=\"Bob\", **kwargs):\n",
    "    print(\"-----------------------\")\n",
    "    print(\"my_function: my_int =\", my_int, \"my_string =\", my_string)\n",
    "    print(\"my_function: args =\", args)\n",
    "    print(\"my_function: my_int_keyword =\", my_int_keyword, \"my_string_keyword =\", my_string_keyword)\n",
    "    print(\"my_function: kwargs =\", kwargs)\n",
    "\n",
    "try:\n",
    "    my_function(2)\n",
    "except TypeError as e:\n",
    "    print(\"Must specify my_int_keyword, e:\", e)\n",
    "my_function(2,my_int_keyword=3)\n",
    "my_function(2,\"Hello\",7,\"Another string\", my_int_keyword=3,my_other_keyword=\"Extra keyword\")"
   ]
  },
  {
   "cell_type": "markdown",
   "metadata": {},
   "source": [
    "You can miss out the `args` positional name in `*args` if you are not interested in more positional arguments and want to force the remaining parameters to be keyword only."
   ]
  },
  {
   "cell_type": "code",
   "execution_count": 40,
   "metadata": {},
   "outputs": [
    {
     "name": "stdout",
     "output_type": "stream",
     "text": [
      "Fails as two positional arguments, e: my_function() takes 1 positional argument but 2 were given\n",
      "my_function: 2 3\n"
     ]
    }
   ],
   "source": [
    "def my_function(my_only_args_param, *, my_only_kwargs_param):\n",
    "    print(\"my_function:\", my_only_args_param, my_only_kwargs_param)\n",
    "\n",
    "try:\n",
    "    my_function(2,3)\n",
    "except TypeError as e:\n",
    "    print(\"Fails as two positional arguments, e:\", e)\n",
    "my_function(2,my_only_kwargs_param=3)"
   ]
  }
 ],
 "metadata": {
  "kernelspec": {
   "display_name": "Python 3.10.7 64-bit",
   "language": "python",
   "name": "python3"
  },
  "language_info": {
   "codemirror_mode": {
    "name": "ipython",
    "version": 3
   },
   "file_extension": ".py",
   "mimetype": "text/x-python",
   "name": "python",
   "nbconvert_exporter": "python",
   "pygments_lexer": "ipython3",
   "version": "3.10.7"
  },
  "orig_nbformat": 4,
  "vscode": {
   "interpreter": {
    "hash": "c19fa61d258bb2b35aae2ada233c33e2817c1ce895aa48acba720c6bf7cbe3cb"
   }
  }
 },
 "nbformat": 4,
 "nbformat_minor": 2
}
