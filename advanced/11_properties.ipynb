{
 "cells": [
  {
   "cell_type": "markdown",
   "metadata": {},
   "source": [
    "# Properties\n",
    "\n",
    "Properties are data descriptors for controlling parameter getters and setters.\n",
    "\n",
    "We can create a normal class that has setters and getters..."
   ]
  },
  {
   "cell_type": "code",
   "execution_count": 1,
   "metadata": {},
   "outputs": [
    {
     "name": "stdout",
     "output_type": "stream",
     "text": [
      "my_instance._my_value = 21\n",
      "my_instance.get_value() = 21\n"
     ]
    }
   ],
   "source": [
    "class MyClass:\n",
    "    def __init__(self, a_value):\n",
    "        self._my_value = a_value\n",
    "\n",
    "    def get_value(self):\n",
    "        return self._my_value\n",
    "\n",
    "    def set_value(self, a_value):\n",
    "        if type(a_value) is not int:\n",
    "            raise TypeError(\"Unsupported property type\")\n",
    "        self._my_value = a_value\n",
    "\n",
    "my_instance = MyClass(13)\n",
    "my_instance.set_value(21)\n",
    "print(\"my_instance._my_value =\", my_instance._my_value)             # semi-private but accessible\n",
    "print(\"my_instance.get_value() =\", my_instance.get_value())         # better interface to use setters/getters"
   ]
  },
  {
   "cell_type": "markdown",
   "metadata": {},
   "source": [
    "...but we can create a property that has `__get__` and `__set__` attributes..."
   ]
  },
  {
   "cell_type": "code",
   "execution_count": 2,
   "metadata": {},
   "outputs": [
    {
     "name": "stdout",
     "output_type": "stream",
     "text": [
      "<property object at 0x0000027C616A4540>\n",
      "['__class__', '__delattr__', '__delete__', '__dir__', '__doc__', '__eq__', '__format__', '__ge__', '__get__', '__getattribute__', '__gt__', '__hash__', '__init__', '__init_subclass__', '__isabstractmethod__', '__le__', '__lt__', '__ne__', '__new__', '__reduce__', '__reduce_ex__', '__repr__', '__set__', '__set_name__', '__setattr__', '__sizeof__', '__str__', '__subclasshook__', 'deleter', 'fdel', 'fget', 'fset', 'getter', 'setter']\n"
     ]
    }
   ],
   "source": [
    "my_property = property()\n",
    "print(my_property)\n",
    "print(dir(my_property))"
   ]
  },
  {
   "cell_type": "markdown",
   "metadata": {},
   "source": [
    "We can create a class with getters and setters properties defined..."
   ]
  },
  {
   "cell_type": "code",
   "execution_count": 3,
   "metadata": {},
   "outputs": [],
   "source": [
    "class MyPropertyClass:\n",
    "    def __init__(self, a_value):\n",
    "        self._my_value = a_value\n",
    "\n",
    "    def get_value(self):\n",
    "        print(\"MyPropertyClass: getting value\")\n",
    "        return self._my_value\n",
    "\n",
    "    def set_value(self, a_value):\n",
    "        print(\"MyPropertyClass: setting value to\", a_value)\n",
    "        if type(a_value) is not int:\n",
    "            raise TypeError(\"Unsupported property type\")\n",
    "        self._my_value = a_value\n",
    "\n",
    "    # a property object is a data descriptor as it implements the __get__ and __set__ methods\n",
    "    my_value_property = property(get_value, set_value, fdel=None, doc=\"My lovely horse\")\n",
    "\n",
    "my_instance = MyPropertyClass(7)"
   ]
  },
  {
   "cell_type": "markdown",
   "metadata": {},
   "source": [
    "We can inspect the attributes of the class property and make use of them..."
   ]
  },
  {
   "cell_type": "code",
   "execution_count": 6,
   "metadata": {},
   "outputs": [
    {
     "name": "stdout",
     "output_type": "stream",
     "text": [
      "MyPropertyClass.my_value_property.__doc__ = My lovely horse\n",
      "MyPropertyClass: getting value\n",
      "13\n",
      "MyPropertyClass: setting value to 6\n",
      "MyPropertyClass: getting value\n",
      "6\n",
      "MyPropertyClass: setting value to 13\n",
      "MyPropertyClass: getting value\n",
      "13\n",
      "MyPropertyClass: getting value\n",
      "13\n"
     ]
    }
   ],
   "source": [
    "print(\"MyPropertyClass.my_value_property.__doc__ =\", MyPropertyClass.my_value_property.__doc__)\n",
    "print(my_instance.my_value_property)    # calls get_value\n",
    "my_instance.my_value_property = 6       # this looks like we are reassigning class variable to object '6'\n",
    "                                        # ... but in fact calls set_value() because it has __set__ defined\n",
    "print(my_instance.my_value_property)\n",
    "my_instance.set_value(13)\n",
    "print(my_instance.get_value())\n",
    "print(my_instance.my_value_property)"
   ]
  },
  {
   "cell_type": "markdown",
   "metadata": {},
   "source": [
    "We can use `property` decorator..."
   ]
  },
  {
   "cell_type": "code",
   "execution_count": 8,
   "metadata": {},
   "outputs": [
    {
     "name": "stdout",
     "output_type": "stream",
     "text": [
      "MyPropertyDecoratedClass: getting value\n",
      "9\n",
      "MyPropertyDecoratedClass: setting value to 4\n",
      "MyPropertyDecoratedClass: getting value\n",
      "4\n"
     ]
    }
   ],
   "source": [
    "class MyPropertyDecoratedClass:\n",
    "    def __init__(self, a_value):\n",
    "        self._my_value = a_value\n",
    "\n",
    "    @property                        # property is a class with getter, setter, deleter decorator functions\n",
    "    def my_value(self):              # with __init__ called as property.__init__(self, fget=my_value)\n",
    "        print(\"MyPropertyDecoratedClass: getting value\")\n",
    "        return self._my_value\n",
    "\n",
    "    @my_value.setter                        # my_value is a property with a setter attribute function\n",
    "    def my_value(self, a_value):            # ..so effectively (property(my_value)).setter(my_value)\n",
    "        print(\"MyPropertyDecoratedClass: setting value to\", a_value)\n",
    "        if type(a_value) is not int:\n",
    "            raise TypeError(\"Unsupported property type\")\n",
    "        self._my_value = a_value\n",
    "\n",
    "my_instance = MyPropertyDecoratedClass(9)\n",
    "print(my_instance.my_value)\n",
    "my_instance.my_value = 4\n",
    "print(my_instance.my_value)"
   ]
  }
 ],
 "metadata": {
  "kernelspec": {
   "display_name": "Python 3.10.7 64-bit",
   "language": "python",
   "name": "python3"
  },
  "language_info": {
   "codemirror_mode": {
    "name": "ipython",
    "version": 3
   },
   "file_extension": ".py",
   "mimetype": "text/x-python",
   "name": "python",
   "nbconvert_exporter": "python",
   "pygments_lexer": "ipython3",
   "version": "3.10.7"
  },
  "orig_nbformat": 4,
  "vscode": {
   "interpreter": {
    "hash": "c19fa61d258bb2b35aae2ada233c33e2817c1ce895aa48acba720c6bf7cbe3cb"
   }
  }
 },
 "nbformat": 4,
 "nbformat_minor": 2
}
