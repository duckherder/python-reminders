{
 "cells": [
  {
   "cell_type": "markdown",
   "metadata": {},
   "source": [
    "# Class and Static Methods\n",
    "\n",
    "Class and static methods."
   ]
  },
  {
   "cell_type": "code",
   "execution_count": 1,
   "metadata": {},
   "outputs": [
    {
     "name": "stdout",
     "output_type": "stream",
     "text": [
      "this is called when class object, not instance, is created 5\n",
      "MyClass.class_value = 5\n",
      "\n",
      "MyClass is a class but is also an object <class '__main__.MyClass'> at 2279901996608\n",
      "we can access of class values at 2279838253424 directly\n",
      "MyClass.class_value = 5\n",
      "\n",
      "my_instance is an instance of the class and an object at 2279920544944\n",
      "we can access of class values of the instance at the same address 2279838253424\n",
      "my_instance.class_value = 5\n"
     ]
    }
   ],
   "source": [
    "class MyClass:\n",
    "    class_value = 5\n",
    "    # this will be called when the class MyClass is instantiated as an object\n",
    "    print(\"this is called when class object, not instance, is created\", class_value)\n",
    "    print(\"MyClass.class_value =\", class_value)\n",
    "\n",
    "    def __init__(self, new_class_value=5, new_instance_value=10):\n",
    "        MyClass.class_value = new_class_value       # we need to reference the class object to change it\n",
    "        self.instance_value = new_instance_value\n",
    "\n",
    "    def set_value(self, new_value):\n",
    "        \"\"\"this is a BOUND method - it is bound to the instance object and receives self as the first argument\"\"\"\n",
    "        # self.instance_value = new_value   <- this is obvious, it changes the instance_value object in the instance\n",
    "        # MyClass.class_value = new_value  <- we know this will change all but what about...\n",
    "        self.class_value = new_value    # <- this may not do what you think\n",
    "\n",
    "    @classmethod\n",
    "    def set_class_method_value(cls, new_value):     # difference is I get a class reference as a parameter\n",
    "        \"\"\"this is a BOUND method - it is bound to the class object and receives cls as the first argument\"\"\"\n",
    "        cls.class_value = new_value\n",
    "\n",
    "    @staticmethod\n",
    "    def set_static_method_value(new_value):         # get neither self or cls reference\n",
    "        \"\"\"this method is not bound to the instance - no self. non-static unbound methods were removed in Python 3\"\"\"\n",
    "        # we can't access the instance (self) or via a cls parameter but we could the class direct if we so wished\n",
    "        # in reality this would be some related helper functionality to the method that doesn't change the class\n",
    "        MyClass.class_value = new_value\n",
    "\n",
    "    # this is however not allowed for some reason even though it is a class method\n",
    "    # set_static_method_value(5)\n",
    "\n",
    "\n",
    "print(f\"\\nMyClass is a class but is also an object {MyClass} at {id(MyClass)}\")\n",
    "print(f\"we can access of class values at {id(MyClass.class_value)} directly\")\n",
    "print(\"MyClass.class_value =\", MyClass.class_value)\n",
    "\n",
    "my_instance = MyClass()\n",
    "print(f\"\\nmy_instance is an instance of the class and an object at {id(my_instance)}\")\n",
    "print(f\"we can access of class values of the instance at the same address {id(my_instance.class_value)}\")\n",
    "print(\"my_instance.class_value =\", my_instance.class_value)"
   ]
  },
  {
   "cell_type": "markdown",
   "metadata": {},
   "source": [
    "...as such if we change the class value e.g. `MyClass.class_value = 6`, it changes in both class and instance..."
   ]
  },
  {
   "cell_type": "code",
   "execution_count": 2,
   "metadata": {},
   "outputs": [
    {
     "name": "stdout",
     "output_type": "stream",
     "text": [
      "MyClass.class_value = 6\n",
      "my_instance.class_value = 6\n"
     ]
    }
   ],
   "source": [
    "MyClass.class_value = 6\n",
    "print(\"MyClass.class_value =\", MyClass.class_value)\n",
    "print(\"my_instance.class_value =\", my_instance.class_value)"
   ]
  },
  {
   "cell_type": "markdown",
   "metadata": {},
   "source": [
    "If we create a new instance with new class value it will effect all objects..."
   ]
  },
  {
   "cell_type": "code",
   "execution_count": 3,
   "metadata": {},
   "outputs": [
    {
     "name": "stdout",
     "output_type": "stream",
     "text": [
      "new_instance = MyClass(new_class_value=8, new_instance_value=11)\n",
      "MyClass.class_value = 8\n",
      "my_instance.class_value = 8\n",
      "new_instance.class_value = 8\n"
     ]
    }
   ],
   "source": [
    "print(\"new_instance = MyClass(new_class_value=8, new_instance_value=11)\")\n",
    "new_instance = MyClass(new_class_value=8, new_instance_value=11)\n",
    "print(\"MyClass.class_value =\", MyClass.class_value)\n",
    "print(\"my_instance.class_value =\", my_instance.class_value)\n",
    "print(\"new_instance.class_value =\", new_instance.class_value)"
   ]
  },
  {
   "cell_type": "markdown",
   "metadata": {},
   "source": [
    "No `MyClass.self.instance_value` but we see `my_instance.instance` and `new_instance.instance` are different..."
   ]
  },
  {
   "cell_type": "code",
   "execution_count": 4,
   "metadata": {},
   "outputs": [
    {
     "name": "stdout",
     "output_type": "stream",
     "text": [
      "my_instance.instance_value at 2279838253584 of value 10\n",
      "new_instance.instance_value at 2279838253616 of value 11\n"
     ]
    }
   ],
   "source": [
    "print(f\"my_instance.instance_value at {id(my_instance.instance_value)} of value {my_instance.instance_value}\")\n",
    "print(f\"new_instance.instance_value at {id(new_instance.instance_value)} of value {new_instance.instance_value}\")"
   ]
  },
  {
   "cell_type": "markdown",
   "metadata": {},
   "source": [
    "What if i set the class value using the standard `set_value()` method..."
   ]
  },
  {
   "cell_type": "code",
   "execution_count": 5,
   "metadata": {},
   "outputs": [
    {
     "name": "stdout",
     "output_type": "stream",
     "text": [
      "new_instance.set_value(15)\n",
      "MyClass.class_value = 8\n",
      "my_instance.class_value = 8\n",
      "new_instance.class_value = 15\n"
     ]
    }
   ],
   "source": [
    "print(\"new_instance.set_value(15)\")\n",
    "new_instance.set_value(15)\n",
    "print(\"MyClass.class_value =\", MyClass.class_value)\n",
    "print(\"my_instance.class_value =\", my_instance.class_value)\n",
    "print(\"new_instance.class_value =\", new_instance.class_value)"
   ]
  },
  {
   "cell_type": "markdown",
   "metadata": {},
   "source": [
    "Perhaps not as expected now we have a naming conflict as we managed to create a new object..."
   ]
  },
  {
   "cell_type": "code",
   "execution_count": 6,
   "metadata": {},
   "outputs": [
    {
     "name": "stdout",
     "output_type": "stream",
     "text": [
      "MyClass.class_value at 2279838253520 of 8\n",
      "new_instance.class_value at 2279838253744 of value 15\n",
      "the instance version of class_value (in new_instance only) is different to the class version of class_value\n"
     ]
    }
   ],
   "source": [
    "print(f\"MyClass.class_value at {id(MyClass.class_value)} of {MyClass.class_value}\")\n",
    "print(f\"new_instance.class_value at {id(new_instance.class_value)} of value {new_instance.class_value}\")\n",
    "print(\"the instance version of class_value (in new_instance only) is different to the class version of class_value\")"
   ]
  },
  {
   "cell_type": "markdown",
   "metadata": {},
   "source": [
    "Using a class method would have been the way..."
   ]
  },
  {
   "cell_type": "code",
   "execution_count": 7,
   "metadata": {},
   "outputs": [
    {
     "name": "stdout",
     "output_type": "stream",
     "text": [
      "MyClass.set_class_method_value(16)\n",
      "MyClass.class_value = 16\n",
      "my_instance.class_value = 16\n"
     ]
    }
   ],
   "source": [
    "print(\"MyClass.set_class_method_value(16)\")\n",
    "MyClass.set_class_method_value(16)\n",
    "print(\"MyClass.class_value =\", MyClass.class_value)\n",
    "print(\"my_instance.class_value =\", my_instance.class_value)"
   ]
  },
  {
   "cell_type": "markdown",
   "metadata": {},
   "source": [
    "We can also use a static method but not really what it is for..."
   ]
  },
  {
   "cell_type": "code",
   "execution_count": 8,
   "metadata": {},
   "outputs": [
    {
     "name": "stdout",
     "output_type": "stream",
     "text": [
      "MyClass.set_static_method_value(17)\n",
      "MyClass.class_value = 17\n",
      "my_instance.class_value = 17\n"
     ]
    }
   ],
   "source": [
    "print(\"MyClass.set_static_method_value(17)\")\n",
    "MyClass.set_static_method_value(17)\n",
    "print(\"MyClass.class_value =\", MyClass.class_value)\n",
    "print(\"my_instance.class_value =\", my_instance.class_value)"
   ]
  },
  {
   "cell_type": "markdown",
   "metadata": {},
   "source": [
    "We can see how the various methods for the class MyClass are bound."
   ]
  },
  {
   "cell_type": "code",
   "execution_count": 9,
   "metadata": {},
   "outputs": [
    {
     "name": "stdout",
     "output_type": "stream",
     "text": [
      "MyClass.set_value is bound as <function MyClass.set_value at 0x00000212D5D5B7F0>\n",
      "MyClass.set_class_method_value is bound as <bound method MyClass.set_class_method_value of <class '__main__.MyClass'>>\n",
      "MyClass.set_static_method_value is bound as <function MyClass.set_static_method_value at 0x00000212D5D5BC70>\n"
     ]
    }
   ],
   "source": [
    "print(\"MyClass.set_value is bound as %s\" % MyClass.set_value)\n",
    "print(\"MyClass.set_class_method_value is bound as %s\" % MyClass.set_class_method_value)\n",
    "print(\"MyClass.set_static_method_value is bound as %s\" % MyClass.set_static_method_value)"
   ]
  },
  {
   "cell_type": "markdown",
   "metadata": {},
   "source": [
    "We can see how the various methods for the instance my_instance are bound."
   ]
  },
  {
   "cell_type": "code",
   "execution_count": 10,
   "metadata": {},
   "outputs": [
    {
     "name": "stdout",
     "output_type": "stream",
     "text": [
      "my_instance.set_value is bound as <bound method MyClass.set_value of <__main__.MyClass object at 0x00000212D5DAACB0>>\n",
      "my_instance.set_class_method_value is bound as <bound method MyClass.set_class_method_value of <class '__main__.MyClass'>>\n",
      "my_instance.set_static_method_value is bound as <function MyClass.set_static_method_value at 0x00000212D5D5BC70>\n"
     ]
    }
   ],
   "source": [
    "print(\"my_instance.set_value is bound as %s\" % my_instance.set_value)\n",
    "print(\"my_instance.set_class_method_value is bound as %s\" % my_instance.set_class_method_value)\n",
    "print(\"my_instance.set_static_method_value is bound as %s\" % my_instance.set_static_method_value)\n"
   ]
  }
 ],
 "metadata": {
  "kernelspec": {
   "display_name": "Python 3.10.7 64-bit",
   "language": "python",
   "name": "python3"
  },
  "language_info": {
   "codemirror_mode": {
    "name": "ipython",
    "version": 3
   },
   "file_extension": ".py",
   "mimetype": "text/x-python",
   "name": "python",
   "nbconvert_exporter": "python",
   "pygments_lexer": "ipython3",
   "version": "3.10.7"
  },
  "orig_nbformat": 4,
  "vscode": {
   "interpreter": {
    "hash": "c19fa61d258bb2b35aae2ada233c33e2817c1ce895aa48acba720c6bf7cbe3cb"
   }
  }
 },
 "nbformat": 4,
 "nbformat_minor": 2
}
