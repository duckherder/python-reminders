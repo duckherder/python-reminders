{
 "cells": [
  {
   "cell_type": "markdown",
   "metadata": {},
   "source": [
    "# Class and Static Methods\n",
    "\n",
    "Class and static methods."
   ]
  },
  {
   "cell_type": "code",
   "execution_count": 15,
   "metadata": {},
   "outputs": [
    {
     "name": "stdout",
     "output_type": "stream",
     "text": [
      "MyClass: this is called when class object, not instance, is created 5\n",
      "MyClass: class_value = 5\n",
      "\n",
      "MyClass is a class but is also an object <class '__main__.MyClass'> at 2855185171648\n",
      "We can access of class values at id 2855116996976 directly\n",
      "MyClass.class_value = 5\n",
      "\n",
      "my_instance is an instance of the class and an object at 2855207956688\n",
      "We can access of class values of the instance at the same address 2855116996976\n",
      "my_instance.class_value = 5\n"
     ]
    }
   ],
   "source": [
    "class MyClass:\n",
    "    class_value = 5\n",
    "    # this will be called when the class MyClass is instantiated as an object\n",
    "    print(\"MyClass: this is called when class object, not instance, is created\", class_value)\n",
    "    print(\"MyClass: class_value =\", class_value)\n",
    "\n",
    "    def __init__(self, new_class_value=5, new_instance_value=10):\n",
    "        MyClass.class_value = new_class_value       # we need to reference the class object to change it\n",
    "        self.instance_value = new_instance_value\n",
    "\n",
    "    def set_value(self, new_value):\n",
    "        \"\"\"this is a BOUND method - it is bound to the instance object and receives self as the first argument\"\"\"\n",
    "        # self.instance_value = new_value   <- changes the instance_value object in the instance\n",
    "        # MyClass.class_value = new_value  <- we know this will change all but what about...\n",
    "        self.class_value = new_value    # <- this may not do what you think\n",
    "\n",
    "    @classmethod\n",
    "    def set_class_method_value(cls, new_value):     # difference is I get a class reference as a parameter\n",
    "        \"\"\"this is a BOUND method - it is bound to the class object and receives cls as the first argument\"\"\"\n",
    "        cls.class_value = new_value\n",
    "\n",
    "    @staticmethod\n",
    "    def set_static_method_value(new_value):         # get neither self or cls reference\n",
    "        \"\"\"this method is not bound to the instance - no self. non-static unbound methods removed in Python 3\"\"\"\n",
    "        # we can't access the instance (self) or class (cls) but we can use the class direct if we so wished\n",
    "        MyClass.class_value = new_value\n",
    "\n",
    "print(f\"\\nMyClass is a class but is also an object {MyClass} at {id(MyClass)}\")\n",
    "print(f\"We can access of class values at id {id(MyClass.class_value)} directly\")\n",
    "print(\"MyClass.class_value =\", MyClass.class_value)\n",
    "\n",
    "my_instance = MyClass()\n",
    "print(f\"\\nmy_instance is an instance of the class and an object at {id(my_instance)}\")\n",
    "print(f\"We can access of class values of the instance at the same address {id(my_instance.class_value)}\")\n",
    "print(\"my_instance.class_value =\", my_instance.class_value)"
   ]
  },
  {
   "cell_type": "markdown",
   "metadata": {},
   "source": [
    "...as such if we change the class value e.g. `MyClass.class_value = 6`, it changes in both class and instance..."
   ]
  },
  {
   "cell_type": "code",
   "execution_count": 16,
   "metadata": {},
   "outputs": [
    {
     "name": "stdout",
     "output_type": "stream",
     "text": [
      "MyClass.class_value = 6\n",
      "my_instance.class_value = 6\n"
     ]
    }
   ],
   "source": [
    "MyClass.class_value = 6\n",
    "print(\"MyClass.class_value =\", MyClass.class_value)\n",
    "print(\"my_instance.class_value =\", my_instance.class_value)"
   ]
  },
  {
   "cell_type": "markdown",
   "metadata": {},
   "source": [
    "If we create a new instance with new class value it will affect all objects..."
   ]
  },
  {
   "cell_type": "code",
   "execution_count": 17,
   "metadata": {},
   "outputs": [
    {
     "name": "stdout",
     "output_type": "stream",
     "text": [
      "MyClass.class_value = 8\n",
      "my_instance.class_value = 8\n",
      "new_instance.class_value = 8\n"
     ]
    }
   ],
   "source": [
    "new_instance = MyClass(new_class_value=8, new_instance_value=11)\n",
    "print(\"MyClass.class_value =\", MyClass.class_value)\n",
    "print(\"my_instance.class_value =\", my_instance.class_value)\n",
    "print(\"new_instance.class_value =\", new_instance.class_value)"
   ]
  },
  {
   "cell_type": "markdown",
   "metadata": {},
   "source": [
    "`my_instance.instance` and `new_instance.instance` are different..."
   ]
  },
  {
   "cell_type": "code",
   "execution_count": 18,
   "metadata": {},
   "outputs": [
    {
     "name": "stdout",
     "output_type": "stream",
     "text": [
      "my_instance.instance_value at 2855116997136 of value 10\n",
      "new_instance.instance_value at 2855116997168 of value 11\n"
     ]
    }
   ],
   "source": [
    "print(f\"my_instance.instance_value at {id(my_instance.instance_value)} of value {my_instance.instance_value}\")\n",
    "print(f\"new_instance.instance_value at {id(new_instance.instance_value)} of value {new_instance.instance_value}\")"
   ]
  },
  {
   "cell_type": "markdown",
   "metadata": {},
   "source": [
    "What if I set the class value using the standard `set_value()` method..."
   ]
  },
  {
   "cell_type": "code",
   "execution_count": 19,
   "metadata": {},
   "outputs": [
    {
     "name": "stdout",
     "output_type": "stream",
     "text": [
      "MyClass.class_value = 8\n",
      "my_instance.class_value = 8\n",
      "new_instance.class_value = 15\n"
     ]
    }
   ],
   "source": [
    "new_instance.set_value(15)\n",
    "print(\"MyClass.class_value =\", MyClass.class_value)\n",
    "print(\"my_instance.class_value =\", my_instance.class_value)\n",
    "print(\"new_instance.class_value =\", new_instance.class_value)"
   ]
  },
  {
   "cell_type": "markdown",
   "metadata": {},
   "source": [
    "Perhaps not as expected now we have a naming conflict as we managed to create a new object..."
   ]
  },
  {
   "cell_type": "code",
   "execution_count": 20,
   "metadata": {},
   "outputs": [
    {
     "name": "stdout",
     "output_type": "stream",
     "text": [
      "MyClass.class_value at 2855116997072 of 8\n",
      "my_instance.class_value at 2855116997072 of value 8\n",
      "new_instance.class_value at 2855116997296 of value 15\n"
     ]
    }
   ],
   "source": [
    "print(f\"MyClass.class_value at {id(MyClass.class_value)} of {MyClass.class_value}\")\n",
    "print(f\"my_instance.class_value at {id(my_instance.class_value)} of value {my_instance.class_value}\")\n",
    "print(f\"new_instance.class_value at {id(new_instance.class_value)} of value {new_instance.class_value}\")"
   ]
  },
  {
   "cell_type": "markdown",
   "metadata": {},
   "source": [
    "Using a class method would have been the way..."
   ]
  },
  {
   "cell_type": "code",
   "execution_count": 21,
   "metadata": {},
   "outputs": [
    {
     "name": "stdout",
     "output_type": "stream",
     "text": [
      "MyClass.class_value at 2855116997328 of 16\n",
      "my_instance.class_value at 2855116997328 of value 16\n"
     ]
    }
   ],
   "source": [
    "MyClass.set_class_method_value(16)\n",
    "print(f\"MyClass.class_value at {id(MyClass.class_value)} of {MyClass.class_value}\")\n",
    "print(f\"my_instance.class_value at {id(my_instance.class_value)} of value {my_instance.class_value}\")"
   ]
  },
  {
   "cell_type": "markdown",
   "metadata": {},
   "source": [
    "We can also use a static method but not really what it is for..."
   ]
  },
  {
   "cell_type": "code",
   "execution_count": 26,
   "metadata": {},
   "outputs": [
    {
     "name": "stdout",
     "output_type": "stream",
     "text": [
      "MyClass.class_value at 2855116997360 of 17\n",
      "my_instance.class_value at 2855116997360 of value 17\n"
     ]
    }
   ],
   "source": [
    "MyClass.set_static_method_value(17)\n",
    "print(f\"MyClass.class_value at {id(MyClass.class_value)} of {MyClass.class_value}\")\n",
    "print(f\"my_instance.class_value at {id(my_instance.class_value)} of value {my_instance.class_value}\")"
   ]
  },
  {
   "cell_type": "markdown",
   "metadata": {},
   "source": [
    "We can see how the various methods for the class `MyClass` are bound."
   ]
  },
  {
   "cell_type": "code",
   "execution_count": 27,
   "metadata": {},
   "outputs": [
    {
     "name": "stdout",
     "output_type": "stream",
     "text": [
      "MyClass.set_value is bound as function MyClass.set_value at 0x00000298C7B0BBE0\n",
      "MyClass.set_class_method_value is bound as bound method MyClass.set_class_method_value of <class '__main__.MyClass'>\n",
      "MyClass.set_static_method_value is bound as function MyClass.set_static_method_value at 0x00000298C784C280\n"
     ]
    }
   ],
   "source": [
    "print(\"MyClass.set_value is bound as %s\" % str(MyClass.set_value)[1:-1])\n",
    "print(\"MyClass.set_class_method_value is bound as %s\" % str(MyClass.set_class_method_value)[1:-1])\n",
    "print(\"MyClass.set_static_method_value is bound as %s\" % str(MyClass.set_static_method_value)[1:-1])"
   ]
  },
  {
   "cell_type": "markdown",
   "metadata": {},
   "source": [
    "We can see how the various methods for the instance `my_instance` are bound."
   ]
  },
  {
   "cell_type": "code",
   "execution_count": 28,
   "metadata": {},
   "outputs": [
    {
     "name": "stdout",
     "output_type": "stream",
     "text": [
      "my_instance.set_value is bound as bound method MyClass.set_value of <__main__.MyClass object at 0x00000298C7A7F0D0>\n",
      "my_instance.set_class_method_value is bound as bound method MyClass.set_class_method_value of <class '__main__.MyClass'>\n",
      "my_instance.set_static_method_value is bound as function MyClass.set_static_method_value at 0x00000298C784C280\n"
     ]
    }
   ],
   "source": [
    "print(\"my_instance.set_value is bound as %s\" % str(my_instance.set_value)[1:-1])\n",
    "print(\"my_instance.set_class_method_value is bound as %s\" % str(my_instance.set_class_method_value)[1:-1])\n",
    "print(\"my_instance.set_static_method_value is bound as %s\" % str(my_instance.set_static_method_value)[1:-1])"
   ]
  }
 ],
 "metadata": {
  "kernelspec": {
   "display_name": "Python 3.10.7 64-bit",
   "language": "python",
   "name": "python3"
  },
  "language_info": {
   "codemirror_mode": {
    "name": "ipython",
    "version": 3
   },
   "file_extension": ".py",
   "mimetype": "text/x-python",
   "name": "python",
   "nbconvert_exporter": "python",
   "pygments_lexer": "ipython3",
   "version": "3.10.7"
  },
  "orig_nbformat": 4,
  "vscode": {
   "interpreter": {
    "hash": "c19fa61d258bb2b35aae2ada233c33e2817c1ce895aa48acba720c6bf7cbe3cb"
   }
  }
 },
 "nbformat": 4,
 "nbformat_minor": 2
}
