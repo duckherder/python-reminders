{
 "cells": [
  {
   "cell_type": "markdown",
   "metadata": {},
   "source": [
    "# Class Decorators\n",
    "\n",
    "Class decorators are classes that include functions as state.\n",
    "\n",
    "Defining a simple class decorator."
   ]
  },
  {
   "cell_type": "code",
   "execution_count": 11,
   "metadata": {},
   "outputs": [],
   "source": [
    "class MyClassDecorator:\n",
    "\n",
    "    def __init__(self, func):\n",
    "        print(\"MyClassDecorator: in __init__ registing function\")\n",
    "        self.func = func                    # register the function with class\n",
    "        self.some_state = 0\n",
    "\n",
    "    def __call__(self, *args, **kwargs):    # override the () function operator\n",
    "        print(\"MyClassDecorator: in __call__ to perform decorating of args and kwargs\")\n",
    "        self.some_state += 1                # update some state\n",
    "        self.func(*args, **kwargs)"
   ]
  },
  {
   "cell_type": "markdown",
   "metadata": {},
   "source": [
    "Let's define a non-decorated function and decorate the function using the class constructor..."
   ]
  },
  {
   "cell_type": "code",
   "execution_count": 12,
   "metadata": {},
   "outputs": [
    {
     "name": "stdout",
     "output_type": "stream",
     "text": [
      "MyClassDecorator: in __init__ registing function\n",
      "type(decorated_function) = class '__main__.MyClassDecorator'\n",
      "MyClassDecorator: in __call__ to perform decorating of args and kwargs\n",
      "my_function\n"
     ]
    }
   ],
   "source": [
    "def my_function():\n",
    "    print(\"my_function\")\n",
    "\n",
    "decorated_function = MyClassDecorator(my_function)\n",
    "print(\"type(decorated_function) =\", str(type(decorated_function))[1:-1])        # class instance\n",
    "decorated_function()   # call the instance -> __call__ for \"()\" operator"
   ]
  },
  {
   "cell_type": "markdown",
   "metadata": {},
   "source": [
    "Decorating `my_function` with the class decorator using `@`..."
   ]
  },
  {
   "cell_type": "code",
   "execution_count": 13,
   "metadata": {},
   "outputs": [
    {
     "name": "stdout",
     "output_type": "stream",
     "text": [
      "MyClassDecorator: in __init__ registing function\n",
      "MyClassDecorator: in __call__ to perform decorating of args and kwargs\n",
      "my_function\n"
     ]
    }
   ],
   "source": [
    "@MyClassDecorator                             # Effectively MyClassDecorator(my_function)\n",
    "def my_function():\n",
    "    print(\"my_function\")\n",
    "\n",
    "my_function()"
   ]
  },
  {
   "cell_type": "markdown",
   "metadata": {},
   "source": [
    "Decorating my_function without parameters..."
   ]
  },
  {
   "cell_type": "code",
   "execution_count": 22,
   "metadata": {},
   "outputs": [
    {
     "name": "stdout",
     "output_type": "stream",
     "text": [
      "Decorating my_function\n",
      "MyParameterisedClassDecorator: in __init__\n",
      "MyParameterisedClassDecorator: no parameters have been specified as _func is <function my_function at 0x000001DFABFC6DD0>\n",
      "MyLocalClassDecorator: in __init__\n",
      "\n",
      "Calling my_function\n",
      "MyParameterisedClassDecorator: in __call__\n",
      "MyLocalClassDecorator: in __call__ to perform decorating of args and kwargs\n",
      "my_function: Non-parameterised class decorator\n",
      "\n",
      "type(my_function) = class '__main__.MyParameterisedClassDecorator'\n",
      "my_function.func.parameter = False\n",
      "my_function.func.state = 0\n",
      "my_function.get_state() = (False, 0)\n"
     ]
    }
   ],
   "source": [
    "class MyParameterisedClassDecorator:\n",
    "\n",
    "    class MyLocalClassDecorator:                                      # you can create local class within class\n",
    "        def __init__(self, func, a_parameter=False):                  # could have made it an external base class\n",
    "            print(\"MyLocalClassDecorator: in __init__\")               # so get_state() could be overloaded\n",
    "            self.func = func\n",
    "            self.parameter = a_parameter\n",
    "            self.some_state = 0\n",
    "\n",
    "        def __call__(self, *args, **kwargs):\n",
    "            print(\"MyLocalClassDecorator: in __call__ to perform decorating of args and kwargs\")\n",
    "            if self.parameter:\n",
    "                self.some_state += 1                # update some state based on decorator paramater\n",
    "            return self.func(*args, **kwargs)\n",
    "\n",
    "        def get_state(self):\n",
    "            return self.parameter, self.some_state\n",
    "\n",
    "    def __init__(self, _func=None, *, a_parameter=False):\n",
    "        print(\"MyParameterisedClassDecorator: in __init__\")\n",
    "        self.parameter = a_parameter\n",
    "        self.func = None\n",
    "        if _func is not None:\n",
    "            # decorator has been created like this MyParameterisedClassDecorator(my_function)\n",
    "            print(\"MyParameterisedClassDecorator: no parameters have been specified as _func is\", _func)\n",
    "            self.func = MyParameterisedClassDecorator.MyLocalClassDecorator(_func, a_parameter=self.parameter)\n",
    "\n",
    "    def __call__(self, *args, **kwargs):\n",
    "        print(\"MyParameterisedClassDecorator: in __call__\")\n",
    "        if self.func is None:     # called like this MyParameterisedClassDecorator(a_parameter=2)(my_function)\n",
    "            if len(args) != 1 or not callable(args[0]):\n",
    "                raise ValueError(\"Expecting only a single function to decorate!\")\n",
    "            print(\"MyParameterisedClassDecorator: parameters have been specified as _func is None\")\n",
    "            self.func = MyParameterisedClassDecorator.MyLocalClassDecorator(args[0], a_parameter=self.parameter)\n",
    "            return self.func\n",
    "        return self.func(*args, **kwargs)\n",
    "\n",
    "    def get_state(self):\n",
    "        # in case where parameters are used my_function will be a MyParameterisedClassDecorator object\n",
    "        if self.func is None:\n",
    "            raise ValueError(\"Undecorated function!\")\n",
    "        return self.func.get_state()\n",
    "\n",
    "print(\"Decorating my_function\")\n",
    "@MyParameterisedClassDecorator\n",
    "def my_function(my_function_parameter):\n",
    "    print(\"my_function:\", my_function_parameter)\n",
    "\n",
    "print(\"\\nCalling my_function\")\n",
    "my_function('Non-parameterised class decorator')\n",
    "print(\"\\ntype(my_function) =\", str(type(my_function))[1:-1])\n",
    "print(\"my_function.func.parameter =\", my_function.func.parameter)\n",
    "print(\"my_function.func.state =\", my_function.func.some_state)\n",
    "print(\"my_function.get_state() =\", my_function.get_state())         # use a method to get state"
   ]
  },
  {
   "cell_type": "markdown",
   "metadata": {},
   "source": [
    "Decorating `my_function` with decorator parameters..."
   ]
  },
  {
   "cell_type": "code",
   "execution_count": 23,
   "metadata": {},
   "outputs": [
    {
     "name": "stdout",
     "output_type": "stream",
     "text": [
      "Decorating my_function\n",
      "MyParameterisedClassDecorator: in __init__\n",
      "MyParameterisedClassDecorator: in __call__\n",
      "MyParameterisedClassDecorator: parameters have been specified as _func is None\n",
      "MyLocalClassDecorator: in __init__\n",
      "\n",
      "Calling my_function\n",
      "MyLocalClassDecorator: in __call__ to perform decorating of args and kwargs\n",
      "my_function: Parameterised class\n",
      "\n",
      "type(my_function) = class '__main__.MyParameterisedClassDecorator.MyLocalClassDecorator'\n",
      "my_function.parameter =  True\n",
      "my_function.state =  1\n",
      "my_function.get_state() = (True, 1)\n"
     ]
    }
   ],
   "source": [
    "print(\"Decorating my_function\")\n",
    "@MyParameterisedClassDecorator(a_parameter=True)\n",
    "def my_function(my_function_parameter):\n",
    "    print(\"my_function:\", my_function_parameter)\n",
    "\n",
    "print(\"\\nCalling my_function\")\n",
    "my_function('Parameterised class')\n",
    "\n",
    "print(\"\\ntype(my_function) =\", str(type(my_function))[1:-1])\n",
    "print(\"my_function.parameter = \", my_function.parameter)\n",
    "print(\"my_function.state = \", my_function.some_state)\n",
    "print(\"my_function.get_state() =\", my_function.get_state())\n"
   ]
  }
 ],
 "metadata": {
  "kernelspec": {
   "display_name": "Python 3.10.7 64-bit",
   "language": "python",
   "name": "python3"
  },
  "language_info": {
   "codemirror_mode": {
    "name": "ipython",
    "version": 3
   },
   "file_extension": ".py",
   "mimetype": "text/x-python",
   "name": "python",
   "nbconvert_exporter": "python",
   "pygments_lexer": "ipython3",
   "version": "3.10.7"
  },
  "orig_nbformat": 4,
  "vscode": {
   "interpreter": {
    "hash": "c19fa61d258bb2b35aae2ada233c33e2817c1ce895aa48acba720c6bf7cbe3cb"
   }
  }
 },
 "nbformat": 4,
 "nbformat_minor": 2
}
