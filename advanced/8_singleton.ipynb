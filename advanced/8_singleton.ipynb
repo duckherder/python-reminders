{
 "cells": [
  {
   "cell_type": "markdown",
   "metadata": {},
   "source": [
    "# Singleton\n",
    "\n",
    "Implements a singleton design pattern in Python using a decorator. See https://realpython.com/primer-on-python-decorators/#creating-singletons."
   ]
  },
  {
   "cell_type": "code",
   "execution_count": 1,
   "metadata": {},
   "outputs": [],
   "source": [
    "import functools\n",
    "\n",
    "def my_singleton(cls):\n",
    "    @functools.wraps(cls)\n",
    "    def wrapper_singleton(*args, **kwargs):     # this is the decoration which checks for previous existence\n",
    "        if not wrapper_singleton.instance:\n",
    "            wrapper_singleton.instance = cls(*args, **kwargs)\n",
    "            print(\"wrapper_singleton: no instance exists, so let's create one!\")\n",
    "        else:\n",
    "            print(\"wrapper_singleton: instance already exists!\")\n",
    "        return wrapper_singleton.instance\n",
    "    wrapper_singleton.instance = None\n",
    "    return wrapper_singleton            # return instance of class, rather than function with other decorators\n",
    "\n",
    "@my_singleton\n",
    "class MySingleton:\n",
    "    def __init__(self, parameter):\n",
    "        self.parameter = parameter\n",
    "\n",
    "    def do_some_stuff(self):\n",
    "        print(\"MySingleton: parameter =\", self.parameter)"
   ]
  },
  {
   "cell_type": "markdown",
   "metadata": {},
   "source": [
    "Create a `MySingleton` instance..."
   ]
  },
  {
   "cell_type": "code",
   "execution_count": 2,
   "metadata": {},
   "outputs": [
    {
     "name": "stdout",
     "output_type": "stream",
     "text": [
      "wrapper_singleton: no instance exists, so let's create one!\n",
      "singleton at 2094057423968\n",
      "type(my_singleton) = class '__main__.MySingleton'\n",
      "MySingleton: parameter = my_parameter_string\n"
     ]
    }
   ],
   "source": [
    "my_singleton = MySingleton('my_parameter_string')      # MySingleton is really wrapper_singleton(MySingleton)\n",
    "print(\"singleton at\", id(my_singleton))\n",
    "print(\"type(my_singleton) =\", str(type(my_singleton))[1:-1])\n",
    "my_singleton.do_some_stuff()"
   ]
  },
  {
   "cell_type": "markdown",
   "metadata": {},
   "source": [
    "Create a another `MySingleton` but be careful with parameters"
   ]
  },
  {
   "cell_type": "code",
   "execution_count": 5,
   "metadata": {},
   "outputs": [
    {
     "name": "stdout",
     "output_type": "stream",
     "text": [
      "wrapper_singleton: instance already exists!\n",
      "singleton at 2094057423968\n",
      "MySingleton: parameter = my_parameter_string\n"
     ]
    }
   ],
   "source": [
    "my_singleton_copy = MySingleton('my_other_parameter_string')       # this is wrapper_singleton(MySingleton)\n",
    "print(\"singleton at\", id(my_singleton_copy))\n",
    "my_singleton_copy.do_some_stuff()        # not what you might expect -> my_other_parameter_string ignored"
   ]
  }
 ],
 "metadata": {
  "kernelspec": {
   "display_name": "Python 3.10.7 64-bit",
   "language": "python",
   "name": "python3"
  },
  "language_info": {
   "codemirror_mode": {
    "name": "ipython",
    "version": 3
   },
   "file_extension": ".py",
   "mimetype": "text/x-python",
   "name": "python",
   "nbconvert_exporter": "python",
   "pygments_lexer": "ipython3",
   "version": "3.10.7"
  },
  "orig_nbformat": 4,
  "vscode": {
   "interpreter": {
    "hash": "c19fa61d258bb2b35aae2ada233c33e2817c1ce895aa48acba720c6bf7cbe3cb"
   }
  }
 },
 "nbformat": 4,
 "nbformat_minor": 2
}
