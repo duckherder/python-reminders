{
 "cells": [
  {
   "cell_type": "markdown",
   "metadata": {},
   "source": [
    "# Decorators\n",
    "\n",
    "Decorators are higher order functions that accept functions and return another function that executes the original.\n",
    "\n",
    "Start by defining a few higher order functions."
   ]
  },
  {
   "cell_type": "code",
   "execution_count": 1,
   "metadata": {},
   "outputs": [],
   "source": [
    "import datetime\n",
    "import functools\n",
    "\n",
    "def check_value(func):\n",
    "    \"\"\"checking value parameter decorator - function that returns a function.\"\"\"\n",
    "    def do_checking(name, value):\n",
    "        print(\"decorate: we can do anything we like here, even changing the function parameters or anything\")\n",
    "        if value is None or value == 0:         # decorate original function\n",
    "            value = 4\n",
    "        return func(name, value)\n",
    "    # return function that calls original function parameter\n",
    "    return do_checking\n",
    "\n",
    "def fix_name(func):\n",
    "    \"\"\"ensure string is correct capitalised.\"\"\"\n",
    "    def do_changes(name, value):\n",
    "        print(\"decorate: we can fix strings through capitalization\")\n",
    "        name = name.capitalize()\n",
    "        return func(name, value)\n",
    "    return do_changes\n",
    "\n",
    "def negate_value(func):\n",
    "    \"\"\"negate value decorator.\"\"\"\n",
    "    def do_negation(name, value):\n",
    "        print(\"decorate: we can change return values by negating value\")\n",
    "        return -value\n",
    "    return do_negation\n",
    "\n",
    "def my_function(name, value):\n",
    "    \"\"\"this is our function we want to decorate.\"\"\"\n",
    "    print(\"name:\", name, \"value:\", value)\n",
    "    return"
   ]
  },
  {
   "cell_type": "markdown",
   "metadata": {},
   "source": [
    "We can stack these functions so one will call the other..."
   ]
  },
  {
   "cell_type": "code",
   "execution_count": 2,
   "metadata": {},
   "outputs": [
    {
     "name": "stdout",
     "output_type": "stream",
     "text": [
      "decorate: we can do anything we like here, even changing the function parameters or anything\n",
      "decorate: we can fix strings through capitalization\n",
      "name: Hello world! value: 4\n"
     ]
    }
   ],
   "source": [
    "my_fixed_name_function = fix_name(my_function)                  # a way to create a decorated version of function\n",
    "my_value_checked_and_fixed_name_function = check_value(my_fixed_name_function)\n",
    "# original my_function has been decorated\n",
    "my_value_checked_and_fixed_name_function(\"hello world!\", None)"
   ]
  },
  {
   "cell_type": "markdown",
   "metadata": {},
   "source": [
    "We can use the @symbol to simplify decoration of a function..."
   ]
  },
  {
   "cell_type": "code",
   "execution_count": 3,
   "metadata": {},
   "outputs": [
    {
     "name": "stdout",
     "output_type": "stream",
     "text": [
      "my_decorated_function.__name__ = do_checking\n",
      "decorate: we can do anything we like here, even changing the function parameters or anything\n",
      "decorate: we can fix strings through capitalization\n",
      "decorate: we can change return values by negating value\n",
      "ret_value from my_decorated_function = -4\n"
     ]
    }
   ],
   "source": [
    "\n",
    "# this decorator is called first\n",
    "@check_value\n",
    "@fix_name\n",
    "@negate_value                               # you can see this as series of function calls with a function as parameter\n",
    "def my_decorated_function(name, value):     # ...check_value(fix_name(negate_value(my_decorated_function)))\n",
    "    \"\"\"my original function.\"\"\"\n",
    "    print(\"name:\", name, \"value:\", value)\n",
    "    return value\n",
    "\n",
    "print(\"my_decorated_function.__name__ =\", my_decorated_function.__name__)       # not what we expected\n",
    "ret_value = my_decorated_function(\"hello world!\", 0)\n",
    "print(\"ret_value from my_decorated_function =\", ret_value)      # check value decorator used before negate_value\n"
   ]
  },
  {
   "cell_type": "markdown",
   "metadata": {},
   "source": [
    "We can use `args` and `kwargs` to make decorators suitable for different functions and parameters..."
   ]
  },
  {
   "cell_type": "code",
   "execution_count": 4,
   "metadata": {},
   "outputs": [
    {
     "name": "stdout",
     "output_type": "stream",
     "text": [
      "name: Bob Reginald Smith (34)\n",
      "meet me at Underneath the arches at 2022-11-05 23:37:25.800488\n"
     ]
    }
   ],
   "source": [
    "def my_general_capitalize_decorator(func):\n",
    "    def capitalise_func(*args, **kwargs):\n",
    "        args = tuple([x.capitalize() if isinstance(x, str) else x for x in args])\n",
    "        kwargs = {k: v.capitalize() if isinstance(v, str) else v for k, v in kwargs.items()}\n",
    "        func(*args, **kwargs)\n",
    "    return capitalise_func\n",
    "\n",
    "@my_general_capitalize_decorator\n",
    "def my_function(name, age, surname, middle_name):\n",
    "    print(\"name:\", name, middle_name, surname, f\"({age})\")\n",
    "\n",
    "@my_general_capitalize_decorator\n",
    "def my_other_function(place, time):\n",
    "    print(\"meet me at\", place, \"at\", time)\n",
    "\n",
    "my_function('bob', 34, 'smith', middle_name='reginald')\n",
    "my_other_function('underneath the arches', datetime.datetime.now())"
   ]
  },
  {
   "cell_type": "markdown",
   "metadata": {},
   "source": [
    "or class methods..."
   ]
  },
  {
   "cell_type": "code",
   "execution_count": 5,
   "metadata": {},
   "outputs": [
    {
     "name": "stdout",
     "output_type": "stream",
     "text": [
      "class name: Bob Reginald Smith (34)\n"
     ]
    }
   ],
   "source": [
    "class SomeRandomClass:\n",
    "    def __init__(self):\n",
    "        pass\n",
    "\n",
    "    @my_general_capitalize_decorator\n",
    "    def a_method(self, name, age, surname, middle_name):\n",
    "        print(\"class name:\", name, middle_name, surname, f\"({age})\")\n",
    "\n",
    "my_instance = SomeRandomClass()\n",
    "my_instance.a_method('bob', 34, 'smith', middle_name='reginald')"
   ]
  },
  {
   "cell_type": "markdown",
   "metadata": {},
   "source": [
    "or even a lambda..."
   ]
  },
  {
   "cell_type": "code",
   "execution_count": 6,
   "metadata": {},
   "outputs": [
    {
     "name": "stdout",
     "output_type": "stream",
     "text": [
      "Hello Bobby\n"
     ]
    }
   ],
   "source": [
    "my_general_capitalize_decorator(lambda x, y: print(x, y))('hello', 'bobby')"
   ]
  },
  {
   "cell_type": "markdown",
   "metadata": {},
   "source": [
    "`wraps()` decorator from `functools` can be used to preserve original name and docstring"
   ]
  },
  {
   "cell_type": "code",
   "execution_count": 7,
   "metadata": {},
   "outputs": [
    {
     "name": "stdout",
     "output_type": "stream",
     "text": [
      "hello from decorator!\n",
      "hello from function!\n",
      "my_function.__name__ = my_function\n",
      "my_function.__doc__ = my_function doc string\n"
     ]
    }
   ],
   "source": [
    "\n",
    "def my_decorator(func):\n",
    "    @functools.wraps(func)              # note, you need to send func parameter in this case, wraps accepts\n",
    "    def do_decoration():                # ...func as a parameter\n",
    "        print(\"hello from decorator!\")\n",
    "        func()\n",
    "    return do_decoration\n",
    "\n",
    "@my_decorator\n",
    "def my_function():\n",
    "    \"\"\"my_function doc string\"\"\"\n",
    "    print(\"hello from function!\")\n",
    "\n",
    "my_function()\n",
    "print(\"my_function.__name__ =\", my_function.__name__)\n",
    "print(\"my_function.__doc__ =\", my_function.__doc__)"
   ]
  },
  {
   "cell_type": "markdown",
   "metadata": {},
   "source": [
    "Decorators can be very simple for debugging or registering..."
   ]
  },
  {
   "cell_type": "code",
   "execution_count": 8,
   "metadata": {},
   "outputs": [
    {
     "name": "stdout",
     "output_type": "stream",
     "text": [
      "calling function my_function\n",
      "hello from my_function\n"
     ]
    }
   ],
   "source": [
    "\n",
    "def my_simple_decorator(func):\n",
    "    print(\"calling function\", func.__name__)        # this will be printed when function is decorated not..\n",
    "    return func                                     # ..when the function is called\n",
    "\n",
    "@my_simple_decorator                                # note that my_simple_decorator is applied here\n",
    "def my_function():\n",
    "    return 'hello from my_function'\n",
    "\n",
    "print(my_function())"
   ]
  },
  {
   "cell_type": "markdown",
   "metadata": {},
   "source": [
    "We can pass parameters to a decorator using an extra function wrapper..."
   ]
  },
  {
   "cell_type": "code",
   "execution_count": 9,
   "metadata": {},
   "outputs": [
    {
     "name": "stdout",
     "output_type": "stream",
     "text": [
      "my_param_decorator\n",
      "my_parameterised_decorator\n",
      "do_decoration: decorator parameter\n",
      "..executing 2 times\n",
      "in my_function\n",
      "in my_function\n"
     ]
    }
   ],
   "source": [
    "def my_param_decorator(a_string, an_integer):       # functool.wraps() takes a function object as a parameter\n",
    "    print(\"my_param_decorator\")\n",
    "    def my_parameterised_decorator(func):\n",
    "        print(\"my_parameterised_decorator\")\n",
    "        def do_decoration(*args, **kwargs):\n",
    "            print(\"do_decoration:\", a_string)\n",
    "            print(f\"..executing {an_integer} times\")\n",
    "            for i in range(an_integer):\n",
    "                func(*args, **kwargs)\n",
    "        return do_decoration\n",
    "    return my_parameterised_decorator\n",
    "\n",
    "@my_param_decorator('decorator parameter', 2)       # my_param_decorator and my_parameterised_decorator called here\n",
    "def my_function():\n",
    "    print(\"in my_function\")\n",
    "\n",
    "my_function()                                       # do_decoration is done here"
   ]
  },
  {
   "cell_type": "markdown",
   "metadata": {},
   "source": [
    "Thanks to https://realpython.com/primer-on-python-decorators/"
   ]
  },
  {
   "cell_type": "code",
   "execution_count": 10,
   "metadata": {},
   "outputs": [],
   "source": [
    "def my_param_decorator(_func=None, *, a_string=None, an_integer=1):     # * means all parameters after are keyword only\n",
    "    print(\"my_param_decorator\")\n",
    "    def my_parameterised_decorator(func):\n",
    "        print(\"my_parameterised_decorator\")\n",
    "        def do_decoration(*args, **kwargs):\n",
    "            do_decoration.number_decorations += 1       # decorator state update\n",
    "            print(\"do_decoration:\", a_string)\n",
    "            print(f\"..executing {an_integer} times\")\n",
    "            for i in range(an_integer):\n",
    "                func(*args, **kwargs)\n",
    "        do_decoration.number_decorations = 0            # we can add attributes as usual for state\n",
    "        return do_decoration\n",
    "\n",
    "    if _func is None:\n",
    "        print(\"_func is None so parameters were specified\")\n",
    "        print(\"a_string =\", a_string, \"an_integer =\", an_integer)\n",
    "        return my_parameterised_decorator               # return my_parameterised_decorator function as object\n",
    "    else:\n",
    "        print(\"_func is\", _func)\n",
    "        print(\"...so no parameters were specified, calling my_parameterised_decorator...!\")\n",
    "        _decorator_func = my_parameterised_decorator(_func)\n",
    "        print(\"called my_parameterised_decorator to get decorator function\")\n",
    "        return _decorator_func                          # call function and returns the resulting function object\n",
    "                                                        # ...do_decoration"
   ]
  },
  {
   "cell_type": "markdown",
   "metadata": {},
   "source": [
    "Calling function with non-parameterised decorator..."
   ]
  },
  {
   "cell_type": "code",
   "execution_count": 11,
   "metadata": {},
   "outputs": [
    {
     "name": "stdout",
     "output_type": "stream",
     "text": [
      "my_param_decorator\n",
      "_func is <function my_function at 0x0000027A4EA7F130>\n",
      "...so no parameters were specified, calling my_parameterised_decorator...!\n",
      "my_parameterised_decorator\n",
      "called my_parameterised_decorator to get decorator function\n",
      "do_decoration: None\n",
      "..executing 1 times\n",
      "in my_function\n",
      "number of decorations: 1\n"
     ]
    }
   ],
   "source": [
    "@my_param_decorator         # so this is effectively my_param_decorator(my_function) so _func = my_function\n",
    "def my_function():\n",
    "    print(\"in my_function\")\n",
    "\n",
    "my_function()\n",
    "# my_function is actually the decorated function do_decoration so we can access its attributes\n",
    "print(\"number of decorations:\", my_function.number_decorations)"
   ]
  },
  {
   "cell_type": "markdown",
   "metadata": {},
   "source": [
    "Calling function with parameterised decorator..."
   ]
  },
  {
   "cell_type": "code",
   "execution_count": 12,
   "metadata": {},
   "outputs": [
    {
     "name": "stdout",
     "output_type": "stream",
     "text": [
      "my_param_decorator\n",
      "_func is None so parameters were specified\n",
      "a_string = None an_integer = 2\n",
      "my_parameterised_decorator\n",
      "do_decoration: None\n",
      "..executing 2 times\n",
      "in my_function\n",
      "in my_function\n",
      "do_decoration: None\n",
      "..executing 2 times\n",
      "in my_function\n",
      "in my_function\n",
      "number of decorations: 2\n"
     ]
    }
   ],
   "source": [
    "@my_param_decorator(an_integer=2)       # have parameters so _func = None so this is effectively...\n",
    "def my_function():                      # ...my_param_decorator(an_integer=2)(my_function)\n",
    "    print(\"in my_function\")\n",
    "\n",
    "my_function()\n",
    "my_function()\n",
    "print(\"number of decorations:\", my_function.number_decorations)"
   ]
  }
 ],
 "metadata": {
  "kernelspec": {
   "display_name": "Python 3.10.7 64-bit",
   "language": "python",
   "name": "python3"
  },
  "language_info": {
   "codemirror_mode": {
    "name": "ipython",
    "version": 3
   },
   "file_extension": ".py",
   "mimetype": "text/x-python",
   "name": "python",
   "nbconvert_exporter": "python",
   "pygments_lexer": "ipython3",
   "version": "3.10.7"
  },
  "orig_nbformat": 4,
  "vscode": {
   "interpreter": {
    "hash": "c19fa61d258bb2b35aae2ada233c33e2817c1ce895aa48acba720c6bf7cbe3cb"
   }
  }
 },
 "nbformat": 4,
 "nbformat_minor": 2
}
