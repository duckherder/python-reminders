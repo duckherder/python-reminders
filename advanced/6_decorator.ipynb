{
 "cells": [
  {
   "cell_type": "markdown",
   "metadata": {},
   "source": [
    "# Decorators\n",
    "\n",
    "Decorators are higher order functions that accept functions and return another function that executes the original.\n",
    "\n",
    "We define a function for which we want to validate/amend the parameters before calling the function."
   ]
  },
  {
   "cell_type": "code",
   "execution_count": 2,
   "metadata": {},
   "outputs": [],
   "source": [
    "def my_function(name: str, age: int):\n",
    "    print(\"my_function: name =\", name, \"age =\", age)"
   ]
  },
  {
   "cell_type": "markdown",
   "metadata": {},
   "source": [
    "Let's start by defining a higher order function that returns a function that checks the parameters and calls the original function before returning this new parameter checking function."
   ]
  },
  {
   "cell_type": "code",
   "execution_count": 3,
   "metadata": {},
   "outputs": [],
   "source": [
    "def check_age(func):\n",
    "    \"\"\"checking age parameter higher order function - function that returns a function.\"\"\"\n",
    "    def do_checking(name, age):\n",
    "        print(\"do_checking: validating input parameters\")\n",
    "        if age is None or age < 0:          # do the validation of the parameters\n",
    "            age = 16\n",
    "        return func(name, age)              # call the original function\n",
    "    return do_checking"
   ]
  },
  {
   "cell_type": "markdown",
   "metadata": {},
   "source": [
    "We can then create and call this revised value checking version of the same function"
   ]
  },
  {
   "cell_type": "code",
   "execution_count": 4,
   "metadata": {},
   "outputs": [
    {
     "name": "stdout",
     "output_type": "stream",
     "text": [
      "my_function: name = bob age = -19\n",
      "Wrap my_function...\n",
      "do_checking: validating input parameters\n",
      "my_function: name = bob age = 16\n"
     ]
    }
   ],
   "source": [
    "my_function(\"bob\", -19)                                 # call function normally\n",
    "print(\"Wrap my_function...\")\n",
    "my_function_with_checking = check_age(my_function)\n",
    "my_function_with_checking(\"bob\", -19)                   # call same function with checking wrapper function"
   ]
  },
  {
   "cell_type": "markdown",
   "metadata": {},
   "source": [
    "We can stack it again with another high order function"
   ]
  },
  {
   "cell_type": "code",
   "execution_count": 5,
   "metadata": {},
   "outputs": [
    {
     "name": "stdout",
     "output_type": "stream",
     "text": [
      "do_capitilisation: ensure names are capitialised\n",
      "do_checking: validating input parameters\n",
      "my_function: name = Bob age = 16\n"
     ]
    }
   ],
   "source": [
    "def capitalise_name(func):\n",
    "    def do_capitilisation(name, age):\n",
    "        print(\"do_capitilisation: ensure names are capitialised\")\n",
    "        name = name.capitalize()\n",
    "        return func(name, age)\n",
    "    return do_capitilisation\n",
    "\n",
    "my_function_with_checking = check_age(my_function)\n",
    "my_function_with_checking_and_capitilisation = capitalise_name(my_function_with_checking)\n",
    "my_function_with_checking_and_capitilisation(\"bob\", -19)"
   ]
  },
  {
   "cell_type": "markdown",
   "metadata": {},
   "source": [
    "You can see this as a series of nested function calls with a function as parameter."
   ]
  },
  {
   "cell_type": "code",
   "execution_count": 6,
   "metadata": {},
   "outputs": [
    {
     "name": "stdout",
     "output_type": "stream",
     "text": [
      "do_checking: validating input parameters\n",
      "do_capitilisation: ensure names are capitialised\n",
      "my_function: name = Bob age = 16\n"
     ]
    }
   ],
   "source": [
    "check_age(capitalise_name(my_function))(\"bob\", -19)"
   ]
  },
  {
   "cell_type": "markdown",
   "metadata": {},
   "source": [
    "These higher order functions are known as decorators and we can use the `@` symbol to simplify decoration of a function to do exactly what we have done above."
   ]
  },
  {
   "cell_type": "code",
   "execution_count": 7,
   "metadata": {},
   "outputs": [
    {
     "name": "stdout",
     "output_type": "stream",
     "text": [
      "my_function.__name__ = do_checking\n",
      "do_checking: validating input parameters\n",
      "do_capitilisation: ensure names are capitialised\n",
      "my_function: name = Bob age = 16\n",
      "16\n"
     ]
    }
   ],
   "source": [
    "@check_age                                  # this decorator is called first\n",
    "@capitalise_name\n",
    "def my_function(name, age):\n",
    "    print(\"my_function: name =\", name, \"age =\", age)\n",
    "    return age\n",
    "\n",
    "print(\"my_function.__name__ =\", my_function.__name__)       # not what we expected\n",
    "ret_value = my_function(\"bob\", -19)\n",
    "print(ret_value)"
   ]
  },
  {
   "cell_type": "markdown",
   "metadata": {},
   "source": [
    "We can use `args` and `kwargs` to make decorators suitable for different functions and parameters..."
   ]
  },
  {
   "cell_type": "code",
   "execution_count": 8,
   "metadata": {},
   "outputs": [
    {
     "name": "stdout",
     "output_type": "stream",
     "text": [
      "my_function: name = Bob Smith age = 34\n",
      "my_other_function: meet me in Edinburgh at 1500 hours\n"
     ]
    }
   ],
   "source": [
    "def my_general_capitalize_decorator(func):     # this general decorator will with any function\n",
    "    def capitalise_func(*args, **kwargs):\n",
    "        # iterate over all args and kwargs and capitalise any strings before calling real function\n",
    "        args = tuple([x.capitalize() if isinstance(x, str) else x for x in args])\n",
    "        kwargs = {k: v.capitalize() if isinstance(v, str) else v for k, v in kwargs.items()}\n",
    "        func(*args, **kwargs)\n",
    "    return capitalise_func\n",
    "\n",
    "@my_general_capitalize_decorator\n",
    "def my_function(name: str, age: int, surname: str):\n",
    "    print(\"my_function: name =\", name, surname, \"age =\", age)\n",
    "\n",
    "@my_general_capitalize_decorator\n",
    "def my_other_function(place: str, time: int):\n",
    "    print(\"my_other_function: meet me in\", place, \"at\", time, \"hours\")\n",
    "\n",
    "my_function('bob', 34, surname='smith')\n",
    "my_other_function('edinburgh', 1500)"
   ]
  },
  {
   "cell_type": "markdown",
   "metadata": {},
   "source": [
    "Will also work with class methods..."
   ]
  },
  {
   "cell_type": "code",
   "execution_count": 9,
   "metadata": {},
   "outputs": [
    {
     "name": "stdout",
     "output_type": "stream",
     "text": [
      "my_method: name = Bob Smith age = 34\n"
     ]
    }
   ],
   "source": [
    "class SomeRandomClass:\n",
    "    def __init__(self):\n",
    "        pass\n",
    "\n",
    "    @my_general_capitalize_decorator\n",
    "    def my_method(self, name, age, surname):\n",
    "        print(\"my_method: name =\", name, surname, \"age =\", age)\n",
    "\n",
    "my_instance = SomeRandomClass()\n",
    "my_instance.my_method('bob', 34, surname='smith')"
   ]
  },
  {
   "cell_type": "markdown",
   "metadata": {},
   "source": [
    "or even a lambda..."
   ]
  },
  {
   "cell_type": "code",
   "execution_count": 10,
   "metadata": {},
   "outputs": [
    {
     "name": "stdout",
     "output_type": "stream",
     "text": [
      "Hello Bobby\n"
     ]
    }
   ],
   "source": [
    "my_general_capitalize_decorator(lambda x, y: print(x, y))('hello', 'bobby')"
   ]
  },
  {
   "cell_type": "markdown",
   "metadata": {},
   "source": [
    "`wraps()` decorator from `functools` can be used to preserve original name and docstring"
   ]
  },
  {
   "cell_type": "code",
   "execution_count": 11,
   "metadata": {},
   "outputs": [
    {
     "name": "stdout",
     "output_type": "stream",
     "text": [
      "do_decoration: Hello from decorator!\n",
      "my_function: Hello from my_function!\n",
      "my_function.__name__ = my_function\n",
      "my_function.__doc__ = my_function doc string\n"
     ]
    }
   ],
   "source": [
    "import functools\n",
    "\n",
    "def my_decorator(func):\n",
    "    @functools.wraps(func)              # note, you need to send func parameter in this case\n",
    "    def do_decoration():\n",
    "        print(\"do_decoration: Hello from decorator!\")\n",
    "        func()\n",
    "    return do_decoration\n",
    "\n",
    "@my_decorator\n",
    "def my_function():\n",
    "    \"\"\"my_function doc string\"\"\"\n",
    "    print(\"my_function: Hello from my_function!\")\n",
    "\n",
    "my_function()\n",
    "print(\"my_function.__name__ =\", my_function.__name__)\n",
    "print(\"my_function.__doc__ =\", my_function.__doc__)"
   ]
  },
  {
   "cell_type": "markdown",
   "metadata": {},
   "source": [
    "Decorators can be very simple for debugging or registering..."
   ]
  },
  {
   "cell_type": "code",
   "execution_count": 12,
   "metadata": {},
   "outputs": [
    {
     "name": "stdout",
     "output_type": "stream",
     "text": [
      "my_simple_decorator: my_function\n",
      "my_function: Hello from my_function\n"
     ]
    }
   ],
   "source": [
    "def my_simple_decorator(func):\n",
    "    print(\"my_simple_decorator:\", func.__name__)    # this will be printed when function is decorated not..\n",
    "    return func                                     # ..when the function is called\n",
    "\n",
    "@my_simple_decorator                                # note that my_simple_decorator is applied here\n",
    "def my_function():\n",
    "    print(\"my_function: Hello from my_function\")\n",
    "\n",
    "my_function()"
   ]
  },
  {
   "cell_type": "markdown",
   "metadata": {},
   "source": [
    "We can pass parameters to a decorator using an extra function wrapper. For example the decorator `functool.wraps()` takes a function object as a parameter."
   ]
  },
  {
   "cell_type": "code",
   "execution_count": 13,
   "metadata": {},
   "outputs": [
    {
     "name": "stdout",
     "output_type": "stream",
     "text": [
      "my_param_decorator\n",
      "my_parameterised_decorator\n",
      "Call my_function\n",
      "do_decoration\n",
      "my_function: Name = Bob\n",
      "my_function: Name = Bob\n"
     ]
    }
   ],
   "source": [
    "def my_param_decorator(prefix, loops):\n",
    "    print(\"my_param_decorator\")\n",
    "    def my_parameterised_decorator(func):\n",
    "        print(\"my_parameterised_decorator\")\n",
    "        def do_decoration(name):\n",
    "            print(\"do_decoration\")\n",
    "            for i in range(loops):\n",
    "                func(prefix + name)\n",
    "        return do_decoration\n",
    "    return my_parameterised_decorator\n",
    "\n",
    "@my_param_decorator(\"Name = \", 2)         # my_param_decorator and my_parameterised_decorator called here\n",
    "def my_function(name):\n",
    "    print(\"my_function:\", name)\n",
    "\n",
    "print(\"Call my_function\")\n",
    "my_function(\"Bob\")                        # do_decoration is done here"
   ]
  },
  {
   "cell_type": "markdown",
   "metadata": {},
   "source": [
    "It is possible to make the decorator parameters optional with default values, as well as being able to add state to the decorator. Thanks to https://realpython.com/primer-on-python-decorators/."
   ]
  },
  {
   "cell_type": "code",
   "execution_count": 14,
   "metadata": {},
   "outputs": [],
   "source": [
    "def my_param_decorator(_func=None, *, number_function_loops=1):\n",
    "    \"\"\"The asterisk means that all parameters afterwards are keyword only\"\"\"\n",
    "    def my_parameterised_decorator(func):\n",
    "        def do_decoration(*args, **kwargs):\n",
    "            do_decoration.number_decorations += 1       # decorator state update\n",
    "            for i in range(number_function_loops):\n",
    "                func(*args, **kwargs)\n",
    "        do_decoration.number_decorations = 0            # we can add attributes as usual for state\n",
    "        return do_decoration\n",
    "\n",
    "    if _func is None:\n",
    "        print(\"my_param_decorator: _func is None so parameters were specified\")\n",
    "        print(\"my_param_decorator: number_function_loops =\", number_function_loops)\n",
    "        return my_parameterised_decorator\n",
    "    else:\n",
    "        print(\"my_param_decorator: _func is\", _func)\n",
    "        print(\"my_param_decorator: no parameters specified, calling my_parameterised_decorator\")\n",
    "        _decorator_func = my_parameterised_decorator(_func)\n",
    "        print(\"my_param_decorator: called my_parameterised_decorator to get decorator function\")\n",
    "        return _decorator_func"
   ]
  },
  {
   "cell_type": "markdown",
   "metadata": {},
   "source": [
    "Calling function with non-parameterised decorator..."
   ]
  },
  {
   "cell_type": "code",
   "execution_count": 15,
   "metadata": {},
   "outputs": [
    {
     "name": "stdout",
     "output_type": "stream",
     "text": [
      "my_param_decorator: _func is <function my_function at 0x0000020857B2F6D0>\n",
      "my_param_decorator: no parameters specified, calling my_parameterised_decorator\n",
      "my_param_decorator: called my_parameterised_decorator to get decorator function\n",
      "my_function\n",
      "Number of decorations: 1\n"
     ]
    }
   ],
   "source": [
    "@my_param_decorator         # so this is effectively my_param_decorator(my_function) so _func = my_function\n",
    "def my_function():\n",
    "    print(\"my_function\")\n",
    "\n",
    "my_function()\n",
    "print(\"Number of decorations:\", my_function.number_decorations)"
   ]
  },
  {
   "cell_type": "markdown",
   "metadata": {},
   "source": [
    "Calling function with parameterised decorator..."
   ]
  },
  {
   "cell_type": "code",
   "execution_count": 16,
   "metadata": {},
   "outputs": [
    {
     "name": "stdout",
     "output_type": "stream",
     "text": [
      "my_param_decorator: _func is None so parameters were specified\n",
      "my_param_decorator: number_function_loops = 2\n",
      "my_function\n",
      "my_function\n",
      "number of decorations: 1\n",
      "my_function\n",
      "my_function\n",
      "number of decorations: 2\n"
     ]
    }
   ],
   "source": [
    "@my_param_decorator(number_function_loops=2)  # have keyword parameters so _func = None so this is effectively...\n",
    "def my_function():                            # ...my_param_decorator(number_function_loops=2)(my_function)\n",
    "    print(\"my_function\")\n",
    "\n",
    "my_function()\n",
    "print(\"number of decorations:\", my_function.number_decorations)\n",
    "my_function()\n",
    "print(\"number of decorations:\", my_function.number_decorations)"
   ]
  }
 ],
 "metadata": {
  "kernelspec": {
   "display_name": "Python 3.10.7 64-bit",
   "language": "python",
   "name": "python3"
  },
  "language_info": {
   "codemirror_mode": {
    "name": "ipython",
    "version": 3
   },
   "file_extension": ".py",
   "mimetype": "text/x-python",
   "name": "python",
   "nbconvert_exporter": "python",
   "pygments_lexer": "ipython3",
   "version": "3.10.7"
  },
  "orig_nbformat": 4,
  "vscode": {
   "interpreter": {
    "hash": "c19fa61d258bb2b35aae2ada233c33e2817c1ce895aa48acba720c6bf7cbe3cb"
   }
  }
 },
 "nbformat": 4,
 "nbformat_minor": 2
}
