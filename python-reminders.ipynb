{
 "cells": [
  {
   "cell_type": "markdown",
   "metadata": {},
   "source": [
    "# Python Reminders\n",
    "\n",
    "An introduction to Python 3 programming and reminders, through examples, of various syntatic methodologies in Python. Reminders are valid for Python 3.10 and later."
   ]
  },
  {
   "cell_type": "markdown",
   "metadata": {},
   "source": [
    "Basic:\n",
    "* [Structure](basic/1_structure.ipynb):  Basic structure of Python code and getting help\n",
    "* [Comments](basic/2_comments.ipynb):  Comments and docstrings\n",
    "* [Numbers](basic/3_numbers.ipynb):  Numbers, how they are stored and in-built mathematical functions\n",
    "* [Strings](basic/4_strings.ipynb):  Strings, quotation, string formatting, encoding and conversion\n",
    "* [Containers](basic/5_containers.ipynb):  Lists, dictionaries, tuples and sets - mutability\n",
    "* [Conditionals](basic/6_conditionals.ipynb):  Booleans, equivalence, identicalness, control flow\n",
    "* [Loops](basic/7_loops.ipynb):  Loops, range and iterables\n",
    "* [Functions](basic/8_functions.ipynb):  Functions, arguments, keywords, hints, default values\n",
    "* [I/O](basic/9_input_output.ipynb):   Printing, user input, file I/O\n"
   ]
  },
  {
   "cell_type": "markdown",
   "metadata": {},
   "source": [
    "Intermediate:\n",
    "* [Attributes](intermediate/1_attributes.ipynb):  Getting, setting and deleting.\n",
    "* [Classes](intermediate/2_classes.ipynb): Classes and subclasses\n",
    "* [Representation](intermediate/3_repr.ipynb): Difference between `__str__` and `__repr__`\n",
    "* [Underscores](intermediate/4_underscores.ipynb): Use of underscores, name mangling and private attributes\n",
    "* [Objects](intermediate/5_objects.ipynb): Objects, storage, mutability, assignment, function parameters\n",
    "* [Scope](intermediate/6_scope.ipynb): LEGB Python scope, `globals()`, `locals()`, `nonlocal`\n",
    "* [Iterators](intermediate/7_iterators.ipynb): Iterables and iterators, `any()`, `all()`, `iter()`, `next()`\n",
    "* [Slicing](intermediate/8_slicing.ipynb): Slicing in lists and tuples\n",
    "* [Serialization](intermediate/9_serialization.ipynb): Pickling and JSON\n",
    "* [Comprehensions](intermediate/10_comprehensions.ipynb): List and dictionary comprehensions\n",
    "* [Command Line](intermediate/11_cmdline_parsing.ipynb): `argparse` and getting command line arguments\n",
    "* [Copying](intermediate/12_copy_v_deepcopy.ipynb): Copying objects\n",
    "* [Exceptions](intermediate/13_exception_handling.ipynb): `try/except/else` and `try/except/finally`\n",
    "* [Packages](intermediate/14_packages.ipynb): Package management, structure and `__init__.py`\n",
    "* [Context Managers](intermediate/15_context_manager.ipynb): Using and user-defined\n",
    "* [Hashing](intermediate/16_hash.ipynb): Relationship between equivalence and hash, dictionary keys\n"
   ]
  },
  {
   "cell_type": "markdown",
   "metadata": {},
   "source": [
    "Advanced:\n",
    "\n",
    "* [Packing](advanced/1_packing_args_and_kwargs.ipynb): The `*` operator, unpacking tuples, `args`, `kwargs`\n",
    "* [Generators](advanced/2_generators.ipynb): Generators and co-routines, `yield` and `send()`, generator expressions, `yield from`\n",
    "* [Lambdas](advanced/3_lambds.ipynb): Anonymous and higher-order functions\n",
    "* [Map/Filter/Reduce](advanced/4_map_filter_reduce.ipynb): Built-in higher order functions\n",
    "* [Closure](advanced/5_closure.ipynb): Binding free variables to functions, baking in variables\n",
    "* [Decorators](advanced/6_decorator.ipynb): Higher order function decoration, `@` operator, timing functions\n",
    "* [Class Decorators](advanced/7_class_decorators.ipynb): Decoratprs based on classes\n",
    "* [Singleton](advanced/8_singleton.ipynb): Implementing singleton design pattern with a decorator\n",
    "* [Class vs Static Methods](advanced/9_class_v_static_method.ipynb): Different class methods, bound methods\n",
    "* [Descriptors](advanced/10_descriptors.ipynb): The `.` (dot) operator and specialising set, get, del behaviour\n",
    "* [Properties](advanced/11_properties.ipynb): The `property` descriptor decorator for getters and setters\n",
    "* [Slots](advanced/12_slots.ipynb): More memory efficient and faster attributes\n",
    "* [Profiling](advanced/13_profiling.ipynb): Timing code and analysing memory\n",
    "* [Python 2](advanced/14_python2_v_python3.ipynb): Main differences between Python 2 and Python 3\n",
    "* [Disassembly](advanced/15_disassembler.ipynb): The `dis` module, traceback and stacks\n",
    "* [Pipelines](advanced/16_pipelines.ipynb): Using generators and co-routines to build push and pull data pipelines\n",
    "* [Eval/Compile/Exec](advanced/17_eval_compile_exec.ipynb): Dynamic code compilation and execution\n",
    "* [Threads](advanced/18_threads.ipynb): Concurrent programming, threads, semaphores, events\n",
    "* [Duck Typing](advanced/19_ducktyping.ipynb): Duck typing example\n",
    "* [Function Types](advanced/20_function_types.ipynb): More on different types of functions\n",
    "* [Interfaces](advanced/21_interfaces.ipynb): Implementing interfaces, metaclass, `abc` abstract module"
   ]
  }
 ],
 "metadata": {
  "kernelspec": {
   "display_name": "Python 3.10.7 64-bit",
   "language": "python",
   "name": "python3"
  },
  "language_info": {
   "name": "python",
   "version": "3.10.7"
  },
  "orig_nbformat": 4,
  "vscode": {
   "interpreter": {
    "hash": "c19fa61d258bb2b35aae2ada233c33e2817c1ce895aa48acba720c6bf7cbe3cb"
   }
  }
 },
 "nbformat": 4,
 "nbformat_minor": 2
}
