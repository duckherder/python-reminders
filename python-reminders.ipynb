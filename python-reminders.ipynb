{
 "cells": [
  {
   "cell_type": "markdown",
   "metadata": {},
   "source": [
    "# Python Reminders\n",
    "\n",
    "An introduction to Python programming and reminders, through examples, of various syntatic methodologies in Pyton.\n",
    "\n",
    "Basic:\n",
    "* [Structure](basic/1_structure.ipynb)\n",
    "* [Comments](basic/2_comments.ipynb)\n",
    "* [Numbers](basic/3_numbers.ipynb)\n",
    "* [Strings](basic/4_strings.ipynb)\n",
    "* [Containers](basic/5_containers.ipynb)\n",
    "* [Conditionals](basic/6_conditionals.ipynb)\n",
    "* [Loops](basic/7_loops.ipynb)\n",
    "* [Functions](basic/8_functions.ipynb)\n",
    "* [I/O](basic/9_input_output.ipynb)\n"
   ]
  },
  {
   "cell_type": "markdown",
   "metadata": {},
   "source": []
  }
 ],
 "metadata": {
  "kernelspec": {
   "display_name": "Python 3.10.7 64-bit",
   "language": "python",
   "name": "python3"
  },
  "language_info": {
   "name": "python",
   "version": "3.10.7"
  },
  "orig_nbformat": 4,
  "vscode": {
   "interpreter": {
    "hash": "c19fa61d258bb2b35aae2ada233c33e2817c1ce895aa48acba720c6bf7cbe3cb"
   }
  }
 },
 "nbformat": 4,
 "nbformat_minor": 2
}
