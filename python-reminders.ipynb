{
 "cells": [
  {
   "cell_type": "markdown",
   "metadata": {},
   "source": [
    "# Python Reminders\n",
    "\n",
    "An introduction to Python 3 programming and reminders, through examples, of various syntatic methodologies in Python. Reminders are valid for Python 3.10 and later."
   ]
  },
  {
   "cell_type": "markdown",
   "metadata": {},
   "source": [
    "Basic:\n",
    "* [Structure](basic/1_structure.ipynb)\n",
    "* [Comments](basic/2_comments.ipynb)\n",
    "* [Numbers](basic/3_numbers.ipynb)\n",
    "* [Strings](basic/4_strings.ipynb)\n",
    "* [Containers](basic/5_containers.ipynb)\n",
    "* [Conditionals](basic/6_conditionals.ipynb)\n",
    "* [Loops](basic/7_loops.ipynb)\n",
    "* [Functions](basic/8_functions.ipynb)\n",
    "* [I/O](basic/9_input_output.ipynb)\n"
   ]
  },
  {
   "cell_type": "markdown",
   "metadata": {},
   "source": [
    "Intermediate:\n",
    "* [Attributes](intermediate/1_attributes.ipynb)\n",
    "* [Classes](intermediate/2_classes.ipynb)\n",
    "* [Representation](intermediate/3_repr.ipynb)\n",
    "* [Underscores](intermediate/4_underscores.ipynb)\n",
    "* [Objects](intermediate/5_objects.ipynb)\n",
    "* [Scope](intermediate/6_scope.ipynb)\n",
    "* [Iterators](intermediate/7_iterators.ipynb)\n",
    "* [Slicing](intermediate/8_slicing.ipynb)\n",
    "* [Serialization](intermediate/9_serialization.ipynb)\n",
    "* [Comprehensions](intermediate/10_comprehensions.ipynb)\n",
    "* [Command Line](intermediate/11_cmdline_parsing.ipynb)\n",
    "* [Copying](intermediate/12_copy_v_deepcopy.ipynb)\n",
    "* [Exceptions](intermediate/13_exception_handling.ipynb)\n",
    "* [Packages](intermediate/14_packages.ipynb)\n",
    "* [Context Managers](intermediate/15_context_manager.ipynb)\n",
    "* [Hashing](intermediate/16_hash.ipynb)\n"
   ]
  },
  {
   "cell_type": "markdown",
   "metadata": {},
   "source": [
    "Advanced:\n",
    "\n",
    "* [Packing](advanced/1_packing_args_and_kwargs.ipynb)\n",
    "* [Generators](advanced/2_generators.ipynb)\n",
    "* [Lambdas](advanced/3_lambds.ipynb)\n",
    "* [Map/Filter/Reduce](advanced/4_map_filter_reduce.ipynb)\n",
    "* [Closure](advanced/5_closure.ipynb)\n",
    "* [Decorators](advanced/6_decorator.ipynb)\n",
    "* [Class Decorators](advanced/7_class_decorators.ipynb)\n",
    "* [Singleton](advanced/8_singleton.ipynb)\n",
    "* [Class vs Static Methods](advanced/9_class_v_static_method.ipynb)\n",
    "* [Descriptors](advanced/10_descriptors.ipynb)\n",
    "* [Properties](advanced/11_properties.ipynb)\n",
    "* [Slots](advanced/12_slots.ipynb)\n",
    "* [Profiling](advanced/13_profiling.ipynb)\n",
    "* [Python 2](advanced/14_python2_v_python3.ipynb)\n",
    "* [Disassembly](advanced/15_disassembler.ipynb)\n",
    "* [Pipelines](advanced/16_pipelines.ipynb)\n",
    "* [Eval/Compile/Exec](advanced/17_eval_compile_exec.ipynb)\n",
    "* [Threads](advanced/18_threads.ipynb)\n",
    "* [Duck Typing](advanced/19_ducktyping.ipynb)\n",
    "* [Function Types](advanced/20_function_types.ipynb)\n",
    "* [Interfaces](advanced/21_interfaces.ipynb)"
   ]
  }
 ],
 "metadata": {
  "kernelspec": {
   "display_name": "Python 3.10.7 64-bit",
   "language": "python",
   "name": "python3"
  },
  "language_info": {
   "name": "python",
   "version": "3.10.7"
  },
  "orig_nbformat": 4,
  "vscode": {
   "interpreter": {
    "hash": "c19fa61d258bb2b35aae2ada233c33e2817c1ce895aa48acba720c6bf7cbe3cb"
   }
  }
 },
 "nbformat": 4,
 "nbformat_minor": 2
}
