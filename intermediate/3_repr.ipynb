{
 "cells": [
  {
   "cell_type": "markdown",
   "metadata": {},
   "source": [
    "# Representations\n",
    "\n",
    "There is a difference between the string (`__str__`) and the representation (`__repr__`) of an object. The difference is on how the data is used and by whom."
   ]
  },
  {
   "cell_type": "code",
   "execution_count": 1,
   "metadata": {},
   "outputs": [],
   "source": [
    "class UniversityStudent():\n",
    "    \"\"\"University student class.\"\"\"\n",
    "\n",
    "    def __init__(self, university, name, age):\n",
    "        self.university = university\n",
    "        self.name = name\n",
    "        self.age = age\n",
    "\n",
    "    def __repr__(self):\n",
    "        \"\"\"return representation\"\"\"      # use %r as we want UniversityStudent('edinburgh', 'dave', 20) *with* quotes\n",
    "        return \"UniversityStudent(%r, %r, %r)\" % (self.university, self.name, self.age)\n",
    "\n",
    "    def __str__(self):\n",
    "        return \"%s university student %s of age %d\" % (self.university, self.name, self.age)"
   ]
  },
  {
   "cell_type": "markdown",
   "metadata": {},
   "source": [
    "Using user defined versions of `__repr__` and `__str__` in class..."
   ]
  },
  {
   "cell_type": "code",
   "execution_count": 2,
   "metadata": {},
   "outputs": [
    {
     "name": "stdout",
     "output_type": "stream",
     "text": [
      "With __repr__: UniversityStudent('Edinburgh', 'Dave', 20)\n",
      "With __str__: Edinburgh university student Dave of age 20\n"
     ]
    }
   ],
   "source": [
    "dave = UniversityStudent('Edinburgh', 'Dave', 20)\n",
    "print(\"With __repr__: %r\" % dave)      # uses __repr__\n",
    "print(\"With __str__: %s\" % dave)      # uses __str__"
   ]
  },
  {
   "cell_type": "markdown",
   "metadata": {},
   "source": [
    "We can evaluate the representation to create the same object..."
   ]
  },
  {
   "cell_type": "code",
   "execution_count": 3,
   "metadata": {},
   "outputs": [
    {
     "name": "stdout",
     "output_type": "stream",
     "text": [
      "repr(dave) =  UniversityStudent('Edinburgh', 'Dave', 20)\n",
      "repr(unicode_university) = UniversityStudent('Ǝ', 'sam', 22)\n",
      "ascii(unicode_university) = UniversityStudent('\\u018e', 'sam', 22)\n"
     ]
    }
   ],
   "source": [
    "print(\"repr(dave) = \", repr(dave))\n",
    "debug = eval(repr(dave))\n",
    "\n",
    "unicode_university = UniversityStudent(\"\\u018e\", \"sam\", 22)\n",
    "print(\"repr(unicode_university) =\", repr(unicode_university))\n",
    "# get unicode as ASCII escape characters\n",
    "print(\"ascii(unicode_university) =\", ascii(unicode_university))"
   ]
  }
 ],
 "metadata": {
  "kernelspec": {
   "display_name": "Python 3.10.7 64-bit",
   "language": "python",
   "name": "python3"
  },
  "language_info": {
   "codemirror_mode": {
    "name": "ipython",
    "version": 3
   },
   "file_extension": ".py",
   "mimetype": "text/x-python",
   "name": "python",
   "nbconvert_exporter": "python",
   "pygments_lexer": "ipython3",
   "version": "3.10.7"
  },
  "orig_nbformat": 4,
  "vscode": {
   "interpreter": {
    "hash": "c19fa61d258bb2b35aae2ada233c33e2817c1ce895aa48acba720c6bf7cbe3cb"
   }
  }
 },
 "nbformat": 4,
 "nbformat_minor": 2
}
