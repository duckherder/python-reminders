{
 "cells": [
  {
   "cell_type": "markdown",
   "metadata": {},
   "source": [
    "# Slicing\n",
    "\n",
    "Lists and tuples allow you to use slicing to extract elements.You can use slicing to access into lists."
   ]
  },
  {
   "cell_type": "code",
   "execution_count": 1,
   "metadata": {},
   "outputs": [
    {
     "name": "stdout",
     "output_type": "stream",
     "text": [
      "my_list = [0, 1, 2, 3, 4, 5, 6, 7]\n",
      "use [n] to access a specific item\n",
      "my_list[2] = 2\n",
      "use [-n] to access a specific item from the end backwards\n",
      "my_list[-1] =  7\n",
      "use [start:end] to return a slice that includes start but not end\n",
      "my_list[0:2] = [0, 1]\n",
      "my_list[1:4] = [1, 2, 3]\n",
      "use [start:] to return a slice that includes start and all the way to the last item\n",
      "my_list[4:] =  [4, 5, 6, 7]\n",
      "use [:end] to return a slice that includes everything up to but excluding end\n",
      "my_list[:4] = [0, 1, 2, 3]\n",
      "use [:] for all items in the list\n",
      "my_list[:] = [0, 1, 2, 3, 4, 5, 6, 7]\n"
     ]
    }
   ],
   "source": [
    "my_list = [0, 1, 2, 3, 4, 5, 6, 7]\n",
    "print(\"my_list =\", my_list)\n",
    "\n",
    "print(\"use [n] to access a specific item\")\n",
    "print(\"my_list[2] =\", my_list[2])\n",
    "\n",
    "print(\"use [-n] to access a specific item from the end backwards\")\n",
    "print(\"my_list[-1] = \", my_list[-1])\n",
    "\n",
    "print(\"use [start:end] to return a slice that includes start but not end\")\n",
    "print(\"my_list[0:2] =\", my_list[0:2])\n",
    "print(\"my_list[1:4] =\", my_list[1:4])\n",
    "\n",
    "print(\"use [start:] to return a slice that includes start and all the way to the last item\")\n",
    "print(\"my_list[4:] = \", my_list[4:])\n",
    "\n",
    "print(\"use [:end] to return a slice that includes everything up to but excluding end\")\n",
    "print(\"my_list[:4] =\", my_list[:4])\n",
    "\n",
    "print(\"use [:] for all items in the list\")\n",
    "print(\"my_list[:] =\", my_list[:])"
   ]
  },
  {
   "cell_type": "markdown",
   "metadata": {},
   "source": [
    "Use a `[::step]` value to use a different step value when slicing"
   ]
  },
  {
   "cell_type": "code",
   "execution_count": 2,
   "metadata": {},
   "outputs": [
    {
     "name": "stdout",
     "output_type": "stream",
     "text": [
      "my_list[::2] = [0, 2, 4, 6]\n",
      "my_list[1::2] = [1, 3, 5, 7]\n",
      "my_list[::-1] =  [7, 6, 5, 4, 3, 2, 1, 0]\n",
      "my_list[-1::-1] =  [7]\n",
      "my_list[:-1:1] =  [0, 1, 2, 3, 4, 5, 6]\n",
      "my_list[-2:2:-1] =  [6, 5, 4, 3]\n"
     ]
    }
   ],
   "source": [
    "# start at index 0 and go up in steps of 2\n",
    "print(\"my_list[::2] =\", my_list[::2])\n",
    "# start at index 1 and go up in steps of 2\n",
    "print(\"my_list[1::2] =\", my_list[1::2])\n",
    "# start at index 0 and end at index 7 but step backwards\n",
    "print(\"my_list[::-1] = \", my_list[::-1])\n",
    "# start at index 7 and end at index 7\n",
    "print(\"my_list[-1::-1] = \", my_list[-1::1])\n",
    "# start at index 0 and end at but not including index 7\n",
    "print(\"my_list[:-1:1] = \", my_list[:-1:1])\n",
    "# start at index 6 and end at but not including index 2...\n",
    "print(\"my_list[-2:2:-1] = \", my_list[-2:2:-1])\n",
    "# ...but step backwards"
   ]
  },
  {
   "cell_type": "markdown",
   "metadata": {},
   "source": [
    "Note, as an aside, another way to perform above is to use eval..."
   ]
  },
  {
   "cell_type": "code",
   "execution_count": 3,
   "metadata": {},
   "outputs": [
    {
     "name": "stdout",
     "output_type": "stream",
     "text": [
      "my_list[::2] = [0, 2, 4, 6]\n",
      "my_list[1::2] = [1, 3, 5, 7]\n",
      "my_list[::-1] = [7, 6, 5, 4, 3, 2, 1, 0]\n"
     ]
    }
   ],
   "source": [
    "slice_tests = ['my_list[::2]', 'my_list[1::2]', 'my_list[::-1]']\n",
    "for test in slice_tests:\n",
    "    print(test, \"=\", eval(test))"
   ]
  },
  {
   "cell_type": "markdown",
   "metadata": {},
   "source": [
    "Tuples are ordered and can be indexed so..."
   ]
  },
  {
   "cell_type": "code",
   "execution_count": 4,
   "metadata": {},
   "outputs": [
    {
     "name": "stdout",
     "output_type": "stream",
     "text": [
      "my_tuple = ('bob', 1, 3.4, None, 'the end')\n",
      "my_tuple[1:-1:2] = (1, None)\n"
     ]
    }
   ],
   "source": [
    "my_tuple = ('bob', 1, 3.4, None, 'the end')\n",
    "print(\"my_tuple =\", my_tuple)\n",
    "print(\"my_tuple[1:-1:2] =\", my_tuple[1:-1:2])"
   ]
  }
 ],
 "metadata": {
  "kernelspec": {
   "display_name": "Python 3.10.7 64-bit",
   "language": "python",
   "name": "python3"
  },
  "language_info": {
   "codemirror_mode": {
    "name": "ipython",
    "version": 3
   },
   "file_extension": ".py",
   "mimetype": "text/x-python",
   "name": "python",
   "nbconvert_exporter": "python",
   "pygments_lexer": "ipython3",
   "version": "3.10.7"
  },
  "orig_nbformat": 4,
  "vscode": {
   "interpreter": {
    "hash": "c19fa61d258bb2b35aae2ada233c33e2817c1ce895aa48acba720c6bf7cbe3cb"
   }
  }
 },
 "nbformat": 4,
 "nbformat_minor": 2
}
