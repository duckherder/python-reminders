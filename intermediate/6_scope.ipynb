{
 "cells": [
  {
   "cell_type": "markdown",
   "metadata": {},
   "source": [
    "# Scope\n",
    "\n",
    "LEGB Python scope\n",
    "\n",
    "* Local: variables defined in a function are local to that function\n",
    "* Enclosing: local scope but\n",
    "* Global: variable defined in module level or variable with 'global' keyword\n",
    "* Built-in: preassigned names in Python\n",
    "\n",
    "This is the order in which names are resolved in Python"
   ]
  },
  {
   "cell_type": "code",
   "execution_count": null,
   "metadata": {},
   "outputs": [],
   "source": [
    "my_global_variable = 1          # an immutable integer of global scope\n",
    "my_global_list = [1, 2, 3]\n",
    "\n",
    "MY_GLOBAL_LIST = [1, 2, 3]      # not syntactically required but globals are usually in capitals\n",
    "_MY_GLOBAL_LIST = [1, 2, 3]     # use underscore if we don't want this to be exported to another module\n",
    "\n",
    "def my_function(my_parameter_variable):\n",
    "    print(\"function parameter my_parameter_variable with value\", my_parameter_variable,\n",
    "          \"at id\", id(my_parameter_variable), \"is bound to same object as global my_global_variable\")\n",
    "    # we can read immutable globals\n",
    "    print(\"my_global_variable =\", my_global_variable)\n",
    "    # we can read mutable globals\n",
    "    print(\"my_global_list =\", my_global_list)\n",
    "    print(\"local namespace =\", locals())\n",
    "    # reassign local parameter variable\n",
    "    my_parameter_variable = 2\n",
    "    print(\"my_global_variable remains same after my_parameter_variable binding changed =\",\n",
    "          my_global_variable)\n",
    "    print(\"add new local scoped variable my_local_variable\")\n",
    "    my_local_variable = 3\n",
    "    print(\"local namespace =\", locals())\n",
    "\n",
    "def my_bad_global_modifier_function():\n",
    "    try:\n",
    "        my_global_variable = 2\n",
    "    except UnboundLocalError:\n",
    "        print(\"python won't allow you to write to a global object from a function directly\")\n",
    "\n",
    "def my_ok_global_modifier_function():                       # not a great thing to do but code correct\n",
    "    print(\"python will allow you to write to a global object from a function if you tell it about the global\")\n",
    "    # better to tell interpreter we mean to change\n",
    "    global my_global_variable\n",
    "    # ...the global scope variable\n",
    "    print(\"my_global_variable =\", my_global_variable)\n",
    "    my_global_variable = 2"
   ]
  },
  {
   "cell_type": "markdown",
   "metadata": {},
   "source": [
    "Global variables..."
   ]
  },
  {
   "cell_type": "code",
   "execution_count": null,
   "metadata": {},
   "outputs": [],
   "source": [
    "print(\"my_global_variable of value\", my_global_variable,\n",
    "      \"at id\", id(my_global_variable))\n",
    "print(\"global namespace =\", globals())"
   ]
  },
  {
   "cell_type": "markdown",
   "metadata": {},
   "source": [
    "\n",
    "Functions such as my_function() are in the global scope as well as variables such my_global_list..."
   ]
  },
  {
   "cell_type": "code",
   "execution_count": null,
   "metadata": {},
   "outputs": [],
   "source": [
    "print(\"calling my_function with my_global_variable as a parameter with id =\", id(my_global_variable))\n",
    "my_function(my_global_variable)\n",
    "print(\"returned from my_function\")\n",
    "print(\"global namespace =\", globals())\n",
    "print(\"my_local_variable is not in the global namespace\")\n",
    "try:\n",
    "    print(my_local_variable)\n",
    "except NameError:\n",
    "    print(\"don't know about a locally scoped variable at module level\")"
   ]
  },
  {
   "cell_type": "markdown",
   "metadata": {},
   "source": [
    "Modifying a global variable from a function..."
   ]
  },
  {
   "cell_type": "code",
   "execution_count": null,
   "metadata": {},
   "outputs": [],
   "source": [
    "my_bad_global_modifier_function()\n",
    "my_ok_global_modifier_function()\n",
    "\n",
    "\n",
    "def my_nested_func():\n",
    "    my_conflict_name = \"'my_nested_func level'\"\n",
    "    my_enclosing_variable = 'bob'\n",
    "\n",
    "    def my_func_in_func():                                          # locally scoped function\n",
    "        # name conflicts with enclosing variable name\n",
    "        my_conflict_name = \"'inner my_func_in_func level'\"\n",
    "        # we will use locally scoped version first over the enclosing variant\n",
    "        print(\"in my_func_in_func locally scoped function, set my_conflict_name =\",\n",
    "              my_conflict_name, \" at id\", id(my_conflict_name))\n",
    "        # not found in local scope, so try enclosing\n",
    "        print(\"my_enclosing_variable =\", my_enclosing_variable)\n",
    "        # not found in local, enclosing, so try global\n",
    "        print(\"my_global_variable =\", my_global_variable)\n",
    "\n",
    "    def my_func_in_func_modifier():\n",
    "        # tell interpreter i'm going to modify a non-local (not global)\n",
    "        nonlocal my_enclosing_variable\n",
    "        print(\"using nonlocal in my_func_in_func_modifier() to modify my_enclosing_variable\")\n",
    "        my_enclosing_variable = 'sally'\n",
    "\n",
    "    print(\"my_nested_func locals =\", locals())\n",
    "    print(\"calling my_func_in_func() which is a locally scoped function\")\n",
    "    my_func_in_func()\n",
    "    print(\"returned from my_func_in_func()\")\n",
    "    print(\"in enclosing function my_conflict_name =\",\n",
    "          my_conflict_name, \"at id\", id(my_conflict_name))\n",
    "    print(\"calling my_func_in_func_modifier()\")\n",
    "    my_func_in_func_modifier()\n",
    "    print(\"my_enclosing_variable has been modified:\", my_enclosing_variable)"
   ]
  },
  {
   "cell_type": "markdown",
   "metadata": {},
   "source": [
    "Nested functions..."
   ]
  },
  {
   "cell_type": "code",
   "execution_count": null,
   "metadata": {},
   "outputs": [],
   "source": [
    "my_nested_func()\n",
    "print(\"returned from my_nested_func(), try to call my_func_in_func() directly\")\n",
    "try:\n",
    "    my_func_in_func()\n",
    "except NameError:\n",
    "    print(\"don't know about a locally scoped function at module level\")"
   ]
  },
  {
   "cell_type": "markdown",
   "metadata": {},
   "source": [
    "Function overloading of built-ins is possible..."
   ]
  },
  {
   "cell_type": "code",
   "execution_count": null,
   "metadata": {},
   "outputs": [],
   "source": [
    "my_list = [1, 2, 3]\n",
    "print(\"not defined yet so using built-in version\")\n",
    "print(\"max(my_list) =\", max(my_list))\n",
    "\n",
    "def max(a_list):                                # bad thing to do but Python doesn't stop us\n",
    "    print(\"using globally scoped version, not built-in\")\n",
    "    return 'whoops'\n",
    "\n",
    "print(\"interpreter finds max at global scope before built-in scope as defined by LEGB\")\n",
    "print(\"max(my_list) =\", max(my_list))\n"
   ]
  }
 ],
 "metadata": {
  "kernelspec": {
   "display_name": "Python 3.10.7 64-bit",
   "language": "python",
   "name": "python3"
  },
  "language_info": {
   "name": "python",
   "version": "3.10.7"
  },
  "orig_nbformat": 4,
  "vscode": {
   "interpreter": {
    "hash": "c19fa61d258bb2b35aae2ada233c33e2817c1ce895aa48acba720c6bf7cbe3cb"
   }
  }
 },
 "nbformat": 4,
 "nbformat_minor": 2
}
