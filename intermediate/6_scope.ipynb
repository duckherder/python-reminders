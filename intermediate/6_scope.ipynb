{
 "cells": [
  {
   "cell_type": "markdown",
   "metadata": {},
   "source": [
    "# Scope\n",
    "\n",
    "Python defines the order in which names are resolved. This is referred to as the LEGB Python scope\n",
    "\n",
    "* Local (function): Variables defined in a function are local to that function\n",
    "* Enclosing (non-local): local scope but for nested functions\n",
    "* Global (module): variable defined in module level or variable with 'global' keyword\n",
    "* Built-in: preassigned names in Python\n",
    "\n",
    "Global variables can be specified within each Python module"
   ]
  },
  {
   "cell_type": "code",
   "execution_count": 17,
   "metadata": {},
   "outputs": [],
   "source": [
    "my_global_variable = 1          # an immutable integer of global scope\n",
    "my_global_list = [1, 2, 3]\n",
    "\n",
    "MY_GLOBAL_LIST = [1, 2, 3]      # not syntactically required but globals are usually in capitals\n",
    "_MY_GLOBAL_LIST = [1, 2, 3]     # use underscore if we don't want this to be exported to another module"
   ]
  },
  {
   "cell_type": "markdown",
   "metadata": {},
   "source": [
    "You can access globals from module level or function scope"
   ]
  },
  {
   "cell_type": "code",
   "execution_count": 18,
   "metadata": {},
   "outputs": [
    {
     "name": "stdout",
     "output_type": "stream",
     "text": [
      "my_global_variable = 1\n",
      "my_global_list = [1, 2, 3]\n"
     ]
    }
   ],
   "source": [
    "def my_function():\n",
    "    print(\"my_global_variable =\", my_global_variable)\n",
    "    print(\"my_global_list =\", my_global_list)\n",
    "\n",
    "my_function()"
   ]
  },
  {
   "cell_type": "markdown",
   "metadata": {},
   "source": [
    "Use the `globals()` function to see members of the global namespace "
   ]
  },
  {
   "cell_type": "code",
   "execution_count": null,
   "metadata": {},
   "outputs": [],
   "source": [
    "print(\"Global namespace =\", globals())"
   ]
  },
  {
   "cell_type": "markdown",
   "metadata": {},
   "source": [
    "Use the `locals()` function to see the local namespace"
   ]
  },
  {
   "cell_type": "code",
   "execution_count": 20,
   "metadata": {},
   "outputs": [
    {
     "name": "stdout",
     "output_type": "stream",
     "text": [
      "Local namespace = {'my_parameter_variable': 'Hello', '_my_local_variable': 3}\n"
     ]
    }
   ],
   "source": [
    "def my_function(my_parameter_variable):\n",
    "    _my_local_variable = 3\n",
    "    print(\"Local namespace =\", locals())\n",
    "\n",
    "my_function(\"Hello\")"
   ]
  },
  {
   "cell_type": "markdown",
   "metadata": {},
   "source": [
    "Python will not allow you to modify a global object from local scope directly"
   ]
  },
  {
   "cell_type": "code",
   "execution_count": 27,
   "metadata": {},
   "outputs": [
    {
     "name": "stdout",
     "output_type": "stream",
     "text": [
      "global: my_global_variable is at 2457832128784\n",
      "local: my_global_variable is at 2457916948928\n",
      "local: Set this locally!\n",
      "{'my_global_variable': 'Set this locally!'}\n",
      "global:  2\n"
     ]
    }
   ],
   "source": [
    "def my_attempted_global_modifier_function():\n",
    "    my_global_variable = \"Set this locally!\"    # actually a local variable\n",
    "    print(\"local: my_global_variable is at\", id(my_global_variable))\n",
    "    print(\"local:\", my_global_variable)\n",
    "    print(locals())\n",
    "\n",
    "print(\"global: my_global_variable is at\", id(my_global_variable))\n",
    "my_attempted_global_modifier_function()\n",
    "print(\"global: \", my_global_variable)"
   ]
  },
  {
   "cell_type": "markdown",
   "metadata": {},
   "source": [
    "Not generally recommended but you can change it from local scope"
   ]
  },
  {
   "cell_type": "code",
   "execution_count": 28,
   "metadata": {},
   "outputs": [
    {
     "name": "stdout",
     "output_type": "stream",
     "text": [
      "global: my_global_variable is at 2457832128784\n",
      "local: my_global_variable is at 2457916862304\n",
      "local: Set this locally!\n",
      "{}\n",
      "global:  Set this locally!\n"
     ]
    }
   ],
   "source": [
    "def my_attempted_global_modifier_function():\n",
    "    global my_global_variable\n",
    "    my_global_variable = \"Set this locally!\"    # this is the global variable\n",
    "    print(\"local: my_global_variable is at\", id(my_global_variable))\n",
    "    print(\"local:\", my_global_variable)\n",
    "    print(locals())\n",
    "\n",
    "print(\"global: my_global_variable is at\", id(my_global_variable))\n",
    "my_attempted_global_modifier_function()\n",
    "print(\"global: \", my_global_variable)"
   ]
  },
  {
   "cell_type": "markdown",
   "metadata": {},
   "source": [
    "Functions such as `my_function()` are in the global scope as well as variables such `my_global_list`..."
   ]
  },
  {
   "cell_type": "code",
   "execution_count": 30,
   "metadata": {},
   "outputs": [
    {
     "name": "stdout",
     "output_type": "stream",
     "text": [
      "my_local_variable is not in the global namespace\n",
      "Don't know about a locally scoped variable at module (global) level\n"
     ]
    }
   ],
   "source": [
    "def my_function():\n",
    "    my_local_variable = 2\n",
    "\n",
    "print(\"my_local_variable is not in the global namespace\")\n",
    "try:\n",
    "    print(my_local_variable)\n",
    "except NameError:\n",
    "    print(\"Don't know about a locally scoped variable at module (global) level\")"
   ]
  },
  {
   "cell_type": "markdown",
   "metadata": {},
   "source": [
    "Nested functions are another level of scope. It is possible if not careful to have conflicting names in the nested functions. We can see how Python resolves the conflicts with LEGB."
   ]
  },
  {
   "cell_type": "code",
   "execution_count": 36,
   "metadata": {},
   "outputs": [
    {
     "name": "stdout",
     "output_type": "stream",
     "text": [
      "my_nested_func locals = {'my_conflict_name': 'my_nested_func scope', 'my_func_in_func': <function my_nested_func.<locals>.my_func_in_func at 0x0000023C46F4D360>, 'my_enclosing_variable': 'Bob'}\n",
      "my_func_in_func locals = {'my_conflict_name': 'my_func_in_func scope', 'my_enclosing_variable': 'Bob'}\n",
      "my_conflict_name = my_func_in_func scope at id 2457917011680\n",
      "my_enclosing_variable = Bob\n",
      "my_global_variable = 2\n"
     ]
    }
   ],
   "source": [
    "my_global_variable = 2\n",
    "\n",
    "def my_nested_func():\n",
    "    my_conflict_name = \"my_nested_func scope\"\n",
    "    my_enclosing_variable = \"Bob\"\n",
    "\n",
    "    def my_func_in_func():                           # locally scoped function\n",
    "        my_conflict_name = \"my_func_in_func scope\"   # name conflicts with enclosing variable name\n",
    "        print(\"my_func_in_func locals =\", locals())\n",
    "        print(\"my_conflict_name =\",\n",
    "              my_conflict_name, \"at id\", id(my_conflict_name))\n",
    "        print(\"my_enclosing_variable =\", my_enclosing_variable)   # not found in local scope, so try enclosing\n",
    "        print(\"my_global_variable =\", my_global_variable)         # not found in local, enclosing, so try global\n",
    "\n",
    "    print(\"my_nested_func locals =\", locals())\n",
    "    my_func_in_func()\n",
    "\n",
    "my_nested_func()"
   ]
  },
  {
   "cell_type": "markdown",
   "metadata": {},
   "source": [
    "If really want to modify an enclosing variable you can use `nonlocal`"
   ]
  },
  {
   "cell_type": "code",
   "execution_count": 38,
   "metadata": {},
   "outputs": [
    {
     "name": "stdout",
     "output_type": "stream",
     "text": [
      "my_enclosing_variable has been modified: Sally\n"
     ]
    }
   ],
   "source": [
    "def my_nested_func():\n",
    "    my_enclosing_variable = \"Bob\"\n",
    "\n",
    "    def my_func_in_func_modifier():\n",
    "        # Tell interpreter I'm going to modify a non-local (not global)\n",
    "        nonlocal my_enclosing_variable\n",
    "        my_enclosing_variable = \"Sally\"\n",
    "\n",
    "    my_func_in_func_modifier()\n",
    "    print(\"my_enclosing_variable has been modified:\", my_enclosing_variable)\n",
    "\n",
    "my_nested_func()"
   ]
  },
  {
   "cell_type": "markdown",
   "metadata": {},
   "source": [
    "Function overloading of built-in scope functions is possible. This is because Python interpreter finds max at global scope before built-in scope as defined by LEGB"
   ]
  },
  {
   "cell_type": "code",
   "execution_count": 41,
   "metadata": {},
   "outputs": [
    {
     "name": "stdout",
     "output_type": "stream",
     "text": [
      "max(my_list) = I am not sure I know this one\n"
     ]
    }
   ],
   "source": [
    "def max(a_list):                                # bad thing to do but Python doesn't stop us\n",
    "    return \"I am not sure I know this one\"\n",
    "\n",
    "print(\"max(my_list) =\", max([1, 2, 3]))"
   ]
  }
 ],
 "metadata": {
  "kernelspec": {
   "display_name": "Python 3.10.7 64-bit",
   "language": "python",
   "name": "python3"
  },
  "language_info": {
   "codemirror_mode": {
    "name": "ipython",
    "version": 3
   },
   "file_extension": ".py",
   "mimetype": "text/x-python",
   "name": "python",
   "nbconvert_exporter": "python",
   "pygments_lexer": "ipython3",
   "version": "3.10.7"
  },
  "orig_nbformat": 4,
  "vscode": {
   "interpreter": {
    "hash": "c19fa61d258bb2b35aae2ada233c33e2817c1ce895aa48acba720c6bf7cbe3cb"
   }
  }
 },
 "nbformat": 4,
 "nbformat_minor": 2
}
