{
 "cells": [
  {
   "cell_type": "markdown",
   "metadata": {},
   "source": [
    "# Underscores"
   ]
  },
  {
   "cell_type": "code",
   "execution_count": 11,
   "metadata": {},
   "outputs": [],
   "source": [
    "_MY_GLOBAL_VARIABLE = 'please do not import me'     # prevents modules that import this one being polluted by\n",
    "                                                    # ...this global (to this module) variable\n",
    "\n",
    "class TotalGenerator:\n",
    "    def __init__(self):\n",
    "        # infers that _total is semiprivate, this is simply convention\n",
    "        self._total = 7\n",
    "        # considered super-private to prevent accidental access\n",
    "        self.__mangled_total = 13\n",
    "        self.__builtin_total__ = 99         # typically reserved for built in types\n",
    "\n",
    "    def __SuperPrivateMethod(self):\n",
    "        print(\"What are you doing here!\")\n",
    "\n",
    "my_total = TotalGenerator()"
   ]
  },
  {
   "cell_type": "markdown",
   "metadata": {},
   "source": [
    "Underscore of a class variable means this is semi-private..."
   ]
  },
  {
   "cell_type": "code",
   "execution_count": 12,
   "metadata": {},
   "outputs": [
    {
     "name": "stdout",
     "output_type": "stream",
     "text": [
      "my_total._total = 7\n",
      "my_total.__builtin_total__ = 99\n"
     ]
    }
   ],
   "source": [
    "print(\"my_total._total =\", my_total._total)\n",
    "print(\"my_total.__builtin_total__ =\", my_total.__builtin_total__)"
   ]
  },
  {
   "cell_type": "markdown",
   "metadata": {},
   "source": [
    "Double underscore prefix of a class variable means this is super-private"
   ]
  },
  {
   "cell_type": "code",
   "execution_count": 13,
   "metadata": {},
   "outputs": [
    {
     "name": "stdout",
     "output_type": "stream",
     "text": [
      "Interpreter won't allow this sort of shenanigans and will raise AttributeError exception\n"
     ]
    }
   ],
   "source": [
    "try:\n",
    "    print(my_total.__mangled_total)\n",
    "except AttributeError:\n",
    "    print(\"Interpreter won't allow this sort of shenanigans and will raise AttributeError exception\")"
   ]
  },
  {
   "cell_type": "markdown",
   "metadata": {},
   "source": [
    "..but for the persistent and naughty programmer we can access through the mangled name - attribute of class where the class and variable names are mangled together e.g. attribute is called `my_total._TotalGenerator__mangled_total` instead of `my_total.__mangled_total`. See `dir(my_total)` and https://stackoverflow.com/questions/7456807/should-i-use-name-mangling-in-python. Useful when wanting to avoid base class variable names clashing with derived class variable names, but can be used for privacy too."
   ]
  },
  {
   "cell_type": "code",
   "execution_count": 20,
   "metadata": {},
   "outputs": [
    {
     "name": "stdout",
     "output_type": "stream",
     "text": [
      "my_total._TotalGenerator__mangled_total = 13\n"
     ]
    }
   ],
   "source": [
    "print(\"my_total._TotalGenerator__mangled_total =\", my_total._TotalGenerator__mangled_total)"
   ]
  },
  {
   "cell_type": "markdown",
   "metadata": {},
   "source": [
    "Same for super-private methods..."
   ]
  },
  {
   "cell_type": "code",
   "execution_count": 15,
   "metadata": {},
   "outputs": [
    {
     "name": "stdout",
     "output_type": "stream",
     "text": [
      "Interpreter won't allow this sort of shenanigans and raised exception again\n",
      "..but again we can circumvent by calling my_total._TotalGenerator__SuperPrivateMethod()\n",
      "What are you doing here!\n"
     ]
    }
   ],
   "source": [
    "try:\n",
    "    my_total.__SuperPrivateMethod()\n",
    "except AttributeError:\n",
    "    print(\"Interpreter won't allow this sort of shenanigans and raised exception again\")\n",
    "print(\"..but again we can circumvent by calling my_total._TotalGenerator__SuperPrivateMethod()\")\n",
    "my_total._TotalGenerator__SuperPrivateMethod()"
   ]
  },
  {
   "cell_type": "markdown",
   "metadata": {},
   "source": [
    "Underscores are used by convention to mean 'don't care'..."
   ]
  },
  {
   "cell_type": "code",
   "execution_count": 18,
   "metadata": {},
   "outputs": [
    {
     "name": "stdout",
     "output_type": "stream",
     "text": [
      "Key:  bob\n",
      "Key:  tim\n",
      "Key:  ray\n"
     ]
    }
   ],
   "source": [
    "my_dict = {'bob': 1, 'tim': 2, 'ray': 3}\n",
    "for key, _ in my_dict.items():                  # don't care about the value just the key (or you can use keys())\n",
    "    print(\"Key: \", key)"
   ]
  },
  {
   "cell_type": "markdown",
   "metadata": {},
   "source": [
    "Underscores can be used to make numbers more readable..."
   ]
  },
  {
   "cell_type": "code",
   "execution_count": 17,
   "metadata": {},
   "outputs": [
    {
     "name": "stdout",
     "output_type": "stream",
     "text": [
      "my_number = 93203: 93203\n",
      "my_number = 93_203: 93203\n"
     ]
    }
   ],
   "source": [
    "my_number = 93203\n",
    "print(\"my_number = 93203:\", my_number)\n",
    "my_number = 93_203\n",
    "print(\"my_number = 93_203:\", my_number)\n"
   ]
  }
 ],
 "metadata": {
  "kernelspec": {
   "display_name": "Python 3.10.7 64-bit",
   "language": "python",
   "name": "python3"
  },
  "language_info": {
   "codemirror_mode": {
    "name": "ipython",
    "version": 3
   },
   "file_extension": ".py",
   "mimetype": "text/x-python",
   "name": "python",
   "nbconvert_exporter": "python",
   "pygments_lexer": "ipython3",
   "version": "3.10.7"
  },
  "orig_nbformat": 4,
  "vscode": {
   "interpreter": {
    "hash": "c19fa61d258bb2b35aae2ada233c33e2817c1ce895aa48acba720c6bf7cbe3cb"
   }
  }
 },
 "nbformat": 4,
 "nbformat_minor": 2
}
