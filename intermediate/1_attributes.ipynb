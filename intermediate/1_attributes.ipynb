{
 "cells": [
  {
   "cell_type": "markdown",
   "metadata": {},
   "source": [
    "# Attributes\n",
    "\n",
    "All Python objects have attributes. An attribute is a name associated with an object\n",
    "in the form `object.attribute`. All objects have attributes, including even modules."
   ]
  },
  {
   "cell_type": "code",
   "execution_count": 1,
   "metadata": {},
   "outputs": [
    {
     "name": "stdout",
     "output_type": "stream",
     "text": [
      "module name: __main__\n",
      "['In', 'Out', '_', '__', '___', '__builtin__', '__builtins__', '__doc__', '__loader__', '__name__', '__package__', '__spec__', '__vsc_ipynb_file__', '_dh', '_i', '_i1', '_ih', '_ii', '_iii', '_oh', 'exit', 'get_ipython', 'open', 'os', 'quit', 'sys']\n"
     ]
    }
   ],
   "source": [
    "print(\"module name:\", __name__) # get a list of all attribute names as a list of strings\n",
    "print(dir()) # double underscore usually means it is a built in method or variable"
   ]
  },
  {
   "cell_type": "markdown",
   "metadata": {},
   "source": [
    "Functions have attributes..."
   ]
  },
  {
   "cell_type": "code",
   "execution_count": 1,
   "metadata": {},
   "outputs": [
    {
     "name": "stdout",
     "output_type": "stream",
     "text": [
      "Function name: my_function\n",
      "Function doc string: my doc string\n",
      "['__annotations__', '__builtins__', '__call__', '__class__', '__closure__', '__code__', '__defaults__', '__delattr__', '__dict__', '__dir__', '__doc__', '__eq__', '__format__', '__ge__', '__get__', '__getattribute__', '__globals__', '__gt__', '__hash__', '__init__', '__init_subclass__', '__kwdefaults__', '__le__', '__lt__', '__module__', '__name__', '__ne__', '__new__', '__qualname__', '__reduce__', '__reduce_ex__', '__repr__', '__setattr__', '__sizeof__', '__str__', '__subclasshook__']\n",
      "\n",
      "We can use getattr() built in function if object has __getattribute__ attribute...\n",
      "The __name__ attribute is of type class 'str'\n",
      "my_function\n"
     ]
    }
   ],
   "source": [
    "def my_function():\n",
    "    \"\"\"my doc string\"\"\"\n",
    "\n",
    "print(\"Function name:\", my_function.__name__)\n",
    "print(\"Function doc string:\", my_function.__doc__)\n",
    "print(dir(my_function))\n",
    "\n",
    "print(\"\\nWe can use getattr() built in function if object has __getattribute__ attribute...\")\n",
    "print(\"The __name__ attribute is of type\",\n",
    "      str(type(getattr(my_function, '__name__')))[1:-1])\n",
    "print(getattr(my_function, '__name__'))"
   ]
  },
  {
   "cell_type": "markdown",
   "metadata": {},
   "source": [
    "We can create new object attributes, to say a function, even if it makes no sense..."
   ]
  },
  {
   "cell_type": "code",
   "execution_count": 3,
   "metadata": {},
   "outputs": [
    {
     "name": "stdout",
     "output_type": "stream",
     "text": [
      "['__annotations__', '__builtins__', '__call__', '__class__', '__closure__', '__code__', '__defaults__', '__delattr__', '__dict__', '__dir__', '__doc__', '__eq__', '__format__', '__ge__', '__get__', '__getattribute__', '__globals__', '__gt__', '__hash__', '__init__', '__init_subclass__', '__kwdefaults__', '__le__', '__lt__', '__module__', '__name__', '__ne__', '__new__', '__qualname__', '__reduce__', '__reduce_ex__', '__repr__', '__setattr__', '__sizeof__', '__str__', '__subclasshook__', 'other_value', 'womble']\n",
      "my_function.other_value = 9\n",
      "my_function.womble =  great uncle bulgaria\n",
      "use hasattr() for womble: True\n",
      "use hasattr() for disco: False\n"
     ]
    }
   ],
   "source": [
    "setattr(my_function, 'other_value', 9)\n",
    "my_function.womble = 'great uncle bulgaria'         # or directly\n",
    "print(dir(my_function))\n",
    "print(\"my_function.other_value =\", my_function.other_value)\n",
    "print(\"my_function.womble = \", my_function.womble)\n",
    "print(\"Use hasattr() for womble:\", hasattr(my_function, 'womble'))\n",
    "print(\"Use hasattr() for disco:\", hasattr(my_function, 'disco'))"
   ]
  },
  {
   "cell_type": "markdown",
   "metadata": {},
   "source": [
    "We can delete attributes..."
   ]
  },
  {
   "cell_type": "code",
   "execution_count": 4,
   "metadata": {},
   "outputs": [
    {
     "name": "stdout",
     "output_type": "stream",
     "text": [
      "['__annotations__', '__builtins__', '__call__', '__class__', '__closure__', '__code__', '__defaults__', '__delattr__', '__dict__', '__dir__', '__doc__', '__eq__', '__format__', '__ge__', '__get__', '__getattribute__', '__globals__', '__gt__', '__hash__', '__init__', '__init_subclass__', '__kwdefaults__', '__le__', '__lt__', '__module__', '__name__', '__ne__', '__new__', '__qualname__', '__reduce__', '__reduce_ex__', '__repr__', '__setattr__', '__sizeof__', '__str__', '__subclasshook__']\n"
     ]
    }
   ],
   "source": [
    "delattr(my_function, 'womble')\n",
    "del my_function.other_value                         # or directly\n",
    "print(dir(my_function))"
   ]
  },
  {
   "cell_type": "markdown",
   "metadata": {},
   "source": [
    "Numbers even have attributes..."
   ]
  },
  {
   "cell_type": "code",
   "execution_count": 4,
   "metadata": {},
   "outputs": [
    {
     "name": "stdout",
     "output_type": "stream",
     "text": [
      "['__abs__', '__add__', '__bool__', '__ceil__', '__class__', '__delattr__', '__dir__', '__divmod__', '__doc__', '__eq__', '__float__', '__floor__', '__floordiv__', '__format__', '__ge__', '__getattribute__', '__getformat__', '__getnewargs__', '__gt__', '__hash__', '__init__', '__init_subclass__', '__int__', '__le__', '__lt__', '__mod__', '__mul__', '__ne__', '__neg__', '__new__', '__pos__', '__pow__', '__radd__', '__rdivmod__', '__reduce__', '__reduce_ex__', '__repr__', '__rfloordiv__', '__rmod__', '__rmul__', '__round__', '__rpow__', '__rsub__', '__rtruediv__', '__setattr__', '__setformat__', '__sizeof__', '__str__', '__sub__', '__subclasshook__', '__truediv__', '__trunc__', 'as_integer_ratio', 'conjugate', 'fromhex', 'hex', 'imag', 'is_integer', 'real']\n",
      "We can see 0.5 has an attribute is_integer\n",
      "is_integer of type class 'builtin_function_or_method'\n",
      "It's a function so lets call it, result is False\n",
      "Try 1.0, result is True\n",
      "Although __setattr__ is a named attribute of 0.5 python won't allow it, booo!!\n"
     ]
    }
   ],
   "source": [
    "print(dir(0.5))                     # numbers don't have a name attribute\n",
    "print(\"We can see 0.5 has an attribute is_integer\")\n",
    "print(\"is_integer of type\", str(type(0.5.is_integer))[1:-1])\n",
    "print(\"It's a function so lets call it, result is\", 0.5.is_integer())\n",
    "print(\"Try 1.0, result is\", 1.0.is_integer())\n",
    "\n",
    "try:\n",
    "    setattr(0.5, 'other_value', 9)\n",
    "except AttributeError:\n",
    "    print(\"Although __setattr__ is a named attribute of 0.5 python won't allow it, booo!!\")"
   ]
  }
 ],
 "metadata": {
  "kernelspec": {
   "display_name": "Python 3.10.7 64-bit",
   "language": "python",
   "name": "python3"
  },
  "language_info": {
   "codemirror_mode": {
    "name": "ipython",
    "version": 3
   },
   "file_extension": ".py",
   "mimetype": "text/x-python",
   "name": "python",
   "nbconvert_exporter": "python",
   "pygments_lexer": "ipython3",
   "version": "3.10.7"
  },
  "orig_nbformat": 4,
  "vscode": {
   "interpreter": {
    "hash": "c19fa61d258bb2b35aae2ada233c33e2817c1ce895aa48acba720c6bf7cbe3cb"
   }
  }
 },
 "nbformat": 4,
 "nbformat_minor": 2
}
