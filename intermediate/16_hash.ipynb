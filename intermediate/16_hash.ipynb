{
 "cells": [
  {
   "cell_type": "markdown",
   "metadata": {},
   "source": [
    "# Hashing\n",
    "\n",
    "Hashing and equivalence are tightly.\n",
    "\n",
    "Immutable objects such as strings are same object (a is b)........."
   ]
  },
  {
   "cell_type": "code",
   "execution_count": 1,
   "metadata": {},
   "outputs": [],
   "source": [
    "a = \"my string\"\n",
    "b = \"my string\"\n",
    "\n",
    "if a is b:\n",
    "    print(f\"a = {a}\")\n",
    "    print(f\"b = {b}\")\n",
    "    print(f\"id(a) ={id(a)} \")\n",
    "    print(f\"id(b) ={id(b)} \")\n",
    "    print(\"immutable objects such as strings are also equivalent\")\n",
    "    print(f\"a == b: {a==b}\")"
   ]
  },
  {
   "cell_type": "markdown",
   "metadata": {},
   "source": [
    "In built mutual objects such as lists with same value are different objects (a is not b)......"
   ]
  },
  {
   "cell_type": "code",
   "execution_count": 2,
   "metadata": {},
   "outputs": [
    {
     "name": "stdout",
     "output_type": "stream",
     "text": [
      "a = [1, 2, 3]\n",
      "b = [1, 2, 3]\n",
      "id(a) =2789185299584 \n",
      "id(b) =2789185306432 \n",
      "in built mutual objects such as lists are equivalent\n",
      "a == b: True\n"
     ]
    }
   ],
   "source": [
    "\n",
    "a = [1,2,3]\n",
    "b = [1,2,3]\n",
    "\n",
    "if a is not b:\n",
    "    print(f\"a = {a}\")\n",
    "    print(f\"b = {b}\")\n",
    "    print(f\"id(a) ={id(a)} \")\n",
    "    print(f\"id(b) ={id(b)} \")\n",
    "    print(\"in built mutual objects such as lists are equivalent\")\n",
    "    print(f\"a == b: {a==b}\")"
   ]
  },
  {
   "cell_type": "markdown",
   "metadata": {},
   "source": [
    "Mutable user objects are not the same object (a is not b)......"
   ]
  },
  {
   "cell_type": "code",
   "execution_count": 3,
   "metadata": {},
   "outputs": [
    {
     "name": "stdout",
     "output_type": "stream",
     "text": [
      "a = <__main__.MyClass object at 0x00000289686FFEB0>\n",
      "b = <__main__.MyClass object at 0x000002896855A0B0>\n",
      "id(a) =2789185945264 \n",
      "id(b) =2789184217264 \n",
      "mutuable user objects with __eq__ are not equivalent\n",
      "a == b: False\n"
     ]
    }
   ],
   "source": [
    "class MyClass:\n",
    "\n",
    "    def __init__(self, name):\n",
    "        self.name = name\n",
    "\n",
    "a = MyClass(\"my string\")\n",
    "b = MyClass(\"my string\")\n",
    "\n",
    "if a is not b:\n",
    "    print(f\"a = {a}\")\n",
    "    print(f\"b = {b}\")\n",
    "    print(f\"id(a) ={id(a)} \")\n",
    "    print(f\"id(b) ={id(b)} \")\n",
    "    print(\"mutuable user objects with __eq__ are not equivalent\")\n",
    "    print(f\"a == b: {a==b}\")"
   ]
  },
  {
   "cell_type": "markdown",
   "metadata": {},
   "source": [
    "Mutable user objects that implement `__eq__` not the same but can be equivalent......"
   ]
  },
  {
   "cell_type": "code",
   "execution_count": 4,
   "metadata": {},
   "outputs": [
    {
     "name": "stdout",
     "output_type": "stream",
     "text": [
      "\n",
      "\n",
      "a = <__main__.MyEquivClass object at 0x00000289685D6AD0>\n",
      "b = <__main__.MyEquivClass object at 0x00000289685D6740>\n",
      "a == b: True\n"
     ]
    }
   ],
   "source": [
    "class MyEquivClass:\n",
    "\n",
    "    def __init__(self, name):\n",
    "        self.name = name\n",
    "\n",
    "    def __eq__(self, other):\n",
    "        return self.name == other.name\n",
    "\n",
    "a = MyEquivClass(\"my string\")\n",
    "b = MyEquivClass(\"my string\")\n",
    "\n",
    "print(\"\\n\")\n",
    "print(f\"a = {a}\")\n",
    "print(f\"b = {b}\")\n",
    "print(f\"a == b: {a==b}\")"
   ]
  },
  {
   "cell_type": "markdown",
   "metadata": {},
   "source": [
    "These different types are also different in terms of hashability. If an object is hashable it means it can be used a key in a dictionary."
   ]
  },
  {
   "cell_type": "code",
   "execution_count": 5,
   "metadata": {},
   "outputs": [
    {
     "name": "stdout",
     "output_type": "stream",
     "text": [
      "hash('my string'):  -3588552068763006609\n",
      "'my string'.__hash__():  -3588552068763006609\n"
     ]
    }
   ],
   "source": [
    "print(\"hash('my string'): \", hash('my string'))\n",
    "print(\"'my string'.__hash__(): \", 'my string'.__hash__())"
   ]
  },
  {
   "cell_type": "markdown",
   "metadata": {},
   "source": [
    "Immutable in built objects can be used in a dictionary...."
   ]
  },
  {
   "cell_type": "code",
   "execution_count": 6,
   "metadata": {},
   "outputs": [
    {
     "name": "stdout",
     "output_type": "stream",
     "text": [
      "{'my string': 45, 'my other string': True}\n",
      "\n",
      "inbuilt mutable objects are not hashable e.g. hash([1,2,3])....\n",
      "as such, inbuilt mutable objects can not be keys e.g. {[1,2,3]: True}\n"
     ]
    }
   ],
   "source": [
    "my_dict = {'my string': 45, 'my other string': True}\n",
    "print(my_dict)\n",
    "\n",
    "# in built mutable objects are not hashable\n",
    "try:\n",
    "    hash([1,2,3])\n",
    "except TypeError:\n",
    "    print(\"\\ninbuilt mutable objects are not hashable e.g. hash([1,2,3])....\")\n",
    "\n",
    "try:\n",
    "    my_dict = {[1,2,3]: True}\n",
    "except:\n",
    "    print(\"as such, inbuilt mutable objects can not be keys e.g. {[1,2,3]: True}\")\n"
   ]
  },
  {
   "cell_type": "markdown",
   "metadata": {},
   "source": [
    "What about user defined mutable classes?"
   ]
  },
  {
   "cell_type": "code",
   "execution_count": 7,
   "metadata": {},
   "outputs": [
    {
     "name": "stdout",
     "output_type": "stream",
     "text": [
      "..classes are hashable! e.g. {MyEquivClass, 'hello class'} even if they only implement __eq__\n"
     ]
    }
   ],
   "source": [
    "hash(MyClass)\n",
    "hash(MyEquivClass)\n",
    "m_dict = {MyEquivClass, 'hello class'}\n",
    "print(\"..classes are hashable! e.g. {MyEquivClass, 'hello class'} even if they only implement __eq__\")"
   ]
  },
  {
   "cell_type": "markdown",
   "metadata": {},
   "source": [
    "Default user defined mutable class instances are also hashable."
   ]
  },
  {
   "cell_type": "code",
   "execution_count": 8,
   "metadata": {},
   "outputs": [
    {
     "name": "stdout",
     "output_type": "stream",
     "text": [
      "hash(MyClass('my string') = 174324093649\n",
      "this is because the hash is based on the id\n",
      "\n",
      "but user objects that only implement __eq__ are not e.g. hash(MyEquivClass('my string'))....\n"
     ]
    }
   ],
   "source": [
    "print(\"hash(MyClass('my string') =\", hash(MyClass('my string')))\n",
    "print(\"this is because the hash is based on the id\")\n",
    "\n",
    "try:\n",
    "    hash(MyEquivClass('my string'))\n",
    "except TypeError:\n",
    "    print(\"\\nbut user objects that only implement __eq__ are not e.g. hash(MyEquivClass('my string'))....\")"
   ]
  },
  {
   "cell_type": "markdown",
   "metadata": {},
   "source": [
    "If `__eq__` and `__hash__` are implemented mutable class instances are also hashable"
   ]
  },
  {
   "cell_type": "code",
   "execution_count": 9,
   "metadata": {},
   "outputs": [
    {
     "name": "stdout",
     "output_type": "stream",
     "text": [
      "hash(MyEquivAndHashClass('my string') = -3588552068763006609\n",
      "a = <__main__.MyEquivAndHashClass object at 0x0000028968692710>\n",
      "b = <__main__.MyEquivAndHashClass object at 0x00000289686930D0>\n",
      "now equivalent a == b: True\n",
      "and can used in a dictionary _my_dict = {a: True} {<__main__.MyEquivAndHashClass object at 0x0000028968692710>: True}\n",
      "and updating dictionary with either a or b as the are the same thing\n",
      "_my_dict[a] = False _my_dict becomes  {<__main__.MyEquivAndHashClass object at 0x0000028968692710>: False}\n",
      "_my_dict[b] = True _my_dict becomes  {<__main__.MyEquivAndHashClass object at 0x0000028968692710>: True}\n"
     ]
    }
   ],
   "source": [
    "class MyEquivAndHashClass:\n",
    "\n",
    "    def __init__(self, name):\n",
    "        self.name = name\n",
    "\n",
    "    def __eq__(self, other):\n",
    "        return self.name == other.name\n",
    "\n",
    "    def __hash__(self):\n",
    "        return hash(self.name)\n",
    "\n",
    "print(\"hash(MyEquivAndHashClass('my string') =\", hash(MyEquivAndHashClass('my string')))\n",
    "a = MyEquivAndHashClass('bob')\n",
    "b = MyEquivAndHashClass('bob')\n",
    "print(f\"a = {a}\")\n",
    "print(f\"b = {b}\")\n",
    "print(f\"now equivalent a == b: {a==b}\")\n",
    "_my_dict = {a: True}\n",
    "print(\"and can used in a dictionary _my_dict = {a: True}\", _my_dict)\n",
    "print(\"and updating dictionary with either a or b as the are the same thing\")\n",
    "_my_dict[a] = False\n",
    "print(\"_my_dict[a] = False _my_dict becomes \", _my_dict)\n",
    "_my_dict[b] = True\n",
    "print(\"_my_dict[b] = True _my_dict becomes \", _my_dict)"
   ]
  },
  {
   "cell_type": "markdown",
   "metadata": {},
   "source": [
    "So what happens to the dictionary if the key changes?"
   ]
  },
  {
   "cell_type": "code",
   "execution_count": 10,
   "metadata": {},
   "outputs": [
    {
     "name": "stdout",
     "output_type": "stream",
     "text": [
      "lets change a.name = 'tim'\n",
      "no longer equivalent a == b: False as you would expect\n",
      "{<__main__.MyEquivAndHashClass object at 0x0000028968692710>: True}\n",
      "however key is now different (different hash) so will not found e.g. condition = _my_dict[a]\n",
      "if you try to update dictionary _my_dict[a] = False new key-pair created\n",
      "{<__main__.MyEquivAndHashClass object at 0x0000028968692710>: True, <__main__.MyEquivAndHashClass object at 0x0000028968692710>: False}\n",
      "which is slightly weird as we now have two keys for same object id\n",
      "but ok as we are saying tim and bob are not the same person so use different key\n",
      "updating dictionary _my_dict[b] now create a further third new entry!\n",
      "{<__main__.MyEquivAndHashClass object at 0x0000028968692710>: True, <__main__.MyEquivAndHashClass object at 0x0000028968692710>: False, <__main__.MyEquivAndHashClass object at 0x00000289686930D0>: 'change from bool'}\n"
     ]
    }
   ],
   "source": [
    "print(\"lets change a.name = 'tim'\")\n",
    "a.name = 'tim'\n",
    "print(f\"no longer equivalent a == b: {a==b} as you would expect\")\n",
    "print(_my_dict)\n",
    "try:\n",
    "    condition = _my_dict[a]\n",
    "except KeyError:\n",
    "    print(\"however key is now different (different hash) so will not found e.g. condition = _my_dict[a]\")\n",
    "_my_dict[a] = False\n",
    "print(\"if you try to update dictionary _my_dict[a] = False new key-pair created\")\n",
    "print(_my_dict)\n",
    "print(\"which is slightly weird as we now have two keys for same object id\")\n",
    "print(\"but ok as we are saying tim and bob are not the same person so use different key\")\n",
    "_my_dict[b] = 'change from bool'\n",
    "print(\"updating dictionary _my_dict[b] now create a further third new entry!\")\n",
    "print(_my_dict)"
   ]
  },
  {
   "cell_type": "markdown",
   "metadata": {},
   "source": [
    "So what happens when two objects have different hash computation to equivalence?"
   ]
  },
  {
   "cell_type": "code",
   "execution_count": 11,
   "metadata": {},
   "outputs": [
    {
     "name": "stdout",
     "output_type": "stream",
     "text": [
      "a = <__main__.MyBadEquivAndHashClass object at 0x00000289686912D0>\n",
      "b = <__main__.MyBadEquivAndHashClass object at 0x0000028968690970>\n",
      "again these are equivalent a == b: True\n",
      "but what happens in dictionary\n",
      "and can used in a dictionary _my_dict = {a: True} {<__main__.MyBadEquivAndHashClass object at 0x00000289686912D0>: True}\n",
      "_my_dict[a] = False _my_dict becomes  {<__main__.MyBadEquivAndHashClass object at 0x00000289686912D0>: False}\n",
      "_my_dict[b] = True _my_dict becomes  {<__main__.MyBadEquivAndHashClass object at 0x00000289686912D0>: False, <__main__.MyBadEquivAndHashClass object at 0x0000028968690970>: True}\n",
      "so this weird as a and b are supposedly equivalent but now 2 keyed items in dictionary\n"
     ]
    }
   ],
   "source": [
    "# but you need hash and equivalence to use same information\n",
    "# else weird stuff will happen\n",
    "class MyBadEquivAndHashClass:\n",
    "\n",
    "    def __init__(self, name, age):\n",
    "        self.name = name\n",
    "        self.age = age\n",
    "\n",
    "    def __eq__(self, other):\n",
    "        return self.name == other.name\n",
    "\n",
    "    def __hash__(self):\n",
    "        return hash(self.name+str(self.age))\n",
    "\n",
    "a = MyBadEquivAndHashClass('bob', 15)\n",
    "b = MyBadEquivAndHashClass('bob', 16)\n",
    "print(f\"a = {a}\")\n",
    "print(f\"b = {b}\")\n",
    "print(f\"again these are equivalent a == b: {a==b}\")\n",
    "print(f\"but what happens in dictionary\")\n",
    "_my_dict = {a: True}\n",
    "print(\"and can used in a dictionary _my_dict = {a: True}\", _my_dict)\n",
    "_my_dict[a] = False\n",
    "print(\"_my_dict[a] = False _my_dict becomes \", _my_dict)\n",
    "_my_dict[b] = True\n",
    "print(\"_my_dict[b] = True _my_dict becomes \", _my_dict)\n",
    "print(\"so this weird as a and b are supposedly equivalent but now 2 keyed items in dictionary\")"
   ]
  },
  {
   "cell_type": "markdown",
   "metadata": {},
   "source": [
    "So if you want to use a mutable user object as a dictionary key then `__hash__` and `__eq__` should match modifiable entities!"
   ]
  },
  {
   "cell_type": "code",
   "execution_count": 12,
   "metadata": {},
   "outputs": [
    {
     "name": "stdout",
     "output_type": "stream",
     "text": [
      "a = <__main__.MyGoodEquivAndHashClass object at 0x0000028968691270>\n",
      "b = <__main__.MyGoodEquivAndHashClass object at 0x0000028968692020>\n",
      "again these are equivalent a == b: True\n",
      "can use a or b to update dictionary, _my_dict =  {<__main__.MyGoodEquivAndHashClass object at 0x0000028968691270>: 2}\n",
      "setting a.age to 16\n",
      "a is changed so new key, _my_dict =  {<__main__.MyGoodEquivAndHashClass object at 0x0000028968691270>: 3}\n",
      "_my_dict[a] =  3\n",
      "a change is reversed changed _my_dict[a] =  3\n",
      "so in this example we are saying 15 year old bob is treated different to 16 year bob\n"
     ]
    }
   ],
   "source": [
    "class MyGoodEquivAndHashClass:\n",
    "\n",
    "    def __init__(self, name, age):\n",
    "        self.name = name\n",
    "        self.age = age\n",
    "\n",
    "    def __eq__(self, other):\n",
    "        return self.name == other.name and self.age == other.age\n",
    "\n",
    "    def __hash__(self):\n",
    "        return hash(self.name+str(self.age))\n",
    "\n",
    "a = MyGoodEquivAndHashClass('bob', 15)\n",
    "b = MyGoodEquivAndHashClass('bob', 15)\n",
    "a == b\n",
    "print(f\"a = {a}\")\n",
    "print(f\"b = {b}\")\n",
    "print(f\"again these are equivalent a == b: {a==b}\")\n",
    "_my_dict = {a: 0}\n",
    "_my_dict[a] = 1\n",
    "_my_dict[b] = 2\n",
    "print(\"can use a or b to update dictionary, _my_dict = \", _my_dict)\n",
    "print(\"setting a.age to 16\")\n",
    "a.age = 16\n",
    "_my_dict[a] = 3\n",
    "print(\"a is changed so new key, _my_dict = \", _my_dict)\n",
    "print(\"_my_dict[a] = \", _my_dict[a])\n",
    "a.age = 15\n",
    "print(\"a change is reversed changed _my_dict[a] = \", _my_dict[a])\n",
    "print(\"so in this example we are saying 15 year old bob is treated different to 16 year bob\")"
   ]
  },
  {
   "cell_type": "markdown",
   "metadata": {},
   "source": [
    "Dictionaries work by using hashing/has tables. The key is converted to a hash code.\n",
    "\n",
    "A quick reminder on how hashing works. As fundamental to Python as nearly everything under hood is a dict. If we have 100000 telephone number records is a linear array and we want to find the record for a particular number we can linearly search. if first in array great, if last when search time will be long a solution is to apply a function to the number/string whatever, a hashing function the resulting value, an integer, indexes into a hash table a hash table has a number or rows, or buckets the bucket index is usually computed as `hash_value % number buckets` each bucket may have a small number of phone records in it so when I want to do a look-up I hash the number (key) which gives me a bucket I then go along row (chain) to find record, or pointer to record, associated with my hash value if there is a collision - two keys generate same hash value then need to compare actual numbers to find right record so choice of hash function is important to spread records evenly over all the buckets and also to avoid collisions.\n"
   ]
  }
 ],
 "metadata": {
  "kernelspec": {
   "display_name": "Python 3.10.7 64-bit",
   "language": "python",
   "name": "python3"
  },
  "language_info": {
   "codemirror_mode": {
    "name": "ipython",
    "version": 3
   },
   "file_extension": ".py",
   "mimetype": "text/x-python",
   "name": "python",
   "nbconvert_exporter": "python",
   "pygments_lexer": "ipython3",
   "version": "3.10.7"
  },
  "orig_nbformat": 4,
  "vscode": {
   "interpreter": {
    "hash": "c19fa61d258bb2b35aae2ada233c33e2817c1ce895aa48acba720c6bf7cbe3cb"
   }
  }
 },
 "nbformat": 4,
 "nbformat_minor": 2
}
