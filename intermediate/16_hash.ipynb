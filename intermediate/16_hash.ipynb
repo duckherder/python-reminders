{
 "cells": [
  {
   "cell_type": "markdown",
   "metadata": {},
   "source": [
    "# Hashing\n",
    "\n",
    "Hashing and equivalence are tightly coupled.\n",
    "\n",
    "Immutable objects such as strings can sometimes bind to the same object."
   ]
  },
  {
   "cell_type": "code",
   "execution_count": 176,
   "metadata": {},
   "outputs": [
    {
     "name": "stdout",
     "output_type": "stream",
     "text": [
      "a is at 1706296023792 \n",
      "b is at 1706296023792 \n",
      "a is b: True\n",
      "a == b: True\n"
     ]
    }
   ],
   "source": [
    "a = \"Hello\"\n",
    "b = \"Hello\"\n",
    "\n",
    "print(f\"a is at {id(a)} \")\n",
    "print(f\"b is at {id(b)} \")\n",
    "print(\"a is b:\", a is b)\n",
    "print(f\"a == b:\", a == b)"
   ]
  },
  {
   "cell_type": "markdown",
   "metadata": {},
   "source": [
    "In built mutuable objects such as lists with same value are different objects."
   ]
  },
  {
   "cell_type": "code",
   "execution_count": 177,
   "metadata": {},
   "outputs": [
    {
     "name": "stdout",
     "output_type": "stream",
     "text": [
      "a is at 1706296246208 \n",
      "b is at 1706296456768 \n",
      "a is b: False\n",
      "a == b: True\n"
     ]
    }
   ],
   "source": [
    "a = [1,2,3]\n",
    "b = [1,2,3]\n",
    "\n",
    "print(f\"a is at {id(a)} \")\n",
    "print(f\"b is at {id(b)} \")\n",
    "print(\"a is b:\", a is b)\n",
    "print(\"a == b:\", a == b)"
   ]
  },
  {
   "cell_type": "markdown",
   "metadata": {},
   "source": [
    "Mutable user objects are not the same object and they are, by default, not equivalent."
   ]
  },
  {
   "cell_type": "code",
   "execution_count": 178,
   "metadata": {},
   "outputs": [
    {
     "name": "stdout",
     "output_type": "stream",
     "text": [
      "a is at 1706307185792 \n",
      "b is at 1706307178784 \n",
      "a is b: False\n",
      "a == b: False\n"
     ]
    }
   ],
   "source": [
    "class MyClass:\n",
    "    def __init__(self, name):\n",
    "        self.name = name\n",
    "\n",
    "a = MyClass(\"My string\")  # Two instances look equivalent\n",
    "b = MyClass(\"My string\")\n",
    "\n",
    "print(f\"a is at {id(a)} \")\n",
    "print(f\"b is at {id(b)} \")\n",
    "print(f\"a is b:\", a is b)\n",
    "print(f\"a == b:\", a == b)"
   ]
  },
  {
   "cell_type": "markdown",
   "metadata": {},
   "source": [
    "Mutable user objects that implement `__eq__` are not the same but can be equivalent......"
   ]
  },
  {
   "cell_type": "code",
   "execution_count": 179,
   "metadata": {},
   "outputs": [
    {
     "name": "stdout",
     "output_type": "stream",
     "text": [
      "a is b: False\n",
      "a == b: True\n"
     ]
    }
   ],
   "source": [
    "class MyEquivClass:\n",
    "    def __init__(self, name):\n",
    "        self.name = name\n",
    "\n",
    "    def __eq__(self, other):\n",
    "        return self.name == other.name\n",
    "\n",
    "a = MyEquivClass(\"My string\")\n",
    "b = MyEquivClass(\"My string\")\n",
    "\n",
    "print(\"a is b:\", a is b)\n",
    "print(\"a == b:\", a == b)"
   ]
  },
  {
   "cell_type": "markdown",
   "metadata": {},
   "source": [
    "These different types are also different in terms of hashability. If an object is hashable it means it can be used a key in a dictionary."
   ]
  },
  {
   "cell_type": "code",
   "execution_count": 180,
   "metadata": {},
   "outputs": [
    {
     "name": "stdout",
     "output_type": "stream",
     "text": [
      "-109\n",
      "-289870689659658676\n",
      "-289870689659658676\n"
     ]
    }
   ],
   "source": [
    "print(hash(-109))\n",
    "print(hash('My string'))\n",
    "print('My string'.__hash__())"
   ]
  },
  {
   "cell_type": "markdown",
   "metadata": {},
   "source": [
    "Immutable in built objects can be used as a dictionary key"
   ]
  },
  {
   "cell_type": "code",
   "execution_count": 181,
   "metadata": {},
   "outputs": [
    {
     "name": "stdout",
     "output_type": "stream",
     "text": [
      "{'my string!': 45, 'my other string': True, 1: 0.5}\n"
     ]
    }
   ],
   "source": [
    "my_dict = {'my string!': 45, 'my other string': True, 1: 0.5}\n",
    "print(my_dict)"
   ]
  },
  {
   "cell_type": "markdown",
   "metadata": {},
   "source": [
    "...but mutable in built objects are not hashable"
   ]
  },
  {
   "cell_type": "code",
   "execution_count": 182,
   "metadata": {},
   "outputs": [
    {
     "name": "stdout",
     "output_type": "stream",
     "text": [
      "In-built mutable objects are not hashable\n",
      "In-built mutable objects can not be keys\n"
     ]
    }
   ],
   "source": [
    "try:\n",
    "    hash([1,2,3])\n",
    "except TypeError:\n",
    "    print(\"In-built mutable objects are not hashable\")\n",
    "\n",
    "try:\n",
    "    my_dict = {[1,2,3]: True}\n",
    "except:\n",
    "    print(\"In-built mutable objects can not be keys\")\n"
   ]
  },
  {
   "cell_type": "markdown",
   "metadata": {},
   "source": [
    "What about user defined mutable classes?"
   ]
  },
  {
   "cell_type": "code",
   "execution_count": 183,
   "metadata": {},
   "outputs": [
    {
     "name": "stdout",
     "output_type": "stream",
     "text": [
      "106642310035\n",
      "106642310095\n",
      "{<class '__main__.MyClass'>: 'Hello class'}\n",
      "{<class '__main__.MyEquivClass'>: 'Hello class'}\n"
     ]
    }
   ],
   "source": [
    "print(hash(MyClass))\n",
    "print(hash(MyEquivClass))\n",
    "m_dict = {MyClass: 'Hello class'}\n",
    "print(m_dict)\n",
    "m_dict = {MyEquivClass: 'Hello class'}\n",
    "print(m_dict)"
   ]
  },
  {
   "cell_type": "markdown",
   "metadata": {},
   "source": [
    "Looks like they are hashable and can be used in a dictionary. Default user defined mutable class instances are also hashable. This is because the hash is dependent on their `id()`. However, if you implement `__eq__` you must also implement `__hash__`."
   ]
  },
  {
   "cell_type": "code",
   "execution_count": 184,
   "metadata": {},
   "outputs": [
    {
     "name": "stdout",
     "output_type": "stream",
     "text": [
      "106644199082\n",
      "User objects that only implement __eq__ are not hashable\n"
     ]
    }
   ],
   "source": [
    "print(hash(MyClass('my string')))\n",
    "try:\n",
    "    hash(MyEquivClass('my string'))\n",
    "except TypeError:\n",
    "    print(\"User objects that only implement __eq__ are not hashable\")"
   ]
  },
  {
   "cell_type": "markdown",
   "metadata": {},
   "source": [
    "If `__eq__` and `__hash__` are implemented mutable class instances are also hashable. As such they can be used in dictionaries as keys. Equivalent objects can be used to update the dictionary."
   ]
  },
  {
   "cell_type": "code",
   "execution_count": 185,
   "metadata": {},
   "outputs": [
    {
     "name": "stdout",
     "output_type": "stream",
     "text": [
      "6946763540305283504\n",
      "a is at 1706307175376\n",
      "b is at 1706307179408\n",
      "a == b True\n",
      "{<__main__.MyEquivAndHashClass object at 0x0000018D47D543D0>: True}\n",
      "{<__main__.MyEquivAndHashClass object at 0x0000018D47D543D0>: False}\n",
      "{<__main__.MyEquivAndHashClass object at 0x0000018D47D543D0>: True}\n"
     ]
    }
   ],
   "source": [
    "class MyEquivAndHashClass:\n",
    "    def __init__(self, name):\n",
    "        self.name = name\n",
    "\n",
    "    def __eq__(self, other):\n",
    "        return self.name == other.name\n",
    "\n",
    "    def __hash__(self):\n",
    "        return hash(self.name)\n",
    "\n",
    "print(hash(MyEquivAndHashClass('Bob')))\n",
    "a = MyEquivAndHashClass('Bob')\n",
    "b = MyEquivAndHashClass('Bob')\n",
    "print(\"a is at\", id(a))\n",
    "print(\"b is at\", id(b))\n",
    "print(\"a == b\", a == b)\n",
    "my_dict = {a: True}           # key is object a\n",
    "print(my_dict)\n",
    "my_dict[a] = False            # a is same as key in dictionary\n",
    "print(my_dict)\n",
    "my_dict[b] = True             # same hash and equivalent so updating value for key based on object a\n",
    "print(my_dict)"
   ]
  },
  {
   "cell_type": "markdown",
   "metadata": {},
   "source": [
    "So what happens to the dictionary if the key changes?"
   ]
  },
  {
   "cell_type": "code",
   "execution_count": 186,
   "metadata": {},
   "outputs": [
    {
     "name": "stdout",
     "output_type": "stream",
     "text": [
      "a == b False\n",
      "{<__main__.MyEquivAndHashClass object at 0x0000018D47D543D0>: True}\n",
      "However, key is now different (different hash) so will not be found in dictionary\n"
     ]
    }
   ],
   "source": [
    "a.name = 'Tim'\n",
    "print(\"a == b\", a == b)\n",
    "print(my_dict)\n",
    "try:\n",
    "    condition = my_dict[a]\n",
    "except KeyError:\n",
    "    print(\"However, key is now different (different hash) so will not be found in dictionary\")"
   ]
  },
  {
   "cell_type": "markdown",
   "metadata": {},
   "source": [
    "If you try to update dictionary a new key-pair will be created. This will be slightly weird as we now have two keys for same object id but ok as we are saying Tim and Bob are not the same person so use different key."
   ]
  },
  {
   "cell_type": "code",
   "execution_count": 187,
   "metadata": {},
   "outputs": [
    {
     "name": "stdout",
     "output_type": "stream",
     "text": [
      "{<__main__.MyEquivAndHashClass object at 0x0000018D47D543D0>: True, <__main__.MyEquivAndHashClass object at 0x0000018D47D543D0>: False}\n"
     ]
    }
   ],
   "source": [
    "my_dict[a] = False         # hash and equivalence do not match any existing key so add new entry\n",
    "print(my_dict)"
   ]
  },
  {
   "cell_type": "markdown",
   "metadata": {},
   "source": [
    " If we were to set `a.name` back to one then we could change the first entry in the dictionary using `a` as the key. However, instead we update the dictionary using the dictionary using `b` as the key. This creates a further new entry."
   ]
  },
  {
   "cell_type": "code",
   "execution_count": 188,
   "metadata": {},
   "outputs": [
    {
     "name": "stdout",
     "output_type": "stream",
     "text": [
      "{<__main__.MyEquivAndHashClass object at 0x0000018D47D543D0>: True, <__main__.MyEquivAndHashClass object at 0x0000018D47D543D0>: False, <__main__.MyEquivAndHashClass object at 0x0000018D47D55390>: 'Changed from bool to string'}\n"
     ]
    }
   ],
   "source": [
    "my_dict[b] = 'Changed from bool to string'  # no match with either existing keys as both 'Tim' so new entry\n",
    "print(my_dict)"
   ]
  },
  {
   "cell_type": "markdown",
   "metadata": {},
   "source": [
    "So what happens when two objects have different hash computation to equivalence?"
   ]
  },
  {
   "cell_type": "code",
   "execution_count": 189,
   "metadata": {},
   "outputs": [
    {
     "name": "stdout",
     "output_type": "stream",
     "text": [
      "a == b: True\n",
      "{<__main__.MyBadEquivAndHashClass object at 0x0000018D47D559C0>: True}\n",
      "{<__main__.MyBadEquivAndHashClass object at 0x0000018D47D559C0>: False}\n",
      "{<__main__.MyBadEquivAndHashClass object at 0x0000018D47D559C0>: False, <__main__.MyBadEquivAndHashClass object at 0x0000018D47D56A40>: True}\n"
     ]
    }
   ],
   "source": [
    "# but you need hash and equivalence to use same information\n",
    "# else weird stuff will happen\n",
    "class MyBadEquivAndHashClass:\n",
    "    def __init__(self, name, age):\n",
    "        self.name = name\n",
    "        self.age = age\n",
    "\n",
    "    def __eq__(self, other):\n",
    "        return self.name == other.name\n",
    "\n",
    "    def __hash__(self):\n",
    "        return hash(self.name+str(self.age))\n",
    "\n",
    "a = MyBadEquivAndHashClass('Bob', 15)\n",
    "b = MyBadEquivAndHashClass('Bob', 16)\n",
    "print(\"a == b:\", a == b)\n",
    "my_dict = {a: True}\n",
    "print(my_dict)\n",
    "my_dict[a] = False\n",
    "print(my_dict)\n",
    "my_dict[b] = True\n",
    "print(my_dict)"
   ]
  },
  {
   "cell_type": "markdown",
   "metadata": {},
   "source": [
    "So this weird as `a` and `b` are supposedly equivalent but now 2 keyed items in the dictionary.\n",
    "\n",
    "If you want to use a mutable user object as a dictionary key then `__hash__` and `__eq__` should match modifiable entities!"
   ]
  },
  {
   "cell_type": "code",
   "execution_count": 190,
   "metadata": {},
   "outputs": [
    {
     "name": "stdout",
     "output_type": "stream",
     "text": [
      "a == b: True\n",
      "{<__main__.MyGoodEquivAndHashClass object at 0x0000018D47D57A90>: 2}\n"
     ]
    }
   ],
   "source": [
    "class MyGoodEquivAndHashClass:\n",
    "    def __init__(self, name, age):\n",
    "        self.name = name\n",
    "        self.age = age\n",
    "\n",
    "    def __eq__(self, other):\n",
    "        return self.name == other.name and self.age == other.age\n",
    "\n",
    "    def __hash__(self):\n",
    "        return hash(self.name+str(self.age))\n",
    "\n",
    "a = MyGoodEquivAndHashClass('Bob', 15)\n",
    "b = MyGoodEquivAndHashClass('Bob', 15)\n",
    "print(\"a == b:\", a == b)\n",
    "my_dict = {a: 0}\n",
    "my_dict[a] = 1\n",
    "my_dict[b] = 2\n",
    "print(my_dict)"
   ]
  },
  {
   "cell_type": "markdown",
   "metadata": {},
   "source": [
    "So this looks a bit better as we have only one entry in the dictionary and we've used both instances as indexes into the dictionary. What happens if we set age of one of the instances to 16?"
   ]
  },
  {
   "cell_type": "code",
   "execution_count": 191,
   "metadata": {},
   "outputs": [
    {
     "name": "stdout",
     "output_type": "stream",
     "text": [
      "{<__main__.MyGoodEquivAndHashClass object at 0x0000018D47D57A90>: 2, <__main__.MyGoodEquivAndHashClass object at 0x0000018D47D57A90>: 3}\n",
      "3\n",
      "2\n"
     ]
    }
   ],
   "source": [
    "a.age = 16\n",
    "my_dict[a] = 3\n",
    "print(my_dict)\n",
    "print(my_dict[a])\n",
    "a.age = 15\n",
    "print(my_dict[a])"
   ]
  },
  {
   "cell_type": "markdown",
   "metadata": {},
   "source": [
    "So in this example we are saying 15 year old Bob is treated differently in this dictionary to 16 year Bob."
   ]
  },
  {
   "cell_type": "markdown",
   "metadata": {},
   "source": [
    "Dictionaries work by using hashing/has tables. The key is converted to a hash code.\n",
    "\n",
    "A quick reminder on how hashing works. As fundamental to Python as nearly everything under hood is a dict. If we have 100000 telephone number records is a linear array and we want to find the record for a particular number we can linearly search. if first in array great, if last when search time will be long a solution is to apply a function to the number/string whatever, a hashing function the resulting value, an integer, indexes into a hash table a hash table has a number or rows, or buckets the bucket index is usually computed as `hash_value % number buckets` each bucket may have a small number of phone records in it so when I want to do a look-up I hash the number (key) which gives me a bucket I then go along row (chain) to find record, or pointer to record, associated with my hash value if there is a collision - two keys generate same hash value then need to compare actual numbers to find right record so choice of hash function is important to spread records evenly over all the buckets and also to avoid collisions.\n"
   ]
  }
 ],
 "metadata": {
  "kernelspec": {
   "display_name": "Python 3.10.7 64-bit",
   "language": "python",
   "name": "python3"
  },
  "language_info": {
   "codemirror_mode": {
    "name": "ipython",
    "version": 3
   },
   "file_extension": ".py",
   "mimetype": "text/x-python",
   "name": "python",
   "nbconvert_exporter": "python",
   "pygments_lexer": "ipython3",
   "version": "3.10.7"
  },
  "orig_nbformat": 4,
  "vscode": {
   "interpreter": {
    "hash": "c19fa61d258bb2b35aae2ada233c33e2817c1ce895aa48acba720c6bf7cbe3cb"
   }
  }
 },
 "nbformat": 4,
 "nbformat_minor": 2
}
