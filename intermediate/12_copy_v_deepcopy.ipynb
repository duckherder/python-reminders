{
 "cells": [
  {
   "cell_type": "markdown",
   "metadata": {},
   "source": [
    "# Shallow versus deep copying\n",
    "\n",
    "Difference between shallow and deep copying of objects in Python.\n",
    "\n",
    "As we know just assigning a list to another list does not copy, or create a new list object. You just bind a new name to the original list. So modifying one list, modifies the other."
   ]
  },
  {
   "cell_type": "code",
   "execution_count": 9,
   "metadata": {},
   "outputs": [
    {
     "name": "stdout",
     "output_type": "stream",
     "text": [
      "my_list is at 2629197937152\n",
      "my_other_list is also at 2629197937152\n",
      "my_list = [99, 2, 3]\n",
      "my_other_list = [99, 2, 3]\n"
     ]
    }
   ],
   "source": [
    "my_list = [1, 2, 3]\n",
    "my_other_list = my_list\n",
    "print(\"my_list is at\", id(my_list))\n",
    "print(\"my_other_list is also at\", id(my_other_list))\n",
    "my_list[0] = 99\n",
    "print(\"my_list =\", my_list)\n",
    "print(\"my_other_list =\", my_other_list)"
   ]
  },
  {
   "cell_type": "markdown",
   "metadata": {},
   "source": [
    "`copy.copy()` creates a new list. Same as `my_list.copy()` list method..."
   ]
  },
  {
   "cell_type": "code",
   "execution_count": 2,
   "metadata": {},
   "outputs": [
    {
     "name": "stdout",
     "output_type": "stream",
     "text": [
      "my_list is at 2629188374848\n",
      "my_list_copy is at 2629194150336\n"
     ]
    }
   ],
   "source": [
    "import copy\n",
    "my_list_copy = copy.copy(my_list)\n",
    "print(\"my_list is at\", id(my_list))\n",
    "print(\"my_list_copy is at\", id(my_list_copy))"
   ]
  },
  {
   "cell_type": "markdown",
   "metadata": {},
   "source": [
    "`my_list` and and `my_list_copy` are now at different addresses.\n",
    "\n",
    "Now modifying elements in `my_list` does not affect `my_list_copy` and vice versa. See https://docs.python.org/2/library/copy.html."
   ]
  },
  {
   "cell_type": "code",
   "execution_count": 3,
   "metadata": {},
   "outputs": [
    {
     "name": "stdout",
     "output_type": "stream",
     "text": [
      "my_list = [10, 2, 3]\n",
      "my_list_copy = [99, 2, 3, 4]\n"
     ]
    }
   ],
   "source": [
    "my_list[0] = 10\n",
    "my_list_copy.append(4)\n",
    "print(\"my_list =\", my_list)\n",
    "print(\"my_list_copy =\", my_list_copy)"
   ]
  },
  {
   "cell_type": "markdown",
   "metadata": {},
   "source": [
    "but what about compound objects - 'objects that contain other objects, such as lists or class instances'..."
   ]
  },
  {
   "cell_type": "code",
   "execution_count": 4,
   "metadata": {},
   "outputs": [],
   "source": [
    "my_compound_list = [[1, 2, 3], [4, 5, 6], [7, 8, 9]]\n",
    "my_compound_list_copy = copy.copy(my_compound_list)"
   ]
  },
  {
   "cell_type": "markdown",
   "metadata": {},
   "source": [
    "`copy.copy()` performs what is called a **shallow** copy, so the resulting copied list has a different address to the original list."
   ]
  },
  {
   "cell_type": "code",
   "execution_count": 7,
   "metadata": {},
   "outputs": [
    {
     "name": "stdout",
     "output_type": "stream",
     "text": [
      "my_compound_list is at 2629198028288\n",
      "my_compound_list_copy is at 2629198034624\n"
     ]
    }
   ],
   "source": [
    "print(\"my_compound_list is at\", id(my_compound_list))\n",
    "print(\"my_compound_list_copy is at\", id(my_compound_list_copy))"
   ]
  },
  {
   "cell_type": "markdown",
   "metadata": {},
   "source": [
    "....but the individual elements are bound to the same address"
   ]
  },
  {
   "cell_type": "code",
   "execution_count": null,
   "metadata": {},
   "outputs": [],
   "source": [
    "print(\"my_compound_list[0] is at\", id(my_compound_list[0]))\n",
    "print(\"my_compound_list_copy[0] is at\", id(my_compound_list_copy[0]))"
   ]
  },
  {
   "cell_type": "markdown",
   "metadata": {},
   "source": [
    "...so changing elements in `my_compound_list` changes `my_compound_list_copy`"
   ]
  },
  {
   "cell_type": "code",
   "execution_count": 5,
   "metadata": {},
   "outputs": [
    {
     "name": "stdout",
     "output_type": "stream",
     "text": [
      "my_compound_list = [[10, 2, 3], [4, 5, 6], [7, 8, 9]]\n",
      "my_compound_list_copy = [[10, 2, 3], [4, 5, 6], [7, 8, 9]]\n"
     ]
    }
   ],
   "source": [
    "my_compound_list[0][0] = 10\n",
    "print(\"my_compound_list =\", my_compound_list)\n",
    "print(\"my_compound_list_copy =\", my_compound_list_copy)"
   ]
  },
  {
   "cell_type": "markdown",
   "metadata": {},
   "source": [
    "....but modifying `my_compound_list`, such as adding elements, does not change `my_compound_list_copy`"
   ]
  },
  {
   "cell_type": "code",
   "execution_count": 7,
   "metadata": {},
   "outputs": [
    {
     "name": "stdout",
     "output_type": "stream",
     "text": [
      "my_compound_list = [[10, 2, 3], [4, 5, 6], [7, 8, 9], [10, 11, 12]]\n",
      "my_compound_list_copy = [[10, 2, 3], [4, 5, 6], [7, 8, 9]]\n"
     ]
    }
   ],
   "source": [
    "my_compound_list.append([10, 11, 12])\n",
    "print(\"my_compound_list =\", my_compound_list)\n",
    "print(\"my_compound_list_copy =\", my_compound_list_copy)"
   ]
  },
  {
   "cell_type": "markdown",
   "metadata": {},
   "source": [
    "Need to perform a **deep** copy instead so addresses are different."
   ]
  },
  {
   "cell_type": "code",
   "execution_count": 10,
   "metadata": {},
   "outputs": [
    {
     "name": "stdout",
     "output_type": "stream",
     "text": [
      "my_compound_list is at 2629198034880\n",
      "my_compound_list_copy is at 2629194107904\n",
      "....and the individual elements are now bound to the different addresses\n",
      "my_compound_list[0] is at 2629194087936\n",
      "my_compound_list_copy[0] is at 2629194153344\n"
     ]
    }
   ],
   "source": [
    "\n",
    "my_compound_list = [[1, 2, 3], [4, 5, 6], [7, 8, 9]]\n",
    "my_compound_list_copy = copy.deepcopy(my_compound_list)\n",
    "print(\"my_compound_list is at\", id(my_compound_list))\n",
    "print(\"my_compound_list_copy is at\", id(my_compound_list_copy))\n",
    "print(\"....and the individual elements are now bound to the different addresses\")\n",
    "print(\"my_compound_list[0] is at\", id(my_compound_list[0]))\n",
    "print(\"my_compound_list_copy[0] is at\", id(my_compound_list_copy[0]))"
   ]
  },
  {
   "cell_type": "markdown",
   "metadata": {},
   "source": [
    "...so changing elements in `my_compound_list` no longer changes `my_compound_list_copy`"
   ]
  },
  {
   "cell_type": "code",
   "execution_count": 6,
   "metadata": {},
   "outputs": [
    {
     "name": "stdout",
     "output_type": "stream",
     "text": [
      "my_compound_list = [[10, 2, 3], [4, 5, 6], [7, 8, 9]]\n",
      "my_compound_list_copy = [[10, 2, 3], [4, 5, 6], [7, 8, 9]]\n"
     ]
    }
   ],
   "source": [
    "my_compound_list[0][0] = 10\n",
    "print(\"my_compound_list =\", my_compound_list)\n",
    "print(\"my_compound_list_copy =\", my_compound_list_copy)"
   ]
  },
  {
   "cell_type": "markdown",
   "metadata": {},
   "source": [
    "Care needs to be taken when using repetition to create compound objects as repetition is based on shallow copies so odd (unexpected) things may happen."
   ]
  },
  {
   "cell_type": "code",
   "execution_count": 12,
   "metadata": {},
   "outputs": [
    {
     "name": "stdout",
     "output_type": "stream",
     "text": [
      "[[99, 2, 3], [99, 2, 3], [99, 2, 3]]\n"
     ]
    }
   ],
   "source": [
    "my_repetition_list = [[1, 2, 3]] * 3\n",
    "my_repetition_list[0][0] = 99\n",
    "print(my_repetition_list)"
   ]
  }
 ],
 "metadata": {
  "kernelspec": {
   "display_name": "Python 3.10.7 64-bit",
   "language": "python",
   "name": "python3"
  },
  "language_info": {
   "codemirror_mode": {
    "name": "ipython",
    "version": 3
   },
   "file_extension": ".py",
   "mimetype": "text/x-python",
   "name": "python",
   "nbconvert_exporter": "python",
   "pygments_lexer": "ipython3",
   "version": "3.10.7"
  },
  "orig_nbformat": 4,
  "vscode": {
   "interpreter": {
    "hash": "c19fa61d258bb2b35aae2ada233c33e2817c1ce895aa48acba720c6bf7cbe3cb"
   }
  }
 },
 "nbformat": 4,
 "nbformat_minor": 2
}
