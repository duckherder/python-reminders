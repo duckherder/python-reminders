{
 "cells": [
  {
   "cell_type": "markdown",
   "metadata": {},
   "source": [
    "# Classes\n",
    "\n",
    "Classes and subclassing is supported in Python, including polymorphism."
   ]
  },
  {
   "cell_type": "code",
   "execution_count": 16,
   "metadata": {},
   "outputs": [],
   "source": [
    "class Student:\n",
    "    \"\"\"Student class.\"\"\"\n",
    "\n",
    "    def __init__(self, name, age):\n",
    "        self.name = name\n",
    "        self.age = age\n",
    "\n",
    "    def __add__(self, other):\n",
    "        return Student(self.name, self.age + other.age)\n",
    "\n",
    "    def __str__(self):\n",
    "        return \"Name: %s Age: %d\" % (self.name, self.age)\n",
    "\n",
    "    def print_age(self):\n",
    "        print(\"Student\", self.name, \"is\", self.age)\n",
    "\n",
    "    def print_location(self):\n",
    "        pass\n",
    "\n",
    "class CollegeStudent(Student):                      # supports subclassing\n",
    "    \"\"\"College student class.\"\"\"\n",
    "\n",
    "    def __init__(self, college, name, age):\n",
    "        # call __init__ on the base class\n",
    "        Student.__init__(self, name, age)\n",
    "        self.college = college\n",
    "\n",
    "class UniversityStudent(Student):\n",
    "    \"\"\"University student class.\"\"\"\n",
    "\n",
    "    def __init__(self, university, name, age):\n",
    "        print(\"In university init:\", super())\n",
    "        super().__init__(name, age)                 # alternative way to call base class\n",
    "        self.university = university\n",
    "\n",
    "    def print_location(self):                       # overriding the base class method\n",
    "        print(\"Location:\", self.university)"
   ]
  },
  {
   "cell_type": "markdown",
   "metadata": {},
   "source": [
    "Create a student object called `bob` from `Student` class..."
   ]
  },
  {
   "cell_type": "code",
   "execution_count": 17,
   "metadata": {},
   "outputs": [
    {
     "name": "stdout",
     "output_type": "stream",
     "text": [
      "Student bob is 19\n"
     ]
    }
   ],
   "source": [
    "bob = Student('bob', 19)\n",
    "bob.print_age()"
   ]
  },
  {
   "cell_type": "markdown",
   "metadata": {},
   "source": [
    "Create a college student object called `susan` from `CollegeStudent` subclass..."
   ]
  },
  {
   "cell_type": "code",
   "execution_count": 18,
   "metadata": {},
   "outputs": [
    {
     "name": "stdout",
     "output_type": "stream",
     "text": [
      "Student susan is 21\n"
     ]
    }
   ],
   "source": [
    "susan = CollegeStudent('edinburgh', 'susan', 21)\n",
    "susan.print_age()               # will use base Student class method"
   ]
  },
  {
   "cell_type": "markdown",
   "metadata": {},
   "source": [
    "We can use `getattr()` on user defined objects..."
   ]
  },
  {
   "cell_type": "code",
   "execution_count": 19,
   "metadata": {},
   "outputs": [
    {
     "name": "stdout",
     "output_type": "stream",
     "text": [
      "Does bob have an attribute called age: True\n",
      "getattr(bob, 'age'): 19\n",
      "bob.age = 19\n"
     ]
    }
   ],
   "source": [
    "print(\"Does bob have an attribute called age:\", hasattr(bob, 'age'))\n",
    "print(\"getattr(bob, 'age'):\", getattr(bob, 'age'))\n",
    "print(\"bob.age =\", bob.age)       # or directly"
   ]
  },
  {
   "cell_type": "markdown",
   "metadata": {},
   "source": [
    "Classes have multiple attributes. Note `__class__` is converted to a string and ends stripped as angle brackets can cause rendering issues on platforms like Github."
   ]
  },
  {
   "cell_type": "code",
   "execution_count": 20,
   "metadata": {},
   "outputs": [
    {
     "name": "stdout",
     "output_type": "stream",
     "text": [
      "['__add__', '__class__', '__delattr__', '__dict__', '__dir__', '__doc__', '__eq__', '__format__', '__ge__', '__getattribute__', '__gt__', '__hash__', '__init__', '__init_subclass__', '__le__', '__lt__', '__module__', '__ne__', '__new__', '__reduce__', '__reduce_ex__', '__repr__', '__setattr__', '__sizeof__', '__str__', '__subclasshook__', '__weakref__', 'print_age', 'print_location']\n",
      "UniversityStudent.__class__ =  class 'type'\n",
      "UniversityStudent.__doc__ =  University student class.\n",
      "UniversityStudent.__dict__ =  {'__module__': '__main__', '__doc__': 'University student class.', '__init__': <function UniversityStudent.__init__ at 0x000001B32BF32320>, 'print_location': <function UniversityStudent.print_location at 0x000001B32BF33B50>}\n"
     ]
    }
   ],
   "source": [
    "print(dir(UniversityStudent))\n",
    "print(\"UniversityStudent.__class__ = \", str(UniversityStudent.__class__)[1:-1])\n",
    "print(\"UniversityStudent.__doc__ = \", UniversityStudent.__doc__)\n",
    "print(\"UniversityStudent.__dict__ = \", UniversityStudent.__dict__)   # class symbol table of mutable attributes"
   ]
  },
  {
   "cell_type": "markdown",
   "metadata": {},
   "source": [
    "Create a university student object called `dave` from `UniversityStudent` subclass..."
   ]
  },
  {
   "cell_type": "code",
   "execution_count": 21,
   "metadata": {},
   "outputs": [
    {
     "name": "stdout",
     "output_type": "stream",
     "text": [
      "In university init: <super: <class 'UniversityStudent'>, <UniversityStudent object>>\n",
      "Student Dave is 20\n"
     ]
    }
   ],
   "source": [
    "dave = UniversityStudent('Edinburgh', 'Dave', 20)\n",
    "dave.print_age()"
   ]
  },
  {
   "cell_type": "markdown",
   "metadata": {},
   "source": [
    "Subclassing is possible"
   ]
  },
  {
   "cell_type": "code",
   "execution_count": 22,
   "metadata": {},
   "outputs": [
    {
     "name": "stdout",
     "output_type": "stream",
     "text": [
      "Is dave an instance of Student: True\n",
      "Is dave an instance of UniversityStudent: True\n",
      "Is dave an instance of CollegeStudent: False\n",
      "Is dave of type Student: False\n",
      "Is dave of type UniversityStudent: True\n",
      "Is dave an type CollegeStudent: False\n",
      "Is UniversityStudent a subclass of Student: True\n",
      "Is Student a subclass of UniversityStudent: False\n"
     ]
    }
   ],
   "source": [
    "print(\"Is dave an instance of Student:\", isinstance(dave, Student))\n",
    "print(\"Is dave an instance of UniversityStudent:\",\n",
    "      isinstance(dave, UniversityStudent))\n",
    "print(\"Is dave an instance of CollegeStudent:\",\n",
    "      isinstance(dave, CollegeStudent))\n",
    "\n",
    "print(\"Is dave of type Student:\", type(dave) is Student)   # type is exactly of UniversityStudent\n",
    "print(\"Is dave of type UniversityStudent:\", type(dave) is UniversityStudent)\n",
    "print(\"Is dave an type CollegeStudent:\", type(dave) is CollegeStudent)\n",
    "\n",
    "print(\"Is UniversityStudent a subclass of Student:\",\n",
    "      issubclass(UniversityStudent, Student))\n",
    "print(\"Is Student a subclass of UniversityStudent:\",\n",
    "      issubclass(Student, UniversityStudent))"
   ]
  },
  {
   "cell_type": "markdown",
   "metadata": {},
   "source": [
    "You can override methods in the subclass..."
   ]
  },
  {
   "cell_type": "code",
   "execution_count": 23,
   "metadata": {},
   "outputs": [
    {
     "name": "stdout",
     "output_type": "stream",
     "text": [
      "Location: Edinburgh\n"
     ]
    }
   ],
   "source": [
    "dave.print_location()"
   ]
  },
  {
   "cell_type": "markdown",
   "metadata": {},
   "source": [
    "You can add two classes by implementing `__add__()` method..."
   ]
  },
  {
   "cell_type": "code",
   "execution_count": 24,
   "metadata": {},
   "outputs": [
    {
     "name": "stdout",
     "output_type": "stream",
     "text": [
      "Name: Bob Age: 21\n",
      "Name: Tom Age: 21\n",
      "Name: Bob Age: 42\n"
     ]
    }
   ],
   "source": [
    "twin_a = Student('Bob', 21)\n",
    "twin_b = Student('Tom', 21)\n",
    "print(twin_a)                       # uses __str__ method\n",
    "print(twin_b)                       # uses __str__ method\n",
    "\n",
    "both_twins = twin_a + twin_b        # uses __add__ method\n",
    "print(both_twins)"
   ]
  },
  {
   "cell_type": "markdown",
   "metadata": {},
   "source": [
    "Instance methods are callable...but so are class methods and classes..."
   ]
  },
  {
   "cell_type": "code",
   "execution_count": 27,
   "metadata": {},
   "outputs": [
    {
     "name": "stdout",
     "output_type": "stream",
     "text": [
      "callable(dave.print_location) : True\n",
      "callable(UniversityStudent.print_location) : True\n",
      "callable(UniversityStudent) : True\n"
     ]
    }
   ],
   "source": [
    "print(\"callable(dave.print_location) :\", callable(dave.print_location))\n",
    "print(\"callable(UniversityStudent.print_location) :\",\n",
    "      callable(UniversityStudent.print_location))\n",
    "print(\"callable(UniversityStudent) :\", callable(UniversityStudent))"
   ]
  },
  {
   "cell_type": "markdown",
   "metadata": {},
   "source": [
    "`vars()` built in function returns the `__dict__` attribute of an object. This is a list of the changeable attributes of dave."
   ]
  },
  {
   "cell_type": "code",
   "execution_count": 30,
   "metadata": {},
   "outputs": [
    {
     "name": "stdout",
     "output_type": "stream",
     "text": [
      "{'name': 'Dave', 'age': 20, 'university': 'Edinburgh'}\n",
      "When I do dave.name Python does a look-up in dave.__dict__\n",
      "{'name': 'Dave', 'age': 20, 'university': 'Edinburgh'}\n"
     ]
    }
   ],
   "source": [
    "print(vars(dave))\n",
    "print(\"When I do dave.name Python does a look-up in dave.__dict__\")\n",
    "print(dave.__dict__)            # note difference to __dict__ of class"
   ]
  }
 ],
 "metadata": {
  "kernelspec": {
   "display_name": "Python 3.10.7 64-bit",
   "language": "python",
   "name": "python3"
  },
  "language_info": {
   "codemirror_mode": {
    "name": "ipython",
    "version": 3
   },
   "file_extension": ".py",
   "mimetype": "text/x-python",
   "name": "python",
   "nbconvert_exporter": "python",
   "pygments_lexer": "ipython3",
   "version": "3.10.7"
  },
  "orig_nbformat": 4,
  "vscode": {
   "interpreter": {
    "hash": "c19fa61d258bb2b35aae2ada233c33e2817c1ce895aa48acba720c6bf7cbe3cb"
   }
  }
 },
 "nbformat": 4,
 "nbformat_minor": 2
}
