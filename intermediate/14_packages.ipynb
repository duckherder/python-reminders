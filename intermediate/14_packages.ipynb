{
 "cells": [
  {
   "cell_type": "markdown",
   "metadata": {},
   "source": [
    "# Packages\n",
    "\n",
    "Importing modules from other packages and creating your own package."
   ]
  },
  {
   "cell_type": "code",
   "execution_count": 1,
   "metadata": {},
   "outputs": [
    {
     "name": "stdout",
     "output_type": "stream",
     "text": [
      "in my_fab_function: bernard?\n"
     ]
    }
   ],
   "source": [
    "import my_package as bernard                        # import package and rename\n",
    "# import module from locally defined my_package\n",
    "from my_package import fab\n",
    "import my_package.roger                             # ...is an alternative\n",
    "# import class from fab module in my_package and rename\n",
    "from my_package.fab import MyFabClass as Tina\n",
    "# import all public APIs and variables\n",
    "from my_package.public_function import *\n",
    "from datetime import *                              # generally not recommended as you may import name conflicts\n",
    "                                                    # ...with other modules or reduce readability in code\n",
    "bernard.fab.my_fab_function('bernard?')"
   ]
  },
  {
   "cell_type": "markdown",
   "metadata": {},
   "source": [
    "Use bernard's fab module directly to access classes, functions and module variables..."
   ]
  },
  {
   "cell_type": "code",
   "execution_count": 2,
   "metadata": {},
   "outputs": [
    {
     "name": "stdout",
     "output_type": "stream",
     "text": [
      "created instance of MyFabClass\n",
      "in my_fab_function: hello\n",
      "absolutely fabulous\n"
     ]
    }
   ],
   "source": [
    "instance = fab.MyFabClass(1)\n",
    "fab.my_fab_function('hello')\n",
    "print(fab.MY_FAB_GLOBAL_VARIABLE)"
   ]
  },
  {
   "cell_type": "markdown",
   "metadata": {},
   "source": [
    "Use imported classes names..."
   ]
  },
  {
   "cell_type": "code",
   "execution_count": 3,
   "metadata": {},
   "outputs": [
    {
     "name": "stdout",
     "output_type": "stream",
     "text": [
      "created instance of MyFabClass\n",
      "we can use dir() on this import module\n",
      "['MY_FAB_GLOBAL_VARIABLE', 'MyFabClass', '__builtins__', '__cached__', '__doc__', '__file__', '__loader__', '__name__', '__package__', '__spec__', 'my_fab_function']\n",
      "fab __name__ = my_package.fab\n",
      "hello, it's roger\n",
      "don't know about this variable\n",
      "but i do know about this one: you can see me\n",
      "..and i can get at the other one like this: rogers little secret\n",
      "hello from public function!\n",
      "can access this function as not imported as not in modules __all__ list\n"
     ]
    }
   ],
   "source": [
    "tina = Tina(3)\n",
    "\n",
    "print(\"we can use dir() on this import module\")\n",
    "print(dir(fab))\n",
    "print(\"fab __name__ =\", fab.__name__)\n",
    "\n",
    "bernard.hello_roger()\n",
    "try:\n",
    "    print(bernard.ROGER_GLOBAL_VARIABLE)\n",
    "except AttributeError:\n",
    "    print(\"don't know about this variable\")\n",
    "\n",
    "print(\"but i do know about this one:\", bernard.ROGER_GLOBAL_PUBLIC_VARIABLE)\n",
    "print(\"..and i can get at the other one like this:\",\n",
    "      my_package.roger.ROGER_GLOBAL_VARIABLE)\n",
    "\n",
    "my_public_function()            # function imported from public_function module\n",
    "try:\n",
    "    my_private_function()\n",
    "except NameError:\n",
    "    print(\"can access this function as not imported as not in modules __all__ list\")"
   ]
  },
  {
   "cell_type": "markdown",
   "metadata": {},
   "source": [
    "but if we know about it we can access it..."
   ]
  },
  {
   "cell_type": "code",
   "execution_count": 4,
   "metadata": {},
   "outputs": [
    {
     "name": "stdout",
     "output_type": "stream",
     "text": [
      "hello from private function!\n"
     ]
    }
   ],
   "source": [
    "my_package.public_function.my_private_function()"
   ]
  }
 ],
 "metadata": {
  "kernelspec": {
   "display_name": "Python 3.10.7 64-bit",
   "language": "python",
   "name": "python3"
  },
  "language_info": {
   "codemirror_mode": {
    "name": "ipython",
    "version": 3
   },
   "file_extension": ".py",
   "mimetype": "text/x-python",
   "name": "python",
   "nbconvert_exporter": "python",
   "pygments_lexer": "ipython3",
   "version": "3.10.7"
  },
  "orig_nbformat": 4,
  "vscode": {
   "interpreter": {
    "hash": "c19fa61d258bb2b35aae2ada233c33e2817c1ce895aa48acba720c6bf7cbe3cb"
   }
  }
 },
 "nbformat": 4,
 "nbformat_minor": 2
}
