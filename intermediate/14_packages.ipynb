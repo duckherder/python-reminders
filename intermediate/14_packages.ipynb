{
 "cells": [
  {
   "cell_type": "markdown",
   "metadata": {},
   "source": [
    "# Packages\n",
    "\n",
    "Importing modules from other packages and creating your own package."
   ]
  },
  {
   "cell_type": "code",
   "execution_count": 1,
   "metadata": {},
   "outputs": [
    {
     "name": "stdout",
     "output_type": "stream",
     "text": [
      "In my_fab_function: Bernard?\n"
     ]
    }
   ],
   "source": [
    "import my_package as bernard                        # import package and rename\n",
    "from my_package import fab                          # import module from locally defined my_package\n",
    "import my_package.roger                             # ...is an alternative\n",
    "from my_package.fab import MyFabClass as Tina       # import class from fab module in my_package and rename\n",
    "from my_package.public_function import *            # import all public APIs and variables\n",
    "from datetime import *                              # generally not recommended as you may import name conflicts\n",
    "                                                    # ...with other modules or reduce readability in code\n",
    "bernard.fab.my_fab_function('Bernard?')"
   ]
  },
  {
   "cell_type": "markdown",
   "metadata": {},
   "source": [
    "Use bernard's `fab` module directly to access classes, functions and module variables..."
   ]
  },
  {
   "cell_type": "code",
   "execution_count": 2,
   "metadata": {},
   "outputs": [
    {
     "name": "stdout",
     "output_type": "stream",
     "text": [
      "Created instance of MyFabClass\n",
      "In my_fab_function: Hello\n",
      "Absolutely fabulous\n"
     ]
    }
   ],
   "source": [
    "instance = fab.MyFabClass(1)\n",
    "fab.my_fab_function('Hello')\n",
    "print(fab.MY_FAB_GLOBAL_VARIABLE)"
   ]
  },
  {
   "cell_type": "markdown",
   "metadata": {},
   "source": [
    "Use imported classes names..."
   ]
  },
  {
   "cell_type": "code",
   "execution_count": 8,
   "metadata": {},
   "outputs": [
    {
     "name": "stdout",
     "output_type": "stream",
     "text": [
      "Created instance of MyFabClass\n",
      "['MY_FAB_GLOBAL_VARIABLE', 'MyFabClass', '__builtins__', '__cached__', '__doc__', '__file__', '__loader__', '__name__', '__package__', '__spec__', 'my_fab_function']\n",
      "fab __name__ = my_package.fab\n"
     ]
    }
   ],
   "source": [
    "tina = Tina(3)\n",
    "print(dir(fab))                             # can use dir on our imported module\n",
    "print(\"fab __name__ =\", fab.__name__)       # standard attributes are available"
   ]
  },
  {
   "cell_type": "markdown",
   "metadata": {},
   "source": [
    "Can use `__init__.py` to control what gets imported "
   ]
  },
  {
   "cell_type": "code",
   "execution_count": 6,
   "metadata": {},
   "outputs": [
    {
     "name": "stdout",
     "output_type": "stream",
     "text": [
      "Hello, it's roger\n",
      "don't know about this variable\n",
      "but i do know about this one: You can see me\n",
      "..and i can get at the other one like this: Rogers little secret\n"
     ]
    }
   ],
   "source": [
    "bernard.hello_roger()\n",
    "try:\n",
    "    print(bernard.ROGER_GLOBAL_VARIABLE)\n",
    "except AttributeError:\n",
    "    print(\"don't know about this variable\")\n",
    "\n",
    "print(\"but i do know about this one:\", bernard.ROGER_GLOBAL_PUBLIC_VARIABLE)\n",
    "print(\"..and i can get at the other one like this:\",\n",
    "      my_package.roger.ROGER_GLOBAL_VARIABLE)"
   ]
  },
  {
   "cell_type": "markdown",
   "metadata": {},
   "source": [
    "Can use `__all__` to control which functions pulled in when imported"
   ]
  },
  {
   "cell_type": "code",
   "execution_count": null,
   "metadata": {},
   "outputs": [],
   "source": [
    "my_public_function()            # function imported from public_function module\n",
    "try:\n",
    "    my_private_function()\n",
    "except NameError:\n",
    "    print(\"Can not access this function as not imported as not in modules __all__ list\")"
   ]
  },
  {
   "cell_type": "markdown",
   "metadata": {},
   "source": [
    "but if we know about it we can access it..."
   ]
  },
  {
   "cell_type": "code",
   "execution_count": 5,
   "metadata": {},
   "outputs": [
    {
     "name": "stdout",
     "output_type": "stream",
     "text": [
      "Hello from private function!\n"
     ]
    }
   ],
   "source": [
    "my_package.public_function.my_private_function()"
   ]
  }
 ],
 "metadata": {
  "kernelspec": {
   "display_name": "Python 3.10.7 64-bit",
   "language": "python",
   "name": "python3"
  },
  "language_info": {
   "codemirror_mode": {
    "name": "ipython",
    "version": 3
   },
   "file_extension": ".py",
   "mimetype": "text/x-python",
   "name": "python",
   "nbconvert_exporter": "python",
   "pygments_lexer": "ipython3",
   "version": "3.10.7"
  },
  "orig_nbformat": 4,
  "vscode": {
   "interpreter": {
    "hash": "c19fa61d258bb2b35aae2ada233c33e2817c1ce895aa48acba720c6bf7cbe3cb"
   }
  }
 },
 "nbformat": 4,
 "nbformat_minor": 2
}
