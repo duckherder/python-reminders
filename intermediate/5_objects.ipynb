{
 "cells": [
  {
   "cell_type": "markdown",
   "metadata": {},
   "source": [
    "# Objects\n",
    "\n",
    "Everything in Python is represented by an object. Names in your Python code can bind to (form a reference to) one of these objects.\n",
    "\n",
    "To begin, let's start with a couple of integers set to the same value. We might expect the two differently named integer variables to be stored in two different locations (have different ids or addresses) but Python is a little more complicated. It depends partly on whether an object is immutable or mutable."
   ]
  },
  {
   "cell_type": "code",
   "execution_count": 180,
   "metadata": {},
   "outputs": [
    {
     "name": "stdout",
     "output_type": "stream",
     "text": [
      "id(my_first_int) =  2746607075632\n",
      "id(my_second_int) = 2746607075632\n",
      "id(3) = 2746607075632\n",
      "True\n"
     ]
    }
   ],
   "source": [
    "my_first_int = 3\n",
    "my_second_int = 3\n",
    "print(\"id(my_first_int) = \", id(my_first_int))\n",
    "print(\"id(my_second_int) =\", id(my_second_int))\n",
    "print(\"id(3) =\", id(3))      # 3 is an object with a location\n",
    "print(my_first_int == 3)     # print(my_first_int is 3) would also print True as all bound to same object"
   ]
  },
  {
   "cell_type": "markdown",
   "metadata": {},
   "source": [
    "This is because in Python both the variable names and the literal `3`, in this case, _bind_ to the same object stored at the location given. What about strings?"
   ]
  },
  {
   "cell_type": "code",
   "execution_count": 181,
   "metadata": {},
   "outputs": [
    {
     "name": "stdout",
     "output_type": "stream",
     "text": [
      "id(my_first_string) = 2744542114288\n",
      "id(my_second_string) = 2744542114288\n",
      "id('Hello') = 2744542114288\n",
      "True\n"
     ]
    }
   ],
   "source": [
    "my_first_string = \"Hello\"\n",
    "my_second_string = \"Hello\"\n",
    "print(\"id(my_first_string) =\", id(my_first_string))\n",
    "print(\"id(my_second_string) =\", id(my_second_string))\n",
    "print(\"id('Hello') =\", id('Hello'))\n",
    "print(my_first_string == my_second_string)     # ..and my_first_string is my_second_string"
   ]
  },
  {
   "cell_type": "markdown",
   "metadata": {},
   "source": [
    "Exactly the same as before. So what about a `list` which is mutable?"
   ]
  },
  {
   "cell_type": "code",
   "execution_count": 182,
   "metadata": {},
   "outputs": [
    {
     "name": "stdout",
     "output_type": "stream",
     "text": [
      "id(my_first_list) = 2744542552640\n",
      "id(my_second_list) = 2744542320192\n",
      "True\n"
     ]
    }
   ],
   "source": [
    "my_first_list = [1, 2, 3]\n",
    "my_second_list = [1, 2, 3]\n",
    "print(\"id(my_first_list) =\", id(my_first_list))\n",
    "print(\"id(my_second_list) =\", id(my_second_list))\n",
    "print(my_first_list == my_second_list)    # ..but my_first_list is not my_second_list"
   ]
  },
  {
   "cell_type": "markdown",
   "metadata": {},
   "source": [
    "Strings are immutable which means Python can use two different names to bind to the same object without any worries of changes being applied to a name affecting the bound object and thus silently modifying the value of another variable bound to the same object.\n",
    "\n",
    "Both numbers and strings are immutable in Python, unlike lists which are mutable."
   ]
  },
  {
   "cell_type": "code",
   "execution_count": 183,
   "metadata": {},
   "outputs": [
    {
     "name": "stdout",
     "output_type": "stream",
     "text": [
      "Can't modify a string object - once created it is of fixed size in memory!\n"
     ]
    }
   ],
   "source": [
    "try:\n",
    "    my_first_string[0] = 'y'\n",
    "except TypeError:\n",
    "    print(\"Can't modify a string object - once created it is of fixed size in memory!\")"
   ]
  },
  {
   "cell_type": "markdown",
   "metadata": {},
   "source": [
    "However, just because a string (or integer) is immutable, this does not guarantee two variable names will bind to the same object. It is the choice of the Python interpreter. Binding to the same object saves memory and makes `==` comparisons faster, but it is a tradeoff. For example, in the following code below the interpreter has decided to store the string `Hello!` in three different locations, even though they are all equal."
   ]
  },
  {
   "cell_type": "code",
   "execution_count": 184,
   "metadata": {},
   "outputs": [
    {
     "name": "stdout",
     "output_type": "stream",
     "text": [
      "id(my_first_string_exclaim) = 2744542656624\n",
      "id(my_second_string_exclaim) = 2744542644208\n",
      "id('Hello!') = 2744542653104\n",
      "True\n",
      "Still immutable!\n"
     ]
    }
   ],
   "source": [
    "my_first_string_exclaim = 'Hello!'\n",
    "my_second_string_exclaim = 'Hello!'\n",
    "print(\"id(my_first_string_exclaim) =\", id(my_first_string_exclaim))\n",
    "print(\"id(my_second_string_exclaim) =\", id(my_second_string_exclaim))\n",
    "print(\"id('Hello!') =\", id('Hello!'))\n",
    "print(my_first_string_exclaim == my_second_string_exclaim)         # print(my_first_string_exclaim is my_second_string_exclaim) would be False\n",
    "try:\n",
    "    my_first_string_exclaim[0] = 'y'\n",
    "except TypeError:\n",
    "    print(\"Still immutable!\")"
   ]
  },
  {
   "cell_type": "markdown",
   "metadata": {},
   "source": [
    "So let's go back to the two original variable names bound to same object and what if I try to append to the end of the string `my_first_string += 'y'`"
   ]
  },
  {
   "cell_type": "code",
   "execution_count": 185,
   "metadata": {},
   "outputs": [
    {
     "name": "stdout",
     "output_type": "stream",
     "text": [
      "String my_first_string is at 2744542114288\n",
      "String my_first_string_original is at 2744542114288\n",
      "Hello Bob\n",
      "Resulting string is now at a different address - same name but new object 2744542260080\n",
      "...but the original string my_first_string_original still exists at 2744542114288\n"
     ]
    }
   ],
   "source": [
    "print(\"String my_first_string is at\", id(my_first_string))\n",
    "# bind another name to this object\n",
    "my_first_string_original = my_first_string\n",
    "print(\"String my_first_string_original is at\", id(my_first_string_original))\n",
    "my_first_string += \" Bob\"                              # add to string\n",
    "print(my_first_string)                              # result looks as expected\n",
    "print(\"Resulting string is now at a different address - same name but new object\",\n",
    "      id(my_first_string))\n",
    "print(f\"...but the original string my_first_string_original\",\n",
    "      \"still exists at\", id(my_first_string_original))"
   ]
  },
  {
   "cell_type": "markdown",
   "metadata": {},
   "source": [
    "So what about tuples? They are immutable like strings and integers..."
   ]
  },
  {
   "cell_type": "code",
   "execution_count": 186,
   "metadata": {},
   "outputs": [
    {
     "name": "stdout",
     "output_type": "stream",
     "text": [
      "my_first_tuple is at id 2744542429632\n",
      "my_second_tuple is at id 2744542394176\n"
     ]
    }
   ],
   "source": [
    "my_first_tuple = (1, 2, 3)\n",
    "my_second_tuple = (1, 2, 3)\n",
    "print(\"my_first_tuple is at id\", id(my_first_tuple))\n",
    "print(\"my_second_tuple is at id\", id(my_second_tuple))"
   ]
  },
  {
   "cell_type": "markdown",
   "metadata": {},
   "source": [
    "Different addresses for these two equivalent tuples. As explained before just because a tuple is immutable it does not mean it will be bound to the same object when the values are equal. This is a implementation choice of the Python interpreter and tuples are rarely shared. So, apart from some specific numbers and some strings, most immutable objects will create a new object for a new variable.\n",
    "\n",
    "Going back to mutable lists. If we create two equivalent lists as before they will create two separate objects. What happens when we create a new list from one of these two lists?"
   ]
  },
  {
   "cell_type": "code",
   "execution_count": 187,
   "metadata": {},
   "outputs": [
    {
     "name": "stdout",
     "output_type": "stream",
     "text": [
      "my_third_list [1, 2, 3] is at same address as my_second_list!\n",
      "id(my_second_list) = 2744542551936\n",
      "id(my_third_list) = 2744542551936\n"
     ]
    }
   ],
   "source": [
    "my_first_list = [1, 2, 3]\n",
    "my_second_list = [1, 2, 3]\n",
    "my_third_list = my_second_list\n",
    "print(\"my_third_list\", my_third_list, \"is at same address as my_second_list!\")\n",
    "print(\"id(my_second_list) =\", id(my_second_list))\n",
    "print(\"id(my_third_list) =\", id(my_third_list))"
   ]
  },
  {
   "cell_type": "markdown",
   "metadata": {},
   "source": [
    "Each object has a reference count i.e. how many names have bound to this particular object."
   ]
  },
  {
   "cell_type": "code",
   "execution_count": 188,
   "metadata": {},
   "outputs": [
    {
     "name": "stdout",
     "output_type": "stream",
     "text": [
      "Reference count for my_second_list is 3\n",
      "Reference count for my_second_list is now 4\n"
     ]
    }
   ],
   "source": [
    "import sys\n",
    "print(\"Reference count for my_second_list is\", sys.getrefcount(my_second_list))\n",
    "my_fourth_list = my_second_list\n",
    "print(\"Reference count for my_second_list is now\", sys.getrefcount(my_second_list))"
   ]
  },
  {
   "cell_type": "markdown",
   "metadata": {},
   "source": [
    "In this case we are merely binding a new variable name to the same object. No copying has occurred. We have not created a new object, just a new variable name bound to the same object as the original list. This binding during assignment of names happens regardless of mutability.\n",
    "\n",
    "So what happens if I modify the second list or third list?"
   ]
  },
  {
   "cell_type": "code",
   "execution_count": 189,
   "metadata": {},
   "outputs": [
    {
     "name": "stdout",
     "output_type": "stream",
     "text": [
      "my_second_list [777, 2, 3]\n",
      "my_third_list [777, 2, 3]\n",
      "my_second_list [777, -888, 3]\n",
      "my_third_list [777, -888, 3]\n"
     ]
    }
   ],
   "source": [
    "my_second_list[0] = 777\n",
    "print(\"my_second_list\", my_second_list)\n",
    "print(\"my_third_list\", my_third_list)\n",
    "\n",
    "my_third_list[1] = -888\n",
    "print(\"my_second_list\", my_second_list)\n",
    "print(\"my_third_list\", my_third_list)"
   ]
  },
  {
   "cell_type": "markdown",
   "metadata": {},
   "source": [
    "You need to be careful in Python when you use the assignment (`=`) operator. Next let's define a function..."
   ]
  },
  {
   "cell_type": "code",
   "execution_count": 190,
   "metadata": {},
   "outputs": [
    {
     "name": "stdout",
     "output_type": "stream",
     "text": [
      "global: my_list at id 2744542487488 with reference count 2\n",
      "global: my_integer at id 2746607075568\n",
      "global: my_string at id 2744534076592\n",
      "my_function: a_list at id 2744542487488 with reference count 4\n",
      "my_function: an_integer at id 2746607075568\n",
      "my_function: a_string at id 2744534076592\n"
     ]
    }
   ],
   "source": [
    "def my_function(a_list, an_integer, a_string):\n",
    "    \"\"\"Variables are passed by assignment (not reference or value)\"\"\"\n",
    "    print(\"my_function: a_list at id\", id(a_list), \"with reference count\", sys.getrefcount(a_list))\n",
    "    print(\"my_function: an_integer at id\", id(an_integer))\n",
    "    print(\"my_function: a_string at id\", id(a_string))\n",
    "\n",
    "my_list = [1, 2, 3]\n",
    "my_integer = 1\n",
    "my_string = 'hello'\n",
    "print(\"global: my_list at id\", id(my_list), \"with reference count\", sys.getrefcount(my_list))\n",
    "print(\"global: my_integer at id\", id(my_integer))\n",
    "print(\"global: my_string at id\", id(my_string))\n",
    "my_function(my_list, my_integer, my_string)\n"
   ]
  },
  {
   "cell_type": "markdown",
   "metadata": {},
   "source": [
    "Variable names passed to a function are done by assignment, rather than reference or value and is regardless of whether the object is immutable or not. So effectively at the start of `my_function` what happens is `a_list = my_list` and so on. See how the reference count on `my_list` increments.\n",
    "\n",
    "But what if I change a mutable parameter in the function?"
   ]
  },
  {
   "cell_type": "code",
   "execution_count": 191,
   "metadata": {},
   "outputs": [
    {
     "name": "stdout",
     "output_type": "stream",
     "text": [
      "global: my_list at id 2744542139136\n",
      "my_function: a_list at id 2744542139136\n",
      "my_function: a_list still at id 2744542139136\n",
      "[99, 2, 3]\n"
     ]
    }
   ],
   "source": [
    "def my_function(a_list: list):\n",
    "    \"\"\"Passing a mutable object by assignment\"\"\"\n",
    "    print(\"my_function: a_list at id\", id(a_list))\n",
    "    a_list[0] = 99\n",
    "    print(\"my_function: a_list still at id\", id(a_list))\n",
    "\n",
    "my_list = [1, 2, 3]\n",
    "print(\"global: my_list at id\", id(my_list))\n",
    "my_function(my_list)\n",
    "print(my_list)"
   ]
  },
  {
   "cell_type": "markdown",
   "metadata": {},
   "source": [
    "So the mutable object has been modified by the function. What happens with an immutable object?"
   ]
  },
  {
   "cell_type": "code",
   "execution_count": 192,
   "metadata": {},
   "outputs": [
    {
     "name": "stdout",
     "output_type": "stream",
     "text": [
      "global: my_string at id 2744542114288\n",
      "my_function: a_string at id 2744542114288\n",
      "my_function: a_string is now a different object 2744542587632\n",
      "Hello Bob\n",
      "Hello\n"
     ]
    }
   ],
   "source": [
    "def my_function(a_string: str):\n",
    "    \"\"\"Passing an immutable object by assignment\"\"\"\n",
    "    print(\"my_function: a_string at id\", id(a_string))\n",
    "    a_string += \" Bob\"\n",
    "    print(\"my_function: a_string is now a different object\", id(a_string))\n",
    "    print(a_string)\n",
    "\n",
    "my_string = \"Hello\"\n",
    "print(\"global: my_string at id\", id(my_string))\n",
    "my_function(my_string)\n",
    "print(my_string)\n"
   ]
  },
  {
   "cell_type": "markdown",
   "metadata": {},
   "source": [
    "It follows the normal rules of the attempted modification of immutable object. It doesn't modify it - it's immutable. It creates a new object.\n",
    "\n",
    "What about when you return values from a function?"
   ]
  },
  {
   "cell_type": "code",
   "execution_count": 193,
   "metadata": {},
   "outputs": [
    {
     "name": "stdout",
     "output_type": "stream",
     "text": [
      "global: my_list at id 2744542013632\n",
      "global: my_string at id 2744534076592\n",
      "my_function: _ret_status at id 140703858580328\n",
      "my_function: _ret_list at id 2744542013632\n",
      "my_function: _ret_string at id 2744542294384\n",
      "global: bool_result at id 140703858580328\n",
      "global: original_list at id 2744542013632\n",
      "global: returned_list at id 2744542013632\n",
      "global: modified_string at id 2744542294384\n",
      "Hello\n"
     ]
    }
   ],
   "source": [
    "def my_function(a_list: list, a_string: str) -> tuple:\n",
    "    \"\"\"See what happens to return values\"\"\"\n",
    "    _ret_status = True\n",
    "    _ret_list = a_list\n",
    "    _ret_list[0] = 99\n",
    "    _ret_string = a_string.capitalize()\n",
    "    print(\"my_function: _ret_status at id\", id(_ret_status))\n",
    "    print(\"my_function: _ret_list at id\", id(_ret_list))\n",
    "    print(\"my_function: _ret_string at id\", id(_ret_string))\n",
    "    return _ret_status, a_list, _ret_list, _ret_string\n",
    "\n",
    "my_list = [1, 2, 3]\n",
    "my_string = 'hello'\n",
    "print(\"global: my_list at id\", id(my_list))\n",
    "print(\"global: my_string at id\", id(my_string))\n",
    "bool_result, original_list, returned_list, modified_string = my_function(my_list, my_string)\n",
    "\n",
    "print(\"global: bool_result at id\", id(bool_result))    # locally object not destroyed just local binding\n",
    "print(\"global: original_list at id\", id(original_list))   # bound to my_list still\n",
    "print(\"global: returned_list at id\", id(returned_list))   # bound to my_list as mutuable\n",
    "print(\"global: modified_string at id\", id(modified_string))   # locally created object not destroyed just local binding\n",
    "print(modified_string)"
   ]
  },
  {
   "cell_type": "markdown",
   "metadata": {},
   "source": [
    "You can see that locally created object such as `_ret_status` and `_ret_string` have not been destroyed when the function goes out of scope - the return values have been assigned (bound) to the new locally created objects. All operations on the mutable list is all done on the same object.\n",
    "\n",
    "Everything is an object including `None` and has an address, attributes and a size like any other object."
   ]
  },
  {
   "cell_type": "code",
   "execution_count": 194,
   "metadata": {},
   "outputs": [
    {
     "name": "stdout",
     "output_type": "stream",
     "text": [
      "None is an object at id 140703858632696\n",
      "['__bool__', '__class__', '__delattr__', '__dir__', '__doc__', '__eq__', '__format__', '__ge__', '__getattribute__', '__gt__', '__hash__', '__init__', '__init_subclass__', '__le__', '__lt__', '__ne__', '__new__', '__reduce__', '__reduce_ex__', '__repr__', '__setattr__', '__sizeof__', '__str__', '__subclasshook__']\n",
      "Size of None = 16\n"
     ]
    }
   ],
   "source": [
    "print(\"None is an object at id\", id(None))\n",
    "print(dir(None))\n",
    "print(\"Size of None =\", None.__sizeof__())"
   ]
  },
  {
   "cell_type": "markdown",
   "metadata": {},
   "source": [
    "What attributes does the most primitive object in Python `object` have?"
   ]
  },
  {
   "cell_type": "code",
   "execution_count": 195,
   "metadata": {},
   "outputs": [
    {
     "name": "stdout",
     "output_type": "stream",
     "text": [
      "dir(object) = ['__class__', '__delattr__', '__dir__', '__doc__', '__eq__', '__format__', '__ge__', '__getattribute__', '__gt__', '__hash__', '__init__', '__init_subclass__', '__le__', '__lt__', '__ne__', '__new__', '__reduce__', '__reduce_ex__', '__repr__', '__setattr__', '__sizeof__', '__str__', '__subclasshook__']\n"
     ]
    }
   ],
   "source": [
    "print(\"dir(object) =\", dir(object))"
   ]
  },
  {
   "cell_type": "markdown",
   "metadata": {},
   "source": [
    "This implies methods such as `__new__` (memory allocation) and `__init__` (initialisation) can possibly be overloaded.\n",
    "\n",
    "Instances of class `Bob` are objects obviously..."
   ]
  },
  {
   "cell_type": "code",
   "execution_count": 196,
   "metadata": {},
   "outputs": [
    {
     "name": "stdout",
     "output_type": "stream",
     "text": [
      "The instance bob of class Bob is at id 2744553272080\n",
      "['__class__', '__delattr__', '__dict__', '__dir__', '__doc__', '__eq__', '__format__', '__ge__', '__getattribute__', '__gt__', '__hash__', '__init__', '__init_subclass__', '__le__', '__lt__', '__module__', '__ne__', '__new__', '__reduce__', '__reduce_ex__', '__repr__', '__setattr__', '__sizeof__', '__str__', '__subclasshook__', '__weakref__', 'class_variable', 'instance_variable']\n"
     ]
    }
   ],
   "source": [
    "class Bob:                                  # implies Bob(object) in Python 3 i.e. new style class\n",
    "    class_variable = [1, 2, 3]              # a mutable list\n",
    "\n",
    "    def __init__(self, x):                  # overload 'object' base class __init__ method\n",
    "        self.instance_variable = x\n",
    "\n",
    "bob = Bob(3)\n",
    "print(\"The instance bob of class Bob is at id\", id(bob))\n",
    "print(dir(bob))"
   ]
  },
  {
   "cell_type": "markdown",
   "metadata": {},
   "source": [
    "**But** perhaps not so obviously, the class `Bob` is also an object, once again with attributes."
   ]
  },
  {
   "cell_type": "code",
   "execution_count": 197,
   "metadata": {},
   "outputs": [
    {
     "name": "stdout",
     "output_type": "stream",
     "text": [
      "The class Bob is at 2744523048800\n",
      "['__class__', '__delattr__', '__dict__', '__dir__', '__doc__', '__eq__', '__format__', '__ge__', '__getattribute__', '__gt__', '__hash__', '__init__', '__init_subclass__', '__le__', '__lt__', '__module__', '__ne__', '__new__', '__reduce__', '__reduce_ex__', '__repr__', '__setattr__', '__sizeof__', '__str__', '__subclasshook__', '__weakref__', 'class_variable']\n"
     ]
    }
   ],
   "source": [
    "print(\"The class Bob is at\", id(Bob))\n",
    "print(dir(Bob))"
   ]
  },
  {
   "cell_type": "markdown",
   "metadata": {},
   "source": [
    "Note that `instance_variable` is not an attribute of the class, only the instance, and that `class_variable` is an attribute of **both** the class and the instance.\n",
    "\n",
    "As such `robert`'s instance variable is a different object to `bob`'s instance variable..."
   ]
  },
  {
   "cell_type": "code",
   "execution_count": 198,
   "metadata": {},
   "outputs": [
    {
     "name": "stdout",
     "output_type": "stream",
     "text": [
      "bob.instance_variable is at 2746607075632\n",
      "robert.instance_variable is at 2746607075664\n"
     ]
    }
   ],
   "source": [
    "robert = Bob(4)\n",
    "print(\"bob.instance_variable is at\", id(bob.instance_variable))\n",
    "print(\"robert.instance_variable is at\", id(robert.instance_variable))"
   ]
  },
  {
   "cell_type": "markdown",
   "metadata": {},
   "source": [
    "..but `robert`s and `bob`'s mutable class variable is the same as class `Bob`s class variable"
   ]
  },
  {
   "cell_type": "code",
   "execution_count": 199,
   "metadata": {},
   "outputs": [
    {
     "name": "stdout",
     "output_type": "stream",
     "text": [
      "Bob.class_variable is at 2744542650240\n",
      "bob.class_variable is at 2744542650240\n",
      "robert.class_variable is at 2744542650240\n"
     ]
    }
   ],
   "source": [
    "print(\"Bob.class_variable is at\", id(Bob.class_variable))\n",
    "print(\"bob.class_variable is at\", id(bob.class_variable))\n",
    "print(\"robert.class_variable is at\", id(robert.class_variable))"
   ]
  },
  {
   "cell_type": "markdown",
   "metadata": {},
   "source": [
    "Consequently, I can modify the class variable through the class."
   ]
  },
  {
   "cell_type": "code",
   "execution_count": 200,
   "metadata": {},
   "outputs": [
    {
     "name": "stdout",
     "output_type": "stream",
     "text": [
      "Bob.class_variable = ['Bob', 'Tim']\n",
      "bob.class_variable = ['Bob', 'Tim']\n",
      "robert.class_variable = ['Bob', 'Tim']\n",
      "Bob.class_variable is now at 2744542219072\n",
      "bob.class_variable is now at 2744542219072\n",
      "robert.class_variable now is at 2744542219072\n"
     ]
    }
   ],
   "source": [
    "Bob.class_variable = ['Bob', 'Tim']\n",
    "print(\"Bob.class_variable =\", Bob.class_variable)\n",
    "print(\"bob.class_variable =\", bob.class_variable)\n",
    "print(\"robert.class_variable =\", robert.class_variable)\n",
    "print(\"Bob.class_variable is now at\", id(Bob.class_variable))\n",
    "print(\"bob.class_variable is now at\", id(bob.class_variable))\n",
    "print(\"robert.class_variable now is at\", id(robert.class_variable))"
   ]
  },
  {
   "cell_type": "markdown",
   "metadata": {},
   "source": [
    "But what if I modify the class variable through one of the instances?"
   ]
  },
  {
   "cell_type": "code",
   "execution_count": 202,
   "metadata": {},
   "outputs": [
    {
     "name": "stdout",
     "output_type": "stream",
     "text": [
      "Bob.class_variable = ['Bob', 'Tim']\n",
      "bob.class_variable = ['Bob', 'Tim']\n",
      "robert.class_variable = ['Sally', 'Susan']\n",
      "Bob.class_variable is at 2744542219072\n",
      "bob.class_variable is at 2744542219072\n",
      "robert.class_variable is at 2744542228864\n"
     ]
    }
   ],
   "source": [
    "robert.class_variable = ['Sally', 'Susan']\n",
    "print(\"Bob.class_variable =\", Bob.class_variable)\n",
    "print(\"bob.class_variable =\", bob.class_variable)\n",
    "print(\"robert.class_variable =\", robert.class_variable)  # robert's class_variable is a conflicting instance variable\n",
    "print(\"Bob.class_variable is at\", id(Bob.class_variable))\n",
    "print(\"bob.class_variable is at\", id(bob.class_variable))\n",
    "print(\"robert.class_variable is at\", id(robert.class_variable))   # and a different address to the class variable"
   ]
  }
 ],
 "metadata": {
  "kernelspec": {
   "display_name": "Python 3.10.7 64-bit",
   "language": "python",
   "name": "python3"
  },
  "language_info": {
   "codemirror_mode": {
    "name": "ipython",
    "version": 3
   },
   "file_extension": ".py",
   "mimetype": "text/x-python",
   "name": "python",
   "nbconvert_exporter": "python",
   "pygments_lexer": "ipython3",
   "version": "3.10.7"
  },
  "orig_nbformat": 4,
  "vscode": {
   "interpreter": {
    "hash": "c19fa61d258bb2b35aae2ada233c33e2817c1ce895aa48acba720c6bf7cbe3cb"
   }
  }
 },
 "nbformat": 4,
 "nbformat_minor": 2
}
