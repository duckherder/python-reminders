{
 "cells": [
  {
   "cell_type": "markdown",
   "metadata": {},
   "source": [
    "# Objects\n",
    "\n",
    "Everything in Python is represented by an object. Names in your Python code can bind to (form a reference to) one of these objects.\n",
    "\n",
    "To begin, let's start with a couple of integers set to the same value. We might expect the two differently named integer variables to be stored in two different locations (have different ids or addresses) but Python is a little more complicated. It depends partly on whether an object is immutable or mutable."
   ]
  },
  {
   "cell_type": "code",
   "execution_count": 41,
   "metadata": {},
   "outputs": [
    {
     "name": "stdout",
     "output_type": "stream",
     "text": [
      "id(my_first_int) =  2204146729264\n",
      "id(my_second_int) = 2204146729264\n",
      "id(3) = 2204146729264\n",
      "True\n"
     ]
    }
   ],
   "source": [
    "my_first_int = 3\n",
    "my_second_int = 3\n",
    "print(\"id(my_first_int) = \", id(my_first_int))\n",
    "print(\"id(my_second_int) =\", id(my_second_int))\n",
    "print(\"id(3) =\", id(3))      # 3 is an object with a location\n",
    "print(my_first_int == 3)     # print(my_first_int is 3) would also print True as all bound to same object"
   ]
  },
  {
   "cell_type": "markdown",
   "metadata": {},
   "source": [
    "This is because in Python both the variable names and the literal `3`, in this case, all _bind_ to the same object stored at the location given. What about strings?"
   ]
  },
  {
   "cell_type": "code",
   "execution_count": 42,
   "metadata": {},
   "outputs": [
    {
     "name": "stdout",
     "output_type": "stream",
     "text": [
      "id(my_first_string) = 2204229817584\n",
      "id(my_second_string) = 2204229817584\n",
      "id('Hello') = 2204229817584\n",
      "True\n"
     ]
    }
   ],
   "source": [
    "my_first_string = \"Hello\"\n",
    "my_second_string = \"Hello\"\n",
    "print(\"id(my_first_string) =\", id(my_first_string))\n",
    "print(\"id(my_second_string) =\", id(my_second_string))\n",
    "print(\"id('Hello') =\", id('Hello'))\n",
    "print(my_first_string == my_second_string)     # ..and my_first_string is my_second_string"
   ]
  },
  {
   "cell_type": "markdown",
   "metadata": {},
   "source": [
    "Exactly the same as before. So what about a `list` which is mutable?"
   ]
  },
  {
   "cell_type": "code",
   "execution_count": 40,
   "metadata": {},
   "outputs": [
    {
     "name": "stdout",
     "output_type": "stream",
     "text": [
      "id(my_first_list) = 2204234572096\n",
      "id(my_second_list) = 2204234752448\n",
      "True\n"
     ]
    }
   ],
   "source": [
    "my_first_list = [1, 2, 3]\n",
    "my_second_list = [1, 2, 3]\n",
    "print(\"id(my_first_list) =\", id(my_first_list))\n",
    "print(\"id(my_second_list) =\", id(my_second_list))\n",
    "print(my_first_list == my_second_list)    # ..but my_first_list is not my_second_list"
   ]
  },
  {
   "cell_type": "markdown",
   "metadata": {},
   "source": [
    "Strings are immutable which means Python can use two different names to bind to the same object without any worries of changes being applied to a name affecting the bound object and thus silently modifying the value of another variable bound to the same object.\n",
    "\n",
    "Remember numbers and strings are immutable in Python, unlike lists which are mutable."
   ]
  },
  {
   "cell_type": "code",
   "execution_count": 43,
   "metadata": {},
   "outputs": [
    {
     "name": "stdout",
     "output_type": "stream",
     "text": [
      "Can't modify a string object - once created it is of fixed size in memory!\n"
     ]
    }
   ],
   "source": [
    "try:\n",
    "    my_first_string[0] = 'y'\n",
    "except TypeError:\n",
    "    print(\"Can't modify a string object - once created it is of fixed size in memory!\")"
   ]
  },
  {
   "cell_type": "markdown",
   "metadata": {},
   "source": [
    "However, just because a string (or integer) is immutable, this does not guarantee two variable names will bind to the same object. It is the choice of the Python interpreter. Binding to the same object saves memory and makes `==` comparisons faster, but it is a tradeoff. For example, in the following code below the interpreter has decided to store the string `Hello!` in three different locations, even though they are all equal."
   ]
  },
  {
   "cell_type": "code",
   "execution_count": 34,
   "metadata": {},
   "outputs": [
    {
     "name": "stdout",
     "output_type": "stream",
     "text": [
      "id(a) = 2204234155696\n",
      "id(b) = 2204234055600\n",
      "id('Hello!') = 2204229816752\n",
      "True\n",
      "Still immutable!\n"
     ]
    }
   ],
   "source": [
    "a = 'Hello!'\n",
    "b = 'Hello!'\n",
    "print(\"id(a) =\", id(a))\n",
    "print(\"id(b) =\", id(b))\n",
    "print(\"id('Hello!') =\", id('Hello!'))\n",
    "print(a == b)         # in this case print(a is b) would be False\n",
    "try:\n",
    "    a[0] = 'y'\n",
    "except TypeError:\n",
    "    print(\"Still immutable!\")"
   ]
  },
  {
   "cell_type": "markdown",
   "metadata": {},
   "source": [
    "So let's go back to the two original variable names bound to same object and what if I try to append to the end of the string `my_first_string += 'y'`"
   ]
  },
  {
   "cell_type": "code",
   "execution_count": 16,
   "metadata": {},
   "outputs": [
    {
     "name": "stdout",
     "output_type": "stream",
     "text": [
      "string is at 2209076013552\n",
      "hello!y\n",
      "resulting string is now at a different address - same name but new object 2209081663280\n",
      "but the original string 'hello!' still exists at 2209076013552\n"
     ]
    }
   ],
   "source": [
    "print(\"string is at\", id(my_first_string))\n",
    "# bind another name to this object\n",
    "my_first_string_original = my_first_string\n",
    "my_first_string += 'y'                              # add to string\n",
    "print(my_first_string)                              # result looks as expected\n",
    "print(\"resulting string is now at a different address - same name but new object\",\n",
    "      id(my_first_string))\n",
    "print(f\"but the original string '{my_first_string_original}'\",\n",
    "      \"still exists at\", id(my_first_string_original))"
   ]
  },
  {
   "cell_type": "markdown",
   "metadata": {},
   "source": [
    "So what about tuples, they are immutable like strings and integers..."
   ]
  },
  {
   "cell_type": "code",
   "execution_count": 17,
   "metadata": {},
   "outputs": [
    {
     "name": "stdout",
     "output_type": "stream",
     "text": [
      "my_first_tuple is at id 2209081623616\n",
      "my_second_tuple is at id 2209081624448\n",
      "yep, as expected the same ids\n",
      "if i modify what the variable points at it will change the id\n",
      "my_second_tuple (1, 2, 3)\n",
      "my_second_tuple (1, 2, 4) is now at id 2209081622656\n",
      "..but i can point it back to the original (1,2,3) tuple object\n",
      "my_second_tuple (1, 2, 3) is now at id 2209080772352\n",
      "and obviously if my_third_tuple = my_second_tuple\n",
      "my_third_tuple (1, 2, 3) is at same id 2209080772352\n",
      "and if my_third_list = my_second_list...\n",
      "my_third_list [1, 2, 3] is at same id 2209081926656 as my_second_list id 2209081926656\n",
      "...because in this case we are merely binding a new name to the same object, so if I modify 2nd\n",
      "...we are *not* creating a new object, just a new name - no copying of data is performed\n",
      "my_second_list [777, 2, 3]\n",
      "my_third_list [777, 2, 3]\n",
      "...and vice versa if I modify the 3rd list it will modify the second as well\n",
      "my_second_list [777, -888, 3]\n",
      "my_third_list [777, -888, 3]\n"
     ]
    }
   ],
   "source": [
    "my_first_tuple = (1, 2, 3)\n",
    "my_second_tuple = (1, 2, 3)\n",
    "print(\"my_first_tuple is at id\", id(my_first_tuple))\n",
    "print(\"my_second_tuple is at id\", id(my_second_tuple))\n",
    "print(\"yep, as expected the same ids\")\n",
    "\n",
    "print(\"if i modify what the variable points at it will change the id\")\n",
    "print(\"my_second_tuple\", my_second_tuple)\n",
    "my_second_tuple = (1, 2, 4)\n",
    "print(\"my_second_tuple\", my_second_tuple, \"is now at id\", id(my_second_tuple))\n",
    "print(\"..but i can point it back to the original (1,2,3) tuple object\")\n",
    "my_second_tuple = (1, 2, 3)\n",
    "print(\"my_second_tuple\", my_second_tuple, \"is now at id\", id(my_second_tuple))\n",
    "\n",
    "print(\"and obviously if my_third_tuple = my_second_tuple\")\n",
    "my_third_tuple = my_second_tuple\n",
    "print(\"my_third_tuple\", my_third_tuple, \"is at same id\", id(my_third_tuple))\n",
    "print(\"and if my_third_list = my_second_list...\")\n",
    "# this is not a *copy* of values!!\n",
    "my_third_list = my_second_list\n",
    "print(\"my_third_list\", my_third_list, \"is at same id\", id(\n",
    "    my_third_list), \"as my_second_list id\", id(my_second_list))\n",
    "print(\"...because in this case we are merely binding a new name to the same object, so if I modify 2nd\")\n",
    "print(\"...we are *not* creating a new object, just a new name - no copying of data is performed\")\n",
    "my_second_list[0] = 777\n",
    "print(\"my_second_list\", my_second_list)\n",
    "print(\"my_third_list\", my_third_list)\n",
    "print(\"...and vice versa if I modify the 3rd list it will modify the second as well\")\n",
    "my_third_list[1] = -888\n",
    "print(\"my_second_list\", my_second_list)\n",
    "print(\"my_third_list\", my_third_list)"
   ]
  },
  {
   "cell_type": "markdown",
   "metadata": {},
   "source": [
    "Lets define a function"
   ]
  },
  {
   "cell_type": "code",
   "execution_count": 18,
   "metadata": {},
   "outputs": [],
   "source": [
    "def my_function(a_list, an_integer, a_string) -> tuple:\n",
    "    \"\"\"Variables are passed by assignment (not reference or value)\"\"\"\n",
    "    print(\"a_list at id\", id(a_list))\n",
    "    # an_integer is immutable so can't be changed in function\n",
    "    print(\"an_integer at id\", id(an_integer))\n",
    "    # a_string is also immutable\n",
    "    print(\"a_string at id\", id(a_string))\n",
    "    print(\"all parameter ids are the same regardless of mutability - because they are passed by assignment\")\n",
    "    print(\"...or like before simply binding a new name to the same object\")\n",
    "    print(\"a_list is another binding to my_list, which means I can change my_list in this function\")\n",
    "    a_list[0] = 99\n",
    "    print(\"but surely i can change an_integer or a_string as well...\")\n",
    "    a_string = \"my lovely new string\"\n",
    "    print(\"no, because we have not modified the string 'hello' but the changed the binding of a_string to a new object\")\n",
    "    print(\"a_string is now at id\", id(a_string))\n",
    "    _bool_result = an_integer < len(a_list)\n",
    "    print(\"_bool_result at id\", id(_bool_result))\n",
    "    _local_list = [2, 3, 4]\n",
    "    print(\"_local_list at id\", id(_local_list))\n",
    "    return _bool_result, _local_list"
   ]
  },
  {
   "cell_type": "markdown",
   "metadata": {},
   "source": [
    "So what happens with variables when passed and returned from functions?"
   ]
  },
  {
   "cell_type": "code",
   "execution_count": 19,
   "metadata": {},
   "outputs": [
    {
     "name": "stdout",
     "output_type": "stream",
     "text": [
      "my_list at id 2209081954304\n",
      "my_integer at id 2208997179632\n",
      "my_string at id 2209072580976\n",
      "calling my_function\n",
      "a_list at id 2209081954304\n",
      "an_integer at id 2208997179632\n",
      "a_string at id 2209072580976\n",
      "all parameter ids are the same regardless of mutability - because they are passed by assignment\n",
      "...or like before simply binding a new name to the same object\n",
      "a_list is another binding to my_list, which means I can change my_list in this function\n",
      "but surely i can change an_integer or a_string as well...\n",
      "no, because we have not modified the string 'hello' but the changed the binding of a_string to a new object\n",
      "a_string is now at id 2209081196672\n",
      "_bool_result at id 140735118465896\n",
      "_local_list at id 2209081953856\n",
      "returning from my_function shows new return variables bound to same objects that locals variables were bound\n",
      "bool_result at id 140735118465896\n",
      "returned_list at id 2209081953856\n",
      "my_list has been modified in my_function: [99, 2, 3]\n",
      "but my_string is not modified by my_function: hello\n"
     ]
    }
   ],
   "source": [
    "my_list = [1, 2, 3]\n",
    "my_integer = 1\n",
    "my_string = 'hello'\n",
    "print(\"my_list at id\", id(my_list))\n",
    "print(\"my_integer at id\", id(my_integer))\n",
    "print(\"my_string at id\", id(my_string))\n",
    "print(\"calling my_function\")\n",
    "bool_result, returned_list = my_function(my_list, my_integer, my_string)\n",
    "print(\"returning from my_function shows new return variables bound to same objects that locals variables were bound\")\n",
    "# local object not destroyed just local binding\n",
    "print(\"bool_result at id\", id(bool_result))\n",
    "# global variable binds to object created in function\n",
    "print(\"returned_list at id\", id(returned_list))\n",
    "print(\"my_list has been modified in my_function:\", my_list)\n",
    "print(\"but my_string is not modified by my_function:\", my_string)"
   ]
  },
  {
   "cell_type": "markdown",
   "metadata": {},
   "source": [
    "Everything is an object including `None`..."
   ]
  },
  {
   "cell_type": "code",
   "execution_count": 20,
   "metadata": {},
   "outputs": [
    {
     "name": "stdout",
     "output_type": "stream",
     "text": [
      "None is an object at id 140735118518264\n",
      "None has attributes like any other object\n",
      "['__bool__', '__class__', '__delattr__', '__dir__', '__doc__', '__eq__', '__format__', '__ge__', '__getattribute__', '__gt__', '__hash__', '__init__', '__init_subclass__', '__le__', '__lt__', '__ne__', '__new__', '__reduce__', '__reduce_ex__', '__repr__', '__setattr__', '__sizeof__', '__str__', '__subclasshook__']\n",
      "and a size of 16\n",
      "my_function is an object at id 2209079835904\n"
     ]
    }
   ],
   "source": [
    "print(\"None is an object at id\", id(None))\n",
    "print(\"None has attributes like any other object\")\n",
    "print(dir(None))\n",
    "print(\"and a size of\", None.__sizeof__())\n",
    "print(\"my_function is an object at id\", id(my_function))"
   ]
  },
  {
   "cell_type": "markdown",
   "metadata": {},
   "source": [
    "What attributes does an 'object' have?"
   ]
  },
  {
   "cell_type": "code",
   "execution_count": 21,
   "metadata": {},
   "outputs": [
    {
     "name": "stdout",
     "output_type": "stream",
     "text": [
      "dir(object) = ['__class__', '__delattr__', '__dir__', '__doc__', '__eq__', '__format__', '__ge__', '__getattribute__', '__gt__', '__hash__', '__init__', '__init_subclass__', '__le__', '__lt__', '__ne__', '__new__', '__reduce__', '__reduce_ex__', '__repr__', '__setattr__', '__sizeof__', '__str__', '__subclasshook__']\n",
      "which implies methods such as __new__ (memory allocation) and __init__ (initialisation) can be overloaded\n"
     ]
    }
   ],
   "source": [
    "print(\"dir(object) =\", dir(object))\n",
    "print(\"which implies methods such as __new__ (memory allocation) and __init__ (initialisation) can be overloaded\")"
   ]
  },
  {
   "cell_type": "markdown",
   "metadata": {},
   "source": [
    "Instances of class `Bob` are objects obviously..."
   ]
  },
  {
   "cell_type": "code",
   "execution_count": 22,
   "metadata": {},
   "outputs": [
    {
     "name": "stdout",
     "output_type": "stream",
     "text": [
      "id(bob) = 2209092108192\n",
      "..with attributes of course\n",
      "['__class__', '__delattr__', '__dict__', '__dir__', '__doc__', '__eq__', '__format__', '__ge__', '__getattribute__', '__gt__', '__hash__', '__init__', '__init_subclass__', '__le__', '__lt__', '__module__', '__ne__', '__new__', '__reduce__', '__reduce_ex__', '__repr__', '__setattr__', '__sizeof__', '__str__', '__subclasshook__', '__weakref__', 'class_variable', 'instance_variable']\n"
     ]
    }
   ],
   "source": [
    "class Bob:                                  # implies Bob(object) in Python 3 i.e. new style class\n",
    "    class_variable = [1, 2, 3]              # a mutable list\n",
    "\n",
    "    def __init__(self, x):                  # overload 'object' base class __init__ method\n",
    "        self.instance_variable = x\n",
    "\n",
    "bob = Bob(3)\n",
    "print(\"id(bob) =\", id(bob))\n",
    "print(\"..with attributes of course\")\n",
    "print(dir(bob))"
   ]
  },
  {
   "cell_type": "markdown",
   "metadata": {},
   "source": [
    "BUT the class Bob is also an object, not so obviously..."
   ]
  },
  {
   "cell_type": "code",
   "execution_count": 23,
   "metadata": {},
   "outputs": [
    {
     "name": "stdout",
     "output_type": "stream",
     "text": [
      "id(Bob) = 2209062020912\n",
      "..with attributes\n",
      "['__class__', '__delattr__', '__dict__', '__dir__', '__doc__', '__eq__', '__format__', '__ge__', '__getattribute__', '__gt__', '__hash__', '__init__', '__init_subclass__', '__le__', '__lt__', '__module__', '__ne__', '__new__', '__reduce__', '__reduce_ex__', '__repr__', '__setattr__', '__sizeof__', '__str__', '__subclasshook__', '__weakref__', 'class_variable']\n",
      "note that instance_variable is not an attribute of the class, only the instance\n",
      "note that class_variable is an attribute of both the class and the instance\n"
     ]
    }
   ],
   "source": [
    "print(\"id(Bob) =\", id(Bob))\n",
    "print(\"..with attributes\")\n",
    "print(dir(Bob))\n",
    "print(\"note that instance_variable is not an attribute of the class, only the instance\")\n",
    "print(\"note that class_variable is an attribute of both the class and the instance\")"
   ]
  },
  {
   "cell_type": "markdown",
   "metadata": {},
   "source": [
    "`robert` instance variable is a different object to `bob`..."
   ]
  },
  {
   "cell_type": "code",
   "execution_count": 24,
   "metadata": {},
   "outputs": [
    {
     "name": "stdout",
     "output_type": "stream",
     "text": [
      "id(bob.instance_variable) = 2208997179696\n",
      "id(robert.instance_variable) = 2208997179728\n",
      "..but roberts and bob's mutable class variable is the same as class Bobs\n",
      "id(Bob.class_variable) = 2209081413312\n",
      "id(bob.class_variable) = 2209081413312\n",
      "id(robert.class_variable) = 2209081413312\n"
     ]
    }
   ],
   "source": [
    "robert = Bob(4)\n",
    "print(\"id(bob.instance_variable) =\", id(bob.instance_variable))\n",
    "print(\"id(robert.instance_variable) =\", id(robert.instance_variable))\n",
    "print(\"..but roberts and bob's mutable class variable is the same as class Bobs\")\n",
    "print(\"id(Bob.class_variable) =\", id(Bob.class_variable))\n",
    "print(\"id(bob.class_variable) =\", id(bob.class_variable))\n",
    "print(\"id(robert.class_variable) =\", id(robert.class_variable))"
   ]
  },
  {
   "cell_type": "markdown",
   "metadata": {},
   "source": [
    "I can modify the class variable through the class."
   ]
  },
  {
   "cell_type": "code",
   "execution_count": 25,
   "metadata": {},
   "outputs": [
    {
     "name": "stdout",
     "output_type": "stream",
     "text": [
      "Bob.class_variable = ['bob', 'tim']\n",
      "bob.class_variable = ['bob', 'tim']\n",
      "robert.class_variable = ['bob', 'tim']\n"
     ]
    }
   ],
   "source": [
    "Bob.class_variable = ['bob', 'tim']\n",
    "print(\"Bob.class_variable =\", Bob.class_variable)\n",
    "print(\"bob.class_variable =\", bob.class_variable)\n",
    "print(\"robert.class_variable =\", robert.class_variable)"
   ]
  },
  {
   "cell_type": "markdown",
   "metadata": {},
   "source": [
    "But what if I modify the class variable through one of the instances."
   ]
  },
  {
   "cell_type": "code",
   "execution_count": 26,
   "metadata": {},
   "outputs": [
    {
     "name": "stdout",
     "output_type": "stream",
     "text": [
      "Bob.class_variable = ['bob', 'tim']\n",
      "bob.class_variable = ['bob', 'tim']\n",
      "robert.class_variable = ['sally', 'susan']\n",
      "id(Bob.class_variable) = 2209081931840\n",
      "id(bob.class_variable) = 2209081931840\n",
      "id(robert.class_variable) = 2209081966272\n"
     ]
    }
   ],
   "source": [
    "robert.class_variable = ['sally', 'susan']\n",
    "print(\"Bob.class_variable =\", Bob.class_variable)\n",
    "print(\"bob.class_variable =\", bob.class_variable)\n",
    "# robert's class_variable is a conflicting instance variable\n",
    "print(\"robert.class_variable =\", robert.class_variable)\n",
    "# note it is Bobs and bob's id that have changed\n",
    "print(\"id(Bob.class_variable) =\", id(Bob.class_variable))\n",
    "print(\"id(bob.class_variable) =\", id(bob.class_variable))\n",
    "# object modified but at same id\n",
    "print(\"id(robert.class_variable) =\", id(robert.class_variable))\n"
   ]
  }
 ],
 "metadata": {
  "kernelspec": {
   "display_name": "Python 3.10.7 64-bit",
   "language": "python",
   "name": "python3"
  },
  "language_info": {
   "codemirror_mode": {
    "name": "ipython",
    "version": 3
   },
   "file_extension": ".py",
   "mimetype": "text/x-python",
   "name": "python",
   "nbconvert_exporter": "python",
   "pygments_lexer": "ipython3",
   "version": "3.10.7"
  },
  "orig_nbformat": 4,
  "vscode": {
   "interpreter": {
    "hash": "c19fa61d258bb2b35aae2ada233c33e2817c1ce895aa48acba720c6bf7cbe3cb"
   }
  }
 },
 "nbformat": 4,
 "nbformat_minor": 2
}
