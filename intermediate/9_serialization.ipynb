{
 "cells": [
  {
   "cell_type": "markdown",
   "metadata": {},
   "source": [
    "# Serialization\n",
    "\n",
    "Serialization is the process of converting objects, for example, into a character stream.\n",
    "\n",
    "bytes are immutable sequence of integers in range 0 to 255..."
   ]
  },
  {
   "cell_type": "code",
   "execution_count": 1,
   "metadata": {},
   "outputs": [
    {
     "name": "stdout",
     "output_type": "stream",
     "text": [
      "my_string = hello you\n",
      "my_bytes type: <class 'bytes'>\n",
      "my_bytes: b'hello you'\n",
      "bytes are immutable so you can not change any values\n"
     ]
    }
   ],
   "source": [
    "my_string = 'hello you'\n",
    "print(\"my_string =\", my_string)\n",
    "my_bytes = bytes(my_string, encoding='utf-8')       # note encoding style\n",
    "print(\"my_bytes type:\", type(my_bytes))\n",
    "print(\"my_bytes:\", my_bytes)\n",
    "try:\n",
    "    my_bytes[0] = ord('d')\n",
    "except TypeError:\n",
    "    print(\"bytes are immutable so you can not change any values\")\n"
   ]
  },
  {
   "cell_type": "markdown",
   "metadata": {},
   "source": [
    "We can convert an integer list into a bytes as well provided 0 <= x <256..."
   ]
  },
  {
   "cell_type": "code",
   "execution_count": 2,
   "metadata": {},
   "outputs": [
    {
     "name": "stdout",
     "output_type": "stream",
     "text": [
      "my_integer_list = [0, 2, 3, 255]\n",
      "my_bytes type: <class 'bytes'>\n",
      "my_bytes: b'\\x00\\x02\\x03\\xff'\n",
      "my_integer_list = [0, 2, 3, 256]\n",
      "ValueError exception raised: integer values in list must be 0 <= x < 256!!\n"
     ]
    }
   ],
   "source": [
    "my_integer_list = [0, 2, 3, 255]\n",
    "print(\"my_integer_list =\", my_integer_list)\n",
    "my_bytes = bytes(my_integer_list)\n",
    "print(\"my_bytes type:\", type(my_bytes))\n",
    "print(\"my_bytes:\", my_bytes)\n",
    "\n",
    "my_integer_list = [0, 2, 3, 256]\n",
    "print(\"my_integer_list =\", my_integer_list)\n",
    "try:\n",
    "    my_bytes = bytes(my_integer_list)\n",
    "except ValueError:\n",
    "    print(\"ValueError exception raised: integer values in list must be 0 <= x < 256!!\")"
   ]
  },
  {
   "cell_type": "markdown",
   "metadata": {},
   "source": [
    "bytearray is a mutable sequence of integers in range 0 to 255..."
   ]
  },
  {
   "cell_type": "code",
   "execution_count": 3,
   "metadata": {},
   "outputs": [
    {
     "name": "stdout",
     "output_type": "stream",
     "text": [
      "my_string = hello you\n",
      "my_bytes type: <class 'bytearray'>\n",
      "my_bytes: bytearray(b'hello you')\n",
      "my_bytes modified: bytearray(b'dello you')\n"
     ]
    }
   ],
   "source": [
    "my_string = 'hello you'\n",
    "print(\"my_string =\", my_string)\n",
    "my_bytes = bytearray(my_string, encoding='utf-8')\n",
    "print(\"my_bytes type:\", type(my_bytes))\n",
    "print(\"my_bytes:\", my_bytes)\n",
    "my_bytes[0] = ord('d')\n",
    "print(\"my_bytes modified:\", my_bytes)"
   ]
  },
  {
   "cell_type": "markdown",
   "metadata": {},
   "source": [
    "We can use the pickle module to snapshot and save any object..."
   ]
  },
  {
   "cell_type": "code",
   "execution_count": 4,
   "metadata": {},
   "outputs": [
    {
     "name": "stdout",
     "output_type": "stream",
     "text": [
      "default pickle protocol = 4\n",
      "my_object.value = 6\n",
      "we can serialize an object to a bytes object using pickle.dumps()\n",
      "pickled object type = <class 'bytes'>\n",
      "pickled object: b'\\x80\\x04\\x95A\\x00\\x00\\x00\\x00\\x00\\x00\\x00\\x8c\\x08__main__\\x94\\x8c\\x07MyClass\\x94\\x93\\x94)\\x81\\x94}\\x94(\\x8c\\x06string\\x94\\x8c\\x0bhello world\\x94\\x8c\\x05value\\x94K\\x06ub.'\n"
     ]
    }
   ],
   "source": [
    "import pickle\n",
    "\n",
    "class MyClass:\n",
    "    def __init__(self, initial_value):\n",
    "        self.string = 'hello world'\n",
    "        self.value = initial_value\n",
    "\n",
    "    def increment(self):\n",
    "        self.value += 1\n",
    "\n",
    "\n",
    "my_object = MyClass(5)\n",
    "my_object.increment()           # self.value becomes 6\n",
    "\n",
    "print(\"default pickle protocol =\", pickle.DEFAULT_PROTOCOL)\n",
    "print(\"my_object.value =\", my_object.value)\n",
    "print(\"we can serialize an object to a bytes object using pickle.dumps()\")\n",
    "# you can use dump() to serialize and write direct to a file\n",
    "my_pickled_object_bytes = pickle.dumps(my_object)\n",
    "print(\"pickled object type =\", type(my_pickled_object_bytes))\n",
    "print(\"pickled object:\", my_pickled_object_bytes)"
   ]
  },
  {
   "cell_type": "markdown",
   "metadata": {},
   "source": [
    "We can deserialize a pickled object using `pickle.loads()`. You can use `load()` to read from file."
   ]
  },
  {
   "cell_type": "code",
   "execution_count": 5,
   "metadata": {},
   "outputs": [
    {
     "name": "stdout",
     "output_type": "stream",
     "text": [
      "value in un-pickled object should match original object: 6\n"
     ]
    }
   ],
   "source": [
    "my_unpickled_object = pickle.loads(my_pickled_object_bytes)\n",
    "print(\"value in un-pickled object should match original object:\", my_unpickled_object.value)"
   ]
  },
  {
   "cell_type": "markdown",
   "metadata": {},
   "source": [
    "We can use json to convert dictionaries to readable strings and back again."
   ]
  },
  {
   "cell_type": "code",
   "execution_count": 6,
   "metadata": {},
   "outputs": [
    {
     "name": "stdout",
     "output_type": "stream",
     "text": [
      "{'name': 'bob', 'age': 19, 'scores': [3, 6, 4, 5, 7], 'references': {'name': 'sally', 'reference': 'terrible student'}}\n",
      "my_json_string is of type <class 'str'>\n",
      "my_json_string: {\n",
      "    \"name\": \"bob\",\n",
      "    \"age\": 19,\n",
      "    \"scores\": [\n",
      "        3,\n",
      "        6,\n",
      "        4,\n",
      "        5,\n",
      "        7\n",
      "    ],\n",
      "    \"references\": {\n",
      "        \"name\": \"sally\",\n",
      "        \"reference\": \"terrible student\"\n",
      "    }\n",
      "}\n",
      "recovered object from JSON matches original dictionary\n"
     ]
    }
   ],
   "source": [
    "import json\n",
    "\n",
    "my_dictionary = {\n",
    "    'name': 'bob',\n",
    "    'age': 19,\n",
    "    'scores': [3, 6, 4, 5, 7],\n",
    "    'references':\n",
    "        {\n",
    "            'name': 'sally',\n",
    "            'reference': 'terrible student'\n",
    "    }\n",
    "}\n",
    "print(my_dictionary)\n",
    "my_json_string = json.dumps(my_dictionary, indent=4)\n",
    "print(\"my_json_string is of type\", type(my_json_string))\n",
    "print(\"my_json_string:\", my_json_string)\n",
    "\n",
    "my_recovered_dictionary = json.loads(my_json_string)\n",
    "if my_recovered_dictionary == my_dictionary:\n",
    "    print(\"recovered object from JSON matches original dictionary\")\n"
   ]
  }
 ],
 "metadata": {
  "kernelspec": {
   "display_name": "Python 3.10.7 64-bit",
   "language": "python",
   "name": "python3"
  },
  "language_info": {
   "codemirror_mode": {
    "name": "ipython",
    "version": 3
   },
   "file_extension": ".py",
   "mimetype": "text/x-python",
   "name": "python",
   "nbconvert_exporter": "python",
   "pygments_lexer": "ipython3",
   "version": "3.10.7"
  },
  "orig_nbformat": 4,
  "vscode": {
   "interpreter": {
    "hash": "c19fa61d258bb2b35aae2ada233c33e2817c1ce895aa48acba720c6bf7cbe3cb"
   }
  }
 },
 "nbformat": 4,
 "nbformat_minor": 2
}
