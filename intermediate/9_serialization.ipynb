{
 "cells": [
  {
   "cell_type": "markdown",
   "metadata": {},
   "source": [
    "# Serialization\n",
    "\n",
    "Serialization is the process of converting objects, for example, into a character stream.\n",
    "\n",
    "`bytes` are immutable sequence of integers in range 0 to 255..."
   ]
  },
  {
   "cell_type": "code",
   "execution_count": 1,
   "metadata": {},
   "outputs": [
    {
     "name": "stdout",
     "output_type": "stream",
     "text": [
      "my_bytes type: class 'bytes'\n",
      "my_bytes: b'Hello you'\n",
      "bytes are immutable so you can not change any values\n"
     ]
    }
   ],
   "source": [
    "my_string = 'Hello you'\n",
    "my_bytes = bytes(my_string, encoding='utf-8')       # note encoding style\n",
    "print(\"my_bytes type:\", str(type(my_bytes))[1:-1])\n",
    "print(\"my_bytes:\", my_bytes)\n",
    "try:\n",
    "    my_bytes[0] = ord('d')\n",
    "except TypeError:\n",
    "    print(\"bytes are immutable so you can not change any values\")\n"
   ]
  },
  {
   "cell_type": "markdown",
   "metadata": {},
   "source": [
    "We can convert an integer list into a `bytes` as well provided the values are ine the range 0 to 255 inclusive..."
   ]
  },
  {
   "cell_type": "code",
   "execution_count": 3,
   "metadata": {},
   "outputs": [
    {
     "name": "stdout",
     "output_type": "stream",
     "text": [
      "my_bytes: b'\\x00\\x02\\x03\\xff'\n",
      "ValueError exception raised: integer values in list must be in range 0 to 255 inclusive\n"
     ]
    }
   ],
   "source": [
    "my_integer_list = [0, 2, 3, 255]\n",
    "my_bytes = bytes(my_integer_list)\n",
    "print(\"my_bytes:\", my_bytes)\n",
    "\n",
    "my_integer_list = [0, 2, 3, 256]\n",
    "try:\n",
    "    my_bytes = bytes(my_integer_list)\n",
    "except ValueError:\n",
    "    print(\"ValueError exception raised: integer values in list must be in range 0 to 255 inclusive\")"
   ]
  },
  {
   "cell_type": "markdown",
   "metadata": {},
   "source": [
    "`bytearray` is a mutable sequence of integers in range 0 to 255..."
   ]
  },
  {
   "cell_type": "code",
   "execution_count": 4,
   "metadata": {},
   "outputs": [
    {
     "name": "stdout",
     "output_type": "stream",
     "text": [
      "my_bytes type: class 'bytearray'\n",
      "my_bytes: bytearray(b'Hello you')\n",
      "my_bytes modified: bytearray(b'dello you')\n"
     ]
    }
   ],
   "source": [
    "my_string = 'Hello you'\n",
    "my_bytes = bytearray(my_string, encoding='utf-8')\n",
    "print(\"my_bytes type:\", str(type(my_bytes))[1:-1])\n",
    "print(\"my_bytes:\", my_bytes)\n",
    "my_bytes[0] = ord('d')\n",
    "print(\"my_bytes modified:\", my_bytes)"
   ]
  },
  {
   "cell_type": "markdown",
   "metadata": {},
   "source": [
    "We can use the `pickle` module to snapshot and save any object..."
   ]
  },
  {
   "cell_type": "code",
   "execution_count": 5,
   "metadata": {},
   "outputs": [
    {
     "name": "stdout",
     "output_type": "stream",
     "text": [
      "Default pickle protocol = 4\n",
      "my_object.value = 5\n",
      "Pickled object type = class 'bytes'\n",
      "Pickled object: b'\\x80\\x04\\x95A\\x00\\x00\\x00\\x00\\x00\\x00\\x00\\x8c\\x08__main__\\x94\\x8c\\x07MyClass\\x94\\x93\\x94)\\x81\\x94}\\x94(\\x8c\\x06string\\x94\\x8c\\x0bHello world\\x94\\x8c\\x05value\\x94K\\x05ub.'\n"
     ]
    }
   ],
   "source": [
    "import pickle\n",
    "\n",
    "class MyClass:\n",
    "    def __init__(self, initial_value):\n",
    "        self.string = 'Hello world'\n",
    "        self.value = initial_value\n",
    "\n",
    "my_object = MyClass(5)\n",
    "\n",
    "print(\"Default pickle protocol =\", pickle.DEFAULT_PROTOCOL)\n",
    "print(\"my_object.value =\", my_object.value)\n",
    "my_pickled_object_bytes = pickle.dumps(my_object)\n",
    "print(\"Pickled object type =\", str(type(my_pickled_object_bytes))[1:-1])\n",
    "print(\"Pickled object:\", my_pickled_object_bytes)"
   ]
  },
  {
   "cell_type": "markdown",
   "metadata": {},
   "source": [
    "We can deserialize a pickled object using `pickle.loads()`. You can use `load()` to read from file."
   ]
  },
  {
   "cell_type": "code",
   "execution_count": 6,
   "metadata": {},
   "outputs": [
    {
     "name": "stdout",
     "output_type": "stream",
     "text": [
      "Value in un-pickled object should match original object: 5\n"
     ]
    }
   ],
   "source": [
    "my_unpickled_object = pickle.loads(my_pickled_object_bytes)\n",
    "print(\"Value in un-pickled object should match original object:\", my_unpickled_object.value)"
   ]
  },
  {
   "cell_type": "markdown",
   "metadata": {},
   "source": [
    "We can use `json` to convert dictionaries to readable strings and back again."
   ]
  },
  {
   "cell_type": "code",
   "execution_count": 8,
   "metadata": {},
   "outputs": [
    {
     "name": "stdout",
     "output_type": "stream",
     "text": [
      "my_json_string is of type class 'str'\n",
      "my_json_string: {\n",
      "    \"name\": \"Bob\",\n",
      "    \"age\": 19,\n",
      "    \"scores\": [\n",
      "        3,\n",
      "        6,\n",
      "        4,\n",
      "        5,\n",
      "        7\n",
      "    ],\n",
      "    \"references\": {\n",
      "        \"name\": \"Sally\",\n",
      "        \"reference\": \"Good student\"\n",
      "    }\n",
      "}\n",
      "Recovered object from JSON matches original dictionary\n"
     ]
    }
   ],
   "source": [
    "import json\n",
    "\n",
    "my_dictionary = {\n",
    "    'name': 'Bob',\n",
    "    'age': 19,\n",
    "    'scores': [3, 6, 4, 5, 7],\n",
    "    'references':\n",
    "        {\n",
    "            'name': 'Sally',\n",
    "            'reference': 'Good student'\n",
    "        }\n",
    "    }\n",
    "my_json_string = json.dumps(my_dictionary, indent=4)\n",
    "print(\"my_json_string is of type\", str(type(my_json_string))[1:-1])\n",
    "print(\"my_json_string:\", my_json_string)\n",
    "\n",
    "my_recovered_dictionary = json.loads(my_json_string)\n",
    "if my_recovered_dictionary == my_dictionary:\n",
    "    print(\"Recovered object from JSON matches original dictionary\")"
   ]
  }
 ],
 "metadata": {
  "kernelspec": {
   "display_name": "Python 3.10.7 64-bit",
   "language": "python",
   "name": "python3"
  },
  "language_info": {
   "codemirror_mode": {
    "name": "ipython",
    "version": 3
   },
   "file_extension": ".py",
   "mimetype": "text/x-python",
   "name": "python",
   "nbconvert_exporter": "python",
   "pygments_lexer": "ipython3",
   "version": "3.10.7"
  },
  "orig_nbformat": 4,
  "vscode": {
   "interpreter": {
    "hash": "c19fa61d258bb2b35aae2ada233c33e2817c1ce895aa48acba720c6bf7cbe3cb"
   }
  }
 },
 "nbformat": 4,
 "nbformat_minor": 2
}
