{
 "cells": [
  {
   "cell_type": "markdown",
   "metadata": {},
   "source": [
    "# Context Managers\n",
    "\n",
    "Context managers allow for clean allocation and de-allocation of resources regardless of what happens.\n",
    "\n",
    "File IO is a context manager that allows use of `with` statement."
   ]
  },
  {
   "cell_type": "code",
   "execution_count": 2,
   "metadata": {},
   "outputs": [
    {
     "name": "stdout",
     "output_type": "stream",
     "text": [
      "File will be closed by with statement regardless of exception\n"
     ]
    }
   ],
   "source": [
    "try:\n",
    "    with open('15_context_manager.ipynb', 'r') as f:\n",
    "        raise ValueError(\"Raising some random exception\")\n",
    "except ValueError:\n",
    "    print(\"File will be closed by with statement regardless of exception\")"
   ]
  },
  {
   "cell_type": "markdown",
   "metadata": {},
   "source": [
    "We can create our own context manager..."
   ]
  },
  {
   "cell_type": "code",
   "execution_count": 7,
   "metadata": {},
   "outputs": [
    {
     "name": "stdout",
     "output_type": "stream",
     "text": [
      "Creating context manager\n",
      "Creating context manager resources\n",
      "In 'with' block\n",
      "Freeing up context manager resources for handle 99\n",
      "exc_type = None\n",
      "exc_val = None\n",
      "exc_tb = None\n"
     ]
    }
   ],
   "source": [
    "class MyContextManager:                                 # needs to implement __enter__ and __exit__\n",
    "    def __init__(self, swallow_exception=False):\n",
    "        print(\"Creating context manager\")\n",
    "        self.resource_handle = 99\n",
    "        self.swallow_exception = swallow_exception\n",
    "\n",
    "    def __enter__(self):\n",
    "        print(\"Creating context manager resources\")\n",
    "        return self.resource_handle\n",
    "\n",
    "    def __exit__(self, exc_type, exc_val, exc_tb):      # don't re-raise exceptions here\n",
    "        print(f\"Freeing up context manager resources for handle {self.resource_handle}\")\n",
    "        print(\"exc_type =\", exc_type if exc_type is None else str(exc_type)[1:-1])     # None if no exception\n",
    "        print(\"exc_val =\", exc_val)\n",
    "        print(\"exc_tb =\", exc_tb)\n",
    "        return self.swallow_exception if exc_tb is not None else False\n",
    "\n",
    "my_context_manager = MyContextManager()\n",
    "\n",
    "try:\n",
    "    with my_context_manager as handle:\n",
    "        print(\"In 'with' block\")\n",
    "except ValueError:\n",
    "    pass"
   ]
  },
  {
   "cell_type": "markdown",
   "metadata": {},
   "source": [
    "If exception raised in our own context manager..."
   ]
  },
  {
   "cell_type": "code",
   "execution_count": 8,
   "metadata": {},
   "outputs": [
    {
     "name": "stdout",
     "output_type": "stream",
     "text": [
      "Creating context manager resources\n",
      "In 'with' block, raising exception\n",
      "Freeing up context manager resources for handle 99\n",
      "exc_type = class 'ValueError'\n",
      "exc_val = Raising some random exception\n",
      "exc_tb = <traceback object at 0x0000025ED61A41C0>\n",
      "Exception: handle resources freed regardless of exception\n"
     ]
    }
   ],
   "source": [
    "try:\n",
    "    with my_context_manager as handle:\n",
    "        print(\"In 'with' block, raising exception\")\n",
    "        raise ValueError(\"Raising some random exception\")\n",
    "except ValueError:\n",
    "    print(\"Exception: handle resources freed regardless of exception\")"
   ]
  },
  {
   "cell_type": "markdown",
   "metadata": {},
   "source": [
    "If exception raised in our own context manager we can swallow it if we wish..."
   ]
  },
  {
   "cell_type": "code",
   "execution_count": 9,
   "metadata": {},
   "outputs": [
    {
     "name": "stdout",
     "output_type": "stream",
     "text": [
      "Creating context manager\n",
      "Creating context manager resources\n",
      "In 'with' block, raising exception\n",
      "Freeing up context manager resources for handle 99\n",
      "exc_type = class 'ValueError'\n",
      "exc_val = Raising some random exception\n",
      "exc_tb = <traceback object at 0x0000025ED61A41C0>\n",
      "No exception raised!\n"
     ]
    }
   ],
   "source": [
    "my_context_manager = MyContextManager(swallow_exception=True)\n",
    "try:\n",
    "    with my_context_manager as handle:\n",
    "        print(\"In 'with' block, raising exception\")\n",
    "        raise ValueError(\"Raising some random exception\")\n",
    "except ValueError:\n",
    "    print(\"Exception: should not be here!\")\n",
    "else:\n",
    "    print(\"No exception raised!\")"
   ]
  }
 ],
 "metadata": {
  "kernelspec": {
   "display_name": "Python 3.10.7 64-bit",
   "language": "python",
   "name": "python3"
  },
  "language_info": {
   "codemirror_mode": {
    "name": "ipython",
    "version": 3
   },
   "file_extension": ".py",
   "mimetype": "text/x-python",
   "name": "python",
   "nbconvert_exporter": "python",
   "pygments_lexer": "ipython3",
   "version": "3.10.7"
  },
  "orig_nbformat": 4,
  "vscode": {
   "interpreter": {
    "hash": "c19fa61d258bb2b35aae2ada233c33e2817c1ce895aa48acba720c6bf7cbe3cb"
   }
  }
 },
 "nbformat": 4,
 "nbformat_minor": 2
}
