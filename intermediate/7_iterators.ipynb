{
 "cells": [
  {
   "cell_type": "markdown",
   "metadata": {},
   "source": [
    "# Iterators\n",
    "\n",
    "Objects can be an iterable, an iterator or both. According to PEP234\n",
    "\n",
    "1. An object can be iterated over with \"for\" if it implements\n",
    "   `__iter__()` or `__getitem__()`.\n",
    "\n",
    "2. An object can function as an iterator if it implements `next()`."
   ]
  },
  {
   "cell_type": "markdown",
   "metadata": {},
   "source": [
    "`all()`: returns `True` if all elements of an iterable list are `True`..."
   ]
  },
  {
   "cell_type": "code",
   "execution_count": 1,
   "metadata": {},
   "outputs": [
    {
     "name": "stdout",
     "output_type": "stream",
     "text": [
      "all([True, True, True, True]) = True\n",
      "all([True, True, False, True]) = False\n"
     ]
    }
   ],
   "source": [
    "print(\"all([True, True, True, True]) =\", all([True, True, True, True]))\n",
    "print(\"all([True, True, False, True]) =\", all([True, True, False, True]))"
   ]
  },
  {
   "cell_type": "markdown",
   "metadata": {},
   "source": [
    "`any()`: returns True if all elements of an iterable tuple are `True`..."
   ]
  },
  {
   "cell_type": "code",
   "execution_count": 2,
   "metadata": {},
   "outputs": [
    {
     "name": "stdout",
     "output_type": "stream",
     "text": [
      "any((False, False, False, True)) = True\n",
      "any((False, False, False, False)) = False\n"
     ]
    }
   ],
   "source": [
    "print(\"any((False, False, False, True)) =\", any((False, False, False, True)))\n",
    "print(\"any((False, False, False, False)) =\", any((False, False, False, False)))"
   ]
  },
  {
   "cell_type": "markdown",
   "metadata": {},
   "source": [
    "`min/max()`: return min/max of an iterable..."
   ]
  },
  {
   "cell_type": "code",
   "execution_count": 3,
   "metadata": {},
   "outputs": [
    {
     "name": "stdout",
     "output_type": "stream",
     "text": [
      "max(['bob', 'tim', 'andy']) = tim\n",
      "min([1, 2, -3]) = -3\n"
     ]
    }
   ],
   "source": [
    "print(\"max(['bob', 'tim', 'andy']) =\", max(['bob', 'tim', 'andy']))\n",
    "print(\"min([1, 2, -3]) =\", min([1, 2, -3]))"
   ]
  },
  {
   "cell_type": "markdown",
   "metadata": {},
   "source": [
    "Use `next` function to read lines from file..."
   ]
  },
  {
   "cell_type": "code",
   "execution_count": 4,
   "metadata": {},
   "outputs": [
    {
     "name": "stdout",
     "output_type": "stream",
     "text": [
      "{\n",
      "\"cells\": [\n",
      "{\n",
      "\"cell_type\": \"markdown\",\n",
      "\"metadata\": {},\n",
      "\"source\": [\n",
      "\"# Iterators\\n\",\n",
      "\"\\n\",\n",
      "\"Objects can be an iterable, an iterator or both. According to PEP234\\n\",\n",
      "\"\\n\",\n",
      "\"1. An object can be iterated over with \\\"for\\\" if it implements\\n\",\n",
      "\"   `__iter__()` or `__getitem__()`.\\n\",\n",
      "\"\\n\",\n",
      "\"2. An object can function as an iterator if it implements `next()`.\"\n",
      "]\n",
      "},\n",
      "{\n",
      "\"cell_type\": \"markdown\",\n",
      "\"metadata\": {},\n",
      "\"source\": [\n",
      "\"`all()`: returns `True` if all elements of an iterable list are `True`...\"\n",
      "]\n",
      "},\n",
      "{\n",
      "\"cell_type\": \"code\",\n",
      "\"execution_count\": null,\n",
      "\"metadata\": {},\n",
      "\"outputs\": [],\n",
      "\"source\": [\n",
      "\"print(\\\"all([True, True, True, True]) =\\\", all([True, True, True, True]))\\n\",\n",
      "\"print(\\\"all([True, True, False, True]) =\\\", all([True, True, False, True]))\"\n",
      "]\n",
      "},\n",
      "{\n",
      "\"cell_type\": \"markdown\",\n",
      "\"metadata\": {},\n",
      "\"source\": [\n",
      "\"`any()`: returns True if all elements of an iterable tuple are `True`...\"\n",
      "]\n",
      "},\n",
      "{\n",
      "\"cell_type\": \"code\",\n",
      "\"execution_count\": null,\n",
      "\"metadata\": {},\n",
      "\"outputs\": [],\n",
      "\"source\": [\n",
      "\"print(\\\"any((False, False, False, True)) =\\\", any((False, False, False, True)))\\n\",\n",
      "\"print(\\\"any((False, False, False, False)) =\\\", any((False, False, False, False)))\"\n",
      "]\n",
      "},\n",
      "{\n",
      "\"cell_type\": \"markdown\",\n",
      "\"metadata\": {},\n",
      "\"source\": [\n",
      "\"`min/max()`: return min/max of an iterable...\"\n",
      "]\n",
      "},\n",
      "{\n",
      "\"cell_type\": \"code\",\n",
      "\"execution_count\": null,\n",
      "\"metadata\": {},\n",
      "\"outputs\": [],\n",
      "\"source\": [\n",
      "\"print(\\\"max(['bob', 'tim', 'andy']) =\\\", max(['bob', 'tim', 'andy']))\\n\",\n",
      "\"print(\\\"min([1, 2, -3]) =\\\", min([1, 2, -3]))\"\n",
      "]\n",
      "},\n",
      "{\n",
      "\"cell_type\": \"markdown\",\n",
      "\"metadata\": {},\n",
      "\"source\": [\n",
      "\"Use `next` function to read lines from file...\"\n",
      "]\n",
      "},\n",
      "{\n",
      "\"cell_type\": \"code\",\n",
      "\"execution_count\": null,\n",
      "\"metadata\": {},\n",
      "\"outputs\": [],\n",
      "\"source\": [\n",
      "\"with open('7_iterators.ipynb', 'r') as f:        # f is a file handle but also an iterator...\\n\",\n",
      "\"    try:                                      # .. it has a __next__ attribute\\n\",\n",
      "\"        while True:\\n\",\n",
      "\"            current = next(f)\\n\",\n",
      "\"            print(current.strip())\\n\",\n",
      "\"    except StopIteration:\\n\",\n",
      "\"        print('EOF!')\\n\",\n",
      "\"\\n\",\n",
      "\"my_list = [1, 5, 3, 'bob', 2]\"\n",
      "]\n",
      "},\n",
      "{\n",
      "\"cell_type\": \"markdown\",\n",
      "\"metadata\": {},\n",
      "\"source\": [\n",
      "\"Common way to use an iterator is in a for loop...\"\n",
      "]\n",
      "},\n",
      "{\n",
      "\"cell_type\": \"code\",\n",
      "\"execution_count\": null,\n",
      "\"metadata\": {},\n",
      "\"outputs\": [],\n",
      "\"source\": [\n",
      "\"for an_item in my_list:\\n\",\n",
      "\"    print(an_item)\"\n",
      "]\n",
      "},\n",
      "{\n",
      "\"cell_type\": \"markdown\",\n",
      "\"metadata\": {},\n",
      "\"source\": [\n",
      "\"Or if you get given an iterator using `iter()` - a list is iterable but is not an iterator itself. `list` have an `__iter__` attribute to return an iterator but no `__next__`\"\n",
      "]\n",
      "},\n",
      "{\n",
      "\"cell_type\": \"code\",\n",
      "\"execution_count\": null,\n",
      "\"metadata\": {},\n",
      "\"outputs\": [],\n",
      "\"source\": [\n",
      "\"my_iter = iter(my_list)\\n\",\n",
      "\"for an_item in my_iter:\\n\",\n",
      "\"    print(an_item)\"\n",
      "]\n",
      "},\n",
      "{\n",
      "\"cell_type\": \"markdown\",\n",
      "\"metadata\": {},\n",
      "\"source\": [\n",
      "\"You can use `iter()` and `next()` to implement a for loop. Note this is how a for loop is actually implemented.\"\n",
      "]\n",
      "},\n",
      "{\n",
      "\"cell_type\": \"code\",\n",
      "\"execution_count\": null,\n",
      "\"metadata\": {},\n",
      "\"outputs\": [],\n",
      "\"source\": [\n",
      "\"my_iter = iter(my_list)\\n\",\n",
      "\"while True:\\n\",\n",
      "\"    try:\\n\",\n",
      "\"        # next() will throw StopIteration if nothing left in iterable\\n\",\n",
      "\"        print(next(my_iter))\\n\",\n",
      "\"    except StopIteration:\\n\",\n",
      "\"        print(\\\"StopIteration exception raised so must be at end of list!\\\")\\n\",\n",
      "\"        break\"\n",
      "]\n",
      "},\n",
      "{\n",
      "\"cell_type\": \"markdown\",\n",
      "\"metadata\": {},\n",
      "\"source\": [\n",
      "\"Alternatively, you can use the `__next__()` attribute of the iterator...\"\n",
      "]\n",
      "},\n",
      "{\n",
      "\"cell_type\": \"code\",\n",
      "\"execution_count\": null,\n",
      "\"metadata\": {},\n",
      "\"outputs\": [],\n",
      "\"source\": [\n",
      "\"my_iter = iter(my_list)\\n\",\n",
      "\"while True:\\n\",\n",
      "\"    try:\\n\",\n",
      "\"        # next() will throw StopIteration if nothing left in iterable\\n\",\n",
      "\"        print(my_iter.__next__())\\n\",\n",
      "\"    except StopIteration:\\n\",\n",
      "\"        print(\\\"end of list!\\\")\\n\",\n",
      "\"        break\"\n",
      "]\n",
      "},\n",
      "{\n",
      "\"cell_type\": \"markdown\",\n",
      "\"metadata\": {},\n",
      "\"source\": [\n",
      "\"We can create an iterable class by implementing the `__getitem__` attribute...\"\n",
      "]\n",
      "},\n",
      "{\n",
      "\"cell_type\": \"code\",\n",
      "\"execution_count\": null,\n",
      "\"metadata\": {},\n",
      "\"outputs\": [],\n",
      "\"source\": [\n",
      "\"class GetItemClass:\\n\",\n",
      "\"    def __init__(self):\\n\",\n",
      "\"        \\\"\\\"\\\"a doc string is a valid statement so don't need a pass\\\"\\\"\\\"\\n\",\n",
      "\"\\n\",\n",
      "\"    def __getitem__(self, item):        # item can be an integer or a slice object\\n\",\n",
      "\"        print(\\\"in GetItemClass.__getitem__\\\")\\n\",\n",
      "\"        if type(item) is int:\\n\",\n",
      "\"            return 2**item\\n\",\n",
      "\"        elif type(item) is slice:\\n\",\n",
      "\"            return [2**x for x in range(item.start, item.stop, item.step)]\\n\",\n",
      "\"\\n\",\n",
      "\"my_getitem_instance = GetItemClass()\\n\",\n",
      "\"print(\\\"my_getitem_instance[0] =\\\", my_getitem_instance[0])\\n\",\n",
      "\"print(\\\"my_getitem_instance[1] =\\\", my_getitem_instance[1])\\n\",\n",
      "\"print(\\\"my_getitem_instance[2] =\\\", my_getitem_instance[2])\\n\",\n",
      "\"print(\\\"GetItemClass is iterable as it implements __getitem__\\\")\\n\",\n",
      "\"for my_value in my_getitem_instance:\\n\",\n",
      "\"    print(\\\"my_value =\\\", my_value)\\n\",\n",
      "\"    if my_value > 32:          # because GetItemClass is an infinite iterator - it will never finish we need to break\\n\",\n",
      "\"        break\"\n",
      "]\n",
      "},\n",
      "{\n",
      "\"cell_type\": \"markdown\",\n",
      "\"metadata\": {},\n",
      "\"source\": [\n",
      "\"We can also use slicing with `GetItemClass` as it supports `__getitem__`\"\n",
      "]\n",
      "},\n",
      "{\n",
      "\"cell_type\": \"code\",\n",
      "\"execution_count\": null,\n",
      "\"metadata\": {},\n",
      "\"outputs\": [],\n",
      "\"source\": [\n",
      "\"for my_value in my_getitem_instance[4:12:2]:\\n\",\n",
      "\"    print(\\\"my_value =\\\", my_value)\"\n",
      "]\n",
      "},\n",
      "{\n",
      "\"cell_type\": \"markdown\",\n",
      "\"metadata\": {},\n",
      "\"source\": [\n",
      "\"Interestingly `iter()` will return an iterator even though `__iter__` is not defined\"\n",
      "]\n",
      "},\n",
      "{\n",
      "\"cell_type\": \"code\",\n",
      "\"execution_count\": null,\n",
      "\"metadata\": {},\n",
      "\"outputs\": [],\n",
      "\"source\": [\n",
      "\"my_getitem_iterator = iter(my_getitem_instance)\\n\",\n",
      "\"print(\\\"my_getitem_iterator =\\\", my_getitem_iterator)                 # iter() has returned a base class Iterator object\\n\",\n",
      "\"print(\\\"dir(my_getitem_iterator) =\\\", dir(my_getitem_iterator))\\n\",\n",
      "\"print(\\\"next also works on this iterator by calling __getitem__ with increasing item values\\\")\\n\",\n",
      "\"print(\\\"next(my_getitem_iterator) =\\\", next(my_getitem_iterator))\\n\",\n",
      "\"print(\\\"next(my_getitem_iterator) =\\\", next(my_getitem_iterator))\\n\",\n",
      "\"print(\\\"next(my_getitem_iterator) =\\\", next(my_getitem_iterator))\"\n",
      "]\n",
      "},\n",
      "{\n",
      "\"cell_type\": \"markdown\",\n",
      "\"metadata\": {},\n",
      "\"source\": [\n",
      "\"We can create an iterable class by implementing `__iter__` and `__next__` attributes...\"\n",
      "]\n",
      "},\n",
      "{\n",
      "\"cell_type\": \"code\",\n",
      "\"execution_count\": null,\n",
      "\"metadata\": {},\n",
      "\"outputs\": [],\n",
      "\"source\": [\n",
      "\"class IterableClass:\\n\",\n",
      "\"    \\\"\\\"\\\"class is iterable but also an iterator\\\"\\\"\\\"        # note this is not always true - sometimes an iterable...\\n\",\n",
      "\"    def __init__(self, limit):                          # ...will return a separate iterator instance e.g. a list\\n\",\n",
      "\"        self.limit = limit\\n\",\n",
      "\"\\n\",\n",
      "\"    def __iter__(self):                 # called when you use iter() on an instance of IterableClass\\n\",\n",
      "\"        # need to reset each time iter() is called else only works once\\n\",\n",
      "\"        self.value = 1\\n\",\n",
      "\"        return self                     # returns itself as the iterator\\n\",\n",
      "\"\\n\",\n",
      "\"    def __next__(self):                 # as Iterable class is also an iterator we need to implement __next__\\n\",\n",
      "\"        if self.value < self.limit:\\n\",\n",
      "\"            self.value *= 2\\n\",\n",
      "\"            return self.value\\n\",\n",
      "\"        else:\\n\",\n",
      "\"            raise StopIteration         # iteration will cease when this is raised\\n\",\n",
      "\"\\n\",\n",
      "\"bob = IterableClass(256)\\n\",\n",
      "\"for value in bob:\\n\",\n",
      "\"    print(value)\"\n",
      "]\n",
      "},\n",
      "{\n",
      "\"cell_type\": \"markdown\",\n",
      "\"metadata\": {},\n",
      "\"source\": [\n",
      "\"You can pass iter() a function and a sentinel, a value that raises the exception if returned from function...\"\n",
      "]\n",
      "},\n",
      "{\n",
      "\"cell_type\": \"code\",\n",
      "\"execution_count\": null,\n",
      "\"metadata\": {},\n",
      "\"outputs\": [],\n",
      "\"source\": [\n",
      "\"import random\\n\",\n",
      "\"\\n\",\n",
      "\"def my_random_number_generator():\\n\",\n",
      "\"    return random.randint(1, 10)\\n\",\n",
      "\"\\n\",\n",
      "\"sentinel_based_iterator = iter(my_random_number_generator, 5)\\n\",\n",
      "\"while True:\\n\",\n",
      "\"    try:\\n\",\n",
      "\"        print(next(sentinel_based_iterator))\\n\",\n",
      "\"    except StopIteration:\\n\",\n",
      "\"        print(\\\"jackpot! my_random_number_generator() function has returned 5!\\\")\\n\",\n",
      "\"        break\"\n",
      "]\n",
      "},\n",
      "{\n",
      "\"cell_type\": \"markdown\",\n",
      "\"metadata\": {},\n",
      "\"source\": [\n",
      "\"You can also use it with iter() in a for loop...\"\n",
      "]\n",
      "},\n",
      "{\n",
      "\"cell_type\": \"code\",\n",
      "\"execution_count\": null,\n",
      "\"metadata\": {},\n",
      "\"outputs\": [],\n",
      "\"source\": [\n",
      "\"for random_value in iter(my_random_number_generator, 5):\\n\",\n",
      "\"    print(random_value)\"\n",
      "]\n",
      "},\n",
      "{\n",
      "\"cell_type\": \"markdown\",\n",
      "\"metadata\": {},\n",
      "\"source\": [\n",
      "\"You can use zip to create an iterable of tuples that aggregate from a number of iterables...\"\n",
      "]\n",
      "},\n",
      "{\n",
      "\"cell_type\": \"code\",\n",
      "\"execution_count\": null,\n",
      "\"metadata\": {},\n",
      "\"outputs\": [],\n",
      "\"source\": [\n",
      "\"my_list_a = ['bob', 'simon', 'john', 'dave']\\n\",\n",
      "\"my_list_b = [1, 2, 3]\\n\",\n",
      "\"my_list_c = [3.1, 3.4, 1.4, 8.3]\\n\",\n",
      "\"\\n\",\n",
      "\"# will terminate on shortest of the iterables\\n\",\n",
      "\"for zipped_tuple in zip(my_list_a, my_list_b, my_list_c):\\n\",\n",
      "\"    # gets the nth item from each iterable in the zip list and puts them in a tuple\\n\",\n",
      "\"    print(zipped_tuple)\"\n",
      "]\n",
      "},\n",
      "{\n",
      "\"cell_type\": \"markdown\",\n",
      "\"metadata\": {},\n",
      "\"source\": [\n",
      "\"We can create an iterable class that returns a separate iterator object. Note this is useful if you want multiple separate iterators looping over the same iterable object.\"\n",
      "]\n",
      "},\n",
      "{\n",
      "\"cell_type\": \"code\",\n",
      "\"execution_count\": null,\n",
      "\"metadata\": {},\n",
      "\"outputs\": [],\n",
      "\"source\": [\n",
      "\"class StudentIteratorClass:\\n\",\n",
      "\"    def __init__(self, student_iterable):\\n\",\n",
      "\"        print(\\\"StudentIteratorClass.__init__\\\")\\n\",\n",
      "\"        self.student_iterable = student_iterable\\n\",\n",
      "\"        self.index = 0\\n\",\n",
      "\"\\n\",\n",
      "\"    def __next__(self):                                     # as an iterator we need to implement __next__\\n\",\n",
      "\"        print(\\\"StudentIteratorClass.__next__\\\")\\n\",\n",
      "\"        if self.index < len(self.student_iterable.students):\\n\",\n",
      "\"            _next_val = self.student_iterable.students[self.index]\\n\",\n",
      "\"            self.index += 1\\n\",\n",
      "\"            return _next_val\\n\",\n",
      "\"        else:\\n\",\n",
      "\"            raise StopIteration\\n\",\n",
      "\"\\n\",\n",
      "\"class StudentIterableClass:\\n\",\n",
      "\"    def __init__(self):\\n\",\n",
      "\"        print(\\\"StudentIterableClass.__init__\\\")\\n\",\n",
      "\"        self.students = ['bob', 'sally', 'jake']\\n\",\n",
      "\"\\n\",\n",
      "\"    def __iter__(self):\\n\",\n",
      "\"        print(\\\"StudentIterableClass.__iter__\\\")\\n\",\n",
      "\"        return StudentIteratorClass(self)\\n\",\n",
      "\"\\n\",\n",
      "\"my_instance = StudentIterableClass()\\n\",\n",
      "\"my_instance_iterator = iter(my_instance)\\n\",\n",
      "\"print(\\\"type(my_instance_iterator) =\\\", type(my_instance_iterator))\\n\",\n",
      "\"for student in my_instance:\\n\",\n",
      "\"    print(\\\"student =\\\", student)\\n\"\n",
      "]\n",
      "}\n",
      "],\n",
      "\"metadata\": {\n",
      "\"kernelspec\": {\n",
      "\"display_name\": \"Python 3.10.7 64-bit\",\n",
      "\"language\": \"python\",\n",
      "\"name\": \"python3\"\n",
      "},\n",
      "\"language_info\": {\n",
      "\"name\": \"python\",\n",
      "\"version\": \"3.10.7\"\n",
      "},\n",
      "\"orig_nbformat\": 4,\n",
      "\"vscode\": {\n",
      "\"interpreter\": {\n",
      "\"hash\": \"c19fa61d258bb2b35aae2ada233c33e2817c1ce895aa48acba720c6bf7cbe3cb\"\n",
      "}\n",
      "}\n",
      "},\n",
      "\"nbformat\": 4,\n",
      "\"nbformat_minor\": 2\n",
      "}\n",
      "EOF!\n"
     ]
    }
   ],
   "source": [
    "with open('7_iterators.ipynb', 'r') as f:        # f is a file handle but also an iterator...\n",
    "    try:                                      # .. it has a __next__ attribute\n",
    "        while True:\n",
    "            current = next(f)\n",
    "            print(current.strip())\n",
    "    except StopIteration:\n",
    "        print('EOF!')\n",
    "\n",
    "my_list = [1, 5, 3, 'bob', 2]"
   ]
  },
  {
   "cell_type": "markdown",
   "metadata": {},
   "source": [
    "Common way to use an iterator is in a for loop..."
   ]
  },
  {
   "cell_type": "code",
   "execution_count": 5,
   "metadata": {},
   "outputs": [
    {
     "name": "stdout",
     "output_type": "stream",
     "text": [
      "1\n",
      "5\n",
      "3\n",
      "bob\n",
      "2\n"
     ]
    }
   ],
   "source": [
    "for an_item in my_list:\n",
    "    print(an_item)"
   ]
  },
  {
   "cell_type": "markdown",
   "metadata": {},
   "source": [
    "Or if you get given an iterator using `iter()` - a list is iterable but is not an iterator itself. `list` have an `__iter__` attribute to return an iterator but no `__next__`"
   ]
  },
  {
   "cell_type": "code",
   "execution_count": 6,
   "metadata": {},
   "outputs": [
    {
     "name": "stdout",
     "output_type": "stream",
     "text": [
      "1\n",
      "5\n",
      "3\n",
      "bob\n",
      "2\n"
     ]
    }
   ],
   "source": [
    "my_iter = iter(my_list)\n",
    "for an_item in my_iter:\n",
    "    print(an_item)"
   ]
  },
  {
   "cell_type": "markdown",
   "metadata": {},
   "source": [
    "You can use `iter()` and `next()` to implement a for loop. Note this is how a for loop is actually implemented."
   ]
  },
  {
   "cell_type": "code",
   "execution_count": 7,
   "metadata": {},
   "outputs": [
    {
     "name": "stdout",
     "output_type": "stream",
     "text": [
      "1\n",
      "5\n",
      "3\n",
      "bob\n",
      "2\n",
      "StopIteration exception raised so must be at end of list!\n"
     ]
    }
   ],
   "source": [
    "my_iter = iter(my_list)\n",
    "while True:\n",
    "    try:\n",
    "        # next() will throw StopIteration if nothing left in iterable\n",
    "        print(next(my_iter))\n",
    "    except StopIteration:\n",
    "        print(\"StopIteration exception raised so must be at end of list!\")\n",
    "        break"
   ]
  },
  {
   "cell_type": "markdown",
   "metadata": {},
   "source": [
    "Alternatively, you can use the `__next__()` attribute of the iterator..."
   ]
  },
  {
   "cell_type": "code",
   "execution_count": 8,
   "metadata": {},
   "outputs": [
    {
     "name": "stdout",
     "output_type": "stream",
     "text": [
      "1\n",
      "5\n",
      "3\n",
      "bob\n",
      "2\n",
      "end of list!\n"
     ]
    }
   ],
   "source": [
    "my_iter = iter(my_list)\n",
    "while True:\n",
    "    try:\n",
    "        # next() will throw StopIteration if nothing left in iterable\n",
    "        print(my_iter.__next__())\n",
    "    except StopIteration:\n",
    "        print(\"end of list!\")\n",
    "        break"
   ]
  },
  {
   "cell_type": "markdown",
   "metadata": {},
   "source": [
    "We can create an iterable class by implementing the `__getitem__` attribute..."
   ]
  },
  {
   "cell_type": "code",
   "execution_count": 9,
   "metadata": {},
   "outputs": [
    {
     "name": "stdout",
     "output_type": "stream",
     "text": [
      "in GetItemClass.__getitem__\n",
      "my_getitem_instance[0] = 1\n",
      "in GetItemClass.__getitem__\n",
      "my_getitem_instance[1] = 2\n",
      "in GetItemClass.__getitem__\n",
      "my_getitem_instance[2] = 4\n",
      "GetItemClass is iterable as it implements __getitem__\n",
      "in GetItemClass.__getitem__\n",
      "my_value = 1\n",
      "in GetItemClass.__getitem__\n",
      "my_value = 2\n",
      "in GetItemClass.__getitem__\n",
      "my_value = 4\n",
      "in GetItemClass.__getitem__\n",
      "my_value = 8\n",
      "in GetItemClass.__getitem__\n",
      "my_value = 16\n",
      "in GetItemClass.__getitem__\n",
      "my_value = 32\n",
      "in GetItemClass.__getitem__\n",
      "my_value = 64\n"
     ]
    }
   ],
   "source": [
    "class GetItemClass:\n",
    "    def __init__(self):\n",
    "        \"\"\"a doc string is a valid statement so don't need a pass\"\"\"\n",
    "\n",
    "    def __getitem__(self, item):        # item can be an integer or a slice object\n",
    "        print(\"in GetItemClass.__getitem__\")\n",
    "        if type(item) is int:\n",
    "            return 2**item\n",
    "        elif type(item) is slice:\n",
    "            return [2**x for x in range(item.start, item.stop, item.step)]\n",
    "\n",
    "my_getitem_instance = GetItemClass()\n",
    "print(\"my_getitem_instance[0] =\", my_getitem_instance[0])\n",
    "print(\"my_getitem_instance[1] =\", my_getitem_instance[1])\n",
    "print(\"my_getitem_instance[2] =\", my_getitem_instance[2])\n",
    "print(\"GetItemClass is iterable as it implements __getitem__\")\n",
    "for my_value in my_getitem_instance:\n",
    "    print(\"my_value =\", my_value)\n",
    "    if my_value > 32:          # because GetItemClass is an infinite iterator - it will never finish we need to break\n",
    "        break"
   ]
  },
  {
   "cell_type": "markdown",
   "metadata": {},
   "source": [
    "We can also use slicing with `GetItemClass` as it supports `__getitem__`"
   ]
  },
  {
   "cell_type": "code",
   "execution_count": 10,
   "metadata": {},
   "outputs": [
    {
     "name": "stdout",
     "output_type": "stream",
     "text": [
      "in GetItemClass.__getitem__\n",
      "my_value = 16\n",
      "my_value = 64\n",
      "my_value = 256\n",
      "my_value = 1024\n"
     ]
    }
   ],
   "source": [
    "for my_value in my_getitem_instance[4:12:2]:\n",
    "    print(\"my_value =\", my_value)"
   ]
  },
  {
   "cell_type": "markdown",
   "metadata": {},
   "source": [
    "Interestingly `iter()` will return an iterator even though `__iter__` is not defined"
   ]
  },
  {
   "cell_type": "code",
   "execution_count": 11,
   "metadata": {},
   "outputs": [
    {
     "name": "stdout",
     "output_type": "stream",
     "text": [
      "my_getitem_iterator = <iterator object at 0x000002421F0B4250>\n",
      "dir(my_getitem_iterator) = ['__class__', '__delattr__', '__dir__', '__doc__', '__eq__', '__format__', '__ge__', '__getattribute__', '__gt__', '__hash__', '__init__', '__init_subclass__', '__iter__', '__le__', '__length_hint__', '__lt__', '__ne__', '__new__', '__next__', '__reduce__', '__reduce_ex__', '__repr__', '__setattr__', '__setstate__', '__sizeof__', '__str__', '__subclasshook__']\n",
      "next also works on this iterator by calling __getitem__ with increasing item values\n",
      "in GetItemClass.__getitem__\n",
      "next(my_getitem_iterator) = 1\n",
      "in GetItemClass.__getitem__\n",
      "next(my_getitem_iterator) = 2\n",
      "in GetItemClass.__getitem__\n",
      "next(my_getitem_iterator) = 4\n"
     ]
    }
   ],
   "source": [
    "my_getitem_iterator = iter(my_getitem_instance)\n",
    "print(\"my_getitem_iterator =\", my_getitem_iterator)                 # iter() has returned a base class Iterator object\n",
    "print(\"dir(my_getitem_iterator) =\", dir(my_getitem_iterator))\n",
    "print(\"next also works on this iterator by calling __getitem__ with increasing item values\")\n",
    "print(\"next(my_getitem_iterator) =\", next(my_getitem_iterator))\n",
    "print(\"next(my_getitem_iterator) =\", next(my_getitem_iterator))\n",
    "print(\"next(my_getitem_iterator) =\", next(my_getitem_iterator))"
   ]
  },
  {
   "cell_type": "markdown",
   "metadata": {},
   "source": [
    "We can create an iterable class by implementing `__iter__` and `__next__` attributes..."
   ]
  },
  {
   "cell_type": "code",
   "execution_count": 12,
   "metadata": {},
   "outputs": [
    {
     "name": "stdout",
     "output_type": "stream",
     "text": [
      "2\n",
      "4\n",
      "8\n",
      "16\n",
      "32\n",
      "64\n",
      "128\n",
      "256\n"
     ]
    }
   ],
   "source": [
    "class IterableClass:\n",
    "    \"\"\"class is iterable but also an iterator\"\"\"        # note this is not always true - sometimes an iterable...\n",
    "    def __init__(self, limit):                          # ...will return a separate iterator instance e.g. a list\n",
    "        self.limit = limit\n",
    "\n",
    "    def __iter__(self):                 # called when you use iter() on an instance of IterableClass\n",
    "        # need to reset each time iter() is called else only works once\n",
    "        self.value = 1\n",
    "        return self                     # returns itself as the iterator\n",
    "\n",
    "    def __next__(self):                 # as Iterable class is also an iterator we need to implement __next__\n",
    "        if self.value < self.limit:\n",
    "            self.value *= 2\n",
    "            return self.value\n",
    "        else:\n",
    "            raise StopIteration         # iteration will cease when this is raised\n",
    "\n",
    "bob = IterableClass(256)\n",
    "for value in bob:\n",
    "    print(value)"
   ]
  },
  {
   "cell_type": "markdown",
   "metadata": {},
   "source": [
    "You can pass iter() a function and a sentinel, a value that raises the exception if returned from function..."
   ]
  },
  {
   "cell_type": "code",
   "execution_count": 13,
   "metadata": {},
   "outputs": [
    {
     "name": "stdout",
     "output_type": "stream",
     "text": [
      "3\n",
      "6\n",
      "8\n",
      "1\n",
      "4\n",
      "8\n",
      "10\n",
      "9\n",
      "jackpot! my_random_number_generator() function has returned 5!\n"
     ]
    }
   ],
   "source": [
    "import random\n",
    "\n",
    "def my_random_number_generator():\n",
    "    return random.randint(1, 10)\n",
    "\n",
    "sentinel_based_iterator = iter(my_random_number_generator, 5)\n",
    "while True:\n",
    "    try:\n",
    "        print(next(sentinel_based_iterator))\n",
    "    except StopIteration:\n",
    "        print(\"jackpot! my_random_number_generator() function has returned 5!\")\n",
    "        break"
   ]
  },
  {
   "cell_type": "markdown",
   "metadata": {},
   "source": [
    "You can also use it with iter() in a for loop..."
   ]
  },
  {
   "cell_type": "code",
   "execution_count": 14,
   "metadata": {},
   "outputs": [
    {
     "name": "stdout",
     "output_type": "stream",
     "text": [
      "6\n",
      "10\n",
      "8\n",
      "6\n"
     ]
    }
   ],
   "source": [
    "for random_value in iter(my_random_number_generator, 5):\n",
    "    print(random_value)"
   ]
  },
  {
   "cell_type": "markdown",
   "metadata": {},
   "source": [
    "You can use zip to create an iterable of tuples that aggregate from a number of iterables..."
   ]
  },
  {
   "cell_type": "code",
   "execution_count": 15,
   "metadata": {},
   "outputs": [
    {
     "name": "stdout",
     "output_type": "stream",
     "text": [
      "('bob', 1, 3.1)\n",
      "('simon', 2, 3.4)\n",
      "('john', 3, 1.4)\n"
     ]
    }
   ],
   "source": [
    "my_list_a = ['bob', 'simon', 'john', 'dave']\n",
    "my_list_b = [1, 2, 3]\n",
    "my_list_c = [3.1, 3.4, 1.4, 8.3]\n",
    "\n",
    "# will terminate on shortest of the iterables\n",
    "for zipped_tuple in zip(my_list_a, my_list_b, my_list_c):\n",
    "    # gets the nth item from each iterable in the zip list and puts them in a tuple\n",
    "    print(zipped_tuple)"
   ]
  },
  {
   "cell_type": "markdown",
   "metadata": {},
   "source": [
    "We can create an iterable class that returns a separate iterator object. Note this is useful if you want multiple separate iterators looping over the same iterable object."
   ]
  },
  {
   "cell_type": "code",
   "execution_count": 16,
   "metadata": {},
   "outputs": [
    {
     "name": "stdout",
     "output_type": "stream",
     "text": [
      "StudentIterableClass.__init__\n",
      "StudentIterableClass.__iter__\n",
      "StudentIteratorClass.__init__\n",
      "type(my_instance_iterator) = <class '__main__.StudentIteratorClass'>\n",
      "StudentIterableClass.__iter__\n",
      "StudentIteratorClass.__init__\n",
      "StudentIteratorClass.__next__\n",
      "student = bob\n",
      "StudentIteratorClass.__next__\n",
      "student = sally\n",
      "StudentIteratorClass.__next__\n",
      "student = jake\n",
      "StudentIteratorClass.__next__\n"
     ]
    }
   ],
   "source": [
    "class StudentIteratorClass:\n",
    "    def __init__(self, student_iterable):\n",
    "        print(\"StudentIteratorClass.__init__\")\n",
    "        self.student_iterable = student_iterable\n",
    "        self.index = 0\n",
    "\n",
    "    def __next__(self):                                     # as an iterator we need to implement __next__\n",
    "        print(\"StudentIteratorClass.__next__\")\n",
    "        if self.index < len(self.student_iterable.students):\n",
    "            _next_val = self.student_iterable.students[self.index]\n",
    "            self.index += 1\n",
    "            return _next_val\n",
    "        else:\n",
    "            raise StopIteration\n",
    "\n",
    "class StudentIterableClass:\n",
    "    def __init__(self):\n",
    "        print(\"StudentIterableClass.__init__\")\n",
    "        self.students = ['bob', 'sally', 'jake']\n",
    "\n",
    "    def __iter__(self):\n",
    "        print(\"StudentIterableClass.__iter__\")\n",
    "        return StudentIteratorClass(self)\n",
    "\n",
    "my_instance = StudentIterableClass()\n",
    "my_instance_iterator = iter(my_instance)\n",
    "print(\"type(my_instance_iterator) =\", type(my_instance_iterator))\n",
    "for student in my_instance:\n",
    "    print(\"student =\", student)\n"
   ]
  }
 ],
 "metadata": {
  "kernelspec": {
   "display_name": "Python 3.10.7 64-bit",
   "language": "python",
   "name": "python3"
  },
  "language_info": {
   "codemirror_mode": {
    "name": "ipython",
    "version": 3
   },
   "file_extension": ".py",
   "mimetype": "text/x-python",
   "name": "python",
   "nbconvert_exporter": "python",
   "pygments_lexer": "ipython3",
   "version": "3.10.7"
  },
  "orig_nbformat": 4,
  "vscode": {
   "interpreter": {
    "hash": "c19fa61d258bb2b35aae2ada233c33e2817c1ce895aa48acba720c6bf7cbe3cb"
   }
  }
 },
 "nbformat": 4,
 "nbformat_minor": 2
}
