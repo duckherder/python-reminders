{
 "cells": [
  {
   "cell_type": "markdown",
   "metadata": {},
   "source": [
    "# Iterators\n",
    "\n",
    "Objects can be an iterable, an iterator or both. According to PEP234\n",
    "\n",
    "1. An object can be iterated over with \"for\" if it implements\n",
    "   `__iter__()` or `__getitem__()`.\n",
    "\n",
    "2. An object can function as an iterator if it implements `next()`."
   ]
  },
  {
   "cell_type": "markdown",
   "metadata": {},
   "source": [
    "`all()`: returns `True` if all elements of an iterable are `True`..."
   ]
  },
  {
   "cell_type": "code",
   "execution_count": 1,
   "metadata": {},
   "outputs": [
    {
     "name": "stdout",
     "output_type": "stream",
     "text": [
      "all([True, True, True, True]) = True\n",
      "all([True, True, False, True]) = False\n"
     ]
    }
   ],
   "source": [
    "print(\"all([True, True, True, True]) =\", all([True, True, True, True]))\n",
    "print(\"all([True, True, False, True]) =\", all([True, True, False, True]))"
   ]
  },
  {
   "cell_type": "markdown",
   "metadata": {},
   "source": [
    "`any()`: returns True if all elements of an iterable are `True`..."
   ]
  },
  {
   "cell_type": "code",
   "execution_count": 2,
   "metadata": {},
   "outputs": [
    {
     "name": "stdout",
     "output_type": "stream",
     "text": [
      "any((False, False, False, True)) = True\n",
      "any((False, False, False, False)) = False\n"
     ]
    }
   ],
   "source": [
    "print(\"any((False, False, False, True)) =\", any((False, False, False, True)))\n",
    "print(\"any((False, False, False, False)) =\", any((False, False, False, False)))"
   ]
  },
  {
   "cell_type": "markdown",
   "metadata": {},
   "source": [
    "`min/max()`: return min/max of an iterable..."
   ]
  },
  {
   "cell_type": "code",
   "execution_count": 2,
   "metadata": {},
   "outputs": [
    {
     "name": "stdout",
     "output_type": "stream",
     "text": [
      "max(['Bob', 'Tim', 'Andy']) = Tim\n",
      "min([1, 2, -3]) = -3\n"
     ]
    }
   ],
   "source": [
    "print(\"max(['Bob', 'Tim', 'Andy']) =\", max(['Bob', 'Tim', 'Andy']))\n",
    "print(\"min([1, 2, -3]) =\", min([1, 2, -3]))"
   ]
  },
  {
   "cell_type": "markdown",
   "metadata": {},
   "source": [
    "Use `next()` function to read lines from file..."
   ]
  },
  {
   "cell_type": "code",
   "execution_count": null,
   "metadata": {},
   "outputs": [],
   "source": [
    "with open('7_iterators.ipynb', 'r') as f:        # f is a file handle but also an iterator...\n",
    "    try:                                         # .. it has a __next__ attribute\n",
    "        while True:\n",
    "            current = next(f)\n",
    "            print(current.strip())\n",
    "    except StopIteration:                        # next() will throw StopIteration exception when done\n",
    "        print('EOF!')"
   ]
  },
  {
   "cell_type": "markdown",
   "metadata": {},
   "source": [
    "Common way to use an iterator is in a `for` loop..."
   ]
  },
  {
   "cell_type": "code",
   "execution_count": 6,
   "metadata": {},
   "outputs": [
    {
     "name": "stdout",
     "output_type": "stream",
     "text": [
      "1\n",
      "5\n",
      "3\n",
      "Bob\n",
      "2\n"
     ]
    }
   ],
   "source": [
    "my_list = [1, 5, 3, 'Bob', 2]    # my_list is iterable\n",
    "for an_item in my_list:\n",
    "    print(an_item)"
   ]
  },
  {
   "cell_type": "markdown",
   "metadata": {},
   "source": [
    "A `list` is iterable but it is not an iterator itself. You can get an iterator from a `list` using the `iter()` function. `list` has an `__iter__` attribute which will return an iterator but no `__next__` which would make it an iterator."
   ]
  },
  {
   "cell_type": "code",
   "execution_count": 7,
   "metadata": {},
   "outputs": [
    {
     "name": "stdout",
     "output_type": "stream",
     "text": [
      "1\n",
      "5\n",
      "3\n",
      "Bob\n",
      "2\n"
     ]
    }
   ],
   "source": [
    "my_iter = iter(my_list)\n",
    "for an_item in my_iter:\n",
    "    print(an_item)"
   ]
  },
  {
   "cell_type": "markdown",
   "metadata": {},
   "source": [
    "You can use `iter()` and `next()` to implement a for loop. Note this is how a `for` loop is actually implemented."
   ]
  },
  {
   "cell_type": "code",
   "execution_count": 8,
   "metadata": {},
   "outputs": [
    {
     "name": "stdout",
     "output_type": "stream",
     "text": [
      "1\n",
      "5\n",
      "3\n",
      "Bob\n",
      "2\n",
      "StopIteration exception raised so must be at end of list!\n"
     ]
    }
   ],
   "source": [
    "my_iter = iter(my_list)\n",
    "while True:\n",
    "    try:\n",
    "        # next() will throw StopIteration if nothing left in iterable\n",
    "        print(next(my_iter))\n",
    "    except StopIteration:\n",
    "        print(\"StopIteration exception raised so must be at end of list!\")\n",
    "        break"
   ]
  },
  {
   "cell_type": "markdown",
   "metadata": {},
   "source": [
    "Alternatively, you can use the `__next__()` attribute of the iterator..."
   ]
  },
  {
   "cell_type": "code",
   "execution_count": 10,
   "metadata": {},
   "outputs": [
    {
     "name": "stdout",
     "output_type": "stream",
     "text": [
      "1\n",
      "5\n",
      "3\n",
      "Bob\n",
      "2\n",
      "End of list!\n"
     ]
    }
   ],
   "source": [
    "my_iter = iter(my_list)\n",
    "while True:\n",
    "    try:\n",
    "        # next() will throw StopIteration if nothing left in iterable\n",
    "        print(my_iter.__next__())\n",
    "    except StopIteration:\n",
    "        print(\"End of list!\")\n",
    "        break"
   ]
  },
  {
   "cell_type": "markdown",
   "metadata": {},
   "source": [
    "We can create an subscriptable class by implementing the `__getitem__` attribute..."
   ]
  },
  {
   "cell_type": "code",
   "execution_count": 27,
   "metadata": {},
   "outputs": [
    {
     "name": "stdout",
     "output_type": "stream",
     "text": [
      "my_getitem_instance[0] = 1\n",
      "my_getitem_instance[1] = 2\n",
      "my_getitem_instance[2] = 4\n",
      "Because GetItemClass is subscriptable it is also iterable\n",
      "my_value = 1\n",
      "my_value = 2\n",
      "my_value = 4\n",
      "my_value = 8\n",
      "my_value = 16\n",
      "my_value = 32\n",
      "my_value = 64\n"
     ]
    }
   ],
   "source": [
    "class GetItemClass:\n",
    "    def __getitem__(self, item):        # item can be an integer or a slice object\n",
    "        if type(item) is int:\n",
    "            return 2**item\n",
    "        elif type(item) is slice:\n",
    "            return [2**x for x in range(item.start, item.stop, item.step)]\n",
    "\n",
    "my_getitem_instance = GetItemClass()\n",
    "print(\"my_getitem_instance[0] =\", my_getitem_instance[0])\n",
    "print(\"my_getitem_instance[1] =\", my_getitem_instance[1])\n",
    "print(\"my_getitem_instance[2] =\", my_getitem_instance[2])\n",
    "print(\"Because GetItemClass is subscriptable it is also iterable\")\n",
    "for my_value in my_getitem_instance:\n",
    "    print(\"my_value =\", my_value)\n",
    "    if my_value > 32:          # because GetItemClass is an infinitely iterable need to break\n",
    "        break"
   ]
  },
  {
   "cell_type": "markdown",
   "metadata": {},
   "source": [
    "We can also use slicing with `GetItemClass` as it supports `__getitem__`"
   ]
  },
  {
   "cell_type": "code",
   "execution_count": 10,
   "metadata": {},
   "outputs": [
    {
     "name": "stdout",
     "output_type": "stream",
     "text": [
      "in GetItemClass.__getitem__\n",
      "my_value = 16\n",
      "my_value = 64\n",
      "my_value = 256\n",
      "my_value = 1024\n"
     ]
    }
   ],
   "source": [
    "for my_value in my_getitem_instance[4:12:2]:\n",
    "    print(\"my_value =\", my_value)"
   ]
  },
  {
   "cell_type": "markdown",
   "metadata": {},
   "source": [
    " `iter()` will return an iterator even though `__iter__` is not explicitly defined in class definition. `iter()` will return the base `object` base class Iterator object. `next()` also works on this iterator by calling `__getitem__` with increasing `item` values."
   ]
  },
  {
   "cell_type": "code",
   "execution_count": 14,
   "metadata": {},
   "outputs": [
    {
     "name": "stdout",
     "output_type": "stream",
     "text": [
      "my_getitem_iterator = <iterator object at 0x0000017068F55180>\n",
      "dir(my_getitem_iterator) = ['__class__', '__delattr__', '__dir__', '__doc__', '__eq__', '__format__', '__ge__', '__getattribute__', '__gt__', '__hash__', '__init__', '__init_subclass__', '__iter__', '__le__', '__length_hint__', '__lt__', '__ne__', '__new__', '__next__', '__reduce__', '__reduce_ex__', '__repr__', '__setattr__', '__setstate__', '__sizeof__', '__str__', '__subclasshook__']\n",
      "next(my_getitem_iterator) = 1\n",
      "next(my_getitem_iterator) = 2\n"
     ]
    }
   ],
   "source": [
    "my_getitem_iterator = iter(my_getitem_instance)\n",
    "print(\"my_getitem_iterator =\", my_getitem_iterator)\n",
    "print(\"dir(my_getitem_iterator) =\", dir(my_getitem_iterator))\n",
    "print(\"next(my_getitem_iterator) =\", next(my_getitem_iterator))\n",
    "print(\"next(my_getitem_iterator) =\", next(my_getitem_iterator))"
   ]
  },
  {
   "cell_type": "markdown",
   "metadata": {},
   "source": [
    "We can create an iterable class that is also an iterator by implementing `__iter__` and `__next__` attributes..."
   ]
  },
  {
   "cell_type": "code",
   "execution_count": 34,
   "metadata": {},
   "outputs": [],
   "source": [
    "class IterableClass:\n",
    "    \"\"\"class is iterable but also an iterator\"\"\"        # note this is not always true - sometimes an iterable...\n",
    "    def __init__(self, limit):                          # ...will return a separate iterator instance e.g. a list\n",
    "        self.limit = limit\n",
    "\n",
    "    def __iter__(self):                 # called when you use iter() on an instance of IterableClass\n",
    "        # need to reset each time iter() is called else only works once\n",
    "        self.value = 1\n",
    "        return self                     # returns itself as the iterator\n",
    "\n",
    "    def __next__(self):                 # as Iterable class is also an iterator we need to implement __next__\n",
    "        if self.value < self.limit:\n",
    "            self.value *= 2\n",
    "            return self.value\n",
    "        else:\n",
    "            raise StopIteration         # iteration will cease when this is raised"
   ]
  },
  {
   "cell_type": "markdown",
   "metadata": {},
   "source": [
    "Use it as an iterable object"
   ]
  },
  {
   "cell_type": "code",
   "execution_count": 36,
   "metadata": {},
   "outputs": [
    {
     "name": "stdout",
     "output_type": "stream",
     "text": [
      "2\n",
      "4\n",
      "8\n"
     ]
    }
   ],
   "source": [
    "iterable_object = IterableClass(8)\n",
    "for value in iterable_object:\n",
    "    print(value)"
   ]
  },
  {
   "cell_type": "markdown",
   "metadata": {},
   "source": [
    "Or use the iterator"
   ]
  },
  {
   "cell_type": "code",
   "execution_count": 37,
   "metadata": {},
   "outputs": [
    {
     "name": "stdout",
     "output_type": "stream",
     "text": [
      "2\n",
      "4\n",
      "8\n"
     ]
    }
   ],
   "source": [
    "iterator_object = iter(IterableClass(8))\n",
    "while True:\n",
    "    try:\n",
    "        print(next(iterator_object))\n",
    "    except StopIteration:\n",
    "        break"
   ]
  },
  {
   "cell_type": "markdown",
   "metadata": {},
   "source": [
    " Note you can pass `iter()` a function and a sentinel, a value that raises the `StopIteration` exception if returned from function..."
   ]
  },
  {
   "cell_type": "code",
   "execution_count": 23,
   "metadata": {},
   "outputs": [
    {
     "name": "stdout",
     "output_type": "stream",
     "text": [
      "1\n",
      "3\n",
      "Jackpot! my_random_number_generator() function has returned 5!\n"
     ]
    }
   ],
   "source": [
    "import random\n",
    "\n",
    "def my_random_number_generator():\n",
    "    return random.randint(1, 10)\n",
    "\n",
    "sentinel_based_iterator = iter(my_random_number_generator, 5)   # 5 is the sentinel\n",
    "while True:\n",
    "    try:\n",
    "        print(next(sentinel_based_iterator))\n",
    "    except StopIteration:\n",
    "        print(\"Jackpot! my_random_number_generator() function has returned 5!\")\n",
    "        break"
   ]
  },
  {
   "cell_type": "markdown",
   "metadata": {},
   "source": [
    "You can also use it with `iter()` in a for loop..."
   ]
  },
  {
   "cell_type": "code",
   "execution_count": 14,
   "metadata": {},
   "outputs": [
    {
     "name": "stdout",
     "output_type": "stream",
     "text": [
      "6\n",
      "10\n",
      "8\n",
      "6\n"
     ]
    }
   ],
   "source": [
    "for random_value in iter(my_random_number_generator, 5):\n",
    "    print(random_value)"
   ]
  },
  {
   "cell_type": "markdown",
   "metadata": {},
   "source": [
    "You can use `zip()` to create an iterable of tuples that aggregate from a number of iterables..."
   ]
  },
  {
   "cell_type": "code",
   "execution_count": 24,
   "metadata": {},
   "outputs": [
    {
     "name": "stdout",
     "output_type": "stream",
     "text": [
      "('Bob', 1, 3.1)\n",
      "('Susan', 2, 3.4)\n",
      "('John', 3, 1.4)\n"
     ]
    }
   ],
   "source": [
    "my_list_a = ['Bob', 'Susan', 'John', 'Lucy']\n",
    "my_list_b = [1, 2, 3]\n",
    "my_list_c = [3.1, 3.4, 1.4, 8.3]\n",
    "\n",
    "# will terminate on shortest of the iterables\n",
    "for zipped_tuple in zip(my_list_a, my_list_b, my_list_c):\n",
    "    # gets the nth item from each iterable in the zip list and puts them in a tuple\n",
    "    print(zipped_tuple)"
   ]
  },
  {
   "cell_type": "markdown",
   "metadata": {},
   "source": [
    "We can create an iterable class that returns a separate iterator object. Note this is useful if you want multiple separate iterators looping over the same iterable object."
   ]
  },
  {
   "cell_type": "code",
   "execution_count": 40,
   "metadata": {},
   "outputs": [],
   "source": [
    "class StudentIteratorClass:\n",
    "    def __init__(self, student_iterable):\n",
    "        print(\"Iterator: initialise\")\n",
    "        self.student_iterable = student_iterable\n",
    "        self.index = 0\n",
    "\n",
    "    def __next__(self):                                     # as an iterator we need to implement __next__\n",
    "        if self.index < len(self.student_iterable.students):\n",
    "            _next_val = self.student_iterable.students[self.index]\n",
    "            self.index += 1\n",
    "            return _next_val\n",
    "        else:\n",
    "            raise StopIteration\n",
    "\n",
    "class StudentIterableClass:\n",
    "    def __init__(self):\n",
    "        print(\"Iterable: initialise\")\n",
    "        self.students = ['Bob', 'Sally', 'Jake']\n",
    "\n",
    "    def __iter__(self):                             # we want to return our iterator rather than base class\n",
    "        print(\"Iterable: get iterator\")\n",
    "        return StudentIteratorClass(self)           # pass the iterable to the iterator"
   ]
  },
  {
   "cell_type": "markdown",
   "metadata": {},
   "source": [
    "So we can iterate over the iterable object as it implements `__iter__` but it is not subscriptable."
   ]
  },
  {
   "cell_type": "code",
   "execution_count": 41,
   "metadata": {},
   "outputs": [
    {
     "name": "stdout",
     "output_type": "stream",
     "text": [
      "Iterable: initialise\n",
      "Iterable but not subscriptable!\n",
      "Iterable: get iterator\n",
      "Iterator: initialise\n",
      "Student = Bob\n",
      "Student = Sally\n",
      "Student = Jake\n"
     ]
    }
   ],
   "source": [
    "my_instance = StudentIterableClass()\n",
    "try:\n",
    "    print(my_instance[0])\n",
    "except TypeError:\n",
    "    print(\"Iterable but not subscriptable!\")\n",
    "for student in my_instance:\n",
    "    print(\"Student =\", student)"
   ]
  },
  {
   "cell_type": "markdown",
   "metadata": {},
   "source": [
    "Or we can use one or more iterators derived from the same iterable object"
   ]
  },
  {
   "cell_type": "code",
   "execution_count": 43,
   "metadata": {},
   "outputs": [
    {
     "name": "stdout",
     "output_type": "stream",
     "text": [
      "Iterable: initialise\n",
      "Iterable: get iterator\n",
      "Iterator: initialise\n",
      "Iterable: get iterator\n",
      "Iterator: initialise\n",
      "type(my_instance_iterator) = <class '__main__.StudentIteratorClass'>\n",
      "Iterator not iterable!\n",
      "Student = Bob\n",
      "Student = Bob\n",
      "Student = Sally\n",
      "Student = Sally\n",
      "Student = Jake\n",
      "Student = Jake\n"
     ]
    }
   ],
   "source": [
    "\n",
    "my_instance = StudentIterableClass()\n",
    "my_student_iterator1 = iter(my_instance)\n",
    "my_student_iterator2 = iter(my_instance)\n",
    "print(\"type(my_instance_iterator) =\", type(my_student_iterator1))\n",
    "try:\n",
    "    for student in my_student_iterator1:\n",
    "        print(student)\n",
    "except TypeError:\n",
    "    print(\"Iterator not iterable!\")\n",
    "while True:\n",
    "    try:\n",
    "        print(\"Student =\", next(my_student_iterator1))\n",
    "        print(\"Student =\", next(my_student_iterator2))\n",
    "    except StopIteration:\n",
    "        break"
   ]
  }
 ],
 "metadata": {
  "kernelspec": {
   "display_name": "Python 3.10.7 64-bit",
   "language": "python",
   "name": "python3"
  },
  "language_info": {
   "codemirror_mode": {
    "name": "ipython",
    "version": 3
   },
   "file_extension": ".py",
   "mimetype": "text/x-python",
   "name": "python",
   "nbconvert_exporter": "python",
   "pygments_lexer": "ipython3",
   "version": "3.10.7"
  },
  "orig_nbformat": 4,
  "vscode": {
   "interpreter": {
    "hash": "c19fa61d258bb2b35aae2ada233c33e2817c1ce895aa48acba720c6bf7cbe3cb"
   }
  }
 },
 "nbformat": 4,
 "nbformat_minor": 2
}
