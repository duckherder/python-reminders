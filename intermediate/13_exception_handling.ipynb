{
 "cells": [
  {
   "cell_type": "markdown",
   "metadata": {},
   "source": [
    "# Exceptions\n",
    "\n",
    "Exception handling in Python."
   ]
  },
  {
   "cell_type": "markdown",
   "metadata": {},
   "source": [
    "What if we do a simple divide by zero..."
   ]
  },
  {
   "cell_type": "code",
   "execution_count": 1,
   "metadata": {},
   "outputs": [
    {
     "name": "stdout",
     "output_type": "stream",
     "text": [
      "Divide by zero!\n",
      "division by zero\n"
     ]
    }
   ],
   "source": [
    "try:\n",
    "    z = 1 / 0\n",
    "except ZeroDivisionError:\n",
    "    print(\"Divide by zero!\")\n",
    "\n",
    "try:\n",
    "    z = 1 / 0\n",
    "except ZeroDivisionError as e:\n",
    "    print(e)"
   ]
  },
  {
   "cell_type": "markdown",
   "metadata": {},
   "source": [
    "What if we do a bad index into a list..."
   ]
  },
  {
   "cell_type": "code",
   "execution_count": 2,
   "metadata": {},
   "outputs": [
    {
     "name": "stdout",
     "output_type": "stream",
     "text": [
      "list index out of range\n"
     ]
    }
   ],
   "source": [
    "my_list = [1, 2, 3]\n",
    "try:\n",
    "    print(my_list[8])\n",
    "except IndexError as e:\n",
    "    print(e)"
   ]
  },
  {
   "cell_type": "markdown",
   "metadata": {},
   "source": [
    "What are the builtin exception types?"
   ]
  },
  {
   "cell_type": "code",
   "execution_count": 3,
   "metadata": {},
   "outputs": [
    {
     "name": "stdout",
     "output_type": "stream",
     "text": [
      "['ArithmeticError',\n",
      " 'AssertionError',\n",
      " 'AttributeError',\n",
      " 'BaseException',\n",
      " 'BlockingIOError',\n",
      " 'BrokenPipeError',\n",
      " 'BufferError',\n",
      " 'BytesWarning',\n",
      " 'ChildProcessError',\n",
      " 'ConnectionAbortedError',\n",
      " 'ConnectionError',\n",
      " 'ConnectionRefusedError',\n",
      " 'ConnectionResetError',\n",
      " 'DeprecationWarning',\n",
      " 'EOFError',\n",
      " 'EncodingWarning',\n",
      " 'EnvironmentError',\n",
      " 'Exception',\n",
      " 'FileExistsError',\n",
      " 'FileNotFoundError',\n",
      " 'FloatingPointError',\n",
      " 'FutureWarning',\n",
      " 'GeneratorExit',\n",
      " 'IOError',\n",
      " 'ImportError',\n",
      " 'ImportWarning',\n",
      " 'IndentationError',\n",
      " 'IndexError',\n",
      " 'InterruptedError',\n",
      " 'IsADirectoryError',\n",
      " 'KeyError',\n",
      " 'KeyboardInterrupt',\n",
      " 'LookupError',\n",
      " 'MemoryError',\n",
      " 'ModuleNotFoundError',\n",
      " 'NameError',\n",
      " 'NotADirectoryError',\n",
      " 'NotImplementedError',\n",
      " 'OSError',\n",
      " 'OverflowError',\n",
      " 'PendingDeprecationWarning',\n",
      " 'PermissionError',\n",
      " 'ProcessLookupError',\n",
      " 'RecursionError',\n",
      " 'ReferenceError',\n",
      " 'ResourceWarning',\n",
      " 'RuntimeError',\n",
      " 'RuntimeWarning',\n",
      " 'StopAsyncIteration',\n",
      " 'StopIteration',\n",
      " 'SyntaxError',\n",
      " 'SyntaxWarning',\n",
      " 'SystemError',\n",
      " 'SystemExit',\n",
      " 'TabError',\n",
      " 'TimeoutError',\n",
      " 'TypeError',\n",
      " 'UnboundLocalError',\n",
      " 'UnicodeDecodeError',\n",
      " 'UnicodeEncodeError',\n",
      " 'UnicodeError',\n",
      " 'UnicodeTranslateError',\n",
      " 'UnicodeWarning',\n",
      " 'UserWarning',\n",
      " 'ValueError',\n",
      " 'Warning',\n",
      " 'WindowsError',\n",
      " 'ZeroDivisionError']\n"
     ]
    }
   ],
   "source": [
    "import pprint\n",
    "import inspect\n",
    "import builtins\n",
    "\n",
    "pprint.pprint([x for x in dir(builtins) if inspect.isclass(\n",
    "    eval(x)) and issubclass(eval(x), BaseException)])"
   ]
  },
  {
   "cell_type": "markdown",
   "metadata": {},
   "source": [
    "To catch all built-in exceptions.."
   ]
  },
  {
   "cell_type": "code",
   "execution_count": 4,
   "metadata": {},
   "outputs": [
    {
     "name": "stdout",
     "output_type": "stream",
     "text": [
      "catching all builtin exceptions subclassed from BaseException!\n"
     ]
    }
   ],
   "source": [
    "try:\n",
    "    z = 1 / 0\n",
    "except BaseException:\n",
    "    print(\"Catching all builtin exceptions subclassed from BaseException!\")"
   ]
  },
  {
   "cell_type": "markdown",
   "metadata": {},
   "source": [
    "We can use an `else` condition for what to do if `try` succeeds..."
   ]
  },
  {
   "cell_type": "code",
   "execution_count": 5,
   "metadata": {},
   "outputs": [
    {
     "name": "stdout",
     "output_type": "stream",
     "text": [
      "Failed to open file\n",
      "No exception so do something else as a consequence\n"
     ]
    }
   ],
   "source": [
    "try:\n",
    "    f = open(\"bob.txt\", \"r\")           # try something - an action\n",
    "except FileNotFoundError:\n",
    "    # do something as a consequence of failure, such as rollback an action\n",
    "    print(\"Failed to open file\")\n",
    "else:\n",
    "    print(\"Should not be seeing this message\")\n",
    "\n",
    "try:\n",
    "    pass         # Do something that doesn't raise an exception\n",
    "except FileNotFoundError:\n",
    "    # do something as a consequence of failure, such as rollback an action\n",
    "    print(\"Should not be seeing this message\")\n",
    "else:\n",
    "    print(\"No exception so do something else as a consequence\")"
   ]
  },
  {
   "cell_type": "markdown",
   "metadata": {},
   "source": [
    "We can use `finally` condition for what to do regardless of `try` succeeding..."
   ]
  },
  {
   "cell_type": "code",
   "execution_count": 8,
   "metadata": {},
   "outputs": [
    {
     "name": "stdout",
     "output_type": "stream",
     "text": [
      "Failed to open file\n",
      "Do this after exception...\n",
      "Do this even if no exception...\n"
     ]
    }
   ],
   "source": [
    "try:\n",
    "    f = open(\"bob.txt\", \"r\")        # try an open non-existent file\n",
    "except FileNotFoundError:\n",
    "    print(\"Failed to open file\")\n",
    "finally:\n",
    "    print(\"Do this after exception...\")    # will execute regardless\n",
    "\n",
    "try:\n",
    "    pass                    # do something that doesn't raise an exception\n",
    "except BaseException:\n",
    "    print(\"Should not be seeing this message\")\n",
    "finally:\n",
    "    print(\"Do this even if no exception...\")     # will execute regardless"
   ]
  },
  {
   "cell_type": "markdown",
   "metadata": {},
   "source": [
    "Nested try-excepts..."
   ]
  },
  {
   "cell_type": "code",
   "execution_count": 9,
   "metadata": {},
   "outputs": [
    {
     "name": "stdout",
     "output_type": "stream",
     "text": [
      "Divide by zero exception\n",
      "Base exception division by zero\n"
     ]
    }
   ],
   "source": [
    "try:\n",
    "    try:\n",
    "        z = 1 / 0\n",
    "    except ZeroDivisionError:\n",
    "        print(\"Divide by zero exception\")\n",
    "        raise                                               # re-raise last exception\n",
    "except BaseException as e:\n",
    "    print(\"Base exception\", e)"
   ]
  },
  {
   "cell_type": "markdown",
   "metadata": {},
   "source": [
    "Working function with no exceptions raised..."
   ]
  },
  {
   "cell_type": "code",
   "execution_count": 13,
   "metadata": {},
   "outputs": [
    {
     "name": "stdout",
     "output_type": "stream",
     "text": [
      "No exception!\n"
     ]
    }
   ],
   "source": [
    "def my_function(x):\n",
    "    if type(x) is not int:\n",
    "        raise TypeError(\"Expected an integer!\")\n",
    "    if x < 0:\n",
    "        raise ValueError(\"Type ok but value not supported\")\n",
    "    return\n",
    "\n",
    "try:\n",
    "    my_function(1)\n",
    "except (TypeError, ValueError) as e:\n",
    "    print(\"Exception caught:\", e)\n",
    "else:\n",
    "    print(\"No exception!\")"
   ]
  },
  {
   "cell_type": "markdown",
   "metadata": {},
   "source": [
    "Raising exceptions..."
   ]
  },
  {
   "cell_type": "code",
   "execution_count": 14,
   "metadata": {},
   "outputs": [
    {
     "name": "stdout",
     "output_type": "stream",
     "text": [
      "Exception caught: Expected an integer!\n",
      "Exception caught: Type ok but value not supported\n"
     ]
    }
   ],
   "source": [
    "try:\n",
    "    my_function([1])\n",
    "except (TypeError, ValueError) as e:            # to catch multiple exceptions use a tuple\n",
    "    print(\"Exception caught:\", e)\n",
    "\n",
    "try:\n",
    "    my_function(-1)\n",
    "except (TypeError, ValueError) as e:\n",
    "    print(\"Exception caught:\", e)"
   ]
  },
  {
   "cell_type": "markdown",
   "metadata": {},
   "source": [
    "How do I write my own exception handler?"
   ]
  },
  {
   "cell_type": "code",
   "execution_count": 15,
   "metadata": {},
   "outputs": [
    {
     "name": "stdout",
     "output_type": "stream",
     "text": [
      "This is bad!!\n",
      "['up', 1, 4.5]\n"
     ]
    }
   ],
   "source": [
    "class MyExceptionHandler(Exception):\n",
    "    def __init__(self, message, my_error_list):\n",
    "        super().__init__(message)\n",
    "        self.my_error_list = my_error_list\n",
    "\n",
    "try:\n",
    "    stuff_going_right_now = ['up', 1, 4.5]\n",
    "    raise MyExceptionHandler(\"This is bad!!\", stuff_going_right_now)\n",
    "except MyExceptionHandler as e:\n",
    "    print(e)\n",
    "    print(e.my_error_list)"
   ]
  }
 ],
 "metadata": {
  "kernelspec": {
   "display_name": "Python 3.10.7 64-bit",
   "language": "python",
   "name": "python3"
  },
  "language_info": {
   "codemirror_mode": {
    "name": "ipython",
    "version": 3
   },
   "file_extension": ".py",
   "mimetype": "text/x-python",
   "name": "python",
   "nbconvert_exporter": "python",
   "pygments_lexer": "ipython3",
   "version": "3.10.7"
  },
  "orig_nbformat": 4,
  "vscode": {
   "interpreter": {
    "hash": "c19fa61d258bb2b35aae2ada233c33e2817c1ce895aa48acba720c6bf7cbe3cb"
   }
  }
 },
 "nbformat": 4,
 "nbformat_minor": 2
}
