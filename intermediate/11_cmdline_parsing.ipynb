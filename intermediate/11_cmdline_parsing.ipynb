{
 "cells": [
  {
   "cell_type": "markdown",
   "metadata": {},
   "source": [
    "# Command line parsing\n",
    "\n",
    "How to get arguments from the command line."
   ]
  },
  {
   "cell_type": "code",
   "execution_count": null,
   "metadata": {},
   "outputs": [],
   "source": [
    "import sys\n",
    "from argparse import ArgumentParser\n",
    "\n",
    "if __name__ == \"__main__\":\n",
    "    print(\"call this script using command line parameters, such as 'bob.txt --verbose=1'\")\n",
    "    print(\"len(sys.argv) =\", len(sys.argv))\n",
    "    print(\"type(sys.argv) =\", type(sys.argv))\n",
    "    print(\"sys.argv\", sys.argv)\n",
    "    if len(sys.argv) != 3:\n",
    "        print(\"usage: <filename> [<switches>]\")\n",
    "\n",
    "    print(\"alternatively you can use ArgumentParser which give consistent interfaces and switch handling\")\n",
    "    parser = ArgumentParser(description=\"standard argument parser!\")\n",
    "    parser.add_argument('filename', type=str, nargs='+',        # positional argument - at least one filename required\n",
    "                        help=\"input filename\")\n",
    "    parser.add_argument(\"-v\", \"--verbose\",                      # optional arguments\n",
    "                        type=int, default=0,\n",
    "                        help=\"verbosity level\")\n",
    "    parser.add_argument(\"-H\", \"--extended-help\", dest='extended',\n",
    "                        default=False, action='store_true',\n",
    "                        help=\"extended help\")\n",
    "    args = parser.parse_args()\n",
    "    print(\"filename =\", args.filename)\n",
    "    print(\"verbosity level =\", args.verbose)\n",
    "    print(\"extended help =\", args.extended)"
   ]
  }
 ],
 "metadata": {
  "kernelspec": {
   "display_name": "Python 3.10.7 64-bit",
   "language": "python",
   "name": "python3"
  },
  "language_info": {
   "codemirror_mode": {
    "name": "ipython",
    "version": 3
   },
   "file_extension": ".py",
   "mimetype": "text/x-python",
   "name": "python",
   "nbconvert_exporter": "python",
   "pygments_lexer": "ipython3",
   "version": "3.10.7"
  },
  "orig_nbformat": 4,
  "vscode": {
   "interpreter": {
    "hash": "c19fa61d258bb2b35aae2ada233c33e2817c1ce895aa48acba720c6bf7cbe3cb"
   }
  }
 },
 "nbformat": 4,
 "nbformat_minor": 2
}
